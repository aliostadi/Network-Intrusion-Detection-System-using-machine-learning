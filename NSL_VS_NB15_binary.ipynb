{
  "nbformat": 4,
  "nbformat_minor": 0,
  "metadata": {
    "colab": {
      "provenance": [],
      "toc_visible": true,
      "mount_file_id": "1dMaksKU6iZwjWimcB78tT2iu4_gZJ0pM",
      "authorship_tag": "ABX9TyN9gj3NtMu8DU/y4V9wI9Xy"
    },
    "kernelspec": {
      "display_name": "Python 3",
      "name": "python3"
    },
    "language_info": {
      "name": "python"
    }
  },
  "cells": [
    {
      "cell_type": "code",
      "metadata": {
        "id": "CMnhHBNeVUiy"
      },
      "source": [
        "import numpy as np\n",
        "import pandas as pd\n",
        "import matplotlib.pyplot as plt\n",
        "import seaborn as sns\n",
        "import matplotlib.gridspec as gridspec \n",
        "from sklearn.preprocessing import LabelEncoder\n",
        "from sklearn.preprocessing import OneHotEncoder\n",
        "from sklearn.feature_selection import SelectKBest\n",
        "from sklearn.feature_selection import f_classif\n",
        "from sklearn.tree import DecisionTreeClassifier\n",
        "from sklearn.model_selection import cross_val_score\n",
        "from sklearn.metrics import mean_absolute_error\n",
        "from sklearn.metrics import accuracy_score\n",
        "from sklearn.metrics import confusion_matrix\n",
        "from sklearn.metrics import accuracy_score, f1_score, precision_score,recall_score \n",
        "from sklearn.ensemble import RandomForestClassifier\n",
        "from sklearn.ensemble import ExtraTreesClassifier\n",
        "from sklearn.ensemble import GradientBoostingClassifier\n",
        "from sklearn.naive_bayes import GaussianNB\n",
        "from sklearn.svm import SVC\n",
        "from sklearn.tree import DecisionTreeClassifier\n",
        "import time\n",
        "from keras.models import Sequential\n",
        "from keras.layers import Dense\n",
        "from keras.wrappers.scikit_learn import KerasClassifier\n",
        "from tensorflow.keras.callbacks import EarlyStopping\n",
        "import tensorflow as tf\n",
        "from tensorflow import keras\n",
        "from tensorflow.keras.layers import Conv1D, MaxPool1D, Flatten, Dense, BatchNormalization, Dropout\n",
        "from tensorflow.keras.layers import Dropout\n",
        "from tensorflow.keras.optimizers import Adam\n",
        "from keras.layers import Bidirectional\n",
        "from keras.layers import TimeDistributed\n",
        "from keras.layers import Dense , Conv1D , Conv2D , LSTM , Flatten , MaxPooling1D , Dropout , GRU , SimpleRNN\n",
        "from keras.layers import RepeatVector\n",
        "from keras.layers import TimeDistributed"
      ],
      "execution_count": null,
      "outputs": []
    },
    {
      "cell_type": "markdown",
      "source": [
        "##NSL KDD"
      ],
      "metadata": {
        "id": "e6kl1ghx8jJo"
      }
    },
    {
      "cell_type": "code",
      "metadata": {
        "id": "x03T6-rEZAgx"
      },
      "source": [
        "init_train_df = pd.read_csv('https://raw.githubusercontent.com/defcom17/NSL_KDD/master/KDDTrain%2B.csv',error_bad_lines=False)\n",
        "init_test_df = pd.read_csv('https://raw.githubusercontent.com/defcom17/NSL_KDD/master/KDDTest%2B.csv',error_bad_lines=False)"
      ],
      "execution_count": null,
      "outputs": []
    },
    {
      "cell_type": "code",
      "metadata": {
        "id": "CwPlb7RaziuK",
        "colab": {
          "base_uri": "https://localhost:8080/"
        },
        "outputId": "9296b59d-2c5d-49b7-e205-87a54d66743d"
      },
      "source": [
        "print(init_test_df.shape,init_train_df.shape)"
      ],
      "execution_count": null,
      "outputs": [
        {
          "output_type": "stream",
          "name": "stdout",
          "text": [
            "(22542, 43) (125972, 43)\n"
          ]
        }
      ]
    },
    {
      "cell_type": "code",
      "metadata": {
        "colab": {
          "base_uri": "https://localhost:8080/",
          "height": 488
        },
        "id": "HbuqprhxaW10",
        "outputId": "a4b38dfc-f69d-48e8-cdbe-4d491661cc63"
      },
      "source": [
        "# add the column labels\n",
        "columns = (['duration'\n",
        ",'protocol_type'\n",
        ",'service'\n",
        ",'flag'\n",
        ",'src_bytes'\n",
        ",'dst_bytes'\n",
        ",'land'\n",
        ",'wrong_fragment'\n",
        ",'urgent'\n",
        ",'hot'\n",
        ",'num_failed_logins'\n",
        ",'logged_in'\n",
        ",'num_compromised'\n",
        ",'root_shell'\n",
        ",'su_attempted'\n",
        ",'num_root'\n",
        ",'num_file_creations'\n",
        ",'num_shells'\n",
        ",'num_access_files'\n",
        ",'num_outbound_cmds'\n",
        ",'is_host_login'\n",
        ",'is_guest_login'\n",
        ",'count'\n",
        ",'srv_count'\n",
        ",'serror_rate'\n",
        ",'srv_serror_rate'\n",
        ",'rerror_rate'\n",
        ",'srv_rerror_rate'\n",
        ",'same_srv_rate'\n",
        ",'diff_srv_rate'\n",
        ",'srv_diff_host_rate'\n",
        ",'dst_host_count'\n",
        ",'dst_host_srv_count'\n",
        ",'dst_host_same_srv_rate'\n",
        ",'dst_host_diff_srv_rate'\n",
        ",'dst_host_same_src_port_rate'\n",
        ",'dst_host_srv_diff_host_rate'\n",
        ",'dst_host_serror_rate'\n",
        ",'dst_host_srv_serror_rate'\n",
        ",'dst_host_rerror_rate'\n",
        ",'dst_host_srv_rerror_rate'\n",
        ",'labels'\n",
        ",'level'])\n",
        "\n",
        "init_train_df.columns = columns\n",
        "init_test_df.columns = columns\n",
        "\n",
        "# sanity check\n",
        "init_train_df"
      ],
      "execution_count": null,
      "outputs": [
        {
          "output_type": "execute_result",
          "data": {
            "text/html": [
              "\n",
              "  <div id=\"df-0545925f-f338-456d-98cc-d73449ca7aee\">\n",
              "    <div class=\"colab-df-container\">\n",
              "      <div>\n",
              "<style scoped>\n",
              "    .dataframe tbody tr th:only-of-type {\n",
              "        vertical-align: middle;\n",
              "    }\n",
              "\n",
              "    .dataframe tbody tr th {\n",
              "        vertical-align: top;\n",
              "    }\n",
              "\n",
              "    .dataframe thead th {\n",
              "        text-align: right;\n",
              "    }\n",
              "</style>\n",
              "<table border=\"1\" class=\"dataframe\">\n",
              "  <thead>\n",
              "    <tr style=\"text-align: right;\">\n",
              "      <th></th>\n",
              "      <th>duration</th>\n",
              "      <th>protocol_type</th>\n",
              "      <th>service</th>\n",
              "      <th>flag</th>\n",
              "      <th>src_bytes</th>\n",
              "      <th>dst_bytes</th>\n",
              "      <th>land</th>\n",
              "      <th>wrong_fragment</th>\n",
              "      <th>urgent</th>\n",
              "      <th>hot</th>\n",
              "      <th>num_failed_logins</th>\n",
              "      <th>logged_in</th>\n",
              "      <th>num_compromised</th>\n",
              "      <th>root_shell</th>\n",
              "      <th>su_attempted</th>\n",
              "      <th>num_root</th>\n",
              "      <th>num_file_creations</th>\n",
              "      <th>num_shells</th>\n",
              "      <th>num_access_files</th>\n",
              "      <th>num_outbound_cmds</th>\n",
              "      <th>is_host_login</th>\n",
              "      <th>is_guest_login</th>\n",
              "      <th>count</th>\n",
              "      <th>srv_count</th>\n",
              "      <th>serror_rate</th>\n",
              "      <th>srv_serror_rate</th>\n",
              "      <th>rerror_rate</th>\n",
              "      <th>srv_rerror_rate</th>\n",
              "      <th>same_srv_rate</th>\n",
              "      <th>diff_srv_rate</th>\n",
              "      <th>srv_diff_host_rate</th>\n",
              "      <th>dst_host_count</th>\n",
              "      <th>dst_host_srv_count</th>\n",
              "      <th>dst_host_same_srv_rate</th>\n",
              "      <th>dst_host_diff_srv_rate</th>\n",
              "      <th>dst_host_same_src_port_rate</th>\n",
              "      <th>dst_host_srv_diff_host_rate</th>\n",
              "      <th>dst_host_serror_rate</th>\n",
              "      <th>dst_host_srv_serror_rate</th>\n",
              "      <th>dst_host_rerror_rate</th>\n",
              "      <th>dst_host_srv_rerror_rate</th>\n",
              "      <th>labels</th>\n",
              "      <th>level</th>\n",
              "    </tr>\n",
              "  </thead>\n",
              "  <tbody>\n",
              "    <tr>\n",
              "      <th>0</th>\n",
              "      <td>0</td>\n",
              "      <td>udp</td>\n",
              "      <td>other</td>\n",
              "      <td>SF</td>\n",
              "      <td>146</td>\n",
              "      <td>0</td>\n",
              "      <td>0</td>\n",
              "      <td>0</td>\n",
              "      <td>0</td>\n",
              "      <td>0</td>\n",
              "      <td>0</td>\n",
              "      <td>0</td>\n",
              "      <td>0</td>\n",
              "      <td>0</td>\n",
              "      <td>0</td>\n",
              "      <td>0</td>\n",
              "      <td>0</td>\n",
              "      <td>0</td>\n",
              "      <td>0</td>\n",
              "      <td>0</td>\n",
              "      <td>0</td>\n",
              "      <td>0</td>\n",
              "      <td>13</td>\n",
              "      <td>1</td>\n",
              "      <td>0.0</td>\n",
              "      <td>0.0</td>\n",
              "      <td>0.0</td>\n",
              "      <td>0.0</td>\n",
              "      <td>0.08</td>\n",
              "      <td>0.15</td>\n",
              "      <td>0.00</td>\n",
              "      <td>255</td>\n",
              "      <td>1</td>\n",
              "      <td>0.00</td>\n",
              "      <td>0.60</td>\n",
              "      <td>0.88</td>\n",
              "      <td>0.00</td>\n",
              "      <td>0.00</td>\n",
              "      <td>0.00</td>\n",
              "      <td>0.00</td>\n",
              "      <td>0.00</td>\n",
              "      <td>normal</td>\n",
              "      <td>15</td>\n",
              "    </tr>\n",
              "    <tr>\n",
              "      <th>1</th>\n",
              "      <td>0</td>\n",
              "      <td>tcp</td>\n",
              "      <td>private</td>\n",
              "      <td>S0</td>\n",
              "      <td>0</td>\n",
              "      <td>0</td>\n",
              "      <td>0</td>\n",
              "      <td>0</td>\n",
              "      <td>0</td>\n",
              "      <td>0</td>\n",
              "      <td>0</td>\n",
              "      <td>0</td>\n",
              "      <td>0</td>\n",
              "      <td>0</td>\n",
              "      <td>0</td>\n",
              "      <td>0</td>\n",
              "      <td>0</td>\n",
              "      <td>0</td>\n",
              "      <td>0</td>\n",
              "      <td>0</td>\n",
              "      <td>0</td>\n",
              "      <td>0</td>\n",
              "      <td>123</td>\n",
              "      <td>6</td>\n",
              "      <td>1.0</td>\n",
              "      <td>1.0</td>\n",
              "      <td>0.0</td>\n",
              "      <td>0.0</td>\n",
              "      <td>0.05</td>\n",
              "      <td>0.07</td>\n",
              "      <td>0.00</td>\n",
              "      <td>255</td>\n",
              "      <td>26</td>\n",
              "      <td>0.10</td>\n",
              "      <td>0.05</td>\n",
              "      <td>0.00</td>\n",
              "      <td>0.00</td>\n",
              "      <td>1.00</td>\n",
              "      <td>1.00</td>\n",
              "      <td>0.00</td>\n",
              "      <td>0.00</td>\n",
              "      <td>neptune</td>\n",
              "      <td>19</td>\n",
              "    </tr>\n",
              "    <tr>\n",
              "      <th>2</th>\n",
              "      <td>0</td>\n",
              "      <td>tcp</td>\n",
              "      <td>http</td>\n",
              "      <td>SF</td>\n",
              "      <td>232</td>\n",
              "      <td>8153</td>\n",
              "      <td>0</td>\n",
              "      <td>0</td>\n",
              "      <td>0</td>\n",
              "      <td>0</td>\n",
              "      <td>0</td>\n",
              "      <td>1</td>\n",
              "      <td>0</td>\n",
              "      <td>0</td>\n",
              "      <td>0</td>\n",
              "      <td>0</td>\n",
              "      <td>0</td>\n",
              "      <td>0</td>\n",
              "      <td>0</td>\n",
              "      <td>0</td>\n",
              "      <td>0</td>\n",
              "      <td>0</td>\n",
              "      <td>5</td>\n",
              "      <td>5</td>\n",
              "      <td>0.2</td>\n",
              "      <td>0.2</td>\n",
              "      <td>0.0</td>\n",
              "      <td>0.0</td>\n",
              "      <td>1.00</td>\n",
              "      <td>0.00</td>\n",
              "      <td>0.00</td>\n",
              "      <td>30</td>\n",
              "      <td>255</td>\n",
              "      <td>1.00</td>\n",
              "      <td>0.00</td>\n",
              "      <td>0.03</td>\n",
              "      <td>0.04</td>\n",
              "      <td>0.03</td>\n",
              "      <td>0.01</td>\n",
              "      <td>0.00</td>\n",
              "      <td>0.01</td>\n",
              "      <td>normal</td>\n",
              "      <td>21</td>\n",
              "    </tr>\n",
              "    <tr>\n",
              "      <th>3</th>\n",
              "      <td>0</td>\n",
              "      <td>tcp</td>\n",
              "      <td>http</td>\n",
              "      <td>SF</td>\n",
              "      <td>199</td>\n",
              "      <td>420</td>\n",
              "      <td>0</td>\n",
              "      <td>0</td>\n",
              "      <td>0</td>\n",
              "      <td>0</td>\n",
              "      <td>0</td>\n",
              "      <td>1</td>\n",
              "      <td>0</td>\n",
              "      <td>0</td>\n",
              "      <td>0</td>\n",
              "      <td>0</td>\n",
              "      <td>0</td>\n",
              "      <td>0</td>\n",
              "      <td>0</td>\n",
              "      <td>0</td>\n",
              "      <td>0</td>\n",
              "      <td>0</td>\n",
              "      <td>30</td>\n",
              "      <td>32</td>\n",
              "      <td>0.0</td>\n",
              "      <td>0.0</td>\n",
              "      <td>0.0</td>\n",
              "      <td>0.0</td>\n",
              "      <td>1.00</td>\n",
              "      <td>0.00</td>\n",
              "      <td>0.09</td>\n",
              "      <td>255</td>\n",
              "      <td>255</td>\n",
              "      <td>1.00</td>\n",
              "      <td>0.00</td>\n",
              "      <td>0.00</td>\n",
              "      <td>0.00</td>\n",
              "      <td>0.00</td>\n",
              "      <td>0.00</td>\n",
              "      <td>0.00</td>\n",
              "      <td>0.00</td>\n",
              "      <td>normal</td>\n",
              "      <td>21</td>\n",
              "    </tr>\n",
              "    <tr>\n",
              "      <th>4</th>\n",
              "      <td>0</td>\n",
              "      <td>tcp</td>\n",
              "      <td>private</td>\n",
              "      <td>REJ</td>\n",
              "      <td>0</td>\n",
              "      <td>0</td>\n",
              "      <td>0</td>\n",
              "      <td>0</td>\n",
              "      <td>0</td>\n",
              "      <td>0</td>\n",
              "      <td>0</td>\n",
              "      <td>0</td>\n",
              "      <td>0</td>\n",
              "      <td>0</td>\n",
              "      <td>0</td>\n",
              "      <td>0</td>\n",
              "      <td>0</td>\n",
              "      <td>0</td>\n",
              "      <td>0</td>\n",
              "      <td>0</td>\n",
              "      <td>0</td>\n",
              "      <td>0</td>\n",
              "      <td>121</td>\n",
              "      <td>19</td>\n",
              "      <td>0.0</td>\n",
              "      <td>0.0</td>\n",
              "      <td>1.0</td>\n",
              "      <td>1.0</td>\n",
              "      <td>0.16</td>\n",
              "      <td>0.06</td>\n",
              "      <td>0.00</td>\n",
              "      <td>255</td>\n",
              "      <td>19</td>\n",
              "      <td>0.07</td>\n",
              "      <td>0.07</td>\n",
              "      <td>0.00</td>\n",
              "      <td>0.00</td>\n",
              "      <td>0.00</td>\n",
              "      <td>0.00</td>\n",
              "      <td>1.00</td>\n",
              "      <td>1.00</td>\n",
              "      <td>neptune</td>\n",
              "      <td>21</td>\n",
              "    </tr>\n",
              "    <tr>\n",
              "      <th>...</th>\n",
              "      <td>...</td>\n",
              "      <td>...</td>\n",
              "      <td>...</td>\n",
              "      <td>...</td>\n",
              "      <td>...</td>\n",
              "      <td>...</td>\n",
              "      <td>...</td>\n",
              "      <td>...</td>\n",
              "      <td>...</td>\n",
              "      <td>...</td>\n",
              "      <td>...</td>\n",
              "      <td>...</td>\n",
              "      <td>...</td>\n",
              "      <td>...</td>\n",
              "      <td>...</td>\n",
              "      <td>...</td>\n",
              "      <td>...</td>\n",
              "      <td>...</td>\n",
              "      <td>...</td>\n",
              "      <td>...</td>\n",
              "      <td>...</td>\n",
              "      <td>...</td>\n",
              "      <td>...</td>\n",
              "      <td>...</td>\n",
              "      <td>...</td>\n",
              "      <td>...</td>\n",
              "      <td>...</td>\n",
              "      <td>...</td>\n",
              "      <td>...</td>\n",
              "      <td>...</td>\n",
              "      <td>...</td>\n",
              "      <td>...</td>\n",
              "      <td>...</td>\n",
              "      <td>...</td>\n",
              "      <td>...</td>\n",
              "      <td>...</td>\n",
              "      <td>...</td>\n",
              "      <td>...</td>\n",
              "      <td>...</td>\n",
              "      <td>...</td>\n",
              "      <td>...</td>\n",
              "      <td>...</td>\n",
              "      <td>...</td>\n",
              "    </tr>\n",
              "    <tr>\n",
              "      <th>125967</th>\n",
              "      <td>0</td>\n",
              "      <td>tcp</td>\n",
              "      <td>private</td>\n",
              "      <td>S0</td>\n",
              "      <td>0</td>\n",
              "      <td>0</td>\n",
              "      <td>0</td>\n",
              "      <td>0</td>\n",
              "      <td>0</td>\n",
              "      <td>0</td>\n",
              "      <td>0</td>\n",
              "      <td>0</td>\n",
              "      <td>0</td>\n",
              "      <td>0</td>\n",
              "      <td>0</td>\n",
              "      <td>0</td>\n",
              "      <td>0</td>\n",
              "      <td>0</td>\n",
              "      <td>0</td>\n",
              "      <td>0</td>\n",
              "      <td>0</td>\n",
              "      <td>0</td>\n",
              "      <td>184</td>\n",
              "      <td>25</td>\n",
              "      <td>1.0</td>\n",
              "      <td>1.0</td>\n",
              "      <td>0.0</td>\n",
              "      <td>0.0</td>\n",
              "      <td>0.14</td>\n",
              "      <td>0.06</td>\n",
              "      <td>0.00</td>\n",
              "      <td>255</td>\n",
              "      <td>25</td>\n",
              "      <td>0.10</td>\n",
              "      <td>0.06</td>\n",
              "      <td>0.00</td>\n",
              "      <td>0.00</td>\n",
              "      <td>1.00</td>\n",
              "      <td>1.00</td>\n",
              "      <td>0.00</td>\n",
              "      <td>0.00</td>\n",
              "      <td>neptune</td>\n",
              "      <td>20</td>\n",
              "    </tr>\n",
              "    <tr>\n",
              "      <th>125968</th>\n",
              "      <td>8</td>\n",
              "      <td>udp</td>\n",
              "      <td>private</td>\n",
              "      <td>SF</td>\n",
              "      <td>105</td>\n",
              "      <td>145</td>\n",
              "      <td>0</td>\n",
              "      <td>0</td>\n",
              "      <td>0</td>\n",
              "      <td>0</td>\n",
              "      <td>0</td>\n",
              "      <td>0</td>\n",
              "      <td>0</td>\n",
              "      <td>0</td>\n",
              "      <td>0</td>\n",
              "      <td>0</td>\n",
              "      <td>0</td>\n",
              "      <td>0</td>\n",
              "      <td>0</td>\n",
              "      <td>0</td>\n",
              "      <td>0</td>\n",
              "      <td>0</td>\n",
              "      <td>2</td>\n",
              "      <td>2</td>\n",
              "      <td>0.0</td>\n",
              "      <td>0.0</td>\n",
              "      <td>0.0</td>\n",
              "      <td>0.0</td>\n",
              "      <td>1.00</td>\n",
              "      <td>0.00</td>\n",
              "      <td>0.00</td>\n",
              "      <td>255</td>\n",
              "      <td>244</td>\n",
              "      <td>0.96</td>\n",
              "      <td>0.01</td>\n",
              "      <td>0.01</td>\n",
              "      <td>0.00</td>\n",
              "      <td>0.00</td>\n",
              "      <td>0.00</td>\n",
              "      <td>0.00</td>\n",
              "      <td>0.00</td>\n",
              "      <td>normal</td>\n",
              "      <td>21</td>\n",
              "    </tr>\n",
              "    <tr>\n",
              "      <th>125969</th>\n",
              "      <td>0</td>\n",
              "      <td>tcp</td>\n",
              "      <td>smtp</td>\n",
              "      <td>SF</td>\n",
              "      <td>2231</td>\n",
              "      <td>384</td>\n",
              "      <td>0</td>\n",
              "      <td>0</td>\n",
              "      <td>0</td>\n",
              "      <td>0</td>\n",
              "      <td>0</td>\n",
              "      <td>1</td>\n",
              "      <td>0</td>\n",
              "      <td>0</td>\n",
              "      <td>0</td>\n",
              "      <td>0</td>\n",
              "      <td>0</td>\n",
              "      <td>0</td>\n",
              "      <td>0</td>\n",
              "      <td>0</td>\n",
              "      <td>0</td>\n",
              "      <td>0</td>\n",
              "      <td>1</td>\n",
              "      <td>1</td>\n",
              "      <td>0.0</td>\n",
              "      <td>0.0</td>\n",
              "      <td>0.0</td>\n",
              "      <td>0.0</td>\n",
              "      <td>1.00</td>\n",
              "      <td>0.00</td>\n",
              "      <td>0.00</td>\n",
              "      <td>255</td>\n",
              "      <td>30</td>\n",
              "      <td>0.12</td>\n",
              "      <td>0.06</td>\n",
              "      <td>0.00</td>\n",
              "      <td>0.00</td>\n",
              "      <td>0.72</td>\n",
              "      <td>0.00</td>\n",
              "      <td>0.01</td>\n",
              "      <td>0.00</td>\n",
              "      <td>normal</td>\n",
              "      <td>18</td>\n",
              "    </tr>\n",
              "    <tr>\n",
              "      <th>125970</th>\n",
              "      <td>0</td>\n",
              "      <td>tcp</td>\n",
              "      <td>klogin</td>\n",
              "      <td>S0</td>\n",
              "      <td>0</td>\n",
              "      <td>0</td>\n",
              "      <td>0</td>\n",
              "      <td>0</td>\n",
              "      <td>0</td>\n",
              "      <td>0</td>\n",
              "      <td>0</td>\n",
              "      <td>0</td>\n",
              "      <td>0</td>\n",
              "      <td>0</td>\n",
              "      <td>0</td>\n",
              "      <td>0</td>\n",
              "      <td>0</td>\n",
              "      <td>0</td>\n",
              "      <td>0</td>\n",
              "      <td>0</td>\n",
              "      <td>0</td>\n",
              "      <td>0</td>\n",
              "      <td>144</td>\n",
              "      <td>8</td>\n",
              "      <td>1.0</td>\n",
              "      <td>1.0</td>\n",
              "      <td>0.0</td>\n",
              "      <td>0.0</td>\n",
              "      <td>0.06</td>\n",
              "      <td>0.05</td>\n",
              "      <td>0.00</td>\n",
              "      <td>255</td>\n",
              "      <td>8</td>\n",
              "      <td>0.03</td>\n",
              "      <td>0.05</td>\n",
              "      <td>0.00</td>\n",
              "      <td>0.00</td>\n",
              "      <td>1.00</td>\n",
              "      <td>1.00</td>\n",
              "      <td>0.00</td>\n",
              "      <td>0.00</td>\n",
              "      <td>neptune</td>\n",
              "      <td>20</td>\n",
              "    </tr>\n",
              "    <tr>\n",
              "      <th>125971</th>\n",
              "      <td>0</td>\n",
              "      <td>tcp</td>\n",
              "      <td>ftp_data</td>\n",
              "      <td>SF</td>\n",
              "      <td>151</td>\n",
              "      <td>0</td>\n",
              "      <td>0</td>\n",
              "      <td>0</td>\n",
              "      <td>0</td>\n",
              "      <td>0</td>\n",
              "      <td>0</td>\n",
              "      <td>1</td>\n",
              "      <td>0</td>\n",
              "      <td>0</td>\n",
              "      <td>0</td>\n",
              "      <td>0</td>\n",
              "      <td>0</td>\n",
              "      <td>0</td>\n",
              "      <td>0</td>\n",
              "      <td>0</td>\n",
              "      <td>0</td>\n",
              "      <td>0</td>\n",
              "      <td>1</td>\n",
              "      <td>1</td>\n",
              "      <td>0.0</td>\n",
              "      <td>0.0</td>\n",
              "      <td>0.0</td>\n",
              "      <td>0.0</td>\n",
              "      <td>1.00</td>\n",
              "      <td>0.00</td>\n",
              "      <td>0.00</td>\n",
              "      <td>255</td>\n",
              "      <td>77</td>\n",
              "      <td>0.30</td>\n",
              "      <td>0.03</td>\n",
              "      <td>0.30</td>\n",
              "      <td>0.00</td>\n",
              "      <td>0.00</td>\n",
              "      <td>0.00</td>\n",
              "      <td>0.00</td>\n",
              "      <td>0.00</td>\n",
              "      <td>normal</td>\n",
              "      <td>21</td>\n",
              "    </tr>\n",
              "  </tbody>\n",
              "</table>\n",
              "<p>125972 rows × 43 columns</p>\n",
              "</div>\n",
              "      <button class=\"colab-df-convert\" onclick=\"convertToInteractive('df-0545925f-f338-456d-98cc-d73449ca7aee')\"\n",
              "              title=\"Convert this dataframe to an interactive table.\"\n",
              "              style=\"display:none;\">\n",
              "        \n",
              "  <svg xmlns=\"http://www.w3.org/2000/svg\" height=\"24px\"viewBox=\"0 0 24 24\"\n",
              "       width=\"24px\">\n",
              "    <path d=\"M0 0h24v24H0V0z\" fill=\"none\"/>\n",
              "    <path d=\"M18.56 5.44l.94 2.06.94-2.06 2.06-.94-2.06-.94-.94-2.06-.94 2.06-2.06.94zm-11 1L8.5 8.5l.94-2.06 2.06-.94-2.06-.94L8.5 2.5l-.94 2.06-2.06.94zm10 10l.94 2.06.94-2.06 2.06-.94-2.06-.94-.94-2.06-.94 2.06-2.06.94z\"/><path d=\"M17.41 7.96l-1.37-1.37c-.4-.4-.92-.59-1.43-.59-.52 0-1.04.2-1.43.59L10.3 9.45l-7.72 7.72c-.78.78-.78 2.05 0 2.83L4 21.41c.39.39.9.59 1.41.59.51 0 1.02-.2 1.41-.59l7.78-7.78 2.81-2.81c.8-.78.8-2.07 0-2.86zM5.41 20L4 18.59l7.72-7.72 1.47 1.35L5.41 20z\"/>\n",
              "  </svg>\n",
              "      </button>\n",
              "      \n",
              "  <style>\n",
              "    .colab-df-container {\n",
              "      display:flex;\n",
              "      flex-wrap:wrap;\n",
              "      gap: 12px;\n",
              "    }\n",
              "\n",
              "    .colab-df-convert {\n",
              "      background-color: #E8F0FE;\n",
              "      border: none;\n",
              "      border-radius: 50%;\n",
              "      cursor: pointer;\n",
              "      display: none;\n",
              "      fill: #1967D2;\n",
              "      height: 32px;\n",
              "      padding: 0 0 0 0;\n",
              "      width: 32px;\n",
              "    }\n",
              "\n",
              "    .colab-df-convert:hover {\n",
              "      background-color: #E2EBFA;\n",
              "      box-shadow: 0px 1px 2px rgba(60, 64, 67, 0.3), 0px 1px 3px 1px rgba(60, 64, 67, 0.15);\n",
              "      fill: #174EA6;\n",
              "    }\n",
              "\n",
              "    [theme=dark] .colab-df-convert {\n",
              "      background-color: #3B4455;\n",
              "      fill: #D2E3FC;\n",
              "    }\n",
              "\n",
              "    [theme=dark] .colab-df-convert:hover {\n",
              "      background-color: #434B5C;\n",
              "      box-shadow: 0px 1px 3px 1px rgba(0, 0, 0, 0.15);\n",
              "      filter: drop-shadow(0px 1px 2px rgba(0, 0, 0, 0.3));\n",
              "      fill: #FFFFFF;\n",
              "    }\n",
              "  </style>\n",
              "\n",
              "      <script>\n",
              "        const buttonEl =\n",
              "          document.querySelector('#df-0545925f-f338-456d-98cc-d73449ca7aee button.colab-df-convert');\n",
              "        buttonEl.style.display =\n",
              "          google.colab.kernel.accessAllowed ? 'block' : 'none';\n",
              "\n",
              "        async function convertToInteractive(key) {\n",
              "          const element = document.querySelector('#df-0545925f-f338-456d-98cc-d73449ca7aee');\n",
              "          const dataTable =\n",
              "            await google.colab.kernel.invokeFunction('convertToInteractive',\n",
              "                                                     [key], {});\n",
              "          if (!dataTable) return;\n",
              "\n",
              "          const docLinkHtml = 'Like what you see? Visit the ' +\n",
              "            '<a target=\"_blank\" href=https://colab.research.google.com/notebooks/data_table.ipynb>data table notebook</a>'\n",
              "            + ' to learn more about interactive tables.';\n",
              "          element.innerHTML = '';\n",
              "          dataTable['output_type'] = 'display_data';\n",
              "          await google.colab.output.renderOutput(dataTable, element);\n",
              "          const docLink = document.createElement('div');\n",
              "          docLink.innerHTML = docLinkHtml;\n",
              "          element.appendChild(docLink);\n",
              "        }\n",
              "      </script>\n",
              "    </div>\n",
              "  </div>\n",
              "  "
            ],
            "text/plain": [
              "        duration protocol_type  ...   labels level\n",
              "0              0           udp  ...   normal    15\n",
              "1              0           tcp  ...  neptune    19\n",
              "2              0           tcp  ...   normal    21\n",
              "3              0           tcp  ...   normal    21\n",
              "4              0           tcp  ...  neptune    21\n",
              "...          ...           ...  ...      ...   ...\n",
              "125967         0           tcp  ...  neptune    20\n",
              "125968         8           udp  ...   normal    21\n",
              "125969         0           tcp  ...   normal    18\n",
              "125970         0           tcp  ...  neptune    20\n",
              "125971         0           tcp  ...   normal    21\n",
              "\n",
              "[125972 rows x 43 columns]"
            ]
          },
          "metadata": {},
          "execution_count": 4
        }
      ]
    },
    {
      "cell_type": "markdown",
      "metadata": {
        "id": "MuguC9lEaljH"
      },
      "source": [
        "###chek missvalue"
      ]
    },
    {
      "cell_type": "code",
      "metadata": {
        "id": "4Yaz7sR8Z5Jw",
        "colab": {
          "base_uri": "https://localhost:8080/"
        },
        "outputId": "8a9df67a-0b25-40fd-ecb4-162c2cf4b46e"
      },
      "source": [
        " init_train_df.isnull().sum()"
      ],
      "execution_count": null,
      "outputs": [
        {
          "output_type": "execute_result",
          "data": {
            "text/plain": [
              "duration                       0\n",
              "protocol_type                  0\n",
              "service                        0\n",
              "flag                           0\n",
              "src_bytes                      0\n",
              "dst_bytes                      0\n",
              "land                           0\n",
              "wrong_fragment                 0\n",
              "urgent                         0\n",
              "hot                            0\n",
              "num_failed_logins              0\n",
              "logged_in                      0\n",
              "num_compromised                0\n",
              "root_shell                     0\n",
              "su_attempted                   0\n",
              "num_root                       0\n",
              "num_file_creations             0\n",
              "num_shells                     0\n",
              "num_access_files               0\n",
              "num_outbound_cmds              0\n",
              "is_host_login                  0\n",
              "is_guest_login                 0\n",
              "count                          0\n",
              "srv_count                      0\n",
              "serror_rate                    0\n",
              "srv_serror_rate                0\n",
              "rerror_rate                    0\n",
              "srv_rerror_rate                0\n",
              "same_srv_rate                  0\n",
              "diff_srv_rate                  0\n",
              "srv_diff_host_rate             0\n",
              "dst_host_count                 0\n",
              "dst_host_srv_count             0\n",
              "dst_host_same_srv_rate         0\n",
              "dst_host_diff_srv_rate         0\n",
              "dst_host_same_src_port_rate    0\n",
              "dst_host_srv_diff_host_rate    0\n",
              "dst_host_serror_rate           0\n",
              "dst_host_srv_serror_rate       0\n",
              "dst_host_rerror_rate           0\n",
              "dst_host_srv_rerror_rate       0\n",
              "labels                         0\n",
              "level                          0\n",
              "dtype: int64"
            ]
          },
          "metadata": {},
          "execution_count": 5
        }
      ]
    },
    {
      "cell_type": "code",
      "metadata": {
        "id": "3uCCuQtUap6l",
        "colab": {
          "base_uri": "https://localhost:8080/"
        },
        "outputId": "ba91202b-c68c-4f39-ea52-9769d9f61cbb"
      },
      "source": [
        "init_test_df.isnull().sum()"
      ],
      "execution_count": null,
      "outputs": [
        {
          "output_type": "execute_result",
          "data": {
            "text/plain": [
              "duration                       0\n",
              "protocol_type                  0\n",
              "service                        0\n",
              "flag                           0\n",
              "src_bytes                      0\n",
              "dst_bytes                      0\n",
              "land                           0\n",
              "wrong_fragment                 0\n",
              "urgent                         0\n",
              "hot                            0\n",
              "num_failed_logins              0\n",
              "logged_in                      0\n",
              "num_compromised                0\n",
              "root_shell                     0\n",
              "su_attempted                   0\n",
              "num_root                       0\n",
              "num_file_creations             0\n",
              "num_shells                     0\n",
              "num_access_files               0\n",
              "num_outbound_cmds              0\n",
              "is_host_login                  0\n",
              "is_guest_login                 0\n",
              "count                          0\n",
              "srv_count                      0\n",
              "serror_rate                    0\n",
              "srv_serror_rate                0\n",
              "rerror_rate                    0\n",
              "srv_rerror_rate                0\n",
              "same_srv_rate                  0\n",
              "diff_srv_rate                  0\n",
              "srv_diff_host_rate             0\n",
              "dst_host_count                 0\n",
              "dst_host_srv_count             0\n",
              "dst_host_same_srv_rate         0\n",
              "dst_host_diff_srv_rate         0\n",
              "dst_host_same_src_port_rate    0\n",
              "dst_host_srv_diff_host_rate    0\n",
              "dst_host_serror_rate           0\n",
              "dst_host_srv_serror_rate       0\n",
              "dst_host_rerror_rate           0\n",
              "dst_host_srv_rerror_rate       0\n",
              "labels                         0\n",
              "level                          0\n",
              "dtype: int64"
            ]
          },
          "metadata": {},
          "execution_count": 6
        }
      ]
    },
    {
      "cell_type": "markdown",
      "metadata": {
        "id": "wg8_2KzibTUE"
      },
      "source": [
        "###Types of Features and Scope"
      ]
    },
    {
      "cell_type": "code",
      "metadata": {
        "id": "3dZoNxbsa4TS",
        "colab": {
          "base_uri": "https://localhost:8080/"
        },
        "outputId": "877f650a-a618-471a-e6ec-0100718c3640"
      },
      "source": [
        " init_train_df.info()"
      ],
      "execution_count": null,
      "outputs": [
        {
          "output_type": "stream",
          "name": "stdout",
          "text": [
            "<class 'pandas.core.frame.DataFrame'>\n",
            "RangeIndex: 125972 entries, 0 to 125971\n",
            "Data columns (total 43 columns):\n",
            " #   Column                       Non-Null Count   Dtype  \n",
            "---  ------                       --------------   -----  \n",
            " 0   duration                     125972 non-null  int64  \n",
            " 1   protocol_type                125972 non-null  object \n",
            " 2   service                      125972 non-null  object \n",
            " 3   flag                         125972 non-null  object \n",
            " 4   src_bytes                    125972 non-null  int64  \n",
            " 5   dst_bytes                    125972 non-null  int64  \n",
            " 6   land                         125972 non-null  int64  \n",
            " 7   wrong_fragment               125972 non-null  int64  \n",
            " 8   urgent                       125972 non-null  int64  \n",
            " 9   hot                          125972 non-null  int64  \n",
            " 10  num_failed_logins            125972 non-null  int64  \n",
            " 11  logged_in                    125972 non-null  int64  \n",
            " 12  num_compromised              125972 non-null  int64  \n",
            " 13  root_shell                   125972 non-null  int64  \n",
            " 14  su_attempted                 125972 non-null  int64  \n",
            " 15  num_root                     125972 non-null  int64  \n",
            " 16  num_file_creations           125972 non-null  int64  \n",
            " 17  num_shells                   125972 non-null  int64  \n",
            " 18  num_access_files             125972 non-null  int64  \n",
            " 19  num_outbound_cmds            125972 non-null  int64  \n",
            " 20  is_host_login                125972 non-null  int64  \n",
            " 21  is_guest_login               125972 non-null  int64  \n",
            " 22  count                        125972 non-null  int64  \n",
            " 23  srv_count                    125972 non-null  int64  \n",
            " 24  serror_rate                  125972 non-null  float64\n",
            " 25  srv_serror_rate              125972 non-null  float64\n",
            " 26  rerror_rate                  125972 non-null  float64\n",
            " 27  srv_rerror_rate              125972 non-null  float64\n",
            " 28  same_srv_rate                125972 non-null  float64\n",
            " 29  diff_srv_rate                125972 non-null  float64\n",
            " 30  srv_diff_host_rate           125972 non-null  float64\n",
            " 31  dst_host_count               125972 non-null  int64  \n",
            " 32  dst_host_srv_count           125972 non-null  int64  \n",
            " 33  dst_host_same_srv_rate       125972 non-null  float64\n",
            " 34  dst_host_diff_srv_rate       125972 non-null  float64\n",
            " 35  dst_host_same_src_port_rate  125972 non-null  float64\n",
            " 36  dst_host_srv_diff_host_rate  125972 non-null  float64\n",
            " 37  dst_host_serror_rate         125972 non-null  float64\n",
            " 38  dst_host_srv_serror_rate     125972 non-null  float64\n",
            " 39  dst_host_rerror_rate         125972 non-null  float64\n",
            " 40  dst_host_srv_rerror_rate     125972 non-null  float64\n",
            " 41  labels                       125972 non-null  object \n",
            " 42  level                        125972 non-null  int64  \n",
            "dtypes: float64(15), int64(24), object(4)\n",
            "memory usage: 41.3+ MB\n"
          ]
        }
      ]
    },
    {
      "cell_type": "code",
      "metadata": {
        "id": "SRoAKJWlbWHw",
        "colab": {
          "base_uri": "https://localhost:8080/"
        },
        "outputId": "06cf8f49-fec8-4dab-a13c-2daa855c8af7"
      },
      "source": [
        " init_train_df.nunique()\n",
        "#dar har feature chand no adad ya class vojood darad"
      ],
      "execution_count": null,
      "outputs": [
        {
          "output_type": "execute_result",
          "data": {
            "text/plain": [
              "duration                       2981\n",
              "protocol_type                     3\n",
              "service                          70\n",
              "flag                             11\n",
              "src_bytes                      3341\n",
              "dst_bytes                      9326\n",
              "land                              2\n",
              "wrong_fragment                    3\n",
              "urgent                            4\n",
              "hot                              28\n",
              "num_failed_logins                 6\n",
              "logged_in                         2\n",
              "num_compromised                  88\n",
              "root_shell                        2\n",
              "su_attempted                      3\n",
              "num_root                         82\n",
              "num_file_creations               35\n",
              "num_shells                        3\n",
              "num_access_files                 10\n",
              "num_outbound_cmds                 1\n",
              "is_host_login                     2\n",
              "is_guest_login                    2\n",
              "count                           512\n",
              "srv_count                       509\n",
              "serror_rate                      89\n",
              "srv_serror_rate                  86\n",
              "rerror_rate                      82\n",
              "srv_rerror_rate                  62\n",
              "same_srv_rate                   101\n",
              "diff_srv_rate                    95\n",
              "srv_diff_host_rate               60\n",
              "dst_host_count                  256\n",
              "dst_host_srv_count              256\n",
              "dst_host_same_srv_rate          101\n",
              "dst_host_diff_srv_rate          101\n",
              "dst_host_same_src_port_rate     101\n",
              "dst_host_srv_diff_host_rate      75\n",
              "dst_host_serror_rate            101\n",
              "dst_host_srv_serror_rate        100\n",
              "dst_host_rerror_rate            101\n",
              "dst_host_srv_rerror_rate        101\n",
              "labels                           23\n",
              "level                            22\n",
              "dtype: int64"
            ]
          },
          "metadata": {},
          "execution_count": 8
        }
      ]
    },
    {
      "cell_type": "code",
      "metadata": {
        "id": "2gUx80oWbhsq"
      },
      "source": [
        "# init_test_df.info()\n",
        "# init_test_df.nunique()\n",
        "\n",
        "#hamoon jor ke moshahede mikonid toye train 23 no hamle to sotoon target darim vali too test 36 no\n",
        "##baraye sotoon service ham too train 76 no hast va tooye test 66\n"
      ],
      "execution_count": null,
      "outputs": []
    },
    {
      "cell_type": "markdown",
      "metadata": {
        "id": "8sepqSlYk02I"
      },
      "source": [
        "###Data Preprocessing\n"
      ]
    },
    {
      "cell_type": "markdown",
      "metadata": {
        "id": "fQaLGZRkxBYa"
      },
      "source": [
        "####split target to 5 class"
      ]
    },
    {
      "cell_type": "code",
      "metadata": {
        "id": "6UBQ-sWWXOp9"
      },
      "source": [
        "proc_train_df = init_train_df.copy()                                                                      # create a copy of our initial train set to use as our preproccessed train set.\n",
        "proc_test_df = init_test_df.copy() "
      ],
      "execution_count": null,
      "outputs": []
    },
    {
      "cell_type": "code",
      "metadata": {
        "id": "RuApgklKEoS7"
      },
      "source": [
        "# ###be tore koli hamle haro be 4 daste taghsim mikonim\n",
        "# # lists to hold our attack classifications\n",
        "# DOS= ['back','land','neptune','pod','smurf','teardrop']\n",
        "# PROBE = ['ipsweep','nmap','portsweep','satan']\n",
        "# U2R= ['buffer_overflow','perl','loadmodule','rootkit']\n",
        "# R2L= ['ftp_write','guess_passwd','imap','multihop','phf','spy','warezclient','warezmaster']\n",
        "# # we will use these for plotting below\n",
        "# attack_labels = ['Normal','DoS','Probe','U2R','R2L']"
      ],
      "execution_count": null,
      "outputs": []
    },
    {
      "cell_type": "code",
      "source": [
        "###be tore koli hamle haro be 4 daste taghsim mikonim\n",
        "# lists to hold our attack classifications\n",
        "notnormal= ['back','land','neptune','pod','smurf','teardrop','ipsweep','nmap','portsweep','satan','buffer_overflow','perl','loadmodule','rootkit'\n",
        ",'ftp_write','guess_passwd','imap','multihop','phf','spy','warezclient','warezmaster']\n",
        "# PROBE = ['ipsweep','nmap','portsweep','satan']\n",
        "# U2R= ['buffer_overflow','perl','loadmodule','rootkit']\n",
        "# R2L= ['ftp_write','guess_passwd','imap','multihop','phf','spy','warezclient','warezmaster']\n",
        "# we will use these for plotting below\n",
        "attack_labels = ['Normal','attack']"
      ],
      "metadata": {
        "id": "U4ZuY5imbizB"
      },
      "execution_count": null,
      "outputs": []
    },
    {
      "cell_type": "code",
      "metadata": {
        "id": "oJb3vp34FeZe"
      },
      "source": [
        "# ## yek func baraye daste bandi attack ha tarif mikonim\n",
        "# # helper function to pass to data frame mapping\n",
        "# def map_attack(attack):\n",
        "#     if attack in DOS:\n",
        "#         # dos_attacks map to 1\n",
        "#         attack_type = 'DOS'\n",
        "#     elif attack in PROBE:\n",
        "#         # probe_attacks mapt to 2\n",
        "#         attack_type = 'PROBE'\n",
        "#     elif attack in U2R:\n",
        "#         # privilege escalation attacks map to 3\n",
        "#         attack_type = 'U2R'\n",
        "#     elif attack in R2L:\n",
        "#         # remote access attacks map to 4\n",
        "#         attack_type = 'R2L'\n",
        "#     else:\n",
        "#         # normal maps to 0\n",
        "#         attack_type = \"NORMAL\"\n",
        "        \n",
        "#     return attack_type"
      ],
      "execution_count": null,
      "outputs": []
    },
    {
      "cell_type": "code",
      "source": [
        "## yek func baraye daste bandi attack ha tarif mikonim\n",
        "# helper function to pass to data frame mapping\n",
        "def map_attack(attack):\n",
        "    if attack in notnormal:\n",
        "        # dos_attacks map to 1\n",
        "        attack_type = 'attack'\n",
        "    \n",
        "    else:\n",
        "        # normal maps to 0\n",
        "        attack_type = \"NORMAL\"\n",
        "        \n",
        "    return attack_type"
      ],
      "metadata": {
        "id": "h7YeYJQ-dscG"
      },
      "execution_count": null,
      "outputs": []
    },
    {
      "cell_type": "code",
      "metadata": {
        "colab": {
          "base_uri": "https://localhost:8080/"
        },
        "id": "Rw8FWbM2KSBt",
        "outputId": "93a9f4a5-3461-4b18-89f2-9eebcf0e71b6"
      },
      "source": [
        "proc_train_df.shape"
      ],
      "execution_count": null,
      "outputs": [
        {
          "output_type": "execute_result",
          "data": {
            "text/plain": [
              "(125972, 43)"
            ]
          },
          "metadata": {},
          "execution_count": 15
        }
      ]
    },
    {
      "cell_type": "code",
      "metadata": {
        "id": "oCvT56pYJH1M"
      },
      "source": [
        "# map the data and join to the data set\n",
        "attack_map = proc_train_df.labels.apply(map_attack)\n",
        "proc_train_df['attack_map'] = attack_map\n",
        "\n",
        "test_attack_map = proc_test_df.labels.apply(map_attack)\n",
        "proc_test_df['attack_map'] = test_attack_map"
      ],
      "execution_count": null,
      "outputs": []
    },
    {
      "cell_type": "code",
      "source": [
        "proc_train_df.attack_map.nunique()"
      ],
      "metadata": {
        "colab": {
          "base_uri": "https://localhost:8080/"
        },
        "id": "nssE3J-UgCuw",
        "outputId": "cec3d8ef-8bbf-4929-a563-cc3ccd08f552"
      },
      "execution_count": null,
      "outputs": [
        {
          "output_type": "execute_result",
          "data": {
            "text/plain": [
              "2"
            ]
          },
          "metadata": {},
          "execution_count": 17
        }
      ]
    },
    {
      "cell_type": "code",
      "metadata": {
        "id": "YGKSp7d6pr2W"
      },
      "source": [
        "# proc_test_df.attack_map"
      ],
      "execution_count": null,
      "outputs": []
    },
    {
      "cell_type": "markdown",
      "metadata": {
        "id": "bGS9UmtR087T"
      },
      "source": [
        "#### Visual target classes distribiution"
      ]
    },
    {
      "cell_type": "code",
      "source": [
        "fig,(ax1,ax2)= plt.subplots(ncols=2, figsize=(25, 7.5), dpi=100)\n",
        "\n",
        "fig.suptitle(f'Counts of Observation Labels in NSL_KDD ', fontsize=25)\n",
        "\n",
        "sns.countplot(x='attack_map', \n",
        "            palette=\"OrRd_r\", \n",
        "            data=proc_train_df, \n",
        "            order=proc_train_df['attack_map'].value_counts().index,\n",
        "            ax=ax1)\n",
        "\n",
        "ax1.set_title('Train Set', fontsize=20)\n",
        "ax1.set_xlabel('label', fontsize=15)\n",
        "ax1.set_ylabel('count', fontsize=15)\n",
        "ax1.tick_params(labelrotation=90)\n",
        "\n",
        "sns.countplot(x='attack_map', \n",
        "            palette=\"GnBu_r\", \n",
        "            data=proc_test_df, \n",
        "            order=proc_test_df['attack_map'].value_counts().index,\n",
        "            ax=ax2)\n",
        "\n",
        "ax2.set_title('Test Set', fontsize=20)\n",
        "ax2.set_xlabel('label', fontsize=15)\n",
        "ax2.set_ylabel('count', fontsize=15)\n",
        "ax2.tick_params(labelrotation=90)\n",
        "\n",
        "plt.show()\n",
        "\n",
        "#nemoodar cout plot sotoon lable ro too train va test rasm kardim . do no hamle ham dar train va ham dar test nesbat\n",
        "# br sayer hamle ha kheyli bishtar etefagh oftadan ke mirine to model sazi.\n",
        "# to ghesmat preprocessing bayed in sotoon haro under sampling konim "
      ],
      "metadata": {
        "colab": {
          "base_uri": "https://localhost:8080/",
          "height": 544
        },
        "outputId": "cfbc0257-71fe-4225-8ac5-19cabb02b6a3",
        "id": "mkQZRhvK087U"
      },
      "execution_count": null,
      "outputs": [
        {
          "output_type": "display_data",
          "data": {
            "image/png": "[encoded data removed]",
            "text/plain": [
              "<Figure size 2500x750 with 2 Axes>"
            ]
          },
          "metadata": {
            "needs_background": "light"
          }
        }
      ]
    },
    {
      "cell_type": "markdown",
      "source": [
        "####Split data"
      ],
      "metadata": {
        "id": "R7tZ1PtY51zY"
      }
    },
    {
      "cell_type": "code",
      "source": [
        "y_train= proc_train_df['attack_map'].copy()\n",
        "X_train = proc_train_df.drop(['labels','attack_map','level'], axis=1)\n",
        "\n",
        "y_test = proc_test_df['attack_map'].copy()\n",
        "X_test = proc_test_df.drop(['labels','attack_map','level'], axis=1)"
      ],
      "metadata": {
        "id": "vpf58cE25w0O"
      },
      "execution_count": null,
      "outputs": []
    },
    {
      "cell_type": "code",
      "source": [
        "X_train"
      ],
      "metadata": {
        "id": "G47yD4VaAeeK",
        "outputId": "1e8a766e-a7c4-4c6e-f202-809a63782d38",
        "colab": {
          "base_uri": "https://localhost:8080/",
          "height": 488
        }
      },
      "execution_count": null,
      "outputs": [
        {
          "output_type": "execute_result",
          "data": {
            "text/html": [
              "\n",
              "  <div id=\"df-ded3bd8d-2636-48a7-a689-64169d7d498d\">\n",
              "    <div class=\"colab-df-container\">\n",
              "      <div>\n",
              "<style scoped>\n",
              "    .dataframe tbody tr th:only-of-type {\n",
              "        vertical-align: middle;\n",
              "    }\n",
              "\n",
              "    .dataframe tbody tr th {\n",
              "        vertical-align: top;\n",
              "    }\n",
              "\n",
              "    .dataframe thead th {\n",
              "        text-align: right;\n",
              "    }\n",
              "</style>\n",
              "<table border=\"1\" class=\"dataframe\">\n",
              "  <thead>\n",
              "    <tr style=\"text-align: right;\">\n",
              "      <th></th>\n",
              "      <th>duration</th>\n",
              "      <th>protocol_type</th>\n",
              "      <th>service</th>\n",
              "      <th>flag</th>\n",
              "      <th>src_bytes</th>\n",
              "      <th>dst_bytes</th>\n",
              "      <th>land</th>\n",
              "      <th>wrong_fragment</th>\n",
              "      <th>urgent</th>\n",
              "      <th>hot</th>\n",
              "      <th>num_failed_logins</th>\n",
              "      <th>logged_in</th>\n",
              "      <th>num_compromised</th>\n",
              "      <th>root_shell</th>\n",
              "      <th>su_attempted</th>\n",
              "      <th>num_root</th>\n",
              "      <th>num_file_creations</th>\n",
              "      <th>num_shells</th>\n",
              "      <th>num_access_files</th>\n",
              "      <th>num_outbound_cmds</th>\n",
              "      <th>is_host_login</th>\n",
              "      <th>is_guest_login</th>\n",
              "      <th>count</th>\n",
              "      <th>srv_count</th>\n",
              "      <th>serror_rate</th>\n",
              "      <th>srv_serror_rate</th>\n",
              "      <th>rerror_rate</th>\n",
              "      <th>srv_rerror_rate</th>\n",
              "      <th>same_srv_rate</th>\n",
              "      <th>diff_srv_rate</th>\n",
              "      <th>srv_diff_host_rate</th>\n",
              "      <th>dst_host_count</th>\n",
              "      <th>dst_host_srv_count</th>\n",
              "      <th>dst_host_same_srv_rate</th>\n",
              "      <th>dst_host_diff_srv_rate</th>\n",
              "      <th>dst_host_same_src_port_rate</th>\n",
              "      <th>dst_host_srv_diff_host_rate</th>\n",
              "      <th>dst_host_serror_rate</th>\n",
              "      <th>dst_host_srv_serror_rate</th>\n",
              "      <th>dst_host_rerror_rate</th>\n",
              "      <th>dst_host_srv_rerror_rate</th>\n",
              "    </tr>\n",
              "  </thead>\n",
              "  <tbody>\n",
              "    <tr>\n",
              "      <th>0</th>\n",
              "      <td>0</td>\n",
              "      <td>udp</td>\n",
              "      <td>other</td>\n",
              "      <td>SF</td>\n",
              "      <td>146</td>\n",
              "      <td>0</td>\n",
              "      <td>0</td>\n",
              "      <td>0</td>\n",
              "      <td>0</td>\n",
              "      <td>0</td>\n",
              "      <td>0</td>\n",
              "      <td>0</td>\n",
              "      <td>0</td>\n",
              "      <td>0</td>\n",
              "      <td>0</td>\n",
              "      <td>0</td>\n",
              "      <td>0</td>\n",
              "      <td>0</td>\n",
              "      <td>0</td>\n",
              "      <td>0</td>\n",
              "      <td>0</td>\n",
              "      <td>0</td>\n",
              "      <td>13</td>\n",
              "      <td>1</td>\n",
              "      <td>0.0</td>\n",
              "      <td>0.0</td>\n",
              "      <td>0.0</td>\n",
              "      <td>0.0</td>\n",
              "      <td>0.08</td>\n",
              "      <td>0.15</td>\n",
              "      <td>0.00</td>\n",
              "      <td>255</td>\n",
              "      <td>1</td>\n",
              "      <td>0.00</td>\n",
              "      <td>0.60</td>\n",
              "      <td>0.88</td>\n",
              "      <td>0.00</td>\n",
              "      <td>0.00</td>\n",
              "      <td>0.00</td>\n",
              "      <td>0.00</td>\n",
              "      <td>0.00</td>\n",
              "    </tr>\n",
              "    <tr>\n",
              "      <th>1</th>\n",
              "      <td>0</td>\n",
              "      <td>tcp</td>\n",
              "      <td>private</td>\n",
              "      <td>S0</td>\n",
              "      <td>0</td>\n",
              "      <td>0</td>\n",
              "      <td>0</td>\n",
              "      <td>0</td>\n",
              "      <td>0</td>\n",
              "      <td>0</td>\n",
              "      <td>0</td>\n",
              "      <td>0</td>\n",
              "      <td>0</td>\n",
              "      <td>0</td>\n",
              "      <td>0</td>\n",
              "      <td>0</td>\n",
              "      <td>0</td>\n",
              "      <td>0</td>\n",
              "      <td>0</td>\n",
              "      <td>0</td>\n",
              "      <td>0</td>\n",
              "      <td>0</td>\n",
              "      <td>123</td>\n",
              "      <td>6</td>\n",
              "      <td>1.0</td>\n",
              "      <td>1.0</td>\n",
              "      <td>0.0</td>\n",
              "      <td>0.0</td>\n",
              "      <td>0.05</td>\n",
              "      <td>0.07</td>\n",
              "      <td>0.00</td>\n",
              "      <td>255</td>\n",
              "      <td>26</td>\n",
              "      <td>0.10</td>\n",
              "      <td>0.05</td>\n",
              "      <td>0.00</td>\n",
              "      <td>0.00</td>\n",
              "      <td>1.00</td>\n",
              "      <td>1.00</td>\n",
              "      <td>0.00</td>\n",
              "      <td>0.00</td>\n",
              "    </tr>\n",
              "    <tr>\n",
              "      <th>2</th>\n",
              "      <td>0</td>\n",
              "      <td>tcp</td>\n",
              "      <td>http</td>\n",
              "      <td>SF</td>\n",
              "      <td>232</td>\n",
              "      <td>8153</td>\n",
              "      <td>0</td>\n",
              "      <td>0</td>\n",
              "      <td>0</td>\n",
              "      <td>0</td>\n",
              "      <td>0</td>\n",
              "      <td>1</td>\n",
              "      <td>0</td>\n",
              "      <td>0</td>\n",
              "      <td>0</td>\n",
              "      <td>0</td>\n",
              "      <td>0</td>\n",
              "      <td>0</td>\n",
              "      <td>0</td>\n",
              "      <td>0</td>\n",
              "      <td>0</td>\n",
              "      <td>0</td>\n",
              "      <td>5</td>\n",
              "      <td>5</td>\n",
              "      <td>0.2</td>\n",
              "      <td>0.2</td>\n",
              "      <td>0.0</td>\n",
              "      <td>0.0</td>\n",
              "      <td>1.00</td>\n",
              "      <td>0.00</td>\n",
              "      <td>0.00</td>\n",
              "      <td>30</td>\n",
              "      <td>255</td>\n",
              "      <td>1.00</td>\n",
              "      <td>0.00</td>\n",
              "      <td>0.03</td>\n",
              "      <td>0.04</td>\n",
              "      <td>0.03</td>\n",
              "      <td>0.01</td>\n",
              "      <td>0.00</td>\n",
              "      <td>0.01</td>\n",
              "    </tr>\n",
              "    <tr>\n",
              "      <th>3</th>\n",
              "      <td>0</td>\n",
              "      <td>tcp</td>\n",
              "      <td>http</td>\n",
              "      <td>SF</td>\n",
              "      <td>199</td>\n",
              "      <td>420</td>\n",
              "      <td>0</td>\n",
              "      <td>0</td>\n",
              "      <td>0</td>\n",
              "      <td>0</td>\n",
              "      <td>0</td>\n",
              "      <td>1</td>\n",
              "      <td>0</td>\n",
              "      <td>0</td>\n",
              "      <td>0</td>\n",
              "      <td>0</td>\n",
              "      <td>0</td>\n",
              "      <td>0</td>\n",
              "      <td>0</td>\n",
              "      <td>0</td>\n",
              "      <td>0</td>\n",
              "      <td>0</td>\n",
              "      <td>30</td>\n",
              "      <td>32</td>\n",
              "      <td>0.0</td>\n",
              "      <td>0.0</td>\n",
              "      <td>0.0</td>\n",
              "      <td>0.0</td>\n",
              "      <td>1.00</td>\n",
              "      <td>0.00</td>\n",
              "      <td>0.09</td>\n",
              "      <td>255</td>\n",
              "      <td>255</td>\n",
              "      <td>1.00</td>\n",
              "      <td>0.00</td>\n",
              "      <td>0.00</td>\n",
              "      <td>0.00</td>\n",
              "      <td>0.00</td>\n",
              "      <td>0.00</td>\n",
              "      <td>0.00</td>\n",
              "      <td>0.00</td>\n",
              "    </tr>\n",
              "    <tr>\n",
              "      <th>4</th>\n",
              "      <td>0</td>\n",
              "      <td>tcp</td>\n",
              "      <td>private</td>\n",
              "      <td>REJ</td>\n",
              "      <td>0</td>\n",
              "      <td>0</td>\n",
              "      <td>0</td>\n",
              "      <td>0</td>\n",
              "      <td>0</td>\n",
              "      <td>0</td>\n",
              "      <td>0</td>\n",
              "      <td>0</td>\n",
              "      <td>0</td>\n",
              "      <td>0</td>\n",
              "      <td>0</td>\n",
              "      <td>0</td>\n",
              "      <td>0</td>\n",
              "      <td>0</td>\n",
              "      <td>0</td>\n",
              "      <td>0</td>\n",
              "      <td>0</td>\n",
              "      <td>0</td>\n",
              "      <td>121</td>\n",
              "      <td>19</td>\n",
              "      <td>0.0</td>\n",
              "      <td>0.0</td>\n",
              "      <td>1.0</td>\n",
              "      <td>1.0</td>\n",
              "      <td>0.16</td>\n",
              "      <td>0.06</td>\n",
              "      <td>0.00</td>\n",
              "      <td>255</td>\n",
              "      <td>19</td>\n",
              "      <td>0.07</td>\n",
              "      <td>0.07</td>\n",
              "      <td>0.00</td>\n",
              "      <td>0.00</td>\n",
              "      <td>0.00</td>\n",
              "      <td>0.00</td>\n",
              "      <td>1.00</td>\n",
              "      <td>1.00</td>\n",
              "    </tr>\n",
              "    <tr>\n",
              "      <th>...</th>\n",
              "      <td>...</td>\n",
              "      <td>...</td>\n",
              "      <td>...</td>\n",
              "      <td>...</td>\n",
              "      <td>...</td>\n",
              "      <td>...</td>\n",
              "      <td>...</td>\n",
              "      <td>...</td>\n",
              "      <td>...</td>\n",
              "      <td>...</td>\n",
              "      <td>...</td>\n",
              "      <td>...</td>\n",
              "      <td>...</td>\n",
              "      <td>...</td>\n",
              "      <td>...</td>\n",
              "      <td>...</td>\n",
              "      <td>...</td>\n",
              "      <td>...</td>\n",
              "      <td>...</td>\n",
              "      <td>...</td>\n",
              "      <td>...</td>\n",
              "      <td>...</td>\n",
              "      <td>...</td>\n",
              "      <td>...</td>\n",
              "      <td>...</td>\n",
              "      <td>...</td>\n",
              "      <td>...</td>\n",
              "      <td>...</td>\n",
              "      <td>...</td>\n",
              "      <td>...</td>\n",
              "      <td>...</td>\n",
              "      <td>...</td>\n",
              "      <td>...</td>\n",
              "      <td>...</td>\n",
              "      <td>...</td>\n",
              "      <td>...</td>\n",
              "      <td>...</td>\n",
              "      <td>...</td>\n",
              "      <td>...</td>\n",
              "      <td>...</td>\n",
              "      <td>...</td>\n",
              "    </tr>\n",
              "    <tr>\n",
              "      <th>125967</th>\n",
              "      <td>0</td>\n",
              "      <td>tcp</td>\n",
              "      <td>private</td>\n",
              "      <td>S0</td>\n",
              "      <td>0</td>\n",
              "      <td>0</td>\n",
              "      <td>0</td>\n",
              "      <td>0</td>\n",
              "      <td>0</td>\n",
              "      <td>0</td>\n",
              "      <td>0</td>\n",
              "      <td>0</td>\n",
              "      <td>0</td>\n",
              "      <td>0</td>\n",
              "      <td>0</td>\n",
              "      <td>0</td>\n",
              "      <td>0</td>\n",
              "      <td>0</td>\n",
              "      <td>0</td>\n",
              "      <td>0</td>\n",
              "      <td>0</td>\n",
              "      <td>0</td>\n",
              "      <td>184</td>\n",
              "      <td>25</td>\n",
              "      <td>1.0</td>\n",
              "      <td>1.0</td>\n",
              "      <td>0.0</td>\n",
              "      <td>0.0</td>\n",
              "      <td>0.14</td>\n",
              "      <td>0.06</td>\n",
              "      <td>0.00</td>\n",
              "      <td>255</td>\n",
              "      <td>25</td>\n",
              "      <td>0.10</td>\n",
              "      <td>0.06</td>\n",
              "      <td>0.00</td>\n",
              "      <td>0.00</td>\n",
              "      <td>1.00</td>\n",
              "      <td>1.00</td>\n",
              "      <td>0.00</td>\n",
              "      <td>0.00</td>\n",
              "    </tr>\n",
              "    <tr>\n",
              "      <th>125968</th>\n",
              "      <td>8</td>\n",
              "      <td>udp</td>\n",
              "      <td>private</td>\n",
              "      <td>SF</td>\n",
              "      <td>105</td>\n",
              "      <td>145</td>\n",
              "      <td>0</td>\n",
              "      <td>0</td>\n",
              "      <td>0</td>\n",
              "      <td>0</td>\n",
              "      <td>0</td>\n",
              "      <td>0</td>\n",
              "      <td>0</td>\n",
              "      <td>0</td>\n",
              "      <td>0</td>\n",
              "      <td>0</td>\n",
              "      <td>0</td>\n",
              "      <td>0</td>\n",
              "      <td>0</td>\n",
              "      <td>0</td>\n",
              "      <td>0</td>\n",
              "      <td>0</td>\n",
              "      <td>2</td>\n",
              "      <td>2</td>\n",
              "      <td>0.0</td>\n",
              "      <td>0.0</td>\n",
              "      <td>0.0</td>\n",
              "      <td>0.0</td>\n",
              "      <td>1.00</td>\n",
              "      <td>0.00</td>\n",
              "      <td>0.00</td>\n",
              "      <td>255</td>\n",
              "      <td>244</td>\n",
              "      <td>0.96</td>\n",
              "      <td>0.01</td>\n",
              "      <td>0.01</td>\n",
              "      <td>0.00</td>\n",
              "      <td>0.00</td>\n",
              "      <td>0.00</td>\n",
              "      <td>0.00</td>\n",
              "      <td>0.00</td>\n",
              "    </tr>\n",
              "    <tr>\n",
              "      <th>125969</th>\n",
              "      <td>0</td>\n",
              "      <td>tcp</td>\n",
              "      <td>smtp</td>\n",
              "      <td>SF</td>\n",
              "      <td>2231</td>\n",
              "      <td>384</td>\n",
              "      <td>0</td>\n",
              "      <td>0</td>\n",
              "      <td>0</td>\n",
              "      <td>0</td>\n",
              "      <td>0</td>\n",
              "      <td>1</td>\n",
              "      <td>0</td>\n",
              "      <td>0</td>\n",
              "      <td>0</td>\n",
              "      <td>0</td>\n",
              "      <td>0</td>\n",
              "      <td>0</td>\n",
              "      <td>0</td>\n",
              "      <td>0</td>\n",
              "      <td>0</td>\n",
              "      <td>0</td>\n",
              "      <td>1</td>\n",
              "      <td>1</td>\n",
              "      <td>0.0</td>\n",
              "      <td>0.0</td>\n",
              "      <td>0.0</td>\n",
              "      <td>0.0</td>\n",
              "      <td>1.00</td>\n",
              "      <td>0.00</td>\n",
              "      <td>0.00</td>\n",
              "      <td>255</td>\n",
              "      <td>30</td>\n",
              "      <td>0.12</td>\n",
              "      <td>0.06</td>\n",
              "      <td>0.00</td>\n",
              "      <td>0.00</td>\n",
              "      <td>0.72</td>\n",
              "      <td>0.00</td>\n",
              "      <td>0.01</td>\n",
              "      <td>0.00</td>\n",
              "    </tr>\n",
              "    <tr>\n",
              "      <th>125970</th>\n",
              "      <td>0</td>\n",
              "      <td>tcp</td>\n",
              "      <td>klogin</td>\n",
              "      <td>S0</td>\n",
              "      <td>0</td>\n",
              "      <td>0</td>\n",
              "      <td>0</td>\n",
              "      <td>0</td>\n",
              "      <td>0</td>\n",
              "      <td>0</td>\n",
              "      <td>0</td>\n",
              "      <td>0</td>\n",
              "      <td>0</td>\n",
              "      <td>0</td>\n",
              "      <td>0</td>\n",
              "      <td>0</td>\n",
              "      <td>0</td>\n",
              "      <td>0</td>\n",
              "      <td>0</td>\n",
              "      <td>0</td>\n",
              "      <td>0</td>\n",
              "      <td>0</td>\n",
              "      <td>144</td>\n",
              "      <td>8</td>\n",
              "      <td>1.0</td>\n",
              "      <td>1.0</td>\n",
              "      <td>0.0</td>\n",
              "      <td>0.0</td>\n",
              "      <td>0.06</td>\n",
              "      <td>0.05</td>\n",
              "      <td>0.00</td>\n",
              "      <td>255</td>\n",
              "      <td>8</td>\n",
              "      <td>0.03</td>\n",
              "      <td>0.05</td>\n",
              "      <td>0.00</td>\n",
              "      <td>0.00</td>\n",
              "      <td>1.00</td>\n",
              "      <td>1.00</td>\n",
              "      <td>0.00</td>\n",
              "      <td>0.00</td>\n",
              "    </tr>\n",
              "    <tr>\n",
              "      <th>125971</th>\n",
              "      <td>0</td>\n",
              "      <td>tcp</td>\n",
              "      <td>ftp_data</td>\n",
              "      <td>SF</td>\n",
              "      <td>151</td>\n",
              "      <td>0</td>\n",
              "      <td>0</td>\n",
              "      <td>0</td>\n",
              "      <td>0</td>\n",
              "      <td>0</td>\n",
              "      <td>0</td>\n",
              "      <td>1</td>\n",
              "      <td>0</td>\n",
              "      <td>0</td>\n",
              "      <td>0</td>\n",
              "      <td>0</td>\n",
              "      <td>0</td>\n",
              "      <td>0</td>\n",
              "      <td>0</td>\n",
              "      <td>0</td>\n",
              "      <td>0</td>\n",
              "      <td>0</td>\n",
              "      <td>1</td>\n",
              "      <td>1</td>\n",
              "      <td>0.0</td>\n",
              "      <td>0.0</td>\n",
              "      <td>0.0</td>\n",
              "      <td>0.0</td>\n",
              "      <td>1.00</td>\n",
              "      <td>0.00</td>\n",
              "      <td>0.00</td>\n",
              "      <td>255</td>\n",
              "      <td>77</td>\n",
              "      <td>0.30</td>\n",
              "      <td>0.03</td>\n",
              "      <td>0.30</td>\n",
              "      <td>0.00</td>\n",
              "      <td>0.00</td>\n",
              "      <td>0.00</td>\n",
              "      <td>0.00</td>\n",
              "      <td>0.00</td>\n",
              "    </tr>\n",
              "  </tbody>\n",
              "</table>\n",
              "<p>125972 rows × 41 columns</p>\n",
              "</div>\n",
              "      <button class=\"colab-df-convert\" onclick=\"convertToInteractive('df-ded3bd8d-2636-48a7-a689-64169d7d498d')\"\n",
              "              title=\"Convert this dataframe to an interactive table.\"\n",
              "              style=\"display:none;\">\n",
              "        \n",
              "  <svg xmlns=\"http://www.w3.org/2000/svg\" height=\"24px\"viewBox=\"0 0 24 24\"\n",
              "       width=\"24px\">\n",
              "    <path d=\"M0 0h24v24H0V0z\" fill=\"none\"/>\n",
              "    <path d=\"M18.56 5.44l.94 2.06.94-2.06 2.06-.94-2.06-.94-.94-2.06-.94 2.06-2.06.94zm-11 1L8.5 8.5l.94-2.06 2.06-.94-2.06-.94L8.5 2.5l-.94 2.06-2.06.94zm10 10l.94 2.06.94-2.06 2.06-.94-2.06-.94-.94-2.06-.94 2.06-2.06.94z\"/><path d=\"M17.41 7.96l-1.37-1.37c-.4-.4-.92-.59-1.43-.59-.52 0-1.04.2-1.43.59L10.3 9.45l-7.72 7.72c-.78.78-.78 2.05 0 2.83L4 21.41c.39.39.9.59 1.41.59.51 0 1.02-.2 1.41-.59l7.78-7.78 2.81-2.81c.8-.78.8-2.07 0-2.86zM5.41 20L4 18.59l7.72-7.72 1.47 1.35L5.41 20z\"/>\n",
              "  </svg>\n",
              "      </button>\n",
              "      \n",
              "  <style>\n",
              "    .colab-df-container {\n",
              "      display:flex;\n",
              "      flex-wrap:wrap;\n",
              "      gap: 12px;\n",
              "    }\n",
              "\n",
              "    .colab-df-convert {\n",
              "      background-color: #E8F0FE;\n",
              "      border: none;\n",
              "      border-radius: 50%;\n",
              "      cursor: pointer;\n",
              "      display: none;\n",
              "      fill: #1967D2;\n",
              "      height: 32px;\n",
              "      padding: 0 0 0 0;\n",
              "      width: 32px;\n",
              "    }\n",
              "\n",
              "    .colab-df-convert:hover {\n",
              "      background-color: #E2EBFA;\n",
              "      box-shadow: 0px 1px 2px rgba(60, 64, 67, 0.3), 0px 1px 3px 1px rgba(60, 64, 67, 0.15);\n",
              "      fill: #174EA6;\n",
              "    }\n",
              "\n",
              "    [theme=dark] .colab-df-convert {\n",
              "      background-color: #3B4455;\n",
              "      fill: #D2E3FC;\n",
              "    }\n",
              "\n",
              "    [theme=dark] .colab-df-convert:hover {\n",
              "      background-color: #434B5C;\n",
              "      box-shadow: 0px 1px 3px 1px rgba(0, 0, 0, 0.15);\n",
              "      filter: drop-shadow(0px 1px 2px rgba(0, 0, 0, 0.3));\n",
              "      fill: #FFFFFF;\n",
              "    }\n",
              "  </style>\n",
              "\n",
              "      <script>\n",
              "        const buttonEl =\n",
              "          document.querySelector('#df-ded3bd8d-2636-48a7-a689-64169d7d498d button.colab-df-convert');\n",
              "        buttonEl.style.display =\n",
              "          google.colab.kernel.accessAllowed ? 'block' : 'none';\n",
              "\n",
              "        async function convertToInteractive(key) {\n",
              "          const element = document.querySelector('#df-ded3bd8d-2636-48a7-a689-64169d7d498d');\n",
              "          const dataTable =\n",
              "            await google.colab.kernel.invokeFunction('convertToInteractive',\n",
              "                                                     [key], {});\n",
              "          if (!dataTable) return;\n",
              "\n",
              "          const docLinkHtml = 'Like what you see? Visit the ' +\n",
              "            '<a target=\"_blank\" href=https://colab.research.google.com/notebooks/data_table.ipynb>data table notebook</a>'\n",
              "            + ' to learn more about interactive tables.';\n",
              "          element.innerHTML = '';\n",
              "          dataTable['output_type'] = 'display_data';\n",
              "          await google.colab.output.renderOutput(dataTable, element);\n",
              "          const docLink = document.createElement('div');\n",
              "          docLink.innerHTML = docLinkHtml;\n",
              "          element.appendChild(docLink);\n",
              "        }\n",
              "      </script>\n",
              "    </div>\n",
              "  </div>\n",
              "  "
            ],
            "text/plain": [
              "        duration protocol_type  ... dst_host_rerror_rate dst_host_srv_rerror_rate\n",
              "0              0           udp  ...                 0.00                     0.00\n",
              "1              0           tcp  ...                 0.00                     0.00\n",
              "2              0           tcp  ...                 0.00                     0.01\n",
              "3              0           tcp  ...                 0.00                     0.00\n",
              "4              0           tcp  ...                 1.00                     1.00\n",
              "...          ...           ...  ...                  ...                      ...\n",
              "125967         0           tcp  ...                 0.00                     0.00\n",
              "125968         8           udp  ...                 0.00                     0.00\n",
              "125969         0           tcp  ...                 0.01                     0.00\n",
              "125970         0           tcp  ...                 0.00                     0.00\n",
              "125971         0           tcp  ...                 0.00                     0.00\n",
              "\n",
              "[125972 rows x 41 columns]"
            ]
          },
          "metadata": {},
          "execution_count": 21
        }
      ]
    },
    {
      "cell_type": "markdown",
      "source": [
        "####encode Data"
      ],
      "metadata": {
        "id": "2mM24OMz-iPT"
      }
    },
    {
      "cell_type": "code",
      "source": [
        "from sklearn.preprocessing import LabelEncoder\n",
        "from sklearn.preprocessing import OrdinalEncoder"
      ],
      "metadata": {
        "id": "zRXINtey7Gkl"
      },
      "execution_count": null,
      "outputs": []
    },
    {
      "cell_type": "code",
      "source": [
        "le=LabelEncoder()\n",
        "le.fit(y_train)\n",
        "y_train=le.transform(y_train)\n",
        "y_test=le.transform(y_test)"
      ],
      "metadata": {
        "id": "Homhu-5TFI9U"
      },
      "execution_count": null,
      "outputs": []
    },
    {
      "cell_type": "code",
      "source": [
        "# prepare input data\n",
        "def prepare_inputs(X_train, X_test):\n",
        "\toe = OrdinalEncoder()\n",
        "\toe.fit(X_train)\n",
        "\tX_train_enc = oe.transform(X_train)\n",
        "\tX_test_enc = oe.transform(X_test)\n",
        "\treturn X_train_enc, X_test_enc"
      ],
      "metadata": {
        "id": "fhXJZHwK8E4s"
      },
      "execution_count": null,
      "outputs": []
    },
    {
      "cell_type": "code",
      "source": [
        "X_train_cat=X_train[['protocol_type','service','flag']]\n",
        "X_test_cat=X_test[['protocol_type','service','flag']]"
      ],
      "metadata": {
        "id": "t4nLSUGT7OSL"
      },
      "execution_count": null,
      "outputs": []
    },
    {
      "cell_type": "code",
      "source": [
        "X_train_cat, X_test_cat = prepare_inputs(X_train_cat, X_test_cat)"
      ],
      "metadata": {
        "id": "y32Pj0oL8CKB"
      },
      "execution_count": null,
      "outputs": []
    },
    {
      "cell_type": "code",
      "source": [
        "X_train_cat"
      ],
      "metadata": {
        "colab": {
          "base_uri": "https://localhost:8080/"
        },
        "id": "hPiOSNjH8cf2",
        "outputId": "0bc53b31-ed97-41a1-df44-6eee5263a109"
      },
      "execution_count": null,
      "outputs": [
        {
          "output_type": "execute_result",
          "data": {
            "text/plain": [
              "array([[ 2., 44.,  9.],\n",
              "       [ 1., 49.,  5.],\n",
              "       [ 1., 24.,  9.],\n",
              "       ...,\n",
              "       [ 1., 54.,  9.],\n",
              "       [ 1., 30.,  5.],\n",
              "       [ 1., 20.,  9.]])"
            ]
          },
          "metadata": {},
          "execution_count": 27
        }
      ]
    },
    {
      "cell_type": "code",
      "source": [
        "X_test_cat=pd.DataFrame(X_test_cat ,columns=['protocol_type_enc','service_enc','flag_enc'])\n",
        "X_train_cat=pd.DataFrame(X_train_cat ,columns=['protocol_type_enc','service_enc','flag_enc'])"
      ],
      "metadata": {
        "id": "pZJASYSz8mwF"
      },
      "execution_count": null,
      "outputs": []
    },
    {
      "cell_type": "code",
      "source": [
        "X_train=X_train.drop(['protocol_type','service','flag'],axis=1)\n",
        "X_test=X_test.drop(['protocol_type','service','flag'],axis=1)"
      ],
      "metadata": {
        "id": "CxQ89plt88Kc"
      },
      "execution_count": null,
      "outputs": []
    },
    {
      "cell_type": "code",
      "source": [
        "print(X_train.shape , X_test.shape)"
      ],
      "metadata": {
        "colab": {
          "base_uri": "https://localhost:8080/"
        },
        "id": "VA8uN9kd9oj9",
        "outputId": "dd8a469f-c606-45b5-f5a3-117f8666a281"
      },
      "execution_count": null,
      "outputs": [
        {
          "output_type": "stream",
          "name": "stdout",
          "text": [
            "(125972, 38) (22542, 38)\n"
          ]
        }
      ]
    },
    {
      "cell_type": "code",
      "source": [
        "X_train=pd.concat([X_train ,X_train_cat],axis=1)\n",
        "X_test=pd.concat([X_test ,X_test_cat],axis=1)"
      ],
      "metadata": {
        "id": "hg0AERe29wPD"
      },
      "execution_count": null,
      "outputs": []
    },
    {
      "cell_type": "code",
      "source": [
        "print(X_train.shape , X_test.shape)"
      ],
      "metadata": {
        "colab": {
          "base_uri": "https://localhost:8080/"
        },
        "id": "fTkNFUR0-QYZ",
        "outputId": "11a6a4c8-c7c0-4735-d645-c011aa482f9e"
      },
      "execution_count": null,
      "outputs": [
        {
          "output_type": "stream",
          "name": "stdout",
          "text": [
            "(125972, 41) (22542, 41)\n"
          ]
        }
      ]
    },
    {
      "cell_type": "markdown",
      "source": [
        "####Feature selection"
      ],
      "metadata": {
        "id": "rVD7J7HZ56yS"
      }
    },
    {
      "cell_type": "code",
      "source": [
        "# instantiate RandomForestClassifier\n",
        "rf_model = RandomForestClassifier()\n",
        "rf_model.fit(X_train,y_train)\n",
        "feat_importances = pd.Series(rf_model.feature_importances_, index=X_train.columns)\n",
        "# determine 20 most important features\n",
        "df_imp_feat= feat_importances.nlargest(20)\n",
        "print(rf_model.feature_importances_)\n",
        "\n",
        "\n",
        "# plot 20 most important features\n",
        "# feat_importances.nlargest(20).plot(kind='barh')\n",
        "df_imp_feat.plot(kind='barh')\n",
        "plt.show()\n",
        "print(df_imp_feat)"
      ],
      "metadata": {
        "colab": {
          "base_uri": "https://localhost:8080/",
          "height": 820
        },
        "id": "okCZUT7k55bt",
        "outputId": "149ac241-ef6a-4cb3-ef0c-2616b94a8991"
      },
      "execution_count": null,
      "outputs": [
        {
          "output_type": "stream",
          "name": "stdout",
          "text": [
            "[3.98384704e-03 1.87308471e-01 1.45705118e-01 1.56888503e-05\n",
            " 4.39348737e-03 2.94507813e-05 8.84642235e-03 1.91142898e-04\n",
            " 3.79483437e-02 6.65031870e-03 9.51741118e-05 1.42737224e-05\n",
            " 2.46006722e-04 1.43483960e-04 5.70814283e-05 5.37938098e-05\n",
            " 0.00000000e+00 0.00000000e+00 8.78612536e-04 2.98811031e-02\n",
            " 1.72167928e-02 2.77614801e-02 1.18755180e-02 2.98990934e-03\n",
            " 5.13029697e-03 3.26294458e-02 5.82738985e-02 1.75696358e-03\n",
            " 1.49051288e-02 4.73380271e-02 5.36849827e-02 3.58463296e-02\n",
            " 2.53169692e-02 2.51490472e-02 2.03282932e-02 3.01012402e-02\n",
            " 9.28098409e-03 1.66847726e-02 2.85859311e-02 3.09697072e-02\n",
            " 7.77324613e-02]\n"
          ]
        },
        {
          "output_type": "display_data",
          "data": {
            "image/png": "[encoded data removed]",
            "text/plain": [
              "<Figure size 432x288 with 1 Axes>"
            ]
          },
          "metadata": {
            "needs_background": "light"
          }
        },
        {
          "output_type": "stream",
          "name": "stdout",
          "text": [
            "src_bytes                      0.187308\n",
            "dst_bytes                      0.145705\n",
            "flag_enc                       0.077732\n",
            "diff_srv_rate                  0.058274\n",
            "dst_host_same_srv_rate         0.053685\n",
            "dst_host_srv_count             0.047338\n",
            "logged_in                      0.037948\n",
            "dst_host_diff_srv_rate         0.035846\n",
            "same_srv_rate                  0.032629\n",
            "service_enc                    0.030970\n",
            "dst_host_srv_serror_rate       0.030101\n",
            "count                          0.029881\n",
            "protocol_type_enc              0.028586\n",
            "serror_rate                    0.027761\n",
            "dst_host_same_src_port_rate    0.025317\n",
            "dst_host_srv_diff_host_rate    0.025149\n",
            "dst_host_serror_rate           0.020328\n",
            "srv_count                      0.017217\n",
            "dst_host_srv_rerror_rate       0.016685\n",
            "dst_host_count                 0.014905\n",
            "dtype: float64\n"
          ]
        }
      ]
    },
    {
      "cell_type": "code",
      "source": [
        "X_train=X_train[['src_bytes','dst_bytes','flag_enc','same_srv_rate','dst_host_srv_count','logged_in','dst_host_same_srv_rate',\n",
        "                 'diff_srv_rate','protocol_type_enc','dst_host_diff_srv_rate','dst_host_same_src_port_rate','count',\n",
        "                 'dst_host_srv_serror_rate','service_enc','serror_rate','dst_host_count','dst_host_serror_rate',\n",
        "                 'dst_host_srv_diff_host_rate','srv_count','srv_serror_rate'\n",
        "                 \n",
        "]]\n",
        "\n",
        "X_test=X_test[['src_bytes','dst_bytes','flag_enc','same_srv_rate','dst_host_srv_count','logged_in','dst_host_same_srv_rate',\n",
        "                 'diff_srv_rate','protocol_type_enc','dst_host_diff_srv_rate','dst_host_same_src_port_rate','count',\n",
        "                 'dst_host_srv_serror_rate','service_enc','serror_rate','dst_host_count','dst_host_serror_rate',\n",
        "                 'dst_host_srv_diff_host_rate','srv_count','srv_serror_rate'\n",
        "                 \n",
        "]]"
      ],
      "metadata": {
        "id": "WyPnztiG_HXp"
      },
      "execution_count": null,
      "outputs": []
    },
    {
      "cell_type": "code",
      "source": [
        "print(X_train.shape, X_test.shape)"
      ],
      "metadata": {
        "colab": {
          "base_uri": "https://localhost:8080/"
        },
        "id": "2J3sfRa9AokO",
        "outputId": "fe88fd51-401b-4dce-ed48-23c7a0951445"
      },
      "execution_count": null,
      "outputs": [
        {
          "output_type": "stream",
          "name": "stdout",
          "text": [
            "(125972, 20) (22542, 20)\n"
          ]
        }
      ]
    },
    {
      "cell_type": "markdown",
      "metadata": {
        "id": "Vu8dKUa8xI1w"
      },
      "source": [
        "####Normalizing Data"
      ]
    },
    {
      "cell_type": "code",
      "metadata": {
        "id": "BFdRUqyDv42D"
      },
      "source": [
        "##hala nobat be oon mirese sotoon haye integer ro normal konim .ba estefade az log transform in karo anjam midim"
      ],
      "execution_count": null,
      "outputs": []
    },
    {
      "cell_type": "code",
      "source": [
        "X_train.info()"
      ],
      "metadata": {
        "id": "KwSTNCNT7_lG",
        "colab": {
          "base_uri": "https://localhost:8080/"
        },
        "outputId": "54f3ac03-494c-47b8-82e8-2ec8caf3f742"
      },
      "execution_count": null,
      "outputs": [
        {
          "output_type": "stream",
          "name": "stdout",
          "text": [
            "<class 'pandas.core.frame.DataFrame'>\n",
            "RangeIndex: 125972 entries, 0 to 125971\n",
            "Data columns (total 20 columns):\n",
            " #   Column                       Non-Null Count   Dtype  \n",
            "---  ------                       --------------   -----  \n",
            " 0   src_bytes                    125972 non-null  int64  \n",
            " 1   dst_bytes                    125972 non-null  int64  \n",
            " 2   flag_enc                     125972 non-null  float64\n",
            " 3   same_srv_rate                125972 non-null  float64\n",
            " 4   dst_host_srv_count           125972 non-null  int64  \n",
            " 5   logged_in                    125972 non-null  int64  \n",
            " 6   dst_host_same_srv_rate       125972 non-null  float64\n",
            " 7   diff_srv_rate                125972 non-null  float64\n",
            " 8   protocol_type_enc            125972 non-null  float64\n",
            " 9   dst_host_diff_srv_rate       125972 non-null  float64\n",
            " 10  dst_host_same_src_port_rate  125972 non-null  float64\n",
            " 11  count                        125972 non-null  int64  \n",
            " 12  dst_host_srv_serror_rate     125972 non-null  float64\n",
            " 13  service_enc                  125972 non-null  float64\n",
            " 14  serror_rate                  125972 non-null  float64\n",
            " 15  dst_host_count               125972 non-null  int64  \n",
            " 16  dst_host_serror_rate         125972 non-null  float64\n",
            " 17  dst_host_srv_diff_host_rate  125972 non-null  float64\n",
            " 18  srv_count                    125972 non-null  int64  \n",
            " 19  srv_serror_rate              125972 non-null  float64\n",
            "dtypes: float64(13), int64(7)\n",
            "memory usage: 19.2 MB\n"
          ]
        }
      ]
    },
    {
      "cell_type": "code",
      "source": [
        "from sklearn.preprocessing import StandardScaler"
      ],
      "metadata": {
        "id": "r9fbBwoEEq5T"
      },
      "execution_count": null,
      "outputs": []
    },
    {
      "cell_type": "code",
      "source": [
        "scaler = StandardScaler()\n",
        "scaler.fit(X_train)\n",
        "X_train=scaler.transform(X_train)\n",
        "X_test=scaler.transform(X_test)"
      ],
      "metadata": {
        "id": "cNeUitbvEwiW"
      },
      "execution_count": null,
      "outputs": []
    },
    {
      "cell_type": "code",
      "metadata": {
        "id": "RMwBdYh_1gsp"
      },
      "source": [
        "y_test,y_train=pd.DataFrame(y_test),pd.DataFrame(y_train)"
      ],
      "execution_count": null,
      "outputs": []
    },
    {
      "cell_type": "markdown",
      "source": [
        "####SMOTE Oversampling"
      ],
      "metadata": {
        "id": "qM5pScrUJ9ZM"
      }
    },
    {
      "cell_type": "code",
      "source": [
        "# from imblearn.over_sampling import SMOTE\n",
        "# oversample = SMOTE()"
      ],
      "metadata": {
        "id": "WFOk3Rx3J74Q"
      },
      "execution_count": null,
      "outputs": []
    },
    {
      "cell_type": "code",
      "source": [
        "# oversample = SMOTE()\n",
        "# X_train, y_train = oversample.fit_resample(X_train, y_train)"
      ],
      "metadata": {
        "id": "fFGYdMmHJ79h"
      },
      "execution_count": null,
      "outputs": []
    },
    {
      "cell_type": "code",
      "source": [
        "# print(X_train.shape , y_train.shape\n",
        "#       )"
      ],
      "metadata": {
        "id": "5kG7Ome2NViO"
      },
      "execution_count": null,
      "outputs": []
    },
    {
      "cell_type": "code",
      "source": [
        "# from imblearn.under_sampling import RandomUnderSampler"
      ],
      "metadata": {
        "id": "yNsUgcaiJ8Ir"
      },
      "execution_count": null,
      "outputs": []
    },
    {
      "cell_type": "code",
      "source": [
        "# rus = RandomUnderSampler(random_state=42)"
      ],
      "metadata": {
        "id": "3gs83c2JJ8NX"
      },
      "execution_count": null,
      "outputs": []
    },
    {
      "cell_type": "code",
      "source": [
        "# X_train, y_train = rus.fit_resample(X_train, y_train)\n",
        "# print(X_train.shape , y_train.shape)"
      ],
      "metadata": {
        "id": "7dWWaYFbJ8Rn"
      },
      "execution_count": null,
      "outputs": []
    },
    {
      "cell_type": "code",
      "source": [],
      "metadata": {
        "id": "JbV4z_aqJ8bq"
      },
      "execution_count": null,
      "outputs": []
    },
    {
      "cell_type": "markdown",
      "source": [
        "###Models"
      ],
      "metadata": {
        "id": "_zn5LhBAuRRw"
      }
    },
    {
      "cell_type": "code",
      "source": [
        "def fitandeval(model,x_train,yy_train,x_test,yy_test):\n",
        "  model.fit(x_train,yy_train)\n",
        "  y_pred=model.predict(x_test)\n",
        "  f1score=f1_score(yy_test, y_pred, average=\"macro\")\n",
        "  W_f1score=f1_score(yy_test, y_pred, average=\"weighted\")\n",
        "  \n",
        "  \n",
        " \n",
        "\n",
        "  return f1score,W_f1score"
      ],
      "metadata": {
        "id": "2bBmigF7SQ9v"
      },
      "execution_count": null,
      "outputs": []
    },
    {
      "cell_type": "markdown",
      "metadata": {
        "id": "4GDha2O2uRRx"
      },
      "source": [
        "#####Random Forest"
      ]
    },
    {
      "cell_type": "code",
      "metadata": {
        "id": "q4Eh7G00uRRx"
      },
      "source": [
        "RF_NSL=RandomForestClassifier(n_estimators=100, random_state=1)"
      ],
      "execution_count": null,
      "outputs": []
    },
    {
      "cell_type": "code",
      "source": [
        "f1score_RF_NSL , W_f1score_RF_NSL=fitandeval(RF_NSL,X_train,y_train,X_test,y_test)"
      ],
      "metadata": {
        "colab": {
          "base_uri": "https://localhost:8080/"
        },
        "outputId": "d12a62f8-138e-4350-f587-36236b4e1d20",
        "id": "U0NmZL-9uRRy"
      },
      "execution_count": null,
      "outputs": [
        {
          "output_type": "stream",
          "name": "stderr",
          "text": [
            "/usr/local/lib/python3.7/dist-packages/ipykernel_launcher.py:2: DataConversionWarning: A column-vector y was passed when a 1d array was expected. Please change the shape of y to (n_samples,), for example using ravel().\n",
            "  \n"
          ]
        }
      ]
    },
    {
      "cell_type": "code",
      "source": [
        "W_f1score_RF_NSL"
      ],
      "metadata": {
        "colab": {
          "base_uri": "https://localhost:8080/"
        },
        "outputId": "ea646f29-3578-4796-8fa2-15f6f1a86232",
        "id": "Qh5KLdr4uRRz"
      },
      "execution_count": null,
      "outputs": [
        {
          "output_type": "execute_result",
          "data": {
            "text/plain": [
              "0.8500284281558816"
            ]
          },
          "metadata": {},
          "execution_count": 50
        }
      ]
    },
    {
      "cell_type": "markdown",
      "metadata": {
        "id": "Qb0SJPy8uRRz"
      },
      "source": [
        "#####Decision Tree"
      ]
    },
    {
      "cell_type": "code",
      "metadata": {
        "id": "rxYeucwluRRz"
      },
      "source": [
        "DT_NSL = DecisionTreeClassifier(criterion='gini',max_depth=30) "
      ],
      "execution_count": null,
      "outputs": []
    },
    {
      "cell_type": "code",
      "metadata": {
        "id": "znOfriBLuRR0"
      },
      "source": [
        "f1score_DT_NSL , W_f1score_DT_NSL=fitandeval(DT_NSL,X_train,y_train,X_test,y_test)"
      ],
      "execution_count": null,
      "outputs": []
    },
    {
      "cell_type": "code",
      "metadata": {
        "colab": {
          "base_uri": "https://localhost:8080/"
        },
        "outputId": "f6478b3e-9aa6-41c4-fef2-853ca661a5c2",
        "id": "IprV2FbpuRR0"
      },
      "source": [
        "W_f1score_DT_NSL"
      ],
      "execution_count": null,
      "outputs": [
        {
          "output_type": "execute_result",
          "data": {
            "text/plain": [
              "0.8412438009175783"
            ]
          },
          "metadata": {},
          "execution_count": 53
        }
      ]
    },
    {
      "cell_type": "markdown",
      "metadata": {
        "id": "vxrpQ_79uRR1"
      },
      "source": [
        "#####Navie Bays"
      ]
    },
    {
      "cell_type": "code",
      "metadata": {
        "id": "oDRFZzc7uRR1"
      },
      "source": [
        "NB_NSL= GaussianNB()"
      ],
      "execution_count": null,
      "outputs": []
    },
    {
      "cell_type": "code",
      "metadata": {
        "colab": {
          "base_uri": "https://localhost:8080/"
        },
        "outputId": "32c25e50-0d61-4483-adb4-6446bc80b0ed",
        "id": "qSwmVMMIuRR2"
      },
      "source": [
        "f1score_NB_NSL , W_f1score_NB_NSL=fitandeval(NB_NSL,X_train,y_train,X_test,y_test)"
      ],
      "execution_count": null,
      "outputs": [
        {
          "output_type": "stream",
          "name": "stderr",
          "text": [
            "/usr/local/lib/python3.7/dist-packages/sklearn/utils/validation.py:993: DataConversionWarning: A column-vector y was passed when a 1d array was expected. Please change the shape of y to (n_samples, ), for example using ravel().\n",
            "  y = column_or_1d(y, warn=True)\n"
          ]
        }
      ]
    },
    {
      "cell_type": "code",
      "metadata": {
        "colab": {
          "base_uri": "https://localhost:8080/"
        },
        "outputId": "4549fa48-11ab-4eec-c1b7-9438db442113",
        "id": "kfeZnonEuRR2"
      },
      "source": [
        "W_f1score_NB_NSL"
      ],
      "execution_count": null,
      "outputs": [
        {
          "output_type": "execute_result",
          "data": {
            "text/plain": [
              "0.7649991398509632"
            ]
          },
          "metadata": {},
          "execution_count": 56
        }
      ]
    },
    {
      "cell_type": "markdown",
      "metadata": {
        "id": "Zenh0UJKuRR3"
      },
      "source": [
        "#####SVM"
      ]
    },
    {
      "cell_type": "code",
      "metadata": {
        "id": "JdjI3iLNuRR3"
      },
      "source": [
        "SVM_NSL= SVC(kernel='rbf')"
      ],
      "execution_count": null,
      "outputs": []
    },
    {
      "cell_type": "code",
      "metadata": {
        "colab": {
          "base_uri": "https://localhost:8080/"
        },
        "outputId": "15be52f3-23b8-4a4c-c305-891b0e65c310",
        "id": "orGnFsQduRR4"
      },
      "source": [
        "f1score_SVM_NSL, W_f1score_SVM_NSL=fitandeval(SVM_NSL,X_train,y_train,X_test,y_test)"
      ],
      "execution_count": null,
      "outputs": [
        {
          "output_type": "stream",
          "name": "stderr",
          "text": [
            "/usr/local/lib/python3.7/dist-packages/sklearn/utils/validation.py:993: DataConversionWarning: A column-vector y was passed when a 1d array was expected. Please change the shape of y to (n_samples, ), for example using ravel().\n",
            "  y = column_or_1d(y, warn=True)\n"
          ]
        }
      ]
    },
    {
      "cell_type": "code",
      "metadata": {
        "colab": {
          "base_uri": "https://localhost:8080/"
        },
        "id": "BYDtVxrDuRR4",
        "outputId": "730b0c77-fead-4ed7-ae2a-f50afb99ecbd"
      },
      "source": [
        "W_f1score_SVM_NSL"
      ],
      "execution_count": null,
      "outputs": [
        {
          "output_type": "execute_result",
          "data": {
            "text/plain": [
              "0.8203938748725375"
            ]
          },
          "metadata": {},
          "execution_count": 59
        }
      ]
    },
    {
      "cell_type": "markdown",
      "metadata": {
        "id": "lHMClxSOuRR4"
      },
      "source": [
        "#####MLP"
      ]
    },
    {
      "cell_type": "code",
      "metadata": {
        "id": "0HYhsTKzuRR5"
      },
      "source": [
        "MLP_NSL= Sequential()\n",
        "    \n",
        "    #here 30 is output dimension\n",
        "MLP_NSL.add(Dense(100,input_dim =X_train.shape[1],activation = 'relu'))\n",
        "    \n",
        "    #in next layer we do not specify the input_dim as the model is sequential so output of previous layer is input to next layer\n",
        "MLP_NSL.add(Dense(100,activation='relu'))\n",
        "MLP_NSL.add(Dense(100,activation='relu'))\n",
        "\n",
        "\n",
        "    \n",
        "    #5 classes-normal,dos,probe,r2l,u2r\n",
        "MLP_NSL.add(Dense(1,activation='sigmoid'))\n",
        "    \n",
        "    #loss is categorical_crossentropy which specifies that we have multiple classes\n",
        "    \n",
        "MLP_NSL.compile(loss =\"binary_crossentropy\",optimizer = 'adam',metrics = ['accuracy'])\n",
        "    "
      ],
      "execution_count": null,
      "outputs": []
    },
    {
      "cell_type": "code",
      "metadata": {
        "id": "mmRO_0mOuRR5",
        "colab": {
          "base_uri": "https://localhost:8080/"
        },
        "outputId": "cd25b117-3439-478c-d00f-a3b9cc751021"
      },
      "source": [
        "\n",
        "\n",
        "MLP_NSL.fit(X_train,y_train,epochs=50,batch_size=16,validation_data=(X_test,y_test))\n"
      ],
      "execution_count": null,
      "outputs": [
        {
          "output_type": "stream",
          "name": "stdout",
          "text": [
            "Epoch 1/50\n",
            "7874/7874 [==============================] - 18s 2ms/step - loss: 0.0583 - accuracy: 0.9801 - val_loss: 0.8072 - val_accuracy: 0.8194\n",
            "Epoch 2/50\n",
            "7874/7874 [==============================] - 17s 2ms/step - loss: 0.0400 - accuracy: 0.9861 - val_loss: 0.9877 - val_accuracy: 0.8213\n",
            "Epoch 3/50\n",
            "7874/7874 [==============================] - 18s 2ms/step - loss: 0.0320 - accuracy: 0.9885 - val_loss: 1.4150 - val_accuracy: 0.8125\n",
            "Epoch 4/50\n",
            "7874/7874 [==============================] - 18s 2ms/step - loss: 0.0266 - accuracy: 0.9908 - val_loss: 1.2324 - val_accuracy: 0.8334\n",
            "Epoch 5/50\n",
            "7874/7874 [==============================] - 17s 2ms/step - loss: 0.0220 - accuracy: 0.9925 - val_loss: 1.3069 - val_accuracy: 0.8212\n",
            "Epoch 6/50\n",
            "7874/7874 [==============================] - 17s 2ms/step - loss: 0.0204 - accuracy: 0.9928 - val_loss: 1.5910 - val_accuracy: 0.8206\n",
            "Epoch 7/50\n",
            "7874/7874 [==============================] - 18s 2ms/step - loss: 0.0187 - accuracy: 0.9933 - val_loss: 1.6450 - val_accuracy: 0.8360\n",
            "Epoch 8/50\n",
            "7874/7874 [==============================] - 18s 2ms/step - loss: 0.0174 - accuracy: 0.9939 - val_loss: 1.6875 - val_accuracy: 0.8286\n",
            "Epoch 9/50\n",
            "7874/7874 [==============================] - 18s 2ms/step - loss: 0.0171 - accuracy: 0.9937 - val_loss: 1.6090 - val_accuracy: 0.8319\n",
            "Epoch 10/50\n",
            "7874/7874 [==============================] - 18s 2ms/step - loss: 0.0177 - accuracy: 0.9942 - val_loss: 2.0610 - val_accuracy: 0.8273\n",
            "Epoch 11/50\n",
            "7874/7874 [==============================] - 17s 2ms/step - loss: 0.0153 - accuracy: 0.9943 - val_loss: 1.6977 - val_accuracy: 0.8381\n",
            "Epoch 12/50\n",
            "7874/7874 [==============================] - 18s 2ms/step - loss: 0.0155 - accuracy: 0.9942 - val_loss: 2.7136 - val_accuracy: 0.8139\n",
            "Epoch 13/50\n",
            "7874/7874 [==============================] - 17s 2ms/step - loss: 0.0159 - accuracy: 0.9944 - val_loss: 1.8109 - val_accuracy: 0.8265\n",
            "Epoch 14/50\n",
            "7874/7874 [==============================] - 18s 2ms/step - loss: 0.0155 - accuracy: 0.9945 - val_loss: 2.2712 - val_accuracy: 0.8289\n",
            "Epoch 15/50\n",
            "7874/7874 [==============================] - 17s 2ms/step - loss: 0.0162 - accuracy: 0.9948 - val_loss: 2.7803 - val_accuracy: 0.8282\n",
            "Epoch 16/50\n",
            "7874/7874 [==============================] - 17s 2ms/step - loss: 0.0189 - accuracy: 0.9948 - val_loss: 2.3473 - val_accuracy: 0.8408\n",
            "Epoch 17/50\n",
            "7874/7874 [==============================] - 17s 2ms/step - loss: 0.0141 - accuracy: 0.9949 - val_loss: 2.5964 - val_accuracy: 0.8360\n",
            "Epoch 18/50\n",
            "7874/7874 [==============================] - 16s 2ms/step - loss: 0.0161 - accuracy: 0.9949 - val_loss: 3.1533 - val_accuracy: 0.8308\n",
            "Epoch 19/50\n",
            "7874/7874 [==============================] - 18s 2ms/step - loss: 0.0139 - accuracy: 0.9950 - val_loss: 2.2696 - val_accuracy: 0.8384\n",
            "Epoch 20/50\n",
            "7874/7874 [==============================] - 17s 2ms/step - loss: 0.0202 - accuracy: 0.9950 - val_loss: 3.5036 - val_accuracy: 0.8308\n",
            "Epoch 21/50\n",
            "7874/7874 [==============================] - 18s 2ms/step - loss: 0.0136 - accuracy: 0.9950 - val_loss: 3.4536 - val_accuracy: 0.8281\n",
            "Epoch 22/50\n",
            "7874/7874 [==============================] - 18s 2ms/step - loss: 0.0131 - accuracy: 0.9952 - val_loss: 4.0011 - val_accuracy: 0.8292\n",
            "Epoch 23/50\n",
            "7874/7874 [==============================] - 17s 2ms/step - loss: 0.0131 - accuracy: 0.9951 - val_loss: 4.0645 - val_accuracy: 0.8322\n",
            "Epoch 24/50\n",
            "7874/7874 [==============================] - 18s 2ms/step - loss: 0.0346 - accuracy: 0.9952 - val_loss: 4.1788 - val_accuracy: 0.8337\n",
            "Epoch 25/50\n",
            "7874/7874 [==============================] - 18s 2ms/step - loss: 0.0125 - accuracy: 0.9953 - val_loss: 4.3425 - val_accuracy: 0.8305\n",
            "Epoch 26/50\n",
            "7874/7874 [==============================] - 18s 2ms/step - loss: 0.0126 - accuracy: 0.9954 - val_loss: 4.5540 - val_accuracy: 0.8380\n",
            "Epoch 27/50\n",
            "7874/7874 [==============================] - 18s 2ms/step - loss: 0.0130 - accuracy: 0.9952 - val_loss: 3.6613 - val_accuracy: 0.8362\n",
            "Epoch 28/50\n",
            "7874/7874 [==============================] - 18s 2ms/step - loss: 0.0118 - accuracy: 0.9956 - val_loss: 4.8069 - val_accuracy: 0.8405\n",
            "Epoch 29/50\n",
            "7874/7874 [==============================] - 18s 2ms/step - loss: 0.0121 - accuracy: 0.9955 - val_loss: 6.0840 - val_accuracy: 0.8336\n",
            "Epoch 30/50\n",
            "7874/7874 [==============================] - 17s 2ms/step - loss: 0.0261 - accuracy: 0.9956 - val_loss: 5.8116 - val_accuracy: 0.8299\n",
            "Epoch 31/50\n",
            "7874/7874 [==============================] - 17s 2ms/step - loss: 0.0130 - accuracy: 0.9957 - val_loss: 4.4053 - val_accuracy: 0.8393\n",
            "Epoch 32/50\n",
            "7874/7874 [==============================] - 19s 2ms/step - loss: 0.0119 - accuracy: 0.9955 - val_loss: 6.2265 - val_accuracy: 0.8331\n",
            "Epoch 33/50\n",
            "7874/7874 [==============================] - 17s 2ms/step - loss: 0.0118 - accuracy: 0.9956 - val_loss: 5.2472 - val_accuracy: 0.8334\n",
            "Epoch 34/50\n",
            "7874/7874 [==============================] - 17s 2ms/step - loss: 0.0118 - accuracy: 0.9958 - val_loss: 4.2493 - val_accuracy: 0.8430\n",
            "Epoch 35/50\n",
            "7874/7874 [==============================] - 18s 2ms/step - loss: 0.0123 - accuracy: 0.9956 - val_loss: 5.6654 - val_accuracy: 0.8436\n",
            "Epoch 36/50\n",
            "7874/7874 [==============================] - 17s 2ms/step - loss: 0.0114 - accuracy: 0.9958 - val_loss: 6.4073 - val_accuracy: 0.8331\n",
            "Epoch 37/50\n",
            "7874/7874 [==============================] - 19s 2ms/step - loss: 0.0522 - accuracy: 0.9958 - val_loss: 4.9348 - val_accuracy: 0.8410\n",
            "Epoch 38/50\n",
            "7874/7874 [==============================] - 17s 2ms/step - loss: 0.0108 - accuracy: 0.9959 - val_loss: 6.1432 - val_accuracy: 0.8365\n",
            "Epoch 39/50\n",
            "7874/7874 [==============================] - 17s 2ms/step - loss: 0.0122 - accuracy: 0.9958 - val_loss: 4.8137 - val_accuracy: 0.8423\n",
            "Epoch 40/50\n",
            "7874/7874 [==============================] - 18s 2ms/step - loss: 0.0111 - accuracy: 0.9958 - val_loss: 8.5769 - val_accuracy: 0.8340\n",
            "Epoch 41/50\n",
            "7874/7874 [==============================] - 18s 2ms/step - loss: 0.0113 - accuracy: 0.9961 - val_loss: 6.2181 - val_accuracy: 0.8361\n",
            "Epoch 42/50\n",
            "7874/7874 [==============================] - 17s 2ms/step - loss: 0.0113 - accuracy: 0.9958 - val_loss: 6.5823 - val_accuracy: 0.8385\n",
            "Epoch 43/50\n",
            "7874/7874 [==============================] - 18s 2ms/step - loss: 0.0115 - accuracy: 0.9959 - val_loss: 4.9996 - val_accuracy: 0.8431\n",
            "Epoch 44/50\n",
            "7874/7874 [==============================] - 18s 2ms/step - loss: 0.0139 - accuracy: 0.9960 - val_loss: 5.4166 - val_accuracy: 0.8347\n",
            "Epoch 45/50\n",
            "7874/7874 [==============================] - 17s 2ms/step - loss: 0.0110 - accuracy: 0.9960 - val_loss: 7.0921 - val_accuracy: 0.8367\n",
            "Epoch 46/50\n",
            "7874/7874 [==============================] - 18s 2ms/step - loss: 0.0111 - accuracy: 0.9959 - val_loss: 5.5246 - val_accuracy: 0.8436\n",
            "Epoch 47/50\n",
            "7874/7874 [==============================] - 18s 2ms/step - loss: 0.0108 - accuracy: 0.9961 - val_loss: 6.8075 - val_accuracy: 0.8384\n",
            "Epoch 48/50\n",
            "7874/7874 [==============================] - 17s 2ms/step - loss: 0.0769 - accuracy: 0.9959 - val_loss: 8.1822 - val_accuracy: 0.8352\n",
            "Epoch 49/50\n",
            "7874/7874 [==============================] - 18s 2ms/step - loss: 0.0192 - accuracy: 0.9959 - val_loss: 7.8164 - val_accuracy: 0.8358\n",
            "Epoch 50/50\n",
            "7874/7874 [==============================] - 18s 2ms/step - loss: 0.0105 - accuracy: 0.9961 - val_loss: 6.6162 - val_accuracy: 0.8440\n"
          ]
        },
        {
          "output_type": "execute_result",
          "data": {
            "text/plain": [
              "<keras.callbacks.History at 0x7f9f98668cd0>"
            ]
          },
          "metadata": {},
          "execution_count": 184
        }
      ]
    },
    {
      "cell_type": "code",
      "source": [
        "\n",
        "y_pred_MLP_NSL = MLP_NSL.predict(X_test)\n",
        "y_pred_MLP_NSL =np.round(y_pred_MLP_NSL)"
      ],
      "metadata": {
        "id": "XNM2H3y9R2BV"
      },
      "execution_count": null,
      "outputs": []
    },
    {
      "cell_type": "code",
      "source": [
        "f1score_MLP_NSL=f1_score(y_test, y_pred_MLP_NSL , average=\"macro\")\n",
        "W_f1score_MLP_NSL=f1_score(y_test ,y_pred_MLP_NSL , average=\"weighted\")"
      ],
      "metadata": {
        "id": "qOCJNy_ruRR7"
      },
      "execution_count": null,
      "outputs": []
    },
    {
      "cell_type": "code",
      "source": [
        "print(f1score_MLP_NSL ,W_f1score_MLP_NSL)\n"
      ],
      "metadata": {
        "id": "W5nxst_zuRR8",
        "colab": {
          "base_uri": "https://localhost:8080/"
        },
        "outputId": "c3a61e09-8389-4231-c170-601f70b85b47"
      },
      "execution_count": null,
      "outputs": [
        {
          "output_type": "stream",
          "name": "stdout",
          "text": [
            "0.8360656583801368 0.8430613254875565\n"
          ]
        }
      ]
    },
    {
      "cell_type": "markdown",
      "metadata": {
        "id": "8T_I4Ci8uRSB"
      },
      "source": [
        "#####result"
      ]
    },
    {
      "cell_type": "code",
      "metadata": {
        "colab": {
          "base_uri": "https://localhost:8080/",
          "height": 206
        },
        "outputId": "5a986804-fdd9-4115-b05d-f684b1b0c1da",
        "id": "ndSpk6W3uRSC"
      },
      "source": [
        "dic4={\"F1 score\":[(\"{:.6f}\".format(f1score_RF_NSL)),(\"{:.6f}\".format(f1score_DT_NSL)),(\"{:.6f}\".format(f1score_NB_NSL))\n",
        "       ,(\"{:.6f}\".format(f1score_SVM_NSL)),(\"{:.6f}\".format(f1score_MLP_NSL))],\n",
        "      \n",
        "     \"Weighted F1 score\":[(\"{:.6f}\".format(W_f1score_RF_NSL)),(\"{:.6f}\".format(W_f1score_DT_NSL)),(\"{:.6f}\".format(W_f1score_NB_NSL))\n",
        "       ,(\"{:.6f}\".format(W_f1score_SVM_NSL)),(\"{:.6f}\".format(W_f1score_MLP_NSL))]}\n",
        "\n",
        "       \n",
        "main_data3 = pd.DataFrame.from_dict( dic4 , orient='index')\n",
        "main_data3.columns=['Random Forest', 'Decision Tree','Navie Bays','SVM','MLP']\n",
        "main_data3 = main_data3.T\n",
        "main_data3"
      ],
      "execution_count": null,
      "outputs": [
        {
          "output_type": "execute_result",
          "data": {
            "text/html": [
              "\n",
              "  <div id=\"df-6d4c0294-da75-42d6-88cb-9d00459f4774\">\n",
              "    <div class=\"colab-df-container\">\n",
              "      <div>\n",
              "<style scoped>\n",
              "    .dataframe tbody tr th:only-of-type {\n",
              "        vertical-align: middle;\n",
              "    }\n",
              "\n",
              "    .dataframe tbody tr th {\n",
              "        vertical-align: top;\n",
              "    }\n",
              "\n",
              "    .dataframe thead th {\n",
              "        text-align: right;\n",
              "    }\n",
              "</style>\n",
              "<table border=\"1\" class=\"dataframe\">\n",
              "  <thead>\n",
              "    <tr style=\"text-align: right;\">\n",
              "      <th></th>\n",
              "      <th>F1 score</th>\n",
              "      <th>Weighted F1 score</th>\n",
              "    </tr>\n",
              "  </thead>\n",
              "  <tbody>\n",
              "    <tr>\n",
              "      <th>Random Forest</th>\n",
              "      <td>0.842612</td>\n",
              "      <td>0.850028</td>\n",
              "    </tr>\n",
              "    <tr>\n",
              "      <th>Decision Tree</th>\n",
              "      <td>0.833759</td>\n",
              "      <td>0.841244</td>\n",
              "    </tr>\n",
              "    <tr>\n",
              "      <th>Navie Bays</th>\n",
              "      <td>0.753626</td>\n",
              "      <td>0.764999</td>\n",
              "    </tr>\n",
              "    <tr>\n",
              "      <th>SVM</th>\n",
              "      <td>0.810960</td>\n",
              "      <td>0.820394</td>\n",
              "    </tr>\n",
              "    <tr>\n",
              "      <th>MLP</th>\n",
              "      <td>0.836066</td>\n",
              "      <td>0.843061</td>\n",
              "    </tr>\n",
              "  </tbody>\n",
              "</table>\n",
              "</div>\n",
              "      <button class=\"colab-df-convert\" onclick=\"convertToInteractive('df-6d4c0294-da75-42d6-88cb-9d00459f4774')\"\n",
              "              title=\"Convert this dataframe to an interactive table.\"\n",
              "              style=\"display:none;\">\n",
              "        \n",
              "  <svg xmlns=\"http://www.w3.org/2000/svg\" height=\"24px\"viewBox=\"0 0 24 24\"\n",
              "       width=\"24px\">\n",
              "    <path d=\"M0 0h24v24H0V0z\" fill=\"none\"/>\n",
              "    <path d=\"M18.56 5.44l.94 2.06.94-2.06 2.06-.94-2.06-.94-.94-2.06-.94 2.06-2.06.94zm-11 1L8.5 8.5l.94-2.06 2.06-.94-2.06-.94L8.5 2.5l-.94 2.06-2.06.94zm10 10l.94 2.06.94-2.06 2.06-.94-2.06-.94-.94-2.06-.94 2.06-2.06.94z\"/><path d=\"M17.41 7.96l-1.37-1.37c-.4-.4-.92-.59-1.43-.59-.52 0-1.04.2-1.43.59L10.3 9.45l-7.72 7.72c-.78.78-.78 2.05 0 2.83L4 21.41c.39.39.9.59 1.41.59.51 0 1.02-.2 1.41-.59l7.78-7.78 2.81-2.81c.8-.78.8-2.07 0-2.86zM5.41 20L4 18.59l7.72-7.72 1.47 1.35L5.41 20z\"/>\n",
              "  </svg>\n",
              "      </button>\n",
              "      \n",
              "  <style>\n",
              "    .colab-df-container {\n",
              "      display:flex;\n",
              "      flex-wrap:wrap;\n",
              "      gap: 12px;\n",
              "    }\n",
              "\n",
              "    .colab-df-convert {\n",
              "      background-color: #E8F0FE;\n",
              "      border: none;\n",
              "      border-radius: 50%;\n",
              "      cursor: pointer;\n",
              "      display: none;\n",
              "      fill: #1967D2;\n",
              "      height: 32px;\n",
              "      padding: 0 0 0 0;\n",
              "      width: 32px;\n",
              "    }\n",
              "\n",
              "    .colab-df-convert:hover {\n",
              "      background-color: #E2EBFA;\n",
              "      box-shadow: 0px 1px 2px rgba(60, 64, 67, 0.3), 0px 1px 3px 1px rgba(60, 64, 67, 0.15);\n",
              "      fill: #174EA6;\n",
              "    }\n",
              "\n",
              "    [theme=dark] .colab-df-convert {\n",
              "      background-color: #3B4455;\n",
              "      fill: #D2E3FC;\n",
              "    }\n",
              "\n",
              "    [theme=dark] .colab-df-convert:hover {\n",
              "      background-color: #434B5C;\n",
              "      box-shadow: 0px 1px 3px 1px rgba(0, 0, 0, 0.15);\n",
              "      filter: drop-shadow(0px 1px 2px rgba(0, 0, 0, 0.3));\n",
              "      fill: #FFFFFF;\n",
              "    }\n",
              "  </style>\n",
              "\n",
              "      <script>\n",
              "        const buttonEl =\n",
              "          document.querySelector('#df-6d4c0294-da75-42d6-88cb-9d00459f4774 button.colab-df-convert');\n",
              "        buttonEl.style.display =\n",
              "          google.colab.kernel.accessAllowed ? 'block' : 'none';\n",
              "\n",
              "        async function convertToInteractive(key) {\n",
              "          const element = document.querySelector('#df-6d4c0294-da75-42d6-88cb-9d00459f4774');\n",
              "          const dataTable =\n",
              "            await google.colab.kernel.invokeFunction('convertToInteractive',\n",
              "                                                     [key], {});\n",
              "          if (!dataTable) return;\n",
              "\n",
              "          const docLinkHtml = 'Like what you see? Visit the ' +\n",
              "            '<a target=\"_blank\" href=https://colab.research.google.com/notebooks/data_table.ipynb>data table notebook</a>'\n",
              "            + ' to learn more about interactive tables.';\n",
              "          element.innerHTML = '';\n",
              "          dataTable['output_type'] = 'display_data';\n",
              "          await google.colab.output.renderOutput(dataTable, element);\n",
              "          const docLink = document.createElement('div');\n",
              "          docLink.innerHTML = docLinkHtml;\n",
              "          element.appendChild(docLink);\n",
              "        }\n",
              "      </script>\n",
              "    </div>\n",
              "  </div>\n",
              "  "
            ],
            "text/plain": [
              "               F1 score Weighted F1 score\n",
              "Random Forest  0.842612          0.850028\n",
              "Decision Tree  0.833759          0.841244\n",
              "Navie Bays     0.753626          0.764999\n",
              "SVM            0.810960          0.820394\n",
              "MLP            0.836066          0.843061"
            ]
          },
          "metadata": {},
          "execution_count": 194
        }
      ]
    },
    {
      "cell_type": "code",
      "metadata": {
        "colab": {
          "base_uri": "https://localhost:8080/",
          "height": 206
        },
        "outputId": "ba1603c5-0101-4fca-9e4a-c0b063a5bb9d",
        "id": "FuPrvNfluRSC"
      },
      "source": [
        "dic2={\n",
        "      \"Fandom Forest\"      :(\"{:.6f}\".format(W_f1score_RF_NSL)),\n",
        "      \"Decision Tree\"   :(\"{:.6f}\".format(W_f1score_DT_NSL)),\n",
        "      \"Navie Bays\" :(\"{:.6f}\".format(W_f1score_NB_NSL)),\n",
        "      \"SVM\" :(\"{:.6f}\".format(W_f1score_SVM_NSL)),\n",
        "      \"MLP\" :(\"{:.6f}\".format(W_f1score_MLP_NSL)),\n",
        "      \n",
        "      }\n",
        "\n",
        "evaluation_train_loss_ANOVA = pd.DataFrame.from_dict(dic2, orient='index', columns=[\"Weighted F1_Score\"] )\n",
        "evaluation_train_loss_ANOVA"
      ],
      "execution_count": null,
      "outputs": [
        {
          "output_type": "execute_result",
          "data": {
            "text/html": [
              "\n",
              "  <div id=\"df-20ef0ab7-36f3-45b8-b3f7-3e98a74daa60\">\n",
              "    <div class=\"colab-df-container\">\n",
              "      <div>\n",
              "<style scoped>\n",
              "    .dataframe tbody tr th:only-of-type {\n",
              "        vertical-align: middle;\n",
              "    }\n",
              "\n",
              "    .dataframe tbody tr th {\n",
              "        vertical-align: top;\n",
              "    }\n",
              "\n",
              "    .dataframe thead th {\n",
              "        text-align: right;\n",
              "    }\n",
              "</style>\n",
              "<table border=\"1\" class=\"dataframe\">\n",
              "  <thead>\n",
              "    <tr style=\"text-align: right;\">\n",
              "      <th></th>\n",
              "      <th>Weighted F1_Score</th>\n",
              "    </tr>\n",
              "  </thead>\n",
              "  <tbody>\n",
              "    <tr>\n",
              "      <th>Fandom Forest</th>\n",
              "      <td>0.850028</td>\n",
              "    </tr>\n",
              "    <tr>\n",
              "      <th>Decision Tree</th>\n",
              "      <td>0.841244</td>\n",
              "    </tr>\n",
              "    <tr>\n",
              "      <th>Navie Bays</th>\n",
              "      <td>0.764999</td>\n",
              "    </tr>\n",
              "    <tr>\n",
              "      <th>SVM</th>\n",
              "      <td>0.820394</td>\n",
              "    </tr>\n",
              "    <tr>\n",
              "      <th>MLP</th>\n",
              "      <td>0.465274</td>\n",
              "    </tr>\n",
              "  </tbody>\n",
              "</table>\n",
              "</div>\n",
              "      <button class=\"colab-df-convert\" onclick=\"convertToInteractive('df-20ef0ab7-36f3-45b8-b3f7-3e98a74daa60')\"\n",
              "              title=\"Convert this dataframe to an interactive table.\"\n",
              "              style=\"display:none;\">\n",
              "        \n",
              "  <svg xmlns=\"http://www.w3.org/2000/svg\" height=\"24px\"viewBox=\"0 0 24 24\"\n",
              "       width=\"24px\">\n",
              "    <path d=\"M0 0h24v24H0V0z\" fill=\"none\"/>\n",
              "    <path d=\"M18.56 5.44l.94 2.06.94-2.06 2.06-.94-2.06-.94-.94-2.06-.94 2.06-2.06.94zm-11 1L8.5 8.5l.94-2.06 2.06-.94-2.06-.94L8.5 2.5l-.94 2.06-2.06.94zm10 10l.94 2.06.94-2.06 2.06-.94-2.06-.94-.94-2.06-.94 2.06-2.06.94z\"/><path d=\"M17.41 7.96l-1.37-1.37c-.4-.4-.92-.59-1.43-.59-.52 0-1.04.2-1.43.59L10.3 9.45l-7.72 7.72c-.78.78-.78 2.05 0 2.83L4 21.41c.39.39.9.59 1.41.59.51 0 1.02-.2 1.41-.59l7.78-7.78 2.81-2.81c.8-.78.8-2.07 0-2.86zM5.41 20L4 18.59l7.72-7.72 1.47 1.35L5.41 20z\"/>\n",
              "  </svg>\n",
              "      </button>\n",
              "      \n",
              "  <style>\n",
              "    .colab-df-container {\n",
              "      display:flex;\n",
              "      flex-wrap:wrap;\n",
              "      gap: 12px;\n",
              "    }\n",
              "\n",
              "    .colab-df-convert {\n",
              "      background-color: #E8F0FE;\n",
              "      border: none;\n",
              "      border-radius: 50%;\n",
              "      cursor: pointer;\n",
              "      display: none;\n",
              "      fill: #1967D2;\n",
              "      height: 32px;\n",
              "      padding: 0 0 0 0;\n",
              "      width: 32px;\n",
              "    }\n",
              "\n",
              "    .colab-df-convert:hover {\n",
              "      background-color: #E2EBFA;\n",
              "      box-shadow: 0px 1px 2px rgba(60, 64, 67, 0.3), 0px 1px 3px 1px rgba(60, 64, 67, 0.15);\n",
              "      fill: #174EA6;\n",
              "    }\n",
              "\n",
              "    [theme=dark] .colab-df-convert {\n",
              "      background-color: #3B4455;\n",
              "      fill: #D2E3FC;\n",
              "    }\n",
              "\n",
              "    [theme=dark] .colab-df-convert:hover {\n",
              "      background-color: #434B5C;\n",
              "      box-shadow: 0px 1px 3px 1px rgba(0, 0, 0, 0.15);\n",
              "      filter: drop-shadow(0px 1px 2px rgba(0, 0, 0, 0.3));\n",
              "      fill: #FFFFFF;\n",
              "    }\n",
              "  </style>\n",
              "\n",
              "      <script>\n",
              "        const buttonEl =\n",
              "          document.querySelector('#df-20ef0ab7-36f3-45b8-b3f7-3e98a74daa60 button.colab-df-convert');\n",
              "        buttonEl.style.display =\n",
              "          google.colab.kernel.accessAllowed ? 'block' : 'none';\n",
              "\n",
              "        async function convertToInteractive(key) {\n",
              "          const element = document.querySelector('#df-20ef0ab7-36f3-45b8-b3f7-3e98a74daa60');\n",
              "          const dataTable =\n",
              "            await google.colab.kernel.invokeFunction('convertToInteractive',\n",
              "                                                     [key], {});\n",
              "          if (!dataTable) return;\n",
              "\n",
              "          const docLinkHtml = 'Like what you see? Visit the ' +\n",
              "            '<a target=\"_blank\" href=https://colab.research.google.com/notebooks/data_table.ipynb>data table notebook</a>'\n",
              "            + ' to learn more about interactive tables.';\n",
              "          element.innerHTML = '';\n",
              "          dataTable['output_type'] = 'display_data';\n",
              "          await google.colab.output.renderOutput(dataTable, element);\n",
              "          const docLink = document.createElement('div');\n",
              "          docLink.innerHTML = docLinkHtml;\n",
              "          element.appendChild(docLink);\n",
              "        }\n",
              "      </script>\n",
              "    </div>\n",
              "  </div>\n",
              "  "
            ],
            "text/plain": [
              "              Weighted F1_Score\n",
              "Fandom Forest          0.850028\n",
              "Decision Tree          0.841244\n",
              "Navie Bays             0.764999\n",
              "SVM                    0.820394\n",
              "MLP                    0.465274"
            ]
          },
          "metadata": {},
          "execution_count": 106
        }
      ]
    },
    {
      "cell_type": "code",
      "metadata": {
        "colab": {
          "base_uri": "https://localhost:8080/",
          "height": 408
        },
        "outputId": "38427c62-4a87-4903-9a99-d4ced923a8fc",
        "id": "XpOo9eGmuRSD"
      },
      "source": [
        "from matplotlib.pyplot import plot\n",
        "f, ax = plt.subplots(figsize=(25,5)) # set the size that you'd like (width, height)\n",
        "main_data3[\"Weighted F1 score\"] = main_data3['Weighted F1 score'].astype(float)\n",
        "main_data3[\"Weighted F1 score\"] .plot(kind=\"bar\", grid=True , width=0.4,)\n",
        "plt.title('Weighted F1 score')"
      ],
      "execution_count": null,
      "outputs": [
        {
          "output_type": "execute_result",
          "data": {
            "text/plain": [
              "Text(0.5, 1.0, 'Weighted F1 score')"
            ]
          },
          "metadata": {},
          "execution_count": 195
        },
        {
          "output_type": "display_data",
          "data": {
            "image/png": "[encoded data removed]",
            "text/plain": [
              "<Figure size 1800x360 with 1 Axes>"
            ]
          },
          "metadata": {
            "needs_background": "light"
          }
        }
      ]
    },
    {
      "cell_type": "markdown",
      "source": [
        "##NB15"
      ],
      "metadata": {
        "id": "eY2Tvxru8xfM"
      }
    },
    {
      "cell_type": "code",
      "source": [
        "dataset2_test=pd.read_csv('/content/drive/MyDrive/پزوژه ها/UNSW_NB15_testing-set (1).csv')\n",
        "dataset2_train=pd.read_csv('/content/drive/MyDrive/پزوژه ها/UNSW_NB15_training-set.csv')"
      ],
      "metadata": {
        "id": "fBos1uVw9FLl"
      },
      "execution_count": null,
      "outputs": []
    },
    {
      "cell_type": "code",
      "source": [
        "print(dataset2_train.shape, dataset2_test.shape)"
      ],
      "metadata": {
        "colab": {
          "base_uri": "https://localhost:8080/"
        },
        "id": "KxxMuA4I9FRC",
        "outputId": "c0314146-373b-40b9-c273-d2f3ec466a3a"
      },
      "execution_count": null,
      "outputs": [
        {
          "output_type": "stream",
          "name": "stdout",
          "text": [
            "(82332, 45) (175341, 45)\n"
          ]
        }
      ]
    },
    {
      "cell_type": "code",
      "source": [
        "dataset2_train.info()"
      ],
      "metadata": {
        "colab": {
          "base_uri": "https://localhost:8080/"
        },
        "id": "Qz_UObbf9FWC",
        "outputId": "81827bab-3e64-4147-a397-4e6158a24ee1"
      },
      "execution_count": null,
      "outputs": [
        {
          "output_type": "stream",
          "name": "stdout",
          "text": [
            "<class 'pandas.core.frame.DataFrame'>\n",
            "RangeIndex: 82332 entries, 0 to 82331\n",
            "Data columns (total 45 columns):\n",
            " #   Column             Non-Null Count  Dtype  \n",
            "---  ------             --------------  -----  \n",
            " 0   id                 82332 non-null  int64  \n",
            " 1   dur                82332 non-null  float64\n",
            " 2   proto              82332 non-null  object \n",
            " 3   service            82332 non-null  object \n",
            " 4   state              82332 non-null  object \n",
            " 5   spkts              82332 non-null  int64  \n",
            " 6   dpkts              82332 non-null  int64  \n",
            " 7   sbytes             82332 non-null  int64  \n",
            " 8   dbytes             82332 non-null  int64  \n",
            " 9   rate               82332 non-null  float64\n",
            " 10  sttl               82332 non-null  int64  \n",
            " 11  dttl               82332 non-null  int64  \n",
            " 12  sload              82332 non-null  float64\n",
            " 13  dload              82332 non-null  float64\n",
            " 14  sloss              82332 non-null  int64  \n",
            " 15  dloss              82332 non-null  int64  \n",
            " 16  sinpkt             82332 non-null  float64\n",
            " 17  dinpkt             82332 non-null  float64\n",
            " 18  sjit               82332 non-null  float64\n",
            " 19  djit               82332 non-null  float64\n",
            " 20  swin               82332 non-null  int64  \n",
            " 21  stcpb              82332 non-null  int64  \n",
            " 22  dtcpb              82332 non-null  int64  \n",
            " 23  dwin               82332 non-null  int64  \n",
            " 24  tcprtt             82332 non-null  float64\n",
            " 25  synack             82332 non-null  float64\n",
            " 26  ackdat             82332 non-null  float64\n",
            " 27  smean              82332 non-null  int64  \n",
            " 28  dmean              82332 non-null  int64  \n",
            " 29  trans_depth        82332 non-null  int64  \n",
            " 30  response_body_len  82332 non-null  int64  \n",
            " 31  ct_srv_src         82332 non-null  int64  \n",
            " 32  ct_state_ttl       82332 non-null  int64  \n",
            " 33  ct_dst_ltm         82332 non-null  int64  \n",
            " 34  ct_src_dport_ltm   82332 non-null  int64  \n",
            " 35  ct_dst_sport_ltm   82332 non-null  int64  \n",
            " 36  ct_dst_src_ltm     82332 non-null  int64  \n",
            " 37  is_ftp_login       82332 non-null  int64  \n",
            " 38  ct_ftp_cmd         82332 non-null  int64  \n",
            " 39  ct_flw_http_mthd   82332 non-null  int64  \n",
            " 40  ct_src_ltm         82332 non-null  int64  \n",
            " 41  ct_srv_dst         82332 non-null  int64  \n",
            " 42  is_sm_ips_ports    82332 non-null  int64  \n",
            " 43  attack_cat         82332 non-null  object \n",
            " 44  label              82332 non-null  int64  \n",
            "dtypes: float64(11), int64(30), object(4)\n",
            "memory usage: 28.3+ MB\n"
          ]
        }
      ]
    },
    {
      "cell_type": "code",
      "source": [
        "dataset2_train"
      ],
      "metadata": {
        "colab": {
          "base_uri": "https://localhost:8080/",
          "height": 488
        },
        "id": "kcjG8sRj3O9t",
        "outputId": "2c11ea4b-cd61-4d74-c34e-7d1333485f2d"
      },
      "execution_count": null,
      "outputs": [
        {
          "output_type": "execute_result",
          "data": {
            "text/html": [
              "\n",
              "  <div id=\"df-26af16af-e073-4a86-832f-b58124541ddb\">\n",
              "    <div class=\"colab-df-container\">\n",
              "      <div>\n",
              "<style scoped>\n",
              "    .dataframe tbody tr th:only-of-type {\n",
              "        vertical-align: middle;\n",
              "    }\n",
              "\n",
              "    .dataframe tbody tr th {\n",
              "        vertical-align: top;\n",
              "    }\n",
              "\n",
              "    .dataframe thead th {\n",
              "        text-align: right;\n",
              "    }\n",
              "</style>\n",
              "<table border=\"1\" class=\"dataframe\">\n",
              "  <thead>\n",
              "    <tr style=\"text-align: right;\">\n",
              "      <th></th>\n",
              "      <th>id</th>\n",
              "      <th>dur</th>\n",
              "      <th>proto</th>\n",
              "      <th>service</th>\n",
              "      <th>state</th>\n",
              "      <th>spkts</th>\n",
              "      <th>dpkts</th>\n",
              "      <th>sbytes</th>\n",
              "      <th>dbytes</th>\n",
              "      <th>rate</th>\n",
              "      <th>sttl</th>\n",
              "      <th>dttl</th>\n",
              "      <th>sload</th>\n",
              "      <th>dload</th>\n",
              "      <th>sloss</th>\n",
              "      <th>dloss</th>\n",
              "      <th>sinpkt</th>\n",
              "      <th>dinpkt</th>\n",
              "      <th>sjit</th>\n",
              "      <th>djit</th>\n",
              "      <th>swin</th>\n",
              "      <th>stcpb</th>\n",
              "      <th>dtcpb</th>\n",
              "      <th>dwin</th>\n",
              "      <th>tcprtt</th>\n",
              "      <th>synack</th>\n",
              "      <th>ackdat</th>\n",
              "      <th>smean</th>\n",
              "      <th>dmean</th>\n",
              "      <th>trans_depth</th>\n",
              "      <th>response_body_len</th>\n",
              "      <th>ct_srv_src</th>\n",
              "      <th>ct_state_ttl</th>\n",
              "      <th>ct_dst_ltm</th>\n",
              "      <th>ct_src_dport_ltm</th>\n",
              "      <th>ct_dst_sport_ltm</th>\n",
              "      <th>ct_dst_src_ltm</th>\n",
              "      <th>is_ftp_login</th>\n",
              "      <th>ct_ftp_cmd</th>\n",
              "      <th>ct_flw_http_mthd</th>\n",
              "      <th>ct_src_ltm</th>\n",
              "      <th>ct_srv_dst</th>\n",
              "      <th>is_sm_ips_ports</th>\n",
              "      <th>attack_cat</th>\n",
              "      <th>label</th>\n",
              "    </tr>\n",
              "  </thead>\n",
              "  <tbody>\n",
              "    <tr>\n",
              "      <th>0</th>\n",
              "      <td>1</td>\n",
              "      <td>0.000011</td>\n",
              "      <td>udp</td>\n",
              "      <td>-</td>\n",
              "      <td>INT</td>\n",
              "      <td>2</td>\n",
              "      <td>0</td>\n",
              "      <td>496</td>\n",
              "      <td>0</td>\n",
              "      <td>90909.090200</td>\n",
              "      <td>254</td>\n",
              "      <td>0</td>\n",
              "      <td>1.803636e+08</td>\n",
              "      <td>0.000000</td>\n",
              "      <td>0</td>\n",
              "      <td>0</td>\n",
              "      <td>0.011000</td>\n",
              "      <td>0.0</td>\n",
              "      <td>0.000000</td>\n",
              "      <td>0.000000</td>\n",
              "      <td>0</td>\n",
              "      <td>0</td>\n",
              "      <td>0</td>\n",
              "      <td>0</td>\n",
              "      <td>0.000000</td>\n",
              "      <td>0.000000</td>\n",
              "      <td>0.000000</td>\n",
              "      <td>248</td>\n",
              "      <td>0</td>\n",
              "      <td>0</td>\n",
              "      <td>0</td>\n",
              "      <td>2</td>\n",
              "      <td>2</td>\n",
              "      <td>1</td>\n",
              "      <td>1</td>\n",
              "      <td>1</td>\n",
              "      <td>2</td>\n",
              "      <td>0</td>\n",
              "      <td>0</td>\n",
              "      <td>0</td>\n",
              "      <td>1</td>\n",
              "      <td>2</td>\n",
              "      <td>0</td>\n",
              "      <td>Normal</td>\n",
              "      <td>0</td>\n",
              "    </tr>\n",
              "    <tr>\n",
              "      <th>1</th>\n",
              "      <td>2</td>\n",
              "      <td>0.000008</td>\n",
              "      <td>udp</td>\n",
              "      <td>-</td>\n",
              "      <td>INT</td>\n",
              "      <td>2</td>\n",
              "      <td>0</td>\n",
              "      <td>1762</td>\n",
              "      <td>0</td>\n",
              "      <td>125000.000300</td>\n",
              "      <td>254</td>\n",
              "      <td>0</td>\n",
              "      <td>8.810000e+08</td>\n",
              "      <td>0.000000</td>\n",
              "      <td>0</td>\n",
              "      <td>0</td>\n",
              "      <td>0.008000</td>\n",
              "      <td>0.0</td>\n",
              "      <td>0.000000</td>\n",
              "      <td>0.000000</td>\n",
              "      <td>0</td>\n",
              "      <td>0</td>\n",
              "      <td>0</td>\n",
              "      <td>0</td>\n",
              "      <td>0.000000</td>\n",
              "      <td>0.000000</td>\n",
              "      <td>0.000000</td>\n",
              "      <td>881</td>\n",
              "      <td>0</td>\n",
              "      <td>0</td>\n",
              "      <td>0</td>\n",
              "      <td>2</td>\n",
              "      <td>2</td>\n",
              "      <td>1</td>\n",
              "      <td>1</td>\n",
              "      <td>1</td>\n",
              "      <td>2</td>\n",
              "      <td>0</td>\n",
              "      <td>0</td>\n",
              "      <td>0</td>\n",
              "      <td>1</td>\n",
              "      <td>2</td>\n",
              "      <td>0</td>\n",
              "      <td>Normal</td>\n",
              "      <td>0</td>\n",
              "    </tr>\n",
              "    <tr>\n",
              "      <th>2</th>\n",
              "      <td>3</td>\n",
              "      <td>0.000005</td>\n",
              "      <td>udp</td>\n",
              "      <td>-</td>\n",
              "      <td>INT</td>\n",
              "      <td>2</td>\n",
              "      <td>0</td>\n",
              "      <td>1068</td>\n",
              "      <td>0</td>\n",
              "      <td>200000.005100</td>\n",
              "      <td>254</td>\n",
              "      <td>0</td>\n",
              "      <td>8.544000e+08</td>\n",
              "      <td>0.000000</td>\n",
              "      <td>0</td>\n",
              "      <td>0</td>\n",
              "      <td>0.005000</td>\n",
              "      <td>0.0</td>\n",
              "      <td>0.000000</td>\n",
              "      <td>0.000000</td>\n",
              "      <td>0</td>\n",
              "      <td>0</td>\n",
              "      <td>0</td>\n",
              "      <td>0</td>\n",
              "      <td>0.000000</td>\n",
              "      <td>0.000000</td>\n",
              "      <td>0.000000</td>\n",
              "      <td>534</td>\n",
              "      <td>0</td>\n",
              "      <td>0</td>\n",
              "      <td>0</td>\n",
              "      <td>3</td>\n",
              "      <td>2</td>\n",
              "      <td>1</td>\n",
              "      <td>1</td>\n",
              "      <td>1</td>\n",
              "      <td>3</td>\n",
              "      <td>0</td>\n",
              "      <td>0</td>\n",
              "      <td>0</td>\n",
              "      <td>1</td>\n",
              "      <td>3</td>\n",
              "      <td>0</td>\n",
              "      <td>Normal</td>\n",
              "      <td>0</td>\n",
              "    </tr>\n",
              "    <tr>\n",
              "      <th>3</th>\n",
              "      <td>4</td>\n",
              "      <td>0.000006</td>\n",
              "      <td>udp</td>\n",
              "      <td>-</td>\n",
              "      <td>INT</td>\n",
              "      <td>2</td>\n",
              "      <td>0</td>\n",
              "      <td>900</td>\n",
              "      <td>0</td>\n",
              "      <td>166666.660800</td>\n",
              "      <td>254</td>\n",
              "      <td>0</td>\n",
              "      <td>6.000000e+08</td>\n",
              "      <td>0.000000</td>\n",
              "      <td>0</td>\n",
              "      <td>0</td>\n",
              "      <td>0.006000</td>\n",
              "      <td>0.0</td>\n",
              "      <td>0.000000</td>\n",
              "      <td>0.000000</td>\n",
              "      <td>0</td>\n",
              "      <td>0</td>\n",
              "      <td>0</td>\n",
              "      <td>0</td>\n",
              "      <td>0.000000</td>\n",
              "      <td>0.000000</td>\n",
              "      <td>0.000000</td>\n",
              "      <td>450</td>\n",
              "      <td>0</td>\n",
              "      <td>0</td>\n",
              "      <td>0</td>\n",
              "      <td>3</td>\n",
              "      <td>2</td>\n",
              "      <td>2</td>\n",
              "      <td>2</td>\n",
              "      <td>1</td>\n",
              "      <td>3</td>\n",
              "      <td>0</td>\n",
              "      <td>0</td>\n",
              "      <td>0</td>\n",
              "      <td>2</td>\n",
              "      <td>3</td>\n",
              "      <td>0</td>\n",
              "      <td>Normal</td>\n",
              "      <td>0</td>\n",
              "    </tr>\n",
              "    <tr>\n",
              "      <th>4</th>\n",
              "      <td>5</td>\n",
              "      <td>0.000010</td>\n",
              "      <td>udp</td>\n",
              "      <td>-</td>\n",
              "      <td>INT</td>\n",
              "      <td>2</td>\n",
              "      <td>0</td>\n",
              "      <td>2126</td>\n",
              "      <td>0</td>\n",
              "      <td>100000.002500</td>\n",
              "      <td>254</td>\n",
              "      <td>0</td>\n",
              "      <td>8.504000e+08</td>\n",
              "      <td>0.000000</td>\n",
              "      <td>0</td>\n",
              "      <td>0</td>\n",
              "      <td>0.010000</td>\n",
              "      <td>0.0</td>\n",
              "      <td>0.000000</td>\n",
              "      <td>0.000000</td>\n",
              "      <td>0</td>\n",
              "      <td>0</td>\n",
              "      <td>0</td>\n",
              "      <td>0</td>\n",
              "      <td>0.000000</td>\n",
              "      <td>0.000000</td>\n",
              "      <td>0.000000</td>\n",
              "      <td>1063</td>\n",
              "      <td>0</td>\n",
              "      <td>0</td>\n",
              "      <td>0</td>\n",
              "      <td>3</td>\n",
              "      <td>2</td>\n",
              "      <td>2</td>\n",
              "      <td>2</td>\n",
              "      <td>1</td>\n",
              "      <td>3</td>\n",
              "      <td>0</td>\n",
              "      <td>0</td>\n",
              "      <td>0</td>\n",
              "      <td>2</td>\n",
              "      <td>3</td>\n",
              "      <td>0</td>\n",
              "      <td>Normal</td>\n",
              "      <td>0</td>\n",
              "    </tr>\n",
              "    <tr>\n",
              "      <th>...</th>\n",
              "      <td>...</td>\n",
              "      <td>...</td>\n",
              "      <td>...</td>\n",
              "      <td>...</td>\n",
              "      <td>...</td>\n",
              "      <td>...</td>\n",
              "      <td>...</td>\n",
              "      <td>...</td>\n",
              "      <td>...</td>\n",
              "      <td>...</td>\n",
              "      <td>...</td>\n",
              "      <td>...</td>\n",
              "      <td>...</td>\n",
              "      <td>...</td>\n",
              "      <td>...</td>\n",
              "      <td>...</td>\n",
              "      <td>...</td>\n",
              "      <td>...</td>\n",
              "      <td>...</td>\n",
              "      <td>...</td>\n",
              "      <td>...</td>\n",
              "      <td>...</td>\n",
              "      <td>...</td>\n",
              "      <td>...</td>\n",
              "      <td>...</td>\n",
              "      <td>...</td>\n",
              "      <td>...</td>\n",
              "      <td>...</td>\n",
              "      <td>...</td>\n",
              "      <td>...</td>\n",
              "      <td>...</td>\n",
              "      <td>...</td>\n",
              "      <td>...</td>\n",
              "      <td>...</td>\n",
              "      <td>...</td>\n",
              "      <td>...</td>\n",
              "      <td>...</td>\n",
              "      <td>...</td>\n",
              "      <td>...</td>\n",
              "      <td>...</td>\n",
              "      <td>...</td>\n",
              "      <td>...</td>\n",
              "      <td>...</td>\n",
              "      <td>...</td>\n",
              "      <td>...</td>\n",
              "    </tr>\n",
              "    <tr>\n",
              "      <th>82327</th>\n",
              "      <td>82328</td>\n",
              "      <td>0.000005</td>\n",
              "      <td>udp</td>\n",
              "      <td>-</td>\n",
              "      <td>INT</td>\n",
              "      <td>2</td>\n",
              "      <td>0</td>\n",
              "      <td>104</td>\n",
              "      <td>0</td>\n",
              "      <td>200000.005100</td>\n",
              "      <td>254</td>\n",
              "      <td>0</td>\n",
              "      <td>8.320000e+07</td>\n",
              "      <td>0.000000</td>\n",
              "      <td>0</td>\n",
              "      <td>0</td>\n",
              "      <td>0.005000</td>\n",
              "      <td>0.0</td>\n",
              "      <td>0.000000</td>\n",
              "      <td>0.000000</td>\n",
              "      <td>0</td>\n",
              "      <td>0</td>\n",
              "      <td>0</td>\n",
              "      <td>0</td>\n",
              "      <td>0.000000</td>\n",
              "      <td>0.000000</td>\n",
              "      <td>0.000000</td>\n",
              "      <td>52</td>\n",
              "      <td>0</td>\n",
              "      <td>0</td>\n",
              "      <td>0</td>\n",
              "      <td>1</td>\n",
              "      <td>2</td>\n",
              "      <td>2</td>\n",
              "      <td>1</td>\n",
              "      <td>1</td>\n",
              "      <td>2</td>\n",
              "      <td>0</td>\n",
              "      <td>0</td>\n",
              "      <td>0</td>\n",
              "      <td>2</td>\n",
              "      <td>1</td>\n",
              "      <td>0</td>\n",
              "      <td>Normal</td>\n",
              "      <td>0</td>\n",
              "    </tr>\n",
              "    <tr>\n",
              "      <th>82328</th>\n",
              "      <td>82329</td>\n",
              "      <td>1.106101</td>\n",
              "      <td>tcp</td>\n",
              "      <td>-</td>\n",
              "      <td>FIN</td>\n",
              "      <td>20</td>\n",
              "      <td>8</td>\n",
              "      <td>18062</td>\n",
              "      <td>354</td>\n",
              "      <td>24.410067</td>\n",
              "      <td>254</td>\n",
              "      <td>252</td>\n",
              "      <td>1.241044e+05</td>\n",
              "      <td>2242.109863</td>\n",
              "      <td>7</td>\n",
              "      <td>1</td>\n",
              "      <td>55.880051</td>\n",
              "      <td>143.7</td>\n",
              "      <td>4798.130981</td>\n",
              "      <td>190.980813</td>\n",
              "      <td>255</td>\n",
              "      <td>1072535109</td>\n",
              "      <td>3284291478</td>\n",
              "      <td>255</td>\n",
              "      <td>0.173208</td>\n",
              "      <td>0.100191</td>\n",
              "      <td>0.073017</td>\n",
              "      <td>903</td>\n",
              "      <td>44</td>\n",
              "      <td>0</td>\n",
              "      <td>0</td>\n",
              "      <td>1</td>\n",
              "      <td>1</td>\n",
              "      <td>2</td>\n",
              "      <td>1</td>\n",
              "      <td>1</td>\n",
              "      <td>1</td>\n",
              "      <td>0</td>\n",
              "      <td>0</td>\n",
              "      <td>0</td>\n",
              "      <td>3</td>\n",
              "      <td>2</td>\n",
              "      <td>0</td>\n",
              "      <td>Normal</td>\n",
              "      <td>0</td>\n",
              "    </tr>\n",
              "    <tr>\n",
              "      <th>82329</th>\n",
              "      <td>82330</td>\n",
              "      <td>0.000000</td>\n",
              "      <td>arp</td>\n",
              "      <td>-</td>\n",
              "      <td>INT</td>\n",
              "      <td>1</td>\n",
              "      <td>0</td>\n",
              "      <td>46</td>\n",
              "      <td>0</td>\n",
              "      <td>0.000000</td>\n",
              "      <td>0</td>\n",
              "      <td>0</td>\n",
              "      <td>0.000000e+00</td>\n",
              "      <td>0.000000</td>\n",
              "      <td>0</td>\n",
              "      <td>0</td>\n",
              "      <td>60000.720000</td>\n",
              "      <td>0.0</td>\n",
              "      <td>0.000000</td>\n",
              "      <td>0.000000</td>\n",
              "      <td>0</td>\n",
              "      <td>0</td>\n",
              "      <td>0</td>\n",
              "      <td>0</td>\n",
              "      <td>0.000000</td>\n",
              "      <td>0.000000</td>\n",
              "      <td>0.000000</td>\n",
              "      <td>46</td>\n",
              "      <td>0</td>\n",
              "      <td>0</td>\n",
              "      <td>0</td>\n",
              "      <td>1</td>\n",
              "      <td>2</td>\n",
              "      <td>1</td>\n",
              "      <td>1</td>\n",
              "      <td>1</td>\n",
              "      <td>1</td>\n",
              "      <td>0</td>\n",
              "      <td>0</td>\n",
              "      <td>0</td>\n",
              "      <td>1</td>\n",
              "      <td>1</td>\n",
              "      <td>1</td>\n",
              "      <td>Normal</td>\n",
              "      <td>0</td>\n",
              "    </tr>\n",
              "    <tr>\n",
              "      <th>82330</th>\n",
              "      <td>82331</td>\n",
              "      <td>0.000000</td>\n",
              "      <td>arp</td>\n",
              "      <td>-</td>\n",
              "      <td>INT</td>\n",
              "      <td>1</td>\n",
              "      <td>0</td>\n",
              "      <td>46</td>\n",
              "      <td>0</td>\n",
              "      <td>0.000000</td>\n",
              "      <td>0</td>\n",
              "      <td>0</td>\n",
              "      <td>0.000000e+00</td>\n",
              "      <td>0.000000</td>\n",
              "      <td>0</td>\n",
              "      <td>0</td>\n",
              "      <td>60000.732000</td>\n",
              "      <td>0.0</td>\n",
              "      <td>10.954518</td>\n",
              "      <td>0.000000</td>\n",
              "      <td>0</td>\n",
              "      <td>0</td>\n",
              "      <td>0</td>\n",
              "      <td>0</td>\n",
              "      <td>0.000000</td>\n",
              "      <td>0.000000</td>\n",
              "      <td>0.000000</td>\n",
              "      <td>46</td>\n",
              "      <td>0</td>\n",
              "      <td>0</td>\n",
              "      <td>0</td>\n",
              "      <td>1</td>\n",
              "      <td>2</td>\n",
              "      <td>1</td>\n",
              "      <td>1</td>\n",
              "      <td>1</td>\n",
              "      <td>1</td>\n",
              "      <td>0</td>\n",
              "      <td>0</td>\n",
              "      <td>0</td>\n",
              "      <td>1</td>\n",
              "      <td>1</td>\n",
              "      <td>1</td>\n",
              "      <td>Normal</td>\n",
              "      <td>0</td>\n",
              "    </tr>\n",
              "    <tr>\n",
              "      <th>82331</th>\n",
              "      <td>82332</td>\n",
              "      <td>0.000009</td>\n",
              "      <td>udp</td>\n",
              "      <td>-</td>\n",
              "      <td>INT</td>\n",
              "      <td>2</td>\n",
              "      <td>0</td>\n",
              "      <td>104</td>\n",
              "      <td>0</td>\n",
              "      <td>111111.107200</td>\n",
              "      <td>254</td>\n",
              "      <td>0</td>\n",
              "      <td>4.622222e+07</td>\n",
              "      <td>0.000000</td>\n",
              "      <td>0</td>\n",
              "      <td>0</td>\n",
              "      <td>0.009000</td>\n",
              "      <td>0.0</td>\n",
              "      <td>0.000000</td>\n",
              "      <td>0.000000</td>\n",
              "      <td>0</td>\n",
              "      <td>0</td>\n",
              "      <td>0</td>\n",
              "      <td>0</td>\n",
              "      <td>0.000000</td>\n",
              "      <td>0.000000</td>\n",
              "      <td>0.000000</td>\n",
              "      <td>52</td>\n",
              "      <td>0</td>\n",
              "      <td>0</td>\n",
              "      <td>0</td>\n",
              "      <td>1</td>\n",
              "      <td>2</td>\n",
              "      <td>1</td>\n",
              "      <td>1</td>\n",
              "      <td>1</td>\n",
              "      <td>1</td>\n",
              "      <td>0</td>\n",
              "      <td>0</td>\n",
              "      <td>0</td>\n",
              "      <td>1</td>\n",
              "      <td>1</td>\n",
              "      <td>0</td>\n",
              "      <td>Normal</td>\n",
              "      <td>0</td>\n",
              "    </tr>\n",
              "  </tbody>\n",
              "</table>\n",
              "<p>82332 rows × 45 columns</p>\n",
              "</div>\n",
              "      <button class=\"colab-df-convert\" onclick=\"convertToInteractive('df-26af16af-e073-4a86-832f-b58124541ddb')\"\n",
              "              title=\"Convert this dataframe to an interactive table.\"\n",
              "              style=\"display:none;\">\n",
              "        \n",
              "  <svg xmlns=\"http://www.w3.org/2000/svg\" height=\"24px\"viewBox=\"0 0 24 24\"\n",
              "       width=\"24px\">\n",
              "    <path d=\"M0 0h24v24H0V0z\" fill=\"none\"/>\n",
              "    <path d=\"M18.56 5.44l.94 2.06.94-2.06 2.06-.94-2.06-.94-.94-2.06-.94 2.06-2.06.94zm-11 1L8.5 8.5l.94-2.06 2.06-.94-2.06-.94L8.5 2.5l-.94 2.06-2.06.94zm10 10l.94 2.06.94-2.06 2.06-.94-2.06-.94-.94-2.06-.94 2.06-2.06.94z\"/><path d=\"M17.41 7.96l-1.37-1.37c-.4-.4-.92-.59-1.43-.59-.52 0-1.04.2-1.43.59L10.3 9.45l-7.72 7.72c-.78.78-.78 2.05 0 2.83L4 21.41c.39.39.9.59 1.41.59.51 0 1.02-.2 1.41-.59l7.78-7.78 2.81-2.81c.8-.78.8-2.07 0-2.86zM5.41 20L4 18.59l7.72-7.72 1.47 1.35L5.41 20z\"/>\n",
              "  </svg>\n",
              "      </button>\n",
              "      \n",
              "  <style>\n",
              "    .colab-df-container {\n",
              "      display:flex;\n",
              "      flex-wrap:wrap;\n",
              "      gap: 12px;\n",
              "    }\n",
              "\n",
              "    .colab-df-convert {\n",
              "      background-color: #E8F0FE;\n",
              "      border: none;\n",
              "      border-radius: 50%;\n",
              "      cursor: pointer;\n",
              "      display: none;\n",
              "      fill: #1967D2;\n",
              "      height: 32px;\n",
              "      padding: 0 0 0 0;\n",
              "      width: 32px;\n",
              "    }\n",
              "\n",
              "    .colab-df-convert:hover {\n",
              "      background-color: #E2EBFA;\n",
              "      box-shadow: 0px 1px 2px rgba(60, 64, 67, 0.3), 0px 1px 3px 1px rgba(60, 64, 67, 0.15);\n",
              "      fill: #174EA6;\n",
              "    }\n",
              "\n",
              "    [theme=dark] .colab-df-convert {\n",
              "      background-color: #3B4455;\n",
              "      fill: #D2E3FC;\n",
              "    }\n",
              "\n",
              "    [theme=dark] .colab-df-convert:hover {\n",
              "      background-color: #434B5C;\n",
              "      box-shadow: 0px 1px 3px 1px rgba(0, 0, 0, 0.15);\n",
              "      filter: drop-shadow(0px 1px 2px rgba(0, 0, 0, 0.3));\n",
              "      fill: #FFFFFF;\n",
              "    }\n",
              "  </style>\n",
              "\n",
              "      <script>\n",
              "        const buttonEl =\n",
              "          document.querySelector('#df-26af16af-e073-4a86-832f-b58124541ddb button.colab-df-convert');\n",
              "        buttonEl.style.display =\n",
              "          google.colab.kernel.accessAllowed ? 'block' : 'none';\n",
              "\n",
              "        async function convertToInteractive(key) {\n",
              "          const element = document.querySelector('#df-26af16af-e073-4a86-832f-b58124541ddb');\n",
              "          const dataTable =\n",
              "            await google.colab.kernel.invokeFunction('convertToInteractive',\n",
              "                                                     [key], {});\n",
              "          if (!dataTable) return;\n",
              "\n",
              "          const docLinkHtml = 'Like what you see? Visit the ' +\n",
              "            '<a target=\"_blank\" href=https://colab.research.google.com/notebooks/data_table.ipynb>data table notebook</a>'\n",
              "            + ' to learn more about interactive tables.';\n",
              "          element.innerHTML = '';\n",
              "          dataTable['output_type'] = 'display_data';\n",
              "          await google.colab.output.renderOutput(dataTable, element);\n",
              "          const docLink = document.createElement('div');\n",
              "          docLink.innerHTML = docLinkHtml;\n",
              "          element.appendChild(docLink);\n",
              "        }\n",
              "      </script>\n",
              "    </div>\n",
              "  </div>\n",
              "  "
            ],
            "text/plain": [
              "          id       dur proto  ... is_sm_ips_ports attack_cat  label\n",
              "0          1  0.000011   udp  ...               0     Normal      0\n",
              "1          2  0.000008   udp  ...               0     Normal      0\n",
              "2          3  0.000005   udp  ...               0     Normal      0\n",
              "3          4  0.000006   udp  ...               0     Normal      0\n",
              "4          5  0.000010   udp  ...               0     Normal      0\n",
              "...      ...       ...   ...  ...             ...        ...    ...\n",
              "82327  82328  0.000005   udp  ...               0     Normal      0\n",
              "82328  82329  1.106101   tcp  ...               0     Normal      0\n",
              "82329  82330  0.000000   arp  ...               1     Normal      0\n",
              "82330  82331  0.000000   arp  ...               1     Normal      0\n",
              "82331  82332  0.000009   udp  ...               0     Normal      0\n",
              "\n",
              "[82332 rows x 45 columns]"
            ]
          },
          "metadata": {},
          "execution_count": 111
        }
      ]
    },
    {
      "cell_type": "code",
      "source": [
        "dataset2_test.info()"
      ],
      "metadata": {
        "colab": {
          "base_uri": "https://localhost:8080/"
        },
        "id": "rA6PmNL-9Xwr",
        "outputId": "a7d62f26-7097-4dbb-bb48-00ff972c10f3"
      },
      "execution_count": null,
      "outputs": [
        {
          "output_type": "stream",
          "name": "stdout",
          "text": [
            "<class 'pandas.core.frame.DataFrame'>\n",
            "RangeIndex: 175341 entries, 0 to 175340\n",
            "Data columns (total 45 columns):\n",
            " #   Column             Non-Null Count   Dtype  \n",
            "---  ------             --------------   -----  \n",
            " 0   id                 175341 non-null  int64  \n",
            " 1   dur                175341 non-null  float64\n",
            " 2   proto              175341 non-null  object \n",
            " 3   service            175341 non-null  object \n",
            " 4   state              175341 non-null  object \n",
            " 5   spkts              175341 non-null  int64  \n",
            " 6   dpkts              175341 non-null  int64  \n",
            " 7   sbytes             175341 non-null  int64  \n",
            " 8   dbytes             175341 non-null  int64  \n",
            " 9   rate               175341 non-null  float64\n",
            " 10  sttl               175341 non-null  int64  \n",
            " 11  dttl               175341 non-null  int64  \n",
            " 12  sload              175341 non-null  float64\n",
            " 13  dload              175341 non-null  float64\n",
            " 14  sloss              175341 non-null  int64  \n",
            " 15  dloss              175341 non-null  int64  \n",
            " 16  sinpkt             175341 non-null  float64\n",
            " 17  dinpkt             175341 non-null  float64\n",
            " 18  sjit               175341 non-null  float64\n",
            " 19  djit               175341 non-null  float64\n",
            " 20  swin               175341 non-null  int64  \n",
            " 21  stcpb              175341 non-null  int64  \n",
            " 22  dtcpb              175341 non-null  int64  \n",
            " 23  dwin               175341 non-null  int64  \n",
            " 24  tcprtt             175341 non-null  float64\n",
            " 25  synack             175341 non-null  float64\n",
            " 26  ackdat             175341 non-null  float64\n",
            " 27  smean              175341 non-null  int64  \n",
            " 28  dmean              175341 non-null  int64  \n",
            " 29  trans_depth        175341 non-null  int64  \n",
            " 30  response_body_len  175341 non-null  int64  \n",
            " 31  ct_srv_src         175341 non-null  int64  \n",
            " 32  ct_state_ttl       175341 non-null  int64  \n",
            " 33  ct_dst_ltm         175341 non-null  int64  \n",
            " 34  ct_src_dport_ltm   175341 non-null  int64  \n",
            " 35  ct_dst_sport_ltm   175341 non-null  int64  \n",
            " 36  ct_dst_src_ltm     175341 non-null  int64  \n",
            " 37  is_ftp_login       175341 non-null  int64  \n",
            " 38  ct_ftp_cmd         175341 non-null  int64  \n",
            " 39  ct_flw_http_mthd   175341 non-null  int64  \n",
            " 40  ct_src_ltm         175341 non-null  int64  \n",
            " 41  ct_srv_dst         175341 non-null  int64  \n",
            " 42  is_sm_ips_ports    175341 non-null  int64  \n",
            " 43  attack_cat         175341 non-null  object \n",
            " 44  label              175341 non-null  int64  \n",
            "dtypes: float64(11), int64(30), object(4)\n",
            "memory usage: 60.2+ MB\n"
          ]
        }
      ]
    },
    {
      "cell_type": "code",
      "source": [
        "dataset2_train.nunique()"
      ],
      "metadata": {
        "colab": {
          "base_uri": "https://localhost:8080/"
        },
        "id": "XbpJ_Wpf9a6e",
        "outputId": "63989461-e95f-46bb-fcf2-b36c2836ba1b"
      },
      "execution_count": null,
      "outputs": [
        {
          "output_type": "execute_result",
          "data": {
            "text/plain": [
              "id                   82332\n",
              "dur                  39888\n",
              "proto                  131\n",
              "service                 13\n",
              "state                    7\n",
              "spkts                  420\n",
              "dpkts                  436\n",
              "sbytes                4489\n",
              "dbytes                4034\n",
              "rate                 40616\n",
              "sttl                    11\n",
              "dttl                     8\n",
              "sload                42873\n",
              "dload                40614\n",
              "sloss                  253\n",
              "dloss                  311\n",
              "sinpkt               39970\n",
              "dinpkt               37617\n",
              "sjit                 39944\n",
              "djit                 38381\n",
              "swin                    11\n",
              "stcpb                39219\n",
              "dtcpb                39108\n",
              "dwin                    14\n",
              "tcprtt               26130\n",
              "synack               24934\n",
              "ackdat               24020\n",
              "smean                 1282\n",
              "dmean                 1222\n",
              "trans_depth              8\n",
              "response_body_len     1190\n",
              "ct_srv_src              57\n",
              "ct_state_ttl             7\n",
              "ct_dst_ltm              50\n",
              "ct_src_dport_ltm        50\n",
              "ct_dst_sport_ltm        33\n",
              "ct_dst_src_ltm          57\n",
              "is_ftp_login             3\n",
              "ct_ftp_cmd               3\n",
              "ct_flw_http_mthd         8\n",
              "ct_src_ltm              50\n",
              "ct_srv_dst              57\n",
              "is_sm_ips_ports          2\n",
              "attack_cat              10\n",
              "label                    2\n",
              "dtype: int64"
            ]
          },
          "metadata": {},
          "execution_count": 113
        }
      ]
    },
    {
      "cell_type": "code",
      "source": [
        "dataset2_test.nunique()"
      ],
      "metadata": {
        "colab": {
          "base_uri": "https://localhost:8080/"
        },
        "id": "V0Nobgec9ejb",
        "outputId": "71164637-b668-4e77-987e-835c59f7f370"
      },
      "execution_count": null,
      "outputs": [
        {
          "output_type": "execute_result",
          "data": {
            "text/plain": [
              "id                   175341\n",
              "dur                   74039\n",
              "proto                   133\n",
              "service                  13\n",
              "state                     9\n",
              "spkts                   480\n",
              "dpkts                   443\n",
              "sbytes                 7214\n",
              "dbytes                 6660\n",
              "rate                  76991\n",
              "sttl                     11\n",
              "dttl                      6\n",
              "sload                 80885\n",
              "dload                 77474\n",
              "sloss                   409\n",
              "dloss                   370\n",
              "sinpkt                76161\n",
              "dinpkt                74245\n",
              "sjit                  77532\n",
              "djit                  76831\n",
              "swin                     13\n",
              "stcpb                 75265\n",
              "dtcpb                 75089\n",
              "dwin                      7\n",
              "tcprtt                43319\n",
              "synack                40142\n",
              "ackdat                37708\n",
              "smean                  1357\n",
              "dmean                  1328\n",
              "trans_depth              11\n",
              "response_body_len      2386\n",
              "ct_srv_src               52\n",
              "ct_state_ttl              5\n",
              "ct_dst_ltm               50\n",
              "ct_src_dport_ltm         47\n",
              "ct_dst_sport_ltm         32\n",
              "ct_dst_src_ltm           54\n",
              "is_ftp_login              4\n",
              "ct_ftp_cmd                4\n",
              "ct_flw_http_mthd         11\n",
              "ct_src_ltm               50\n",
              "ct_srv_dst               52\n",
              "is_sm_ips_ports           2\n",
              "attack_cat               10\n",
              "label                     2\n",
              "dtype: int64"
            ]
          },
          "metadata": {},
          "execution_count": 114
        }
      ]
    },
    {
      "cell_type": "code",
      "source": [
        "dataset2_train.attack_cat.unique()"
      ],
      "metadata": {
        "colab": {
          "base_uri": "https://localhost:8080/"
        },
        "id": "BiN7Op-x9hWe",
        "outputId": "8ac3d5ba-d134-48dd-fa39-5af4abad67f2"
      },
      "execution_count": null,
      "outputs": [
        {
          "output_type": "execute_result",
          "data": {
            "text/plain": [
              "array(['Normal', 'Reconnaissance', 'Backdoor', 'DoS', 'Exploits',\n",
              "       'Analysis', 'Fuzzers', 'Worms', 'Shellcode', 'Generic'],\n",
              "      dtype=object)"
            ]
          },
          "metadata": {},
          "execution_count": 115
        }
      ]
    },
    {
      "cell_type": "markdown",
      "source": [
        "####check missvalue"
      ],
      "metadata": {
        "id": "8RjkE6sr9mLb"
      }
    },
    {
      "cell_type": "code",
      "source": [
        "dataset2_train.isna().sum()"
      ],
      "metadata": {
        "colab": {
          "base_uri": "https://localhost:8080/"
        },
        "id": "i8uNgl9u9pVr",
        "outputId": "19bea8f8-15e4-41f8-d802-a6c510e38858"
      },
      "execution_count": null,
      "outputs": [
        {
          "output_type": "execute_result",
          "data": {
            "text/plain": [
              "id                   0\n",
              "dur                  0\n",
              "proto                0\n",
              "service              0\n",
              "state                0\n",
              "spkts                0\n",
              "dpkts                0\n",
              "sbytes               0\n",
              "dbytes               0\n",
              "rate                 0\n",
              "sttl                 0\n",
              "dttl                 0\n",
              "sload                0\n",
              "dload                0\n",
              "sloss                0\n",
              "dloss                0\n",
              "sinpkt               0\n",
              "dinpkt               0\n",
              "sjit                 0\n",
              "djit                 0\n",
              "swin                 0\n",
              "stcpb                0\n",
              "dtcpb                0\n",
              "dwin                 0\n",
              "tcprtt               0\n",
              "synack               0\n",
              "ackdat               0\n",
              "smean                0\n",
              "dmean                0\n",
              "trans_depth          0\n",
              "response_body_len    0\n",
              "ct_srv_src           0\n",
              "ct_state_ttl         0\n",
              "ct_dst_ltm           0\n",
              "ct_src_dport_ltm     0\n",
              "ct_dst_sport_ltm     0\n",
              "ct_dst_src_ltm       0\n",
              "is_ftp_login         0\n",
              "ct_ftp_cmd           0\n",
              "ct_flw_http_mthd     0\n",
              "ct_src_ltm           0\n",
              "ct_srv_dst           0\n",
              "is_sm_ips_ports      0\n",
              "attack_cat           0\n",
              "label                0\n",
              "dtype: int64"
            ]
          },
          "metadata": {},
          "execution_count": 116
        }
      ]
    },
    {
      "cell_type": "code",
      "source": [
        "dataset2_test.isna().sum()"
      ],
      "metadata": {
        "colab": {
          "base_uri": "https://localhost:8080/"
        },
        "id": "Vhxh-LZc9pao",
        "outputId": "074079cf-08b4-45f1-ed4c-987e29051ec9"
      },
      "execution_count": null,
      "outputs": [
        {
          "output_type": "execute_result",
          "data": {
            "text/plain": [
              "id                   0\n",
              "dur                  0\n",
              "proto                0\n",
              "service              0\n",
              "state                0\n",
              "spkts                0\n",
              "dpkts                0\n",
              "sbytes               0\n",
              "dbytes               0\n",
              "rate                 0\n",
              "sttl                 0\n",
              "dttl                 0\n",
              "sload                0\n",
              "dload                0\n",
              "sloss                0\n",
              "dloss                0\n",
              "sinpkt               0\n",
              "dinpkt               0\n",
              "sjit                 0\n",
              "djit                 0\n",
              "swin                 0\n",
              "stcpb                0\n",
              "dtcpb                0\n",
              "dwin                 0\n",
              "tcprtt               0\n",
              "synack               0\n",
              "ackdat               0\n",
              "smean                0\n",
              "dmean                0\n",
              "trans_depth          0\n",
              "response_body_len    0\n",
              "ct_srv_src           0\n",
              "ct_state_ttl         0\n",
              "ct_dst_ltm           0\n",
              "ct_src_dport_ltm     0\n",
              "ct_dst_sport_ltm     0\n",
              "ct_dst_src_ltm       0\n",
              "is_ftp_login         0\n",
              "ct_ftp_cmd           0\n",
              "ct_flw_http_mthd     0\n",
              "ct_src_ltm           0\n",
              "ct_srv_dst           0\n",
              "is_sm_ips_ports      0\n",
              "attack_cat           0\n",
              "label                0\n",
              "dtype: int64"
            ]
          },
          "metadata": {},
          "execution_count": 117
        }
      ]
    },
    {
      "cell_type": "markdown",
      "source": [
        "####remove unusfull features"
      ],
      "metadata": {
        "id": "zzI_0dG2-Bh8"
      }
    },
    {
      "cell_type": "code",
      "source": [
        "dataset2_train_cat=dataset2_train.drop(['attack_cat','id'],axis=1)\n",
        "dataset2_test_cat=dataset2_test.drop(['attack_cat','id'],axis=1)"
      ],
      "metadata": {
        "id": "A_eLqEEE-Ahs"
      },
      "execution_count": null,
      "outputs": []
    },
    {
      "cell_type": "markdown",
      "source": [
        "####visual target class distribiution"
      ],
      "metadata": {
        "id": "MsRebbQA-SFa"
      }
    },
    {
      "cell_type": "code",
      "source": [
        "fig,(ax1,ax2)= plt.subplots(ncols=2, figsize=(25, 7.5), dpi=100)\n",
        "\n",
        "fig.suptitle(f'Counts of Observation Labels in UNSW_NB15', fontsize=25)\n",
        "\n",
        "sns.countplot(x=\"label\", \n",
        "            palette=\"OrRd_r\", \n",
        "            data=dataset2_train_cat, \n",
        "            order=dataset2_train_cat['label'].value_counts().index,\n",
        "            ax=ax1)\n",
        "\n",
        "ax1.set_title('Train Set', fontsize=20)\n",
        "ax1.set_xlabel('label', fontsize=15)\n",
        "ax1.set_ylabel('count', fontsize=15)\n",
        "ax1.tick_params(labelrotation=90)\n",
        "\n",
        "sns.countplot(x=\"label\", \n",
        "            palette=\"GnBu_r\", \n",
        "            data=dataset2_test_cat, \n",
        "            order=dataset2_test_cat['label'].value_counts().index,\n",
        "            ax=ax2)\n",
        "\n",
        "ax2.set_title('Test Set', fontsize=20)\n",
        "ax2.set_xlabel('label', fontsize=15)\n",
        "ax2.set_ylabel('count', fontsize=15)\n",
        "ax2.tick_params(labelrotation=90)\n",
        "\n",
        "plt.show()"
      ],
      "metadata": {
        "colab": {
          "base_uri": "https://localhost:8080/",
          "height": 508
        },
        "id": "L4ydNoTJ-brA",
        "outputId": "59fe4f46-a5c3-42ca-a362-582416df913b"
      },
      "execution_count": null,
      "outputs": [
        {
          "output_type": "display_data",
          "data": {
            "image/png": "[encoded data removed]",
            "text/plain": [
              "<Figure size 2500x750 with 2 Axes>"
            ]
          },
          "metadata": {
            "needs_background": "light"
          }
        }
      ]
    },
    {
      "cell_type": "markdown",
      "source": [
        "####Split X and y"
      ],
      "metadata": {
        "id": "3g9r9ZiN-3iF"
      }
    },
    {
      "cell_type": "code",
      "source": [
        "X2_train=dataset2_train_cat.iloc[:,:-1]\n",
        "X2_test=dataset2_test_cat.iloc[:,:-1]\n",
        "y2_test=dataset2_test_cat.iloc[:,-1]\n",
        "y2_train=dataset2_train_cat.iloc[:,-1]\n",
        "print(X2_train.shape ,X2_test.shape ,y2_train.shape , y2_test.shape)"
      ],
      "metadata": {
        "colab": {
          "base_uri": "https://localhost:8080/"
        },
        "id": "u2uHfgs7-68q",
        "outputId": "81c34d9a-95ae-4122-c042-ee6b8cea9373"
      },
      "execution_count": null,
      "outputs": [
        {
          "output_type": "stream",
          "name": "stdout",
          "text": [
            "(82332, 42) (175341, 42) (82332,) (175341,)\n"
          ]
        }
      ]
    },
    {
      "cell_type": "code",
      "source": [],
      "metadata": {
        "id": "MbUssjqSNfoN"
      },
      "execution_count": null,
      "outputs": []
    },
    {
      "cell_type": "markdown",
      "source": [
        "####encode Data"
      ],
      "metadata": {
        "id": "KJg45h_6NgDI"
      }
    },
    {
      "cell_type": "code",
      "source": [
        "from sklearn.preprocessing import LabelEncoder\n",
        "from sklearn.preprocessing import OrdinalEncoder"
      ],
      "metadata": {
        "id": "JZSK-FOyNgDJ"
      },
      "execution_count": null,
      "outputs": []
    },
    {
      "cell_type": "code",
      "source": [
        "le=LabelEncoder()\n",
        "le.fit(y2_train)\n",
        "y2_train=le.transform(y2_train)\n",
        "y2_test=le.transform(y2_test)"
      ],
      "metadata": {
        "id": "6hI97DM-NgDK"
      },
      "execution_count": null,
      "outputs": []
    },
    {
      "cell_type": "code",
      "source": [
        "print( y2_train.shape , y2_test.shape)"
      ],
      "metadata": {
        "colab": {
          "base_uri": "https://localhost:8080/"
        },
        "id": "ebdq2C5Cvmb0",
        "outputId": "7c244394-849d-483e-f67a-7f822400fdfe"
      },
      "execution_count": null,
      "outputs": [
        {
          "output_type": "stream",
          "name": "stdout",
          "text": [
            "(82332,) (175341,)\n"
          ]
        }
      ]
    },
    {
      "cell_type": "code",
      "source": [
        "# prepare input data\n",
        "def prepare_inputs(X_train, X_test):\n",
        "\toe = OrdinalEncoder()\n",
        "\toe.fit(X_train)\n",
        "\tX_train_enc = oe.transform(X_train)\n",
        "\tX_test_enc = oe.fit_transform(X_test)\n",
        "\treturn X_train_enc, X_test_enc"
      ],
      "metadata": {
        "id": "HYrD1ARBNgDK"
      },
      "execution_count": null,
      "outputs": []
    },
    {
      "cell_type": "code",
      "source": [
        "X2_test"
      ],
      "metadata": {
        "colab": {
          "base_uri": "https://localhost:8080/",
          "height": 488
        },
        "id": "SluuK3CdOsgf",
        "outputId": "deda6248-1474-493c-e7be-d8cb0d4143b7"
      },
      "execution_count": null,
      "outputs": [
        {
          "output_type": "execute_result",
          "data": {
            "text/html": [
              "\n",
              "  <div id=\"df-d7b8ca34-d0ad-4f1c-a61e-b072bbb3f76e\">\n",
              "    <div class=\"colab-df-container\">\n",
              "      <div>\n",
              "<style scoped>\n",
              "    .dataframe tbody tr th:only-of-type {\n",
              "        vertical-align: middle;\n",
              "    }\n",
              "\n",
              "    .dataframe tbody tr th {\n",
              "        vertical-align: top;\n",
              "    }\n",
              "\n",
              "    .dataframe thead th {\n",
              "        text-align: right;\n",
              "    }\n",
              "</style>\n",
              "<table border=\"1\" class=\"dataframe\">\n",
              "  <thead>\n",
              "    <tr style=\"text-align: right;\">\n",
              "      <th></th>\n",
              "      <th>dur</th>\n",
              "      <th>proto</th>\n",
              "      <th>service</th>\n",
              "      <th>state</th>\n",
              "      <th>spkts</th>\n",
              "      <th>dpkts</th>\n",
              "      <th>sbytes</th>\n",
              "      <th>dbytes</th>\n",
              "      <th>rate</th>\n",
              "      <th>sttl</th>\n",
              "      <th>dttl</th>\n",
              "      <th>sload</th>\n",
              "      <th>dload</th>\n",
              "      <th>sloss</th>\n",
              "      <th>dloss</th>\n",
              "      <th>sinpkt</th>\n",
              "      <th>dinpkt</th>\n",
              "      <th>sjit</th>\n",
              "      <th>djit</th>\n",
              "      <th>swin</th>\n",
              "      <th>stcpb</th>\n",
              "      <th>dtcpb</th>\n",
              "      <th>dwin</th>\n",
              "      <th>tcprtt</th>\n",
              "      <th>synack</th>\n",
              "      <th>ackdat</th>\n",
              "      <th>smean</th>\n",
              "      <th>dmean</th>\n",
              "      <th>trans_depth</th>\n",
              "      <th>response_body_len</th>\n",
              "      <th>ct_srv_src</th>\n",
              "      <th>ct_state_ttl</th>\n",
              "      <th>ct_dst_ltm</th>\n",
              "      <th>ct_src_dport_ltm</th>\n",
              "      <th>ct_dst_sport_ltm</th>\n",
              "      <th>ct_dst_src_ltm</th>\n",
              "      <th>is_ftp_login</th>\n",
              "      <th>ct_ftp_cmd</th>\n",
              "      <th>ct_flw_http_mthd</th>\n",
              "      <th>ct_src_ltm</th>\n",
              "      <th>ct_srv_dst</th>\n",
              "      <th>is_sm_ips_ports</th>\n",
              "    </tr>\n",
              "  </thead>\n",
              "  <tbody>\n",
              "    <tr>\n",
              "      <th>0</th>\n",
              "      <td>0.121478</td>\n",
              "      <td>tcp</td>\n",
              "      <td>-</td>\n",
              "      <td>FIN</td>\n",
              "      <td>6</td>\n",
              "      <td>4</td>\n",
              "      <td>258</td>\n",
              "      <td>172</td>\n",
              "      <td>74.087490</td>\n",
              "      <td>252</td>\n",
              "      <td>254</td>\n",
              "      <td>1.415894e+04</td>\n",
              "      <td>8495.365234</td>\n",
              "      <td>0</td>\n",
              "      <td>0</td>\n",
              "      <td>24.295600</td>\n",
              "      <td>8.375000</td>\n",
              "      <td>30.177547</td>\n",
              "      <td>11.830604</td>\n",
              "      <td>255</td>\n",
              "      <td>621772692</td>\n",
              "      <td>2202533631</td>\n",
              "      <td>255</td>\n",
              "      <td>0.000000</td>\n",
              "      <td>0.000000</td>\n",
              "      <td>0.000000</td>\n",
              "      <td>43</td>\n",
              "      <td>43</td>\n",
              "      <td>0</td>\n",
              "      <td>0</td>\n",
              "      <td>1</td>\n",
              "      <td>0</td>\n",
              "      <td>1</td>\n",
              "      <td>1</td>\n",
              "      <td>1</td>\n",
              "      <td>1</td>\n",
              "      <td>0</td>\n",
              "      <td>0</td>\n",
              "      <td>0</td>\n",
              "      <td>1</td>\n",
              "      <td>1</td>\n",
              "      <td>0</td>\n",
              "    </tr>\n",
              "    <tr>\n",
              "      <th>1</th>\n",
              "      <td>0.649902</td>\n",
              "      <td>tcp</td>\n",
              "      <td>-</td>\n",
              "      <td>FIN</td>\n",
              "      <td>14</td>\n",
              "      <td>38</td>\n",
              "      <td>734</td>\n",
              "      <td>42014</td>\n",
              "      <td>78.473372</td>\n",
              "      <td>62</td>\n",
              "      <td>252</td>\n",
              "      <td>8.395112e+03</td>\n",
              "      <td>503571.312500</td>\n",
              "      <td>2</td>\n",
              "      <td>17</td>\n",
              "      <td>49.915000</td>\n",
              "      <td>15.432865</td>\n",
              "      <td>61.426934</td>\n",
              "      <td>1387.778330</td>\n",
              "      <td>255</td>\n",
              "      <td>1417884146</td>\n",
              "      <td>3077387971</td>\n",
              "      <td>255</td>\n",
              "      <td>0.000000</td>\n",
              "      <td>0.000000</td>\n",
              "      <td>0.000000</td>\n",
              "      <td>52</td>\n",
              "      <td>1106</td>\n",
              "      <td>0</td>\n",
              "      <td>0</td>\n",
              "      <td>43</td>\n",
              "      <td>1</td>\n",
              "      <td>1</td>\n",
              "      <td>1</td>\n",
              "      <td>1</td>\n",
              "      <td>2</td>\n",
              "      <td>0</td>\n",
              "      <td>0</td>\n",
              "      <td>0</td>\n",
              "      <td>1</td>\n",
              "      <td>6</td>\n",
              "      <td>0</td>\n",
              "    </tr>\n",
              "    <tr>\n",
              "      <th>2</th>\n",
              "      <td>1.623129</td>\n",
              "      <td>tcp</td>\n",
              "      <td>-</td>\n",
              "      <td>FIN</td>\n",
              "      <td>8</td>\n",
              "      <td>16</td>\n",
              "      <td>364</td>\n",
              "      <td>13186</td>\n",
              "      <td>14.170161</td>\n",
              "      <td>62</td>\n",
              "      <td>252</td>\n",
              "      <td>1.572272e+03</td>\n",
              "      <td>60929.230470</td>\n",
              "      <td>1</td>\n",
              "      <td>6</td>\n",
              "      <td>231.875571</td>\n",
              "      <td>102.737203</td>\n",
              "      <td>17179.586860</td>\n",
              "      <td>11420.926230</td>\n",
              "      <td>255</td>\n",
              "      <td>2116150707</td>\n",
              "      <td>2963114973</td>\n",
              "      <td>255</td>\n",
              "      <td>0.111897</td>\n",
              "      <td>0.061458</td>\n",
              "      <td>0.050439</td>\n",
              "      <td>46</td>\n",
              "      <td>824</td>\n",
              "      <td>0</td>\n",
              "      <td>0</td>\n",
              "      <td>7</td>\n",
              "      <td>1</td>\n",
              "      <td>2</td>\n",
              "      <td>1</td>\n",
              "      <td>1</td>\n",
              "      <td>3</td>\n",
              "      <td>0</td>\n",
              "      <td>0</td>\n",
              "      <td>0</td>\n",
              "      <td>2</td>\n",
              "      <td>6</td>\n",
              "      <td>0</td>\n",
              "    </tr>\n",
              "    <tr>\n",
              "      <th>3</th>\n",
              "      <td>1.681642</td>\n",
              "      <td>tcp</td>\n",
              "      <td>ftp</td>\n",
              "      <td>FIN</td>\n",
              "      <td>12</td>\n",
              "      <td>12</td>\n",
              "      <td>628</td>\n",
              "      <td>770</td>\n",
              "      <td>13.677108</td>\n",
              "      <td>62</td>\n",
              "      <td>252</td>\n",
              "      <td>2.740179e+03</td>\n",
              "      <td>3358.622070</td>\n",
              "      <td>1</td>\n",
              "      <td>3</td>\n",
              "      <td>152.876547</td>\n",
              "      <td>90.235726</td>\n",
              "      <td>259.080172</td>\n",
              "      <td>4991.784669</td>\n",
              "      <td>255</td>\n",
              "      <td>1107119177</td>\n",
              "      <td>1047442890</td>\n",
              "      <td>255</td>\n",
              "      <td>0.000000</td>\n",
              "      <td>0.000000</td>\n",
              "      <td>0.000000</td>\n",
              "      <td>52</td>\n",
              "      <td>64</td>\n",
              "      <td>0</td>\n",
              "      <td>0</td>\n",
              "      <td>1</td>\n",
              "      <td>1</td>\n",
              "      <td>2</td>\n",
              "      <td>1</td>\n",
              "      <td>1</td>\n",
              "      <td>3</td>\n",
              "      <td>1</td>\n",
              "      <td>1</td>\n",
              "      <td>0</td>\n",
              "      <td>2</td>\n",
              "      <td>1</td>\n",
              "      <td>0</td>\n",
              "    </tr>\n",
              "    <tr>\n",
              "      <th>4</th>\n",
              "      <td>0.449454</td>\n",
              "      <td>tcp</td>\n",
              "      <td>-</td>\n",
              "      <td>FIN</td>\n",
              "      <td>10</td>\n",
              "      <td>6</td>\n",
              "      <td>534</td>\n",
              "      <td>268</td>\n",
              "      <td>33.373826</td>\n",
              "      <td>254</td>\n",
              "      <td>252</td>\n",
              "      <td>8.561499e+03</td>\n",
              "      <td>3987.059814</td>\n",
              "      <td>2</td>\n",
              "      <td>1</td>\n",
              "      <td>47.750333</td>\n",
              "      <td>75.659602</td>\n",
              "      <td>2415.837634</td>\n",
              "      <td>115.807000</td>\n",
              "      <td>255</td>\n",
              "      <td>2436137549</td>\n",
              "      <td>1977154190</td>\n",
              "      <td>255</td>\n",
              "      <td>0.128381</td>\n",
              "      <td>0.071147</td>\n",
              "      <td>0.057234</td>\n",
              "      <td>53</td>\n",
              "      <td>45</td>\n",
              "      <td>0</td>\n",
              "      <td>0</td>\n",
              "      <td>43</td>\n",
              "      <td>1</td>\n",
              "      <td>2</td>\n",
              "      <td>2</td>\n",
              "      <td>1</td>\n",
              "      <td>40</td>\n",
              "      <td>0</td>\n",
              "      <td>0</td>\n",
              "      <td>0</td>\n",
              "      <td>2</td>\n",
              "      <td>39</td>\n",
              "      <td>0</td>\n",
              "    </tr>\n",
              "    <tr>\n",
              "      <th>...</th>\n",
              "      <td>...</td>\n",
              "      <td>...</td>\n",
              "      <td>...</td>\n",
              "      <td>...</td>\n",
              "      <td>...</td>\n",
              "      <td>...</td>\n",
              "      <td>...</td>\n",
              "      <td>...</td>\n",
              "      <td>...</td>\n",
              "      <td>...</td>\n",
              "      <td>...</td>\n",
              "      <td>...</td>\n",
              "      <td>...</td>\n",
              "      <td>...</td>\n",
              "      <td>...</td>\n",
              "      <td>...</td>\n",
              "      <td>...</td>\n",
              "      <td>...</td>\n",
              "      <td>...</td>\n",
              "      <td>...</td>\n",
              "      <td>...</td>\n",
              "      <td>...</td>\n",
              "      <td>...</td>\n",
              "      <td>...</td>\n",
              "      <td>...</td>\n",
              "      <td>...</td>\n",
              "      <td>...</td>\n",
              "      <td>...</td>\n",
              "      <td>...</td>\n",
              "      <td>...</td>\n",
              "      <td>...</td>\n",
              "      <td>...</td>\n",
              "      <td>...</td>\n",
              "      <td>...</td>\n",
              "      <td>...</td>\n",
              "      <td>...</td>\n",
              "      <td>...</td>\n",
              "      <td>...</td>\n",
              "      <td>...</td>\n",
              "      <td>...</td>\n",
              "      <td>...</td>\n",
              "      <td>...</td>\n",
              "    </tr>\n",
              "    <tr>\n",
              "      <th>175336</th>\n",
              "      <td>0.000009</td>\n",
              "      <td>udp</td>\n",
              "      <td>dns</td>\n",
              "      <td>INT</td>\n",
              "      <td>2</td>\n",
              "      <td>0</td>\n",
              "      <td>114</td>\n",
              "      <td>0</td>\n",
              "      <td>111111.107200</td>\n",
              "      <td>254</td>\n",
              "      <td>0</td>\n",
              "      <td>5.066666e+07</td>\n",
              "      <td>0.000000</td>\n",
              "      <td>0</td>\n",
              "      <td>0</td>\n",
              "      <td>0.009000</td>\n",
              "      <td>0.000000</td>\n",
              "      <td>0.000000</td>\n",
              "      <td>0.000000</td>\n",
              "      <td>0</td>\n",
              "      <td>0</td>\n",
              "      <td>0</td>\n",
              "      <td>0</td>\n",
              "      <td>0.000000</td>\n",
              "      <td>0.000000</td>\n",
              "      <td>0.000000</td>\n",
              "      <td>57</td>\n",
              "      <td>0</td>\n",
              "      <td>0</td>\n",
              "      <td>0</td>\n",
              "      <td>24</td>\n",
              "      <td>2</td>\n",
              "      <td>24</td>\n",
              "      <td>24</td>\n",
              "      <td>13</td>\n",
              "      <td>24</td>\n",
              "      <td>0</td>\n",
              "      <td>0</td>\n",
              "      <td>0</td>\n",
              "      <td>24</td>\n",
              "      <td>24</td>\n",
              "      <td>0</td>\n",
              "    </tr>\n",
              "    <tr>\n",
              "      <th>175337</th>\n",
              "      <td>0.505762</td>\n",
              "      <td>tcp</td>\n",
              "      <td>-</td>\n",
              "      <td>FIN</td>\n",
              "      <td>10</td>\n",
              "      <td>8</td>\n",
              "      <td>620</td>\n",
              "      <td>354</td>\n",
              "      <td>33.612649</td>\n",
              "      <td>254</td>\n",
              "      <td>252</td>\n",
              "      <td>8.826286e+03</td>\n",
              "      <td>4903.492188</td>\n",
              "      <td>2</td>\n",
              "      <td>1</td>\n",
              "      <td>54.400111</td>\n",
              "      <td>66.980570</td>\n",
              "      <td>3721.068786</td>\n",
              "      <td>120.177727</td>\n",
              "      <td>255</td>\n",
              "      <td>3518776216</td>\n",
              "      <td>3453092386</td>\n",
              "      <td>255</td>\n",
              "      <td>0.099440</td>\n",
              "      <td>0.036895</td>\n",
              "      <td>0.062545</td>\n",
              "      <td>62</td>\n",
              "      <td>44</td>\n",
              "      <td>0</td>\n",
              "      <td>0</td>\n",
              "      <td>1</td>\n",
              "      <td>1</td>\n",
              "      <td>1</td>\n",
              "      <td>1</td>\n",
              "      <td>1</td>\n",
              "      <td>2</td>\n",
              "      <td>0</td>\n",
              "      <td>0</td>\n",
              "      <td>0</td>\n",
              "      <td>1</td>\n",
              "      <td>1</td>\n",
              "      <td>0</td>\n",
              "    </tr>\n",
              "    <tr>\n",
              "      <th>175338</th>\n",
              "      <td>0.000009</td>\n",
              "      <td>udp</td>\n",
              "      <td>dns</td>\n",
              "      <td>INT</td>\n",
              "      <td>2</td>\n",
              "      <td>0</td>\n",
              "      <td>114</td>\n",
              "      <td>0</td>\n",
              "      <td>111111.107200</td>\n",
              "      <td>254</td>\n",
              "      <td>0</td>\n",
              "      <td>5.066666e+07</td>\n",
              "      <td>0.000000</td>\n",
              "      <td>0</td>\n",
              "      <td>0</td>\n",
              "      <td>0.009000</td>\n",
              "      <td>0.000000</td>\n",
              "      <td>0.000000</td>\n",
              "      <td>0.000000</td>\n",
              "      <td>0</td>\n",
              "      <td>0</td>\n",
              "      <td>0</td>\n",
              "      <td>0</td>\n",
              "      <td>0.000000</td>\n",
              "      <td>0.000000</td>\n",
              "      <td>0.000000</td>\n",
              "      <td>57</td>\n",
              "      <td>0</td>\n",
              "      <td>0</td>\n",
              "      <td>0</td>\n",
              "      <td>12</td>\n",
              "      <td>2</td>\n",
              "      <td>3</td>\n",
              "      <td>3</td>\n",
              "      <td>3</td>\n",
              "      <td>13</td>\n",
              "      <td>0</td>\n",
              "      <td>0</td>\n",
              "      <td>0</td>\n",
              "      <td>3</td>\n",
              "      <td>12</td>\n",
              "      <td>0</td>\n",
              "    </tr>\n",
              "    <tr>\n",
              "      <th>175339</th>\n",
              "      <td>0.000009</td>\n",
              "      <td>udp</td>\n",
              "      <td>dns</td>\n",
              "      <td>INT</td>\n",
              "      <td>2</td>\n",
              "      <td>0</td>\n",
              "      <td>114</td>\n",
              "      <td>0</td>\n",
              "      <td>111111.107200</td>\n",
              "      <td>254</td>\n",
              "      <td>0</td>\n",
              "      <td>5.066666e+07</td>\n",
              "      <td>0.000000</td>\n",
              "      <td>0</td>\n",
              "      <td>0</td>\n",
              "      <td>0.009000</td>\n",
              "      <td>0.000000</td>\n",
              "      <td>0.000000</td>\n",
              "      <td>0.000000</td>\n",
              "      <td>0</td>\n",
              "      <td>0</td>\n",
              "      <td>0</td>\n",
              "      <td>0</td>\n",
              "      <td>0.000000</td>\n",
              "      <td>0.000000</td>\n",
              "      <td>0.000000</td>\n",
              "      <td>57</td>\n",
              "      <td>0</td>\n",
              "      <td>0</td>\n",
              "      <td>0</td>\n",
              "      <td>30</td>\n",
              "      <td>2</td>\n",
              "      <td>30</td>\n",
              "      <td>30</td>\n",
              "      <td>14</td>\n",
              "      <td>30</td>\n",
              "      <td>0</td>\n",
              "      <td>0</td>\n",
              "      <td>0</td>\n",
              "      <td>30</td>\n",
              "      <td>30</td>\n",
              "      <td>0</td>\n",
              "    </tr>\n",
              "    <tr>\n",
              "      <th>175340</th>\n",
              "      <td>0.000009</td>\n",
              "      <td>udp</td>\n",
              "      <td>dns</td>\n",
              "      <td>INT</td>\n",
              "      <td>2</td>\n",
              "      <td>0</td>\n",
              "      <td>114</td>\n",
              "      <td>0</td>\n",
              "      <td>111111.107200</td>\n",
              "      <td>254</td>\n",
              "      <td>0</td>\n",
              "      <td>5.066666e+07</td>\n",
              "      <td>0.000000</td>\n",
              "      <td>0</td>\n",
              "      <td>0</td>\n",
              "      <td>0.009000</td>\n",
              "      <td>0.000000</td>\n",
              "      <td>0.000000</td>\n",
              "      <td>0.000000</td>\n",
              "      <td>0</td>\n",
              "      <td>0</td>\n",
              "      <td>0</td>\n",
              "      <td>0</td>\n",
              "      <td>0.000000</td>\n",
              "      <td>0.000000</td>\n",
              "      <td>0.000000</td>\n",
              "      <td>57</td>\n",
              "      <td>0</td>\n",
              "      <td>0</td>\n",
              "      <td>0</td>\n",
              "      <td>30</td>\n",
              "      <td>2</td>\n",
              "      <td>30</td>\n",
              "      <td>30</td>\n",
              "      <td>16</td>\n",
              "      <td>30</td>\n",
              "      <td>0</td>\n",
              "      <td>0</td>\n",
              "      <td>0</td>\n",
              "      <td>30</td>\n",
              "      <td>30</td>\n",
              "      <td>0</td>\n",
              "    </tr>\n",
              "  </tbody>\n",
              "</table>\n",
              "<p>175341 rows × 42 columns</p>\n",
              "</div>\n",
              "      <button class=\"colab-df-convert\" onclick=\"convertToInteractive('df-d7b8ca34-d0ad-4f1c-a61e-b072bbb3f76e')\"\n",
              "              title=\"Convert this dataframe to an interactive table.\"\n",
              "              style=\"display:none;\">\n",
              "        \n",
              "  <svg xmlns=\"http://www.w3.org/2000/svg\" height=\"24px\"viewBox=\"0 0 24 24\"\n",
              "       width=\"24px\">\n",
              "    <path d=\"M0 0h24v24H0V0z\" fill=\"none\"/>\n",
              "    <path d=\"M18.56 5.44l.94 2.06.94-2.06 2.06-.94-2.06-.94-.94-2.06-.94 2.06-2.06.94zm-11 1L8.5 8.5l.94-2.06 2.06-.94-2.06-.94L8.5 2.5l-.94 2.06-2.06.94zm10 10l.94 2.06.94-2.06 2.06-.94-2.06-.94-.94-2.06-.94 2.06-2.06.94z\"/><path d=\"M17.41 7.96l-1.37-1.37c-.4-.4-.92-.59-1.43-.59-.52 0-1.04.2-1.43.59L10.3 9.45l-7.72 7.72c-.78.78-.78 2.05 0 2.83L4 21.41c.39.39.9.59 1.41.59.51 0 1.02-.2 1.41-.59l7.78-7.78 2.81-2.81c.8-.78.8-2.07 0-2.86zM5.41 20L4 18.59l7.72-7.72 1.47 1.35L5.41 20z\"/>\n",
              "  </svg>\n",
              "      </button>\n",
              "      \n",
              "  <style>\n",
              "    .colab-df-container {\n",
              "      display:flex;\n",
              "      flex-wrap:wrap;\n",
              "      gap: 12px;\n",
              "    }\n",
              "\n",
              "    .colab-df-convert {\n",
              "      background-color: #E8F0FE;\n",
              "      border: none;\n",
              "      border-radius: 50%;\n",
              "      cursor: pointer;\n",
              "      display: none;\n",
              "      fill: #1967D2;\n",
              "      height: 32px;\n",
              "      padding: 0 0 0 0;\n",
              "      width: 32px;\n",
              "    }\n",
              "\n",
              "    .colab-df-convert:hover {\n",
              "      background-color: #E2EBFA;\n",
              "      box-shadow: 0px 1px 2px rgba(60, 64, 67, 0.3), 0px 1px 3px 1px rgba(60, 64, 67, 0.15);\n",
              "      fill: #174EA6;\n",
              "    }\n",
              "\n",
              "    [theme=dark] .colab-df-convert {\n",
              "      background-color: #3B4455;\n",
              "      fill: #D2E3FC;\n",
              "    }\n",
              "\n",
              "    [theme=dark] .colab-df-convert:hover {\n",
              "      background-color: #434B5C;\n",
              "      box-shadow: 0px 1px 3px 1px rgba(0, 0, 0, 0.15);\n",
              "      filter: drop-shadow(0px 1px 2px rgba(0, 0, 0, 0.3));\n",
              "      fill: #FFFFFF;\n",
              "    }\n",
              "  </style>\n",
              "\n",
              "      <script>\n",
              "        const buttonEl =\n",
              "          document.querySelector('#df-d7b8ca34-d0ad-4f1c-a61e-b072bbb3f76e button.colab-df-convert');\n",
              "        buttonEl.style.display =\n",
              "          google.colab.kernel.accessAllowed ? 'block' : 'none';\n",
              "\n",
              "        async function convertToInteractive(key) {\n",
              "          const element = document.querySelector('#df-d7b8ca34-d0ad-4f1c-a61e-b072bbb3f76e');\n",
              "          const dataTable =\n",
              "            await google.colab.kernel.invokeFunction('convertToInteractive',\n",
              "                                                     [key], {});\n",
              "          if (!dataTable) return;\n",
              "\n",
              "          const docLinkHtml = 'Like what you see? Visit the ' +\n",
              "            '<a target=\"_blank\" href=https://colab.research.google.com/notebooks/data_table.ipynb>data table notebook</a>'\n",
              "            + ' to learn more about interactive tables.';\n",
              "          element.innerHTML = '';\n",
              "          dataTable['output_type'] = 'display_data';\n",
              "          await google.colab.output.renderOutput(dataTable, element);\n",
              "          const docLink = document.createElement('div');\n",
              "          docLink.innerHTML = docLinkHtml;\n",
              "          element.appendChild(docLink);\n",
              "        }\n",
              "      </script>\n",
              "    </div>\n",
              "  </div>\n",
              "  "
            ],
            "text/plain": [
              "             dur proto service  ... ct_src_ltm  ct_srv_dst  is_sm_ips_ports\n",
              "0       0.121478   tcp       -  ...          1           1                0\n",
              "1       0.649902   tcp       -  ...          1           6                0\n",
              "2       1.623129   tcp       -  ...          2           6                0\n",
              "3       1.681642   tcp     ftp  ...          2           1                0\n",
              "4       0.449454   tcp       -  ...          2          39                0\n",
              "...          ...   ...     ...  ...        ...         ...              ...\n",
              "175336  0.000009   udp     dns  ...         24          24                0\n",
              "175337  0.505762   tcp       -  ...          1           1                0\n",
              "175338  0.000009   udp     dns  ...          3          12                0\n",
              "175339  0.000009   udp     dns  ...         30          30                0\n",
              "175340  0.000009   udp     dns  ...         30          30                0\n",
              "\n",
              "[175341 rows x 42 columns]"
            ]
          },
          "metadata": {},
          "execution_count": 125
        }
      ]
    },
    {
      "cell_type": "code",
      "source": [
        "X2_train_cat=X2_train[['proto', 'service', 'state']]\n",
        "X2_test_cat=X2_test[['proto', 'service', 'state']]"
      ],
      "metadata": {
        "id": "ivHdkZIpNgDL"
      },
      "execution_count": null,
      "outputs": []
    },
    {
      "cell_type": "code",
      "source": [
        "X2_train_cat, X2_test_cat = prepare_inputs(X2_train_cat, X2_test_cat)"
      ],
      "metadata": {
        "id": "ryo1ae9PNgDL"
      },
      "execution_count": null,
      "outputs": []
    },
    {
      "cell_type": "code",
      "source": [
        "X2_train_cat"
      ],
      "metadata": {
        "colab": {
          "base_uri": "https://localhost:8080/"
        },
        "outputId": "732d80ea-7dce-47ee-939d-f24778223491",
        "id": "EpdIxfrlNgDM"
      },
      "execution_count": null,
      "outputs": [
        {
          "output_type": "execute_result",
          "data": {
            "text/plain": [
              "array([[117.,   0.,   4.],\n",
              "       [117.,   0.,   4.],\n",
              "       [117.,   0.,   4.],\n",
              "       ...,\n",
              "       [  6.,   0.,   4.],\n",
              "       [  6.,   0.,   4.],\n",
              "       [117.,   0.,   4.]])"
            ]
          },
          "metadata": {},
          "execution_count": 128
        }
      ]
    },
    {
      "cell_type": "code",
      "source": [
        "X2_test_cat=pd.DataFrame(X2_test_cat ,columns=['proto_encode', 'service_encode', 'state_encode'])\n",
        "X2_train_cat=pd.DataFrame(X2_train_cat ,columns=['proto_encode', 'service_encode', 'state_encode'])"
      ],
      "metadata": {
        "id": "3-JZHb7NNgDN"
      },
      "execution_count": null,
      "outputs": []
    },
    {
      "cell_type": "code",
      "source": [
        "\n",
        "X2_train=X2_train.drop(['proto', 'service', 'state'],axis=1)\n",
        "X2_test=X2_test.drop(['proto', 'service', 'state'],axis=1)"
      ],
      "metadata": {
        "id": "C5U7Tvi7NgDN"
      },
      "execution_count": null,
      "outputs": []
    },
    {
      "cell_type": "code",
      "source": [
        "print(X2_train.shape , X2_test.shape)"
      ],
      "metadata": {
        "colab": {
          "base_uri": "https://localhost:8080/"
        },
        "outputId": "fe5dce72-f264-4657-d4aa-ed406dbebc18",
        "id": "jMMS-b2HNgDO"
      },
      "execution_count": null,
      "outputs": [
        {
          "output_type": "stream",
          "name": "stdout",
          "text": [
            "(82332, 39) (175341, 39)\n"
          ]
        }
      ]
    },
    {
      "cell_type": "code",
      "source": [
        "X2_train=pd.concat([X2_train ,X2_train_cat],axis=1)\n",
        "X2_test=pd.concat([X2_test ,X2_test_cat],axis=1)"
      ],
      "metadata": {
        "id": "Oyt6UGx7NgDO"
      },
      "execution_count": null,
      "outputs": []
    },
    {
      "cell_type": "code",
      "source": [
        "print(X2_train.shape , X2_test.shape)"
      ],
      "metadata": {
        "colab": {
          "base_uri": "https://localhost:8080/"
        },
        "outputId": "9718defc-0fe2-4ef4-bb94-325e3b8caebe",
        "id": "DyoxhLzeNgDR"
      },
      "execution_count": null,
      "outputs": [
        {
          "output_type": "stream",
          "name": "stdout",
          "text": [
            "(82332, 42) (175341, 42)\n"
          ]
        }
      ]
    },
    {
      "cell_type": "code",
      "source": [
        "y2_test.shape"
      ],
      "metadata": {
        "id": "IMgh7kdXQ8wi",
        "colab": {
          "base_uri": "https://localhost:8080/"
        },
        "outputId": "ea255cfa-ca98-4f62-ef84-30577e207612"
      },
      "execution_count": null,
      "outputs": [
        {
          "output_type": "execute_result",
          "data": {
            "text/plain": [
              "(175341,)"
            ]
          },
          "metadata": {},
          "execution_count": 134
        }
      ]
    },
    {
      "cell_type": "markdown",
      "source": [
        "####Feature selection"
      ],
      "metadata": {
        "id": "8X1_rTAyQ9HQ"
      }
    },
    {
      "cell_type": "code",
      "source": [
        "print(X2_train.shape , y2_train.shape)"
      ],
      "metadata": {
        "colab": {
          "base_uri": "https://localhost:8080/"
        },
        "id": "_E9YEL82R5r3",
        "outputId": "df34994b-6e2e-424b-aaab-ea7be759daf2"
      },
      "execution_count": null,
      "outputs": [
        {
          "output_type": "stream",
          "name": "stdout",
          "text": [
            "(82332, 42) (82332,)\n"
          ]
        }
      ]
    },
    {
      "cell_type": "code",
      "source": [
        "# # instantiate RandomForestClassifier\n",
        "# rf_model = RandomForestClassifier()\n",
        "# rf_model.fit(X2_train,y2_train)\n",
        "# feat_importances = pd.Series(rf_model.feature_importances_, index=X2_train.columns)\n",
        "# # determine 20 most important features\n",
        "# df_imp_feat= feat_importances.nlargest(30)\n",
        "# print(rf_model.feature_importances_)\n",
        "\n",
        "\n",
        "# # plot 20 most important features\n",
        "# # feat_importances.nlargest(20).plot(kind='barh')\n",
        "# df_imp_feat.plot(kind='barh')\n",
        "# plt.show()\n",
        "# print(df_imp_feat)"
      ],
      "metadata": {
        "id": "R1Elu61NQ9HR"
      },
      "execution_count": null,
      "outputs": []
    },
    {
      "cell_type": "code",
      "source": [
        "X2_train=X2_train[['ct_dst_src_ltm','sttl','ct_state_ttl','sload','sbytes','smean','ct_dst_sport_ltm','ct_srv_dst','rate','dbytes','dur','synack','ct_srv_src'\n",
        ",'tcprtt','dmean','dpkts','sloss','dload','sinpkt','state_encode','dinpkt','dttl','ackdat','service_encode','djit','sjit','dloss','ct_dst_ltm','ct_src_ltm','swin'\n",
        "]]\n",
        "\n",
        "X2_test=X2_test[['ct_dst_src_ltm','sttl','ct_state_ttl','sload','sbytes','smean','ct_dst_sport_ltm','ct_srv_dst','rate','dbytes','dur','synack','ct_srv_src'\n",
        ",'tcprtt','dmean','dpkts','sloss','dload','sinpkt','state_encode','dinpkt','dttl','ackdat','service_encode','djit','sjit','dloss','ct_dst_ltm','ct_src_ltm','swin'\n",
        "]]"
      ],
      "metadata": {
        "id": "Uoksc71LQ9HS"
      },
      "execution_count": null,
      "outputs": []
    },
    {
      "cell_type": "code",
      "source": [
        "print(X2_train.shape, X2_test.shape)"
      ],
      "metadata": {
        "colab": {
          "base_uri": "https://localhost:8080/"
        },
        "outputId": "6faf9577-4cfd-432f-bfa1-5b132303ef9c",
        "id": "nb3Dbu7iQ9HS"
      },
      "execution_count": null,
      "outputs": [
        {
          "output_type": "stream",
          "name": "stdout",
          "text": [
            "(82332, 30) (175341, 30)\n"
          ]
        }
      ]
    },
    {
      "cell_type": "markdown",
      "metadata": {
        "id": "NxfOrROT0jNC"
      },
      "source": [
        "####Normalizing Data"
      ]
    },
    {
      "cell_type": "code",
      "source": [
        "from sklearn.preprocessing import StandardScaler"
      ],
      "metadata": {
        "id": "k5aL9LwU0jNE"
      },
      "execution_count": null,
      "outputs": []
    },
    {
      "cell_type": "code",
      "source": [
        "scaler2 = StandardScaler()\n",
        "scaler2.fit(X2_train)\n",
        "X2_train=scaler2.transform(X2_train)\n",
        "X2_test=scaler2.transform(X2_test)"
      ],
      "metadata": {
        "id": "mcDw-YLA0jNF"
      },
      "execution_count": null,
      "outputs": []
    },
    {
      "cell_type": "code",
      "metadata": {
        "id": "AS0QdX840jNF"
      },
      "source": [
        "y2_test,y2_train=pd.DataFrame(y2_test),pd.DataFrame(y2_train)"
      ],
      "execution_count": null,
      "outputs": []
    },
    {
      "cell_type": "code",
      "source": [],
      "metadata": {
        "id": "OFulUveFB4-o"
      },
      "execution_count": null,
      "outputs": []
    },
    {
      "cell_type": "markdown",
      "source": [
        "####SMOTE Oversampling"
      ],
      "metadata": {
        "id": "jCIERC6V1Dqu"
      }
    },
    {
      "cell_type": "code",
      "source": [
        "from imblearn.over_sampling import SMOTE\n",
        "oversample = SMOTE()"
      ],
      "metadata": {
        "id": "hdbEUMzL1Dqv"
      },
      "execution_count": null,
      "outputs": []
    },
    {
      "cell_type": "code",
      "source": [
        "oversample = SMOTE()\n",
        "X2_train, y2_train = oversample.fit_resample(X2_train, y2_train)"
      ],
      "metadata": {
        "id": "qMC6DyvS1Dqv"
      },
      "execution_count": null,
      "outputs": []
    },
    {
      "cell_type": "code",
      "source": [
        "print(X2_train.shape , y2_train.shape\n",
        "      )"
      ],
      "metadata": {
        "colab": {
          "base_uri": "https://localhost:8080/"
        },
        "outputId": "fccbac5e-17b3-410b-82e3-dea09c412e95",
        "id": "uZIgi4Pm1Dqw"
      },
      "execution_count": null,
      "outputs": [
        {
          "output_type": "stream",
          "name": "stdout",
          "text": [
            "(90664, 30) (90664, 1)\n"
          ]
        }
      ]
    },
    {
      "cell_type": "code",
      "source": [
        "from imblearn.under_sampling import RandomUnderSampler"
      ],
      "metadata": {
        "id": "eJ8s2WDG1Dqw"
      },
      "execution_count": null,
      "outputs": []
    },
    {
      "cell_type": "code",
      "source": [
        "rus = RandomUnderSampler(random_state=42)"
      ],
      "metadata": {
        "id": "iRZ5jyH31Dqx"
      },
      "execution_count": null,
      "outputs": []
    },
    {
      "cell_type": "code",
      "source": [
        "X2_train, y2_train = rus.fit_resample(X2_train, y2_train)\n",
        "print(X2_train.shape , y2_train.shape)"
      ],
      "metadata": {
        "colab": {
          "base_uri": "https://localhost:8080/"
        },
        "outputId": "76212fd3-2010-41eb-8c46-1f6d3e82b0c3",
        "id": "UoPT-63Y1Dqx"
      },
      "execution_count": null,
      "outputs": [
        {
          "output_type": "stream",
          "name": "stdout",
          "text": [
            "(90664, 30) (90664, 1)\n"
          ]
        }
      ]
    },
    {
      "cell_type": "code",
      "source": [
        "from sklearn.metrics import multilabel_confusion_matrix"
      ],
      "metadata": {
        "id": "E-VrTXdx1Dqx"
      },
      "execution_count": null,
      "outputs": []
    },
    {
      "cell_type": "code",
      "source": [
        "def fitandeval(model,x_train,yy_train,x_test,yy_test):\n",
        "  model.fit(x_train,yy_train)\n",
        "  y_pred=model.predict(x_test)\n",
        "  f1score=f1_score(yy_test, y_pred, average=\"macro\")\n",
        "  W_f1score=f1_score(yy_test, y_pred, average=\"weighted\")\n",
        "  \n",
        "  \n",
        " \n",
        "\n",
        "  return f1score,W_f1score"
      ],
      "metadata": {
        "id": "YGAyCYdj1Dqy"
      },
      "execution_count": null,
      "outputs": []
    },
    {
      "cell_type": "code",
      "source": [],
      "metadata": {
        "id": "SPOGwqSk1Dqy"
      },
      "execution_count": null,
      "outputs": []
    },
    {
      "cell_type": "markdown",
      "source": [
        "###Models"
      ],
      "metadata": {
        "id": "eKinbMXKuFDd"
      }
    },
    {
      "cell_type": "markdown",
      "metadata": {
        "id": "wffF6fwBCb3R"
      },
      "source": [
        "#####Random Forest"
      ]
    },
    {
      "cell_type": "code",
      "metadata": {
        "id": "bH_-DoFtClrR"
      },
      "source": [
        "RF_NB=RandomForestClassifier(n_estimators=100, random_state=1)"
      ],
      "execution_count": null,
      "outputs": []
    },
    {
      "cell_type": "code",
      "source": [
        "f1score_RF_NB , W_f1score_RF_NB=fitandeval(RF_NB,X2_train,y2_train,X2_test,y2_test)"
      ],
      "metadata": {
        "colab": {
          "base_uri": "https://localhost:8080/"
        },
        "id": "2AJId8eeB8Uk",
        "outputId": "898de3c0-5618-417e-a8d6-8d9bd31caa69"
      },
      "execution_count": null,
      "outputs": [
        {
          "output_type": "stream",
          "name": "stderr",
          "text": [
            "/usr/local/lib/python3.7/dist-packages/ipykernel_launcher.py:2: DataConversionWarning: A column-vector y was passed when a 1d array was expected. Please change the shape of y to (n_samples,), for example using ravel().\n",
            "  \n"
          ]
        }
      ]
    },
    {
      "cell_type": "code",
      "source": [
        "W_f1score_RF_NB"
      ],
      "metadata": {
        "colab": {
          "base_uri": "https://localhost:8080/"
        },
        "id": "vFMy4_jNHdS5",
        "outputId": "de976e29-2c9d-4131-d4fa-2e6144cad798"
      },
      "execution_count": null,
      "outputs": [
        {
          "output_type": "execute_result",
          "data": {
            "text/plain": [
              "0.9015300133835822"
            ]
          },
          "metadata": {},
          "execution_count": 152
        }
      ]
    },
    {
      "cell_type": "markdown",
      "metadata": {
        "id": "nolx2yzDDUX0"
      },
      "source": [
        "#####Decision Tree"
      ]
    },
    {
      "cell_type": "code",
      "metadata": {
        "id": "ABg5MyrPC7tR"
      },
      "source": [
        "DT_NB = DecisionTreeClassifier(criterion='gini',max_depth=30) "
      ],
      "execution_count": null,
      "outputs": []
    },
    {
      "cell_type": "code",
      "metadata": {
        "id": "OYK5jY5QDZYC"
      },
      "source": [
        "f1score_DT_NB , W_f1score_DT_NB=fitandeval(DT_NB,X2_train,y2_train,X2_test,y2_test)"
      ],
      "execution_count": null,
      "outputs": []
    },
    {
      "cell_type": "code",
      "metadata": {
        "id": "33FHXy9ODZce",
        "colab": {
          "base_uri": "https://localhost:8080/"
        },
        "outputId": "14d840d0-d9bb-431d-d5fc-1c6f6e5d65fe"
      },
      "source": [
        "W_f1score_DT_NB"
      ],
      "execution_count": null,
      "outputs": [
        {
          "output_type": "execute_result",
          "data": {
            "text/plain": [
              "0.8934958068225551"
            ]
          },
          "metadata": {},
          "execution_count": 155
        }
      ]
    },
    {
      "cell_type": "markdown",
      "metadata": {
        "id": "TI6pzljWEUgV"
      },
      "source": [
        "#####Navie Bays"
      ]
    },
    {
      "cell_type": "code",
      "metadata": {
        "id": "Cty1RLzsEkVR"
      },
      "source": [
        "NB_NB= GaussianNB()"
      ],
      "execution_count": null,
      "outputs": []
    },
    {
      "cell_type": "code",
      "metadata": {
        "colab": {
          "base_uri": "https://localhost:8080/"
        },
        "id": "6Wy5F7CwEZMB",
        "outputId": "b6b39204-fbce-4412-d7a8-1b4246b1f295"
      },
      "source": [
        "f1score_NB_NB , W_f1score_NB_NB=fitandeval(NB_NB,X2_train,y2_train,X2_test,y2_test)"
      ],
      "execution_count": null,
      "outputs": [
        {
          "output_type": "stream",
          "name": "stderr",
          "text": [
            "/usr/local/lib/python3.7/dist-packages/sklearn/utils/validation.py:993: DataConversionWarning: A column-vector y was passed when a 1d array was expected. Please change the shape of y to (n_samples, ), for example using ravel().\n",
            "  y = column_or_1d(y, warn=True)\n"
          ]
        }
      ]
    },
    {
      "cell_type": "code",
      "metadata": {
        "id": "ctuHNRKwEZQn",
        "colab": {
          "base_uri": "https://localhost:8080/"
        },
        "outputId": "b2fb13b9-3a5d-49bc-f931-c2deb9b6cf32"
      },
      "source": [
        "W_f1score_NB_NB"
      ],
      "execution_count": null,
      "outputs": [
        {
          "output_type": "execute_result",
          "data": {
            "text/plain": [
              "0.6979717686894156"
            ]
          },
          "metadata": {},
          "execution_count": 158
        }
      ]
    },
    {
      "cell_type": "markdown",
      "metadata": {
        "id": "rgtPgURiF51o"
      },
      "source": [
        "#####SVM"
      ]
    },
    {
      "cell_type": "code",
      "metadata": {
        "id": "W-16_3YRGJQj"
      },
      "source": [
        "SVM_NB = SVC(kernel='rbf')"
      ],
      "execution_count": null,
      "outputs": []
    },
    {
      "cell_type": "code",
      "source": [
        "f1score_SVM_NB , W_f1score_SVM_NB=fitandeval(SVM_NB,X2_train,y2_train,X2_test,y2_test)"
      ],
      "metadata": {
        "id": "dA6Np09IRNEX",
        "colab": {
          "base_uri": "https://localhost:8080/"
        },
        "outputId": "eed959dd-1876-4744-ab41-7831dd97a94b"
      },
      "execution_count": null,
      "outputs": [
        {
          "output_type": "stream",
          "name": "stderr",
          "text": [
            "/usr/local/lib/python3.7/dist-packages/sklearn/utils/validation.py:993: DataConversionWarning: A column-vector y was passed when a 1d array was expected. Please change the shape of y to (n_samples, ), for example using ravel().\n",
            "  y = column_or_1d(y, warn=True)\n"
          ]
        }
      ]
    },
    {
      "cell_type": "code",
      "metadata": {
        "id": "-CjfCjQ-F9ha",
        "colab": {
          "base_uri": "https://localhost:8080/"
        },
        "outputId": "b197f91d-4c9c-4e16-95a5-914c13c93a9f"
      },
      "source": [
        "f1score_SVM_NB"
      ],
      "execution_count": null,
      "outputs": [
        {
          "output_type": "execute_result",
          "data": {
            "text/plain": [
              "0.8421016206967374"
            ]
          },
          "metadata": {},
          "execution_count": 161
        }
      ]
    },
    {
      "cell_type": "code",
      "source": [
        "# f1score_SVM_NB , W_f1score_SVM_NB=0.5333,0.823264"
      ],
      "metadata": {
        "id": "-USOBDClbukN"
      },
      "execution_count": null,
      "outputs": []
    },
    {
      "cell_type": "code",
      "source": [],
      "metadata": {
        "id": "jAqcUZLObuoa"
      },
      "execution_count": null,
      "outputs": []
    },
    {
      "cell_type": "markdown",
      "metadata": {
        "id": "WQ6kTO_QInMG"
      },
      "source": [
        "#####MLP"
      ]
    },
    {
      "cell_type": "code",
      "metadata": {
        "id": "q6dqxD6JIlWO"
      },
      "source": [
        "\n",
        "MLP_NB= Sequential()\n",
        "    \n",
        "    #here 30 is output dimension\n",
        "MLP_NB.add(Dense(100,input_dim =X2_train.shape[1],activation = 'relu',kernel_initializer='random_uniform'))\n",
        "    \n",
        "    #in next layer we do not specify the input_dim as the model is sequential so output of previous layer is input to next layer\n",
        "MLP_NB.add(Dense(100,activation='relu',kernel_initializer='random_uniform'))\n",
        "MLP_NB.add(Dense(100,activation='relu',kernel_initializer='random_uniform'))\n",
        "\n",
        "    \n",
        "    #5 classes-normal,dos,probe,r2l,u2r\n",
        "MLP_NB.add(Dense(1,activation='sigmoid'))\n",
        "    \n",
        "    #loss is categorical_crossentropy which specifies that we have multiple classes\n",
        "    \n",
        "MLP_NB.compile(loss ='binary_crossentropy',optimizer = 'adam',metrics = ['accuracy'])\n",
        "\n",
        " \n",
        "    "
      ],
      "execution_count": null,
      "outputs": []
    },
    {
      "cell_type": "code",
      "metadata": {
        "colab": {
          "base_uri": "https://localhost:8080/"
        },
        "id": "aR6uqNWHIlor",
        "outputId": "c3c1646c-30fc-4304-dc17-9a90bf035957"
      },
      "source": [
        "\n",
        "\n",
        "MLP_NB.fit(X2_train,y2_train,epochs=30,batch_size=32)\n"
      ],
      "execution_count": null,
      "outputs": [
        {
          "output_type": "stream",
          "name": "stdout",
          "text": [
            "Epoch 1/30\n",
            "2834/2834 [==============================] - 6s 2ms/step - loss: 0.1193 - accuracy: 0.9507\n",
            "Epoch 2/30\n",
            "2834/2834 [==============================] - 6s 2ms/step - loss: 0.1130 - accuracy: 0.9536\n",
            "Epoch 3/30\n",
            "2834/2834 [==============================] - 6s 2ms/step - loss: 0.1099 - accuracy: 0.9554\n",
            "Epoch 4/30\n",
            "2834/2834 [==============================] - 6s 2ms/step - loss: 0.1051 - accuracy: 0.9566\n",
            "Epoch 5/30\n",
            "2834/2834 [==============================] - 6s 2ms/step - loss: 0.1030 - accuracy: 0.9575\n",
            "Epoch 6/30\n",
            "2834/2834 [==============================] - 6s 2ms/step - loss: 0.1008 - accuracy: 0.9586\n",
            "Epoch 7/30\n",
            "2834/2834 [==============================] - 6s 2ms/step - loss: 0.0992 - accuracy: 0.9587\n",
            "Epoch 8/30\n",
            "2834/2834 [==============================] - 6s 2ms/step - loss: 0.0967 - accuracy: 0.9605\n",
            "Epoch 9/30\n",
            "2834/2834 [==============================] - 6s 2ms/step - loss: 0.0957 - accuracy: 0.9601\n",
            "Epoch 10/30\n",
            "2834/2834 [==============================] - 6s 2ms/step - loss: 0.0943 - accuracy: 0.9615\n",
            "Epoch 11/30\n",
            "2834/2834 [==============================] - 6s 2ms/step - loss: 0.0927 - accuracy: 0.9615\n",
            "Epoch 12/30\n",
            "2834/2834 [==============================] - 6s 2ms/step - loss: 0.0913 - accuracy: 0.9622\n",
            "Epoch 13/30\n",
            "2834/2834 [==============================] - 6s 2ms/step - loss: 0.0928 - accuracy: 0.9631\n",
            "Epoch 14/30\n",
            "2834/2834 [==============================] - 6s 2ms/step - loss: 0.0887 - accuracy: 0.9633\n",
            "Epoch 15/30\n",
            "2834/2834 [==============================] - 6s 2ms/step - loss: 0.0880 - accuracy: 0.9638\n",
            "Epoch 16/30\n",
            "2834/2834 [==============================] - 6s 2ms/step - loss: 0.0864 - accuracy: 0.9642\n",
            "Epoch 17/30\n",
            "2834/2834 [==============================] - 6s 2ms/step - loss: 0.0861 - accuracy: 0.9650\n",
            "Epoch 18/30\n",
            "2834/2834 [==============================] - 6s 2ms/step - loss: 0.0848 - accuracy: 0.9652\n",
            "Epoch 19/30\n",
            "2834/2834 [==============================] - 6s 2ms/step - loss: 0.0845 - accuracy: 0.9658\n",
            "Epoch 20/30\n",
            "2834/2834 [==============================] - 6s 2ms/step - loss: 0.0841 - accuracy: 0.9664\n",
            "Epoch 21/30\n",
            "2834/2834 [==============================] - 6s 2ms/step - loss: 0.0822 - accuracy: 0.9665\n",
            "Epoch 22/30\n",
            "2834/2834 [==============================] - 6s 2ms/step - loss: 0.0819 - accuracy: 0.9670\n",
            "Epoch 23/30\n",
            "2834/2834 [==============================] - 6s 2ms/step - loss: 0.0834 - accuracy: 0.9679\n",
            "Epoch 24/30\n",
            "2834/2834 [==============================] - 6s 2ms/step - loss: 0.0810 - accuracy: 0.9678\n",
            "Epoch 25/30\n",
            "2834/2834 [==============================] - 6s 2ms/step - loss: 0.0802 - accuracy: 0.9675\n",
            "Epoch 26/30\n",
            "2834/2834 [==============================] - 6s 2ms/step - loss: 0.0791 - accuracy: 0.9682\n",
            "Epoch 27/30\n",
            "2834/2834 [==============================] - 6s 2ms/step - loss: 0.0786 - accuracy: 0.9680\n",
            "Epoch 28/30\n",
            "2834/2834 [==============================] - 6s 2ms/step - loss: 0.0776 - accuracy: 0.9691\n",
            "Epoch 29/30\n",
            "2834/2834 [==============================] - 6s 2ms/step - loss: 0.0774 - accuracy: 0.9689\n",
            "Epoch 30/30\n",
            "2834/2834 [==============================] - 6s 2ms/step - loss: 0.0766 - accuracy: 0.9695\n"
          ]
        },
        {
          "output_type": "execute_result",
          "data": {
            "text/plain": [
              "<keras.callbacks.History at 0x7f9f96466450>"
            ]
          },
          "metadata": {},
          "execution_count": 165
        }
      ]
    },
    {
      "cell_type": "code",
      "metadata": {
        "id": "GAT7_xUWJ_5s"
      },
      "source": [
        "\n",
        "y_pred_MLP_NB = MLP_NB.predict(X2_test)\n",
        "y_pred_MLP_NB =np.round(y_pred_MLP_NB)"
      ],
      "execution_count": null,
      "outputs": []
    },
    {
      "cell_type": "code",
      "source": [
        "f1score_MLP_NB=f1_score(y2_test, y_pred_MLP_NB , average=\"macro\")\n",
        "W_f1score_MLP_NB=f1_score(y2_test ,y_pred_MLP_NB , average=\"weighted\")"
      ],
      "metadata": {
        "id": "mncCO1-JlR-h"
      },
      "execution_count": null,
      "outputs": []
    },
    {
      "cell_type": "code",
      "source": [
        "print(f1score_MLP_NB ,W_f1score_MLP_NB)\n"
      ],
      "metadata": {
        "colab": {
          "base_uri": "https://localhost:8080/"
        },
        "id": "-81z-1BGooKP",
        "outputId": "bed60c91-32d7-4419-f0a8-3aeb5ed0e220"
      },
      "execution_count": null,
      "outputs": [
        {
          "output_type": "stream",
          "name": "stdout",
          "text": [
            "0.8389628599046961 0.852435258147496\n"
          ]
        }
      ]
    },
    {
      "cell_type": "markdown",
      "metadata": {
        "id": "gOgnQHoheuc-"
      },
      "source": [
        "#####result"
      ]
    },
    {
      "cell_type": "code",
      "metadata": {
        "colab": {
          "base_uri": "https://localhost:8080/",
          "height": 206
        },
        "outputId": "56db1fef-b148-4b83-d1b0-aa719bd5e0f1",
        "id": "CiTAWWHeeuc-"
      },
      "source": [
        "dic4={\"F1 score\":[(\"{:.6f}\".format(f1score_RF_NB)),(\"{:.6f}\".format(f1score_DT_NB)),(\"{:.6f}\".format(f1score_NB_NB))\n",
        "       ,(\"{:.6f}\".format(f1score_SVM_NB)),(\"{:.6f}\".format(f1score_MLP_NB))],\n",
        "      \n",
        "     \"Weighted F1 score\":[(\"{:.6f}\".format(W_f1score_RF_NB)),(\"{:.6f}\".format(W_f1score_DT_NB)),(\"{:.6f}\".format(W_f1score_NB_NB))\n",
        "       ,(\"{:.6f}\".format(W_f1score_SVM_NB)),(\"{:.6f}\".format(W_f1score_MLP_NB))]}\n",
        "\n",
        "       \n",
        "main_data = pd.DataFrame.from_dict( dic4 , orient='index')\n",
        "main_data.columns=['Random Forest', 'Decision Tree','Navie Bays','SVM','MLP']\n",
        "main_data = main_data.T\n",
        "main_data"
      ],
      "execution_count": null,
      "outputs": [
        {
          "output_type": "execute_result",
          "data": {
            "text/html": [
              "\n",
              "  <div id=\"df-b00862e1-385f-48cc-a4f6-5593dc45c94a\">\n",
              "    <div class=\"colab-df-container\">\n",
              "      <div>\n",
              "<style scoped>\n",
              "    .dataframe tbody tr th:only-of-type {\n",
              "        vertical-align: middle;\n",
              "    }\n",
              "\n",
              "    .dataframe tbody tr th {\n",
              "        vertical-align: top;\n",
              "    }\n",
              "\n",
              "    .dataframe thead th {\n",
              "        text-align: right;\n",
              "    }\n",
              "</style>\n",
              "<table border=\"1\" class=\"dataframe\">\n",
              "  <thead>\n",
              "    <tr style=\"text-align: right;\">\n",
              "      <th></th>\n",
              "      <th>F1 score</th>\n",
              "      <th>Weighted F1 score</th>\n",
              "    </tr>\n",
              "  </thead>\n",
              "  <tbody>\n",
              "    <tr>\n",
              "      <th>Random Forest</th>\n",
              "      <td>0.890779</td>\n",
              "      <td>0.901530</td>\n",
              "    </tr>\n",
              "    <tr>\n",
              "      <th>Decision Tree</th>\n",
              "      <td>0.881582</td>\n",
              "      <td>0.893496</td>\n",
              "    </tr>\n",
              "    <tr>\n",
              "      <th>Navie Bays</th>\n",
              "      <td>0.688497</td>\n",
              "      <td>0.697972</td>\n",
              "    </tr>\n",
              "    <tr>\n",
              "      <th>SVM</th>\n",
              "      <td>0.842102</td>\n",
              "      <td>0.855119</td>\n",
              "    </tr>\n",
              "    <tr>\n",
              "      <th>MLP</th>\n",
              "      <td>0.838963</td>\n",
              "      <td>0.852435</td>\n",
              "    </tr>\n",
              "  </tbody>\n",
              "</table>\n",
              "</div>\n",
              "      <button class=\"colab-df-convert\" onclick=\"convertToInteractive('df-b00862e1-385f-48cc-a4f6-5593dc45c94a')\"\n",
              "              title=\"Convert this dataframe to an interactive table.\"\n",
              "              style=\"display:none;\">\n",
              "        \n",
              "  <svg xmlns=\"http://www.w3.org/2000/svg\" height=\"24px\"viewBox=\"0 0 24 24\"\n",
              "       width=\"24px\">\n",
              "    <path d=\"M0 0h24v24H0V0z\" fill=\"none\"/>\n",
              "    <path d=\"M18.56 5.44l.94 2.06.94-2.06 2.06-.94-2.06-.94-.94-2.06-.94 2.06-2.06.94zm-11 1L8.5 8.5l.94-2.06 2.06-.94-2.06-.94L8.5 2.5l-.94 2.06-2.06.94zm10 10l.94 2.06.94-2.06 2.06-.94-2.06-.94-.94-2.06-.94 2.06-2.06.94z\"/><path d=\"M17.41 7.96l-1.37-1.37c-.4-.4-.92-.59-1.43-.59-.52 0-1.04.2-1.43.59L10.3 9.45l-7.72 7.72c-.78.78-.78 2.05 0 2.83L4 21.41c.39.39.9.59 1.41.59.51 0 1.02-.2 1.41-.59l7.78-7.78 2.81-2.81c.8-.78.8-2.07 0-2.86zM5.41 20L4 18.59l7.72-7.72 1.47 1.35L5.41 20z\"/>\n",
              "  </svg>\n",
              "      </button>\n",
              "      \n",
              "  <style>\n",
              "    .colab-df-container {\n",
              "      display:flex;\n",
              "      flex-wrap:wrap;\n",
              "      gap: 12px;\n",
              "    }\n",
              "\n",
              "    .colab-df-convert {\n",
              "      background-color: #E8F0FE;\n",
              "      border: none;\n",
              "      border-radius: 50%;\n",
              "      cursor: pointer;\n",
              "      display: none;\n",
              "      fill: #1967D2;\n",
              "      height: 32px;\n",
              "      padding: 0 0 0 0;\n",
              "      width: 32px;\n",
              "    }\n",
              "\n",
              "    .colab-df-convert:hover {\n",
              "      background-color: #E2EBFA;\n",
              "      box-shadow: 0px 1px 2px rgba(60, 64, 67, 0.3), 0px 1px 3px 1px rgba(60, 64, 67, 0.15);\n",
              "      fill: #174EA6;\n",
              "    }\n",
              "\n",
              "    [theme=dark] .colab-df-convert {\n",
              "      background-color: #3B4455;\n",
              "      fill: #D2E3FC;\n",
              "    }\n",
              "\n",
              "    [theme=dark] .colab-df-convert:hover {\n",
              "      background-color: #434B5C;\n",
              "      box-shadow: 0px 1px 3px 1px rgba(0, 0, 0, 0.15);\n",
              "      filter: drop-shadow(0px 1px 2px rgba(0, 0, 0, 0.3));\n",
              "      fill: #FFFFFF;\n",
              "    }\n",
              "  </style>\n",
              "\n",
              "      <script>\n",
              "        const buttonEl =\n",
              "          document.querySelector('#df-b00862e1-385f-48cc-a4f6-5593dc45c94a button.colab-df-convert');\n",
              "        buttonEl.style.display =\n",
              "          google.colab.kernel.accessAllowed ? 'block' : 'none';\n",
              "\n",
              "        async function convertToInteractive(key) {\n",
              "          const element = document.querySelector('#df-b00862e1-385f-48cc-a4f6-5593dc45c94a');\n",
              "          const dataTable =\n",
              "            await google.colab.kernel.invokeFunction('convertToInteractive',\n",
              "                                                     [key], {});\n",
              "          if (!dataTable) return;\n",
              "\n",
              "          const docLinkHtml = 'Like what you see? Visit the ' +\n",
              "            '<a target=\"_blank\" href=https://colab.research.google.com/notebooks/data_table.ipynb>data table notebook</a>'\n",
              "            + ' to learn more about interactive tables.';\n",
              "          element.innerHTML = '';\n",
              "          dataTable['output_type'] = 'display_data';\n",
              "          await google.colab.output.renderOutput(dataTable, element);\n",
              "          const docLink = document.createElement('div');\n",
              "          docLink.innerHTML = docLinkHtml;\n",
              "          element.appendChild(docLink);\n",
              "        }\n",
              "      </script>\n",
              "    </div>\n",
              "  </div>\n",
              "  "
            ],
            "text/plain": [
              "               F1 score Weighted F1 score\n",
              "Random Forest  0.890779          0.901530\n",
              "Decision Tree  0.881582          0.893496\n",
              "Navie Bays     0.688497          0.697972\n",
              "SVM            0.842102          0.855119\n",
              "MLP            0.838963          0.852435"
            ]
          },
          "metadata": {},
          "execution_count": 196
        }
      ]
    },
    {
      "cell_type": "code",
      "metadata": {
        "colab": {
          "base_uri": "https://localhost:8080/",
          "height": 206
        },
        "outputId": "b34ac932-ebb6-44bb-95a9-ec18434799cd",
        "id": "kbKNCXPoeuc_"
      },
      "source": [
        "dic3={\n",
        "      \"Fandom Forest\"      :(\"{:.6f}\".format(W_f1score_RF_NB)),\n",
        "      \"Decision Tree\"   :(\"{:.6f}\".format(W_f1score_DT_NB)),\n",
        "      \"Navie Bays\" :(\"{:.6f}\".format(W_f1score_NB_NB)),\n",
        "      \"SVM\" :(\"{:.6f}\".format(W_f1score_SVM_NB)),\n",
        "      \"MLP\" :(\"{:.6f}\".format(W_f1score_MLP_NB)),\n",
        "      \n",
        "      }\n",
        "\n",
        "evaluation_NB = pd.DataFrame.from_dict(dic3, orient='index', columns=[\"Weighted F1_Score\"] )\n",
        "evaluation_NB"
      ],
      "execution_count": null,
      "outputs": [
        {
          "output_type": "execute_result",
          "data": {
            "text/html": [
              "\n",
              "  <div id=\"df-22584648-bfe7-4525-bc07-23472a33f144\">\n",
              "    <div class=\"colab-df-container\">\n",
              "      <div>\n",
              "<style scoped>\n",
              "    .dataframe tbody tr th:only-of-type {\n",
              "        vertical-align: middle;\n",
              "    }\n",
              "\n",
              "    .dataframe tbody tr th {\n",
              "        vertical-align: top;\n",
              "    }\n",
              "\n",
              "    .dataframe thead th {\n",
              "        text-align: right;\n",
              "    }\n",
              "</style>\n",
              "<table border=\"1\" class=\"dataframe\">\n",
              "  <thead>\n",
              "    <tr style=\"text-align: right;\">\n",
              "      <th></th>\n",
              "      <th>Weighted F1_Score</th>\n",
              "    </tr>\n",
              "  </thead>\n",
              "  <tbody>\n",
              "    <tr>\n",
              "      <th>Fandom Forest</th>\n",
              "      <td>0.901530</td>\n",
              "    </tr>\n",
              "    <tr>\n",
              "      <th>Decision Tree</th>\n",
              "      <td>0.893496</td>\n",
              "    </tr>\n",
              "    <tr>\n",
              "      <th>Navie Bays</th>\n",
              "      <td>0.697972</td>\n",
              "    </tr>\n",
              "    <tr>\n",
              "      <th>SVM</th>\n",
              "      <td>0.855119</td>\n",
              "    </tr>\n",
              "    <tr>\n",
              "      <th>MLP</th>\n",
              "      <td>0.852435</td>\n",
              "    </tr>\n",
              "  </tbody>\n",
              "</table>\n",
              "</div>\n",
              "      <button class=\"colab-df-convert\" onclick=\"convertToInteractive('df-22584648-bfe7-4525-bc07-23472a33f144')\"\n",
              "              title=\"Convert this dataframe to an interactive table.\"\n",
              "              style=\"display:none;\">\n",
              "        \n",
              "  <svg xmlns=\"http://www.w3.org/2000/svg\" height=\"24px\"viewBox=\"0 0 24 24\"\n",
              "       width=\"24px\">\n",
              "    <path d=\"M0 0h24v24H0V0z\" fill=\"none\"/>\n",
              "    <path d=\"M18.56 5.44l.94 2.06.94-2.06 2.06-.94-2.06-.94-.94-2.06-.94 2.06-2.06.94zm-11 1L8.5 8.5l.94-2.06 2.06-.94-2.06-.94L8.5 2.5l-.94 2.06-2.06.94zm10 10l.94 2.06.94-2.06 2.06-.94-2.06-.94-.94-2.06-.94 2.06-2.06.94z\"/><path d=\"M17.41 7.96l-1.37-1.37c-.4-.4-.92-.59-1.43-.59-.52 0-1.04.2-1.43.59L10.3 9.45l-7.72 7.72c-.78.78-.78 2.05 0 2.83L4 21.41c.39.39.9.59 1.41.59.51 0 1.02-.2 1.41-.59l7.78-7.78 2.81-2.81c.8-.78.8-2.07 0-2.86zM5.41 20L4 18.59l7.72-7.72 1.47 1.35L5.41 20z\"/>\n",
              "  </svg>\n",
              "      </button>\n",
              "      \n",
              "  <style>\n",
              "    .colab-df-container {\n",
              "      display:flex;\n",
              "      flex-wrap:wrap;\n",
              "      gap: 12px;\n",
              "    }\n",
              "\n",
              "    .colab-df-convert {\n",
              "      background-color: #E8F0FE;\n",
              "      border: none;\n",
              "      border-radius: 50%;\n",
              "      cursor: pointer;\n",
              "      display: none;\n",
              "      fill: #1967D2;\n",
              "      height: 32px;\n",
              "      padding: 0 0 0 0;\n",
              "      width: 32px;\n",
              "    }\n",
              "\n",
              "    .colab-df-convert:hover {\n",
              "      background-color: #E2EBFA;\n",
              "      box-shadow: 0px 1px 2px rgba(60, 64, 67, 0.3), 0px 1px 3px 1px rgba(60, 64, 67, 0.15);\n",
              "      fill: #174EA6;\n",
              "    }\n",
              "\n",
              "    [theme=dark] .colab-df-convert {\n",
              "      background-color: #3B4455;\n",
              "      fill: #D2E3FC;\n",
              "    }\n",
              "\n",
              "    [theme=dark] .colab-df-convert:hover {\n",
              "      background-color: #434B5C;\n",
              "      box-shadow: 0px 1px 3px 1px rgba(0, 0, 0, 0.15);\n",
              "      filter: drop-shadow(0px 1px 2px rgba(0, 0, 0, 0.3));\n",
              "      fill: #FFFFFF;\n",
              "    }\n",
              "  </style>\n",
              "\n",
              "      <script>\n",
              "        const buttonEl =\n",
              "          document.querySelector('#df-22584648-bfe7-4525-bc07-23472a33f144 button.colab-df-convert');\n",
              "        buttonEl.style.display =\n",
              "          google.colab.kernel.accessAllowed ? 'block' : 'none';\n",
              "\n",
              "        async function convertToInteractive(key) {\n",
              "          const element = document.querySelector('#df-22584648-bfe7-4525-bc07-23472a33f144');\n",
              "          const dataTable =\n",
              "            await google.colab.kernel.invokeFunction('convertToInteractive',\n",
              "                                                     [key], {});\n",
              "          if (!dataTable) return;\n",
              "\n",
              "          const docLinkHtml = 'Like what you see? Visit the ' +\n",
              "            '<a target=\"_blank\" href=https://colab.research.google.com/notebooks/data_table.ipynb>data table notebook</a>'\n",
              "            + ' to learn more about interactive tables.';\n",
              "          element.innerHTML = '';\n",
              "          dataTable['output_type'] = 'display_data';\n",
              "          await google.colab.output.renderOutput(dataTable, element);\n",
              "          const docLink = document.createElement('div');\n",
              "          docLink.innerHTML = docLinkHtml;\n",
              "          element.appendChild(docLink);\n",
              "        }\n",
              "      </script>\n",
              "    </div>\n",
              "  </div>\n",
              "  "
            ],
            "text/plain": [
              "              Weighted F1_Score\n",
              "Fandom Forest          0.901530\n",
              "Decision Tree          0.893496\n",
              "Navie Bays             0.697972\n",
              "SVM                    0.855119\n",
              "MLP                    0.852435"
            ]
          },
          "metadata": {},
          "execution_count": 197
        }
      ]
    },
    {
      "cell_type": "code",
      "metadata": {
        "colab": {
          "base_uri": "https://localhost:8080/",
          "height": 408
        },
        "outputId": "a609007e-713b-40fc-9fea-9e2398879872",
        "id": "YQBtWyo8eudA"
      },
      "source": [
        "from matplotlib.pyplot import plot\n",
        "f, ax = plt.subplots(figsize=(25,5)) # set the size that you'd like (width, height)\n",
        "main_data[\"Weighted F1 score\"] = main_data['Weighted F1 score'].astype(float)\n",
        "main_data[\"Weighted F1 score\"] .plot(kind=\"bar\", grid=True , width=0.4,)\n",
        "plt.title('Weighted F1 score')"
      ],
      "execution_count": null,
      "outputs": [
        {
          "output_type": "execute_result",
          "data": {
            "text/plain": [
              "Text(0.5, 1.0, 'Weighted F1 score')"
            ]
          },
          "metadata": {},
          "execution_count": 198
        },
        {
          "output_type": "display_data",
          "data": {
            "image/png": "[encoded data removed]",
            "text/plain": [
              "<Figure size 1800x360 with 1 Axes>"
            ]
          },
          "metadata": {
            "needs_background": "light"
          }
        }
      ]
    },
    {
      "cell_type": "code",
      "metadata": {
        "id": "nwcsaBIQeudA"
      },
      "source": [],
      "execution_count": null,
      "outputs": []
    },
    {
      "cell_type": "code",
      "source": [],
      "metadata": {
        "id": "2P6Y4A0CeudA"
      },
      "execution_count": null,
      "outputs": []
    },
    {
      "cell_type": "code",
      "source": [],
      "metadata": {
        "id": "W3jFeseAeudB"
      },
      "execution_count": null,
      "outputs": []
    }
  ]
}