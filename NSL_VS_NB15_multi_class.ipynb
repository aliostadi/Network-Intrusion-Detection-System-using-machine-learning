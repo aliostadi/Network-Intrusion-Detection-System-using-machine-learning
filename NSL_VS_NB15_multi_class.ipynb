{
  "nbformat": 4,
  "nbformat_minor": 0,
  "metadata": {
    "colab": {
      "provenance": [],
      "collapsed_sections": [
        "Vu8dKUa8xI1w"
      ],
      "toc_visible": true,
      "mount_file_id": "1lS_KIOVmJ-Chpa8Vf0rd64V-ss92ETRi",
      "authorship_tag": "ABX9TyMMAc7DZH8f30lbuAy/TjwI",
      "include_colab_link": true
    },
    "kernelspec": {
      "display_name": "Python 3",
      "name": "python3"
    },
    "language_info": {
      "name": "python"
    }
  },
  "cells": [
    {
      "cell_type": "markdown",
      "metadata": {
        "id": "view-in-github",
        "colab_type": "text"
      },
      "source": [
        "<a href=\"https://colab.research.google.com/github/aliostadi/Network-Intrusion-Detection-System-using-machine-learning/blob/main/NSL_VS_NB15_multi_class.ipynb\" target=\"_parent\"><img src=\"https://colab.research.google.com/assets/colab-badge.svg\" alt=\"Open In Colab\"/></a>"
      ]
    },
    {
      "cell_type": "code",
      "metadata": {
        "id": "CMnhHBNeVUiy"
      },
      "source": [
        "import numpy as np\n",
        "import pandas as pd\n",
        "import matplotlib.pyplot as plt\n",
        "import seaborn as sns\n",
        "import matplotlib.gridspec as gridspec \n",
        "from sklearn.preprocessing import LabelEncoder\n",
        "from sklearn.preprocessing import OneHotEncoder\n",
        "from sklearn.feature_selection import SelectKBest\n",
        "from sklearn.feature_selection import f_classif\n",
        "from sklearn.tree import DecisionTreeClassifier\n",
        "from sklearn.model_selection import cross_val_score\n",
        "from sklearn.metrics import mean_absolute_error\n",
        "from sklearn.metrics import accuracy_score\n",
        "from sklearn.metrics import confusion_matrix\n",
        "from sklearn.metrics import accuracy_score, f1_score, precision_score,recall_score \n",
        "from sklearn.ensemble import RandomForestClassifier\n",
        "from sklearn.ensemble import ExtraTreesClassifier\n",
        "from sklearn.ensemble import GradientBoostingClassifier\n",
        "from sklearn.naive_bayes import GaussianNB\n",
        "from sklearn.svm import SVC\n",
        "from sklearn.tree import DecisionTreeClassifier\n",
        "import time\n",
        "from keras.models import Sequential\n",
        "from keras.layers import Dense\n",
        "from keras.wrappers.scikit_learn import KerasClassifier\n",
        "from tensorflow.keras.callbacks import EarlyStopping\n",
        "import tensorflow as tf\n",
        "from tensorflow import keras\n",
        "from tensorflow.keras.layers import Conv1D, MaxPool1D, Flatten, Dense, BatchNormalization, Dropout\n",
        "from tensorflow.keras.layers import Dropout\n",
        "from tensorflow.keras.optimizers import Adam\n",
        "from keras.layers import Bidirectional\n",
        "from keras.layers import TimeDistributed\n",
        "from keras.layers import Dense , Conv1D , Conv2D , LSTM , Flatten , MaxPooling1D , Dropout , GRU , SimpleRNN\n",
        "from keras.layers import RepeatVector\n",
        "from keras.layers import TimeDistributed"
      ],
      "execution_count": null,
      "outputs": []
    },
    {
      "cell_type": "markdown",
      "source": [
        "##NSL KDD"
      ],
      "metadata": {
        "id": "e6kl1ghx8jJo"
      }
    },
    {
      "cell_type": "markdown",
      "source": [
        "#https://github.com/SubrataMaji/IDS-UNSW-NB15/blob/master/3.%20Preprocessing/Feature%20Engineering%20and%20Data%20Preparation.ipynb"
      ],
      "metadata": {
        "id": "N7JDZKVRGa9K"
      }
    },
    {
      "cell_type": "code",
      "metadata": {
        "id": "x03T6-rEZAgx",
        "outputId": "1f3bde81-6a07-40e2-ba7f-09b02c2c914d",
        "colab": {
          "base_uri": "https://localhost:8080/",
          "height": 190
        }
      },
      "source": [
        "init_train_df = pd.read_csv('https://raw.githubusercontent.com/defcom17/NSL_KDD/master/KDDTrain%2B.csv',error_bad_lines=False)\n",
        "init_test_df = pd.read_csv('https://raw.githubusercontent.com/defcom17/NSL_KDD/master/KDDTest%2B.csv',error_bad_lines=False)"
      ],
      "execution_count": null,
      "outputs": [
        {
          "output_type": "error",
          "ename": "NameError",
          "evalue": "ignored",
          "traceback": [
            "\u001b[0;31m---------------------------------------------------------------------------\u001b[0m",
            "\u001b[0;31mNameError\u001b[0m                                 Traceback (most recent call last)",
            "\u001b[0;32m<ipython-input-1-cd20da2c6bfa>\u001b[0m in \u001b[0;36m<module>\u001b[0;34m()\u001b[0m\n\u001b[0;32m----> 1\u001b[0;31m \u001b[0minit_train_df\u001b[0m \u001b[0;34m=\u001b[0m \u001b[0mpd\u001b[0m\u001b[0;34m.\u001b[0m\u001b[0mread_csv\u001b[0m\u001b[0;34m(\u001b[0m\u001b[0;34m'https://raw.githubusercontent.com/defcom17/NSL_KDD/master/KDDTrain%2B.csv'\u001b[0m\u001b[0;34m,\u001b[0m\u001b[0merror_bad_lines\u001b[0m\u001b[0;34m=\u001b[0m\u001b[0;32mFalse\u001b[0m\u001b[0;34m)\u001b[0m\u001b[0;34m\u001b[0m\u001b[0;34m\u001b[0m\u001b[0m\n\u001b[0m\u001b[1;32m      2\u001b[0m \u001b[0minit_test_df\u001b[0m \u001b[0;34m=\u001b[0m \u001b[0mpd\u001b[0m\u001b[0;34m.\u001b[0m\u001b[0mread_csv\u001b[0m\u001b[0;34m(\u001b[0m\u001b[0;34m'https://raw.githubusercontent.com/defcom17/NSL_KDD/master/KDDTest%2B.csv'\u001b[0m\u001b[0;34m,\u001b[0m\u001b[0merror_bad_lines\u001b[0m\u001b[0;34m=\u001b[0m\u001b[0;32mFalse\u001b[0m\u001b[0;34m)\u001b[0m\u001b[0;34m\u001b[0m\u001b[0;34m\u001b[0m\u001b[0m\n",
            "\u001b[0;31mNameError\u001b[0m: name 'pd' is not defined"
          ]
        }
      ]
    },
    {
      "cell_type": "code",
      "metadata": {
        "id": "CwPlb7RaziuK",
        "colab": {
          "base_uri": "https://localhost:8080/"
        },
        "outputId": "4833bad2-495b-425f-9cc0-93ef8716afc6"
      },
      "source": [
        "print(init_test_df.shape,init_train_df.shape)"
      ],
      "execution_count": null,
      "outputs": [
        {
          "output_type": "stream",
          "name": "stdout",
          "text": [
            "(22542, 43) (125972, 43)\n"
          ]
        }
      ]
    },
    {
      "cell_type": "code",
      "metadata": {
        "colab": {
          "base_uri": "https://localhost:8080/",
          "height": 487
        },
        "id": "HbuqprhxaW10",
        "outputId": "ac8bfac5-c8af-4e20-a720-99114b8a0a3b"
      },
      "source": [
        "# add the column labels\n",
        "columns = (['duration'\n",
        ",'protocol_type'\n",
        ",'service'\n",
        ",'flag'\n",
        ",'src_bytes'\n",
        ",'dst_bytes'\n",
        ",'land'\n",
        ",'wrong_fragment'\n",
        ",'urgent'\n",
        ",'hot'\n",
        ",'num_failed_logins'\n",
        ",'logged_in'\n",
        ",'num_compromised'\n",
        ",'root_shell'\n",
        ",'su_attempted'\n",
        ",'num_root'\n",
        ",'num_file_creations'\n",
        ",'num_shells'\n",
        ",'num_access_files'\n",
        ",'num_outbound_cmds'\n",
        ",'is_host_login'\n",
        ",'is_guest_login'\n",
        ",'count'\n",
        ",'srv_count'\n",
        ",'serror_rate'\n",
        ",'srv_serror_rate'\n",
        ",'rerror_rate'\n",
        ",'srv_rerror_rate'\n",
        ",'same_srv_rate'\n",
        ",'diff_srv_rate'\n",
        ",'srv_diff_host_rate'\n",
        ",'dst_host_count'\n",
        ",'dst_host_srv_count'\n",
        ",'dst_host_same_srv_rate'\n",
        ",'dst_host_diff_srv_rate'\n",
        ",'dst_host_same_src_port_rate'\n",
        ",'dst_host_srv_diff_host_rate'\n",
        ",'dst_host_serror_rate'\n",
        ",'dst_host_srv_serror_rate'\n",
        ",'dst_host_rerror_rate'\n",
        ",'dst_host_srv_rerror_rate'\n",
        ",'labels'\n",
        ",'level'])\n",
        "\n",
        "init_train_df.columns = columns\n",
        "init_test_df.columns = columns\n",
        "\n",
        "# sanity check\n",
        "init_train_df"
      ],
      "execution_count": null,
      "outputs": [
        {
          "output_type": "execute_result",
          "data": {
            "text/html": [
              "\n",
              "  <div id=\"df-85c40f9d-f8ea-4adf-8340-cdb4a1d86025\">\n",
              "    <div class=\"colab-df-container\">\n",
              "      <div>\n",
              "<style scoped>\n",
              "    .dataframe tbody tr th:only-of-type {\n",
              "        vertical-align: middle;\n",
              "    }\n",
              "\n",
              "    .dataframe tbody tr th {\n",
              "        vertical-align: top;\n",
              "    }\n",
              "\n",
              "    .dataframe thead th {\n",
              "        text-align: right;\n",
              "    }\n",
              "</style>\n",
              "<table border=\"1\" class=\"dataframe\">\n",
              "  <thead>\n",
              "    <tr style=\"text-align: right;\">\n",
              "      <th></th>\n",
              "      <th>duration</th>\n",
              "      <th>protocol_type</th>\n",
              "      <th>service</th>\n",
              "      <th>flag</th>\n",
              "      <th>src_bytes</th>\n",
              "      <th>dst_bytes</th>\n",
              "      <th>land</th>\n",
              "      <th>wrong_fragment</th>\n",
              "      <th>urgent</th>\n",
              "      <th>hot</th>\n",
              "      <th>num_failed_logins</th>\n",
              "      <th>logged_in</th>\n",
              "      <th>num_compromised</th>\n",
              "      <th>root_shell</th>\n",
              "      <th>su_attempted</th>\n",
              "      <th>num_root</th>\n",
              "      <th>num_file_creations</th>\n",
              "      <th>num_shells</th>\n",
              "      <th>num_access_files</th>\n",
              "      <th>num_outbound_cmds</th>\n",
              "      <th>is_host_login</th>\n",
              "      <th>is_guest_login</th>\n",
              "      <th>count</th>\n",
              "      <th>srv_count</th>\n",
              "      <th>serror_rate</th>\n",
              "      <th>srv_serror_rate</th>\n",
              "      <th>rerror_rate</th>\n",
              "      <th>srv_rerror_rate</th>\n",
              "      <th>same_srv_rate</th>\n",
              "      <th>diff_srv_rate</th>\n",
              "      <th>srv_diff_host_rate</th>\n",
              "      <th>dst_host_count</th>\n",
              "      <th>dst_host_srv_count</th>\n",
              "      <th>dst_host_same_srv_rate</th>\n",
              "      <th>dst_host_diff_srv_rate</th>\n",
              "      <th>dst_host_same_src_port_rate</th>\n",
              "      <th>dst_host_srv_diff_host_rate</th>\n",
              "      <th>dst_host_serror_rate</th>\n",
              "      <th>dst_host_srv_serror_rate</th>\n",
              "      <th>dst_host_rerror_rate</th>\n",
              "      <th>dst_host_srv_rerror_rate</th>\n",
              "      <th>labels</th>\n",
              "      <th>level</th>\n",
              "    </tr>\n",
              "  </thead>\n",
              "  <tbody>\n",
              "    <tr>\n",
              "      <th>0</th>\n",
              "      <td>0</td>\n",
              "      <td>udp</td>\n",
              "      <td>other</td>\n",
              "      <td>SF</td>\n",
              "      <td>146</td>\n",
              "      <td>0</td>\n",
              "      <td>0</td>\n",
              "      <td>0</td>\n",
              "      <td>0</td>\n",
              "      <td>0</td>\n",
              "      <td>0</td>\n",
              "      <td>0</td>\n",
              "      <td>0</td>\n",
              "      <td>0</td>\n",
              "      <td>0</td>\n",
              "      <td>0</td>\n",
              "      <td>0</td>\n",
              "      <td>0</td>\n",
              "      <td>0</td>\n",
              "      <td>0</td>\n",
              "      <td>0</td>\n",
              "      <td>0</td>\n",
              "      <td>13</td>\n",
              "      <td>1</td>\n",
              "      <td>0.0</td>\n",
              "      <td>0.0</td>\n",
              "      <td>0.0</td>\n",
              "      <td>0.0</td>\n",
              "      <td>0.08</td>\n",
              "      <td>0.15</td>\n",
              "      <td>0.00</td>\n",
              "      <td>255</td>\n",
              "      <td>1</td>\n",
              "      <td>0.00</td>\n",
              "      <td>0.60</td>\n",
              "      <td>0.88</td>\n",
              "      <td>0.00</td>\n",
              "      <td>0.00</td>\n",
              "      <td>0.00</td>\n",
              "      <td>0.00</td>\n",
              "      <td>0.00</td>\n",
              "      <td>normal</td>\n",
              "      <td>15</td>\n",
              "    </tr>\n",
              "    <tr>\n",
              "      <th>1</th>\n",
              "      <td>0</td>\n",
              "      <td>tcp</td>\n",
              "      <td>private</td>\n",
              "      <td>S0</td>\n",
              "      <td>0</td>\n",
              "      <td>0</td>\n",
              "      <td>0</td>\n",
              "      <td>0</td>\n",
              "      <td>0</td>\n",
              "      <td>0</td>\n",
              "      <td>0</td>\n",
              "      <td>0</td>\n",
              "      <td>0</td>\n",
              "      <td>0</td>\n",
              "      <td>0</td>\n",
              "      <td>0</td>\n",
              "      <td>0</td>\n",
              "      <td>0</td>\n",
              "      <td>0</td>\n",
              "      <td>0</td>\n",
              "      <td>0</td>\n",
              "      <td>0</td>\n",
              "      <td>123</td>\n",
              "      <td>6</td>\n",
              "      <td>1.0</td>\n",
              "      <td>1.0</td>\n",
              "      <td>0.0</td>\n",
              "      <td>0.0</td>\n",
              "      <td>0.05</td>\n",
              "      <td>0.07</td>\n",
              "      <td>0.00</td>\n",
              "      <td>255</td>\n",
              "      <td>26</td>\n",
              "      <td>0.10</td>\n",
              "      <td>0.05</td>\n",
              "      <td>0.00</td>\n",
              "      <td>0.00</td>\n",
              "      <td>1.00</td>\n",
              "      <td>1.00</td>\n",
              "      <td>0.00</td>\n",
              "      <td>0.00</td>\n",
              "      <td>neptune</td>\n",
              "      <td>19</td>\n",
              "    </tr>\n",
              "    <tr>\n",
              "      <th>2</th>\n",
              "      <td>0</td>\n",
              "      <td>tcp</td>\n",
              "      <td>http</td>\n",
              "      <td>SF</td>\n",
              "      <td>232</td>\n",
              "      <td>8153</td>\n",
              "      <td>0</td>\n",
              "      <td>0</td>\n",
              "      <td>0</td>\n",
              "      <td>0</td>\n",
              "      <td>0</td>\n",
              "      <td>1</td>\n",
              "      <td>0</td>\n",
              "      <td>0</td>\n",
              "      <td>0</td>\n",
              "      <td>0</td>\n",
              "      <td>0</td>\n",
              "      <td>0</td>\n",
              "      <td>0</td>\n",
              "      <td>0</td>\n",
              "      <td>0</td>\n",
              "      <td>0</td>\n",
              "      <td>5</td>\n",
              "      <td>5</td>\n",
              "      <td>0.2</td>\n",
              "      <td>0.2</td>\n",
              "      <td>0.0</td>\n",
              "      <td>0.0</td>\n",
              "      <td>1.00</td>\n",
              "      <td>0.00</td>\n",
              "      <td>0.00</td>\n",
              "      <td>30</td>\n",
              "      <td>255</td>\n",
              "      <td>1.00</td>\n",
              "      <td>0.00</td>\n",
              "      <td>0.03</td>\n",
              "      <td>0.04</td>\n",
              "      <td>0.03</td>\n",
              "      <td>0.01</td>\n",
              "      <td>0.00</td>\n",
              "      <td>0.01</td>\n",
              "      <td>normal</td>\n",
              "      <td>21</td>\n",
              "    </tr>\n",
              "    <tr>\n",
              "      <th>3</th>\n",
              "      <td>0</td>\n",
              "      <td>tcp</td>\n",
              "      <td>http</td>\n",
              "      <td>SF</td>\n",
              "      <td>199</td>\n",
              "      <td>420</td>\n",
              "      <td>0</td>\n",
              "      <td>0</td>\n",
              "      <td>0</td>\n",
              "      <td>0</td>\n",
              "      <td>0</td>\n",
              "      <td>1</td>\n",
              "      <td>0</td>\n",
              "      <td>0</td>\n",
              "      <td>0</td>\n",
              "      <td>0</td>\n",
              "      <td>0</td>\n",
              "      <td>0</td>\n",
              "      <td>0</td>\n",
              "      <td>0</td>\n",
              "      <td>0</td>\n",
              "      <td>0</td>\n",
              "      <td>30</td>\n",
              "      <td>32</td>\n",
              "      <td>0.0</td>\n",
              "      <td>0.0</td>\n",
              "      <td>0.0</td>\n",
              "      <td>0.0</td>\n",
              "      <td>1.00</td>\n",
              "      <td>0.00</td>\n",
              "      <td>0.09</td>\n",
              "      <td>255</td>\n",
              "      <td>255</td>\n",
              "      <td>1.00</td>\n",
              "      <td>0.00</td>\n",
              "      <td>0.00</td>\n",
              "      <td>0.00</td>\n",
              "      <td>0.00</td>\n",
              "      <td>0.00</td>\n",
              "      <td>0.00</td>\n",
              "      <td>0.00</td>\n",
              "      <td>normal</td>\n",
              "      <td>21</td>\n",
              "    </tr>\n",
              "    <tr>\n",
              "      <th>4</th>\n",
              "      <td>0</td>\n",
              "      <td>tcp</td>\n",
              "      <td>private</td>\n",
              "      <td>REJ</td>\n",
              "      <td>0</td>\n",
              "      <td>0</td>\n",
              "      <td>0</td>\n",
              "      <td>0</td>\n",
              "      <td>0</td>\n",
              "      <td>0</td>\n",
              "      <td>0</td>\n",
              "      <td>0</td>\n",
              "      <td>0</td>\n",
              "      <td>0</td>\n",
              "      <td>0</td>\n",
              "      <td>0</td>\n",
              "      <td>0</td>\n",
              "      <td>0</td>\n",
              "      <td>0</td>\n",
              "      <td>0</td>\n",
              "      <td>0</td>\n",
              "      <td>0</td>\n",
              "      <td>121</td>\n",
              "      <td>19</td>\n",
              "      <td>0.0</td>\n",
              "      <td>0.0</td>\n",
              "      <td>1.0</td>\n",
              "      <td>1.0</td>\n",
              "      <td>0.16</td>\n",
              "      <td>0.06</td>\n",
              "      <td>0.00</td>\n",
              "      <td>255</td>\n",
              "      <td>19</td>\n",
              "      <td>0.07</td>\n",
              "      <td>0.07</td>\n",
              "      <td>0.00</td>\n",
              "      <td>0.00</td>\n",
              "      <td>0.00</td>\n",
              "      <td>0.00</td>\n",
              "      <td>1.00</td>\n",
              "      <td>1.00</td>\n",
              "      <td>neptune</td>\n",
              "      <td>21</td>\n",
              "    </tr>\n",
              "    <tr>\n",
              "      <th>...</th>\n",
              "      <td>...</td>\n",
              "      <td>...</td>\n",
              "      <td>...</td>\n",
              "      <td>...</td>\n",
              "      <td>...</td>\n",
              "      <td>...</td>\n",
              "      <td>...</td>\n",
              "      <td>...</td>\n",
              "      <td>...</td>\n",
              "      <td>...</td>\n",
              "      <td>...</td>\n",
              "      <td>...</td>\n",
              "      <td>...</td>\n",
              "      <td>...</td>\n",
              "      <td>...</td>\n",
              "      <td>...</td>\n",
              "      <td>...</td>\n",
              "      <td>...</td>\n",
              "      <td>...</td>\n",
              "      <td>...</td>\n",
              "      <td>...</td>\n",
              "      <td>...</td>\n",
              "      <td>...</td>\n",
              "      <td>...</td>\n",
              "      <td>...</td>\n",
              "      <td>...</td>\n",
              "      <td>...</td>\n",
              "      <td>...</td>\n",
              "      <td>...</td>\n",
              "      <td>...</td>\n",
              "      <td>...</td>\n",
              "      <td>...</td>\n",
              "      <td>...</td>\n",
              "      <td>...</td>\n",
              "      <td>...</td>\n",
              "      <td>...</td>\n",
              "      <td>...</td>\n",
              "      <td>...</td>\n",
              "      <td>...</td>\n",
              "      <td>...</td>\n",
              "      <td>...</td>\n",
              "      <td>...</td>\n",
              "      <td>...</td>\n",
              "    </tr>\n",
              "    <tr>\n",
              "      <th>125967</th>\n",
              "      <td>0</td>\n",
              "      <td>tcp</td>\n",
              "      <td>private</td>\n",
              "      <td>S0</td>\n",
              "      <td>0</td>\n",
              "      <td>0</td>\n",
              "      <td>0</td>\n",
              "      <td>0</td>\n",
              "      <td>0</td>\n",
              "      <td>0</td>\n",
              "      <td>0</td>\n",
              "      <td>0</td>\n",
              "      <td>0</td>\n",
              "      <td>0</td>\n",
              "      <td>0</td>\n",
              "      <td>0</td>\n",
              "      <td>0</td>\n",
              "      <td>0</td>\n",
              "      <td>0</td>\n",
              "      <td>0</td>\n",
              "      <td>0</td>\n",
              "      <td>0</td>\n",
              "      <td>184</td>\n",
              "      <td>25</td>\n",
              "      <td>1.0</td>\n",
              "      <td>1.0</td>\n",
              "      <td>0.0</td>\n",
              "      <td>0.0</td>\n",
              "      <td>0.14</td>\n",
              "      <td>0.06</td>\n",
              "      <td>0.00</td>\n",
              "      <td>255</td>\n",
              "      <td>25</td>\n",
              "      <td>0.10</td>\n",
              "      <td>0.06</td>\n",
              "      <td>0.00</td>\n",
              "      <td>0.00</td>\n",
              "      <td>1.00</td>\n",
              "      <td>1.00</td>\n",
              "      <td>0.00</td>\n",
              "      <td>0.00</td>\n",
              "      <td>neptune</td>\n",
              "      <td>20</td>\n",
              "    </tr>\n",
              "    <tr>\n",
              "      <th>125968</th>\n",
              "      <td>8</td>\n",
              "      <td>udp</td>\n",
              "      <td>private</td>\n",
              "      <td>SF</td>\n",
              "      <td>105</td>\n",
              "      <td>145</td>\n",
              "      <td>0</td>\n",
              "      <td>0</td>\n",
              "      <td>0</td>\n",
              "      <td>0</td>\n",
              "      <td>0</td>\n",
              "      <td>0</td>\n",
              "      <td>0</td>\n",
              "      <td>0</td>\n",
              "      <td>0</td>\n",
              "      <td>0</td>\n",
              "      <td>0</td>\n",
              "      <td>0</td>\n",
              "      <td>0</td>\n",
              "      <td>0</td>\n",
              "      <td>0</td>\n",
              "      <td>0</td>\n",
              "      <td>2</td>\n",
              "      <td>2</td>\n",
              "      <td>0.0</td>\n",
              "      <td>0.0</td>\n",
              "      <td>0.0</td>\n",
              "      <td>0.0</td>\n",
              "      <td>1.00</td>\n",
              "      <td>0.00</td>\n",
              "      <td>0.00</td>\n",
              "      <td>255</td>\n",
              "      <td>244</td>\n",
              "      <td>0.96</td>\n",
              "      <td>0.01</td>\n",
              "      <td>0.01</td>\n",
              "      <td>0.00</td>\n",
              "      <td>0.00</td>\n",
              "      <td>0.00</td>\n",
              "      <td>0.00</td>\n",
              "      <td>0.00</td>\n",
              "      <td>normal</td>\n",
              "      <td>21</td>\n",
              "    </tr>\n",
              "    <tr>\n",
              "      <th>125969</th>\n",
              "      <td>0</td>\n",
              "      <td>tcp</td>\n",
              "      <td>smtp</td>\n",
              "      <td>SF</td>\n",
              "      <td>2231</td>\n",
              "      <td>384</td>\n",
              "      <td>0</td>\n",
              "      <td>0</td>\n",
              "      <td>0</td>\n",
              "      <td>0</td>\n",
              "      <td>0</td>\n",
              "      <td>1</td>\n",
              "      <td>0</td>\n",
              "      <td>0</td>\n",
              "      <td>0</td>\n",
              "      <td>0</td>\n",
              "      <td>0</td>\n",
              "      <td>0</td>\n",
              "      <td>0</td>\n",
              "      <td>0</td>\n",
              "      <td>0</td>\n",
              "      <td>0</td>\n",
              "      <td>1</td>\n",
              "      <td>1</td>\n",
              "      <td>0.0</td>\n",
              "      <td>0.0</td>\n",
              "      <td>0.0</td>\n",
              "      <td>0.0</td>\n",
              "      <td>1.00</td>\n",
              "      <td>0.00</td>\n",
              "      <td>0.00</td>\n",
              "      <td>255</td>\n",
              "      <td>30</td>\n",
              "      <td>0.12</td>\n",
              "      <td>0.06</td>\n",
              "      <td>0.00</td>\n",
              "      <td>0.00</td>\n",
              "      <td>0.72</td>\n",
              "      <td>0.00</td>\n",
              "      <td>0.01</td>\n",
              "      <td>0.00</td>\n",
              "      <td>normal</td>\n",
              "      <td>18</td>\n",
              "    </tr>\n",
              "    <tr>\n",
              "      <th>125970</th>\n",
              "      <td>0</td>\n",
              "      <td>tcp</td>\n",
              "      <td>klogin</td>\n",
              "      <td>S0</td>\n",
              "      <td>0</td>\n",
              "      <td>0</td>\n",
              "      <td>0</td>\n",
              "      <td>0</td>\n",
              "      <td>0</td>\n",
              "      <td>0</td>\n",
              "      <td>0</td>\n",
              "      <td>0</td>\n",
              "      <td>0</td>\n",
              "      <td>0</td>\n",
              "      <td>0</td>\n",
              "      <td>0</td>\n",
              "      <td>0</td>\n",
              "      <td>0</td>\n",
              "      <td>0</td>\n",
              "      <td>0</td>\n",
              "      <td>0</td>\n",
              "      <td>0</td>\n",
              "      <td>144</td>\n",
              "      <td>8</td>\n",
              "      <td>1.0</td>\n",
              "      <td>1.0</td>\n",
              "      <td>0.0</td>\n",
              "      <td>0.0</td>\n",
              "      <td>0.06</td>\n",
              "      <td>0.05</td>\n",
              "      <td>0.00</td>\n",
              "      <td>255</td>\n",
              "      <td>8</td>\n",
              "      <td>0.03</td>\n",
              "      <td>0.05</td>\n",
              "      <td>0.00</td>\n",
              "      <td>0.00</td>\n",
              "      <td>1.00</td>\n",
              "      <td>1.00</td>\n",
              "      <td>0.00</td>\n",
              "      <td>0.00</td>\n",
              "      <td>neptune</td>\n",
              "      <td>20</td>\n",
              "    </tr>\n",
              "    <tr>\n",
              "      <th>125971</th>\n",
              "      <td>0</td>\n",
              "      <td>tcp</td>\n",
              "      <td>ftp_data</td>\n",
              "      <td>SF</td>\n",
              "      <td>151</td>\n",
              "      <td>0</td>\n",
              "      <td>0</td>\n",
              "      <td>0</td>\n",
              "      <td>0</td>\n",
              "      <td>0</td>\n",
              "      <td>0</td>\n",
              "      <td>1</td>\n",
              "      <td>0</td>\n",
              "      <td>0</td>\n",
              "      <td>0</td>\n",
              "      <td>0</td>\n",
              "      <td>0</td>\n",
              "      <td>0</td>\n",
              "      <td>0</td>\n",
              "      <td>0</td>\n",
              "      <td>0</td>\n",
              "      <td>0</td>\n",
              "      <td>1</td>\n",
              "      <td>1</td>\n",
              "      <td>0.0</td>\n",
              "      <td>0.0</td>\n",
              "      <td>0.0</td>\n",
              "      <td>0.0</td>\n",
              "      <td>1.00</td>\n",
              "      <td>0.00</td>\n",
              "      <td>0.00</td>\n",
              "      <td>255</td>\n",
              "      <td>77</td>\n",
              "      <td>0.30</td>\n",
              "      <td>0.03</td>\n",
              "      <td>0.30</td>\n",
              "      <td>0.00</td>\n",
              "      <td>0.00</td>\n",
              "      <td>0.00</td>\n",
              "      <td>0.00</td>\n",
              "      <td>0.00</td>\n",
              "      <td>normal</td>\n",
              "      <td>21</td>\n",
              "    </tr>\n",
              "  </tbody>\n",
              "</table>\n",
              "<p>125972 rows × 43 columns</p>\n",
              "</div>\n",
              "      <button class=\"colab-df-convert\" onclick=\"convertToInteractive('df-85c40f9d-f8ea-4adf-8340-cdb4a1d86025')\"\n",
              "              title=\"Convert this dataframe to an interactive table.\"\n",
              "              style=\"display:none;\">\n",
              "        \n",
              "  <svg xmlns=\"http://www.w3.org/2000/svg\" height=\"24px\"viewBox=\"0 0 24 24\"\n",
              "       width=\"24px\">\n",
              "    <path d=\"M0 0h24v24H0V0z\" fill=\"none\"/>\n",
              "    <path d=\"M18.56 5.44l.94 2.06.94-2.06 2.06-.94-2.06-.94-.94-2.06-.94 2.06-2.06.94zm-11 1L8.5 8.5l.94-2.06 2.06-.94-2.06-.94L8.5 2.5l-.94 2.06-2.06.94zm10 10l.94 2.06.94-2.06 2.06-.94-2.06-.94-.94-2.06-.94 2.06-2.06.94z\"/><path d=\"M17.41 7.96l-1.37-1.37c-.4-.4-.92-.59-1.43-.59-.52 0-1.04.2-1.43.59L10.3 9.45l-7.72 7.72c-.78.78-.78 2.05 0 2.83L4 21.41c.39.39.9.59 1.41.59.51 0 1.02-.2 1.41-.59l7.78-7.78 2.81-2.81c.8-.78.8-2.07 0-2.86zM5.41 20L4 18.59l7.72-7.72 1.47 1.35L5.41 20z\"/>\n",
              "  </svg>\n",
              "      </button>\n",
              "      \n",
              "  <style>\n",
              "    .colab-df-container {\n",
              "      display:flex;\n",
              "      flex-wrap:wrap;\n",
              "      gap: 12px;\n",
              "    }\n",
              "\n",
              "    .colab-df-convert {\n",
              "      background-color: #E8F0FE;\n",
              "      border: none;\n",
              "      border-radius: 50%;\n",
              "      cursor: pointer;\n",
              "      display: none;\n",
              "      fill: #1967D2;\n",
              "      height: 32px;\n",
              "      padding: 0 0 0 0;\n",
              "      width: 32px;\n",
              "    }\n",
              "\n",
              "    .colab-df-convert:hover {\n",
              "      background-color: #E2EBFA;\n",
              "      box-shadow: 0px 1px 2px rgba(60, 64, 67, 0.3), 0px 1px 3px 1px rgba(60, 64, 67, 0.15);\n",
              "      fill: #174EA6;\n",
              "    }\n",
              "\n",
              "    [theme=dark] .colab-df-convert {\n",
              "      background-color: #3B4455;\n",
              "      fill: #D2E3FC;\n",
              "    }\n",
              "\n",
              "    [theme=dark] .colab-df-convert:hover {\n",
              "      background-color: #434B5C;\n",
              "      box-shadow: 0px 1px 3px 1px rgba(0, 0, 0, 0.15);\n",
              "      filter: drop-shadow(0px 1px 2px rgba(0, 0, 0, 0.3));\n",
              "      fill: #FFFFFF;\n",
              "    }\n",
              "  </style>\n",
              "\n",
              "      <script>\n",
              "        const buttonEl =\n",
              "          document.querySelector('#df-85c40f9d-f8ea-4adf-8340-cdb4a1d86025 button.colab-df-convert');\n",
              "        buttonEl.style.display =\n",
              "          google.colab.kernel.accessAllowed ? 'block' : 'none';\n",
              "\n",
              "        async function convertToInteractive(key) {\n",
              "          const element = document.querySelector('#df-85c40f9d-f8ea-4adf-8340-cdb4a1d86025');\n",
              "          const dataTable =\n",
              "            await google.colab.kernel.invokeFunction('convertToInteractive',\n",
              "                                                     [key], {});\n",
              "          if (!dataTable) return;\n",
              "\n",
              "          const docLinkHtml = 'Like what you see? Visit the ' +\n",
              "            '<a target=\"_blank\" href=https://colab.research.google.com/notebooks/data_table.ipynb>data table notebook</a>'\n",
              "            + ' to learn more about interactive tables.';\n",
              "          element.innerHTML = '';\n",
              "          dataTable['output_type'] = 'display_data';\n",
              "          await google.colab.output.renderOutput(dataTable, element);\n",
              "          const docLink = document.createElement('div');\n",
              "          docLink.innerHTML = docLinkHtml;\n",
              "          element.appendChild(docLink);\n",
              "        }\n",
              "      </script>\n",
              "    </div>\n",
              "  </div>\n",
              "  "
            ],
            "text/plain": [
              "        duration protocol_type  ...   labels level\n",
              "0              0           udp  ...   normal    15\n",
              "1              0           tcp  ...  neptune    19\n",
              "2              0           tcp  ...   normal    21\n",
              "3              0           tcp  ...   normal    21\n",
              "4              0           tcp  ...  neptune    21\n",
              "...          ...           ...  ...      ...   ...\n",
              "125967         0           tcp  ...  neptune    20\n",
              "125968         8           udp  ...   normal    21\n",
              "125969         0           tcp  ...   normal    18\n",
              "125970         0           tcp  ...  neptune    20\n",
              "125971         0           tcp  ...   normal    21\n",
              "\n",
              "[125972 rows x 43 columns]"
            ]
          },
          "metadata": {},
          "execution_count": 50
        }
      ]
    },
    {
      "cell_type": "markdown",
      "metadata": {
        "id": "MuguC9lEaljH"
      },
      "source": [
        "###chek missvalue"
      ]
    },
    {
      "cell_type": "code",
      "metadata": {
        "id": "4Yaz7sR8Z5Jw",
        "colab": {
          "base_uri": "https://localhost:8080/"
        },
        "outputId": "d50a2656-d397-4a8c-be49-5d0b5799784a"
      },
      "source": [
        " init_train_df.isnull().sum()"
      ],
      "execution_count": null,
      "outputs": [
        {
          "output_type": "execute_result",
          "data": {
            "text/plain": [
              "duration                       0\n",
              "protocol_type                  0\n",
              "service                        0\n",
              "flag                           0\n",
              "src_bytes                      0\n",
              "dst_bytes                      0\n",
              "land                           0\n",
              "wrong_fragment                 0\n",
              "urgent                         0\n",
              "hot                            0\n",
              "num_failed_logins              0\n",
              "logged_in                      0\n",
              "num_compromised                0\n",
              "root_shell                     0\n",
              "su_attempted                   0\n",
              "num_root                       0\n",
              "num_file_creations             0\n",
              "num_shells                     0\n",
              "num_access_files               0\n",
              "num_outbound_cmds              0\n",
              "is_host_login                  0\n",
              "is_guest_login                 0\n",
              "count                          0\n",
              "srv_count                      0\n",
              "serror_rate                    0\n",
              "srv_serror_rate                0\n",
              "rerror_rate                    0\n",
              "srv_rerror_rate                0\n",
              "same_srv_rate                  0\n",
              "diff_srv_rate                  0\n",
              "srv_diff_host_rate             0\n",
              "dst_host_count                 0\n",
              "dst_host_srv_count             0\n",
              "dst_host_same_srv_rate         0\n",
              "dst_host_diff_srv_rate         0\n",
              "dst_host_same_src_port_rate    0\n",
              "dst_host_srv_diff_host_rate    0\n",
              "dst_host_serror_rate           0\n",
              "dst_host_srv_serror_rate       0\n",
              "dst_host_rerror_rate           0\n",
              "dst_host_srv_rerror_rate       0\n",
              "labels                         0\n",
              "level                          0\n",
              "dtype: int64"
            ]
          },
          "metadata": {},
          "execution_count": 51
        }
      ]
    },
    {
      "cell_type": "code",
      "metadata": {
        "id": "3uCCuQtUap6l",
        "colab": {
          "base_uri": "https://localhost:8080/"
        },
        "outputId": "aa56ebc4-2d63-492a-cb64-d9c328050f5e"
      },
      "source": [
        "init_test_df.isnull().sum()"
      ],
      "execution_count": null,
      "outputs": [
        {
          "output_type": "execute_result",
          "data": {
            "text/plain": [
              "duration                       0\n",
              "protocol_type                  0\n",
              "service                        0\n",
              "flag                           0\n",
              "src_bytes                      0\n",
              "dst_bytes                      0\n",
              "land                           0\n",
              "wrong_fragment                 0\n",
              "urgent                         0\n",
              "hot                            0\n",
              "num_failed_logins              0\n",
              "logged_in                      0\n",
              "num_compromised                0\n",
              "root_shell                     0\n",
              "su_attempted                   0\n",
              "num_root                       0\n",
              "num_file_creations             0\n",
              "num_shells                     0\n",
              "num_access_files               0\n",
              "num_outbound_cmds              0\n",
              "is_host_login                  0\n",
              "is_guest_login                 0\n",
              "count                          0\n",
              "srv_count                      0\n",
              "serror_rate                    0\n",
              "srv_serror_rate                0\n",
              "rerror_rate                    0\n",
              "srv_rerror_rate                0\n",
              "same_srv_rate                  0\n",
              "diff_srv_rate                  0\n",
              "srv_diff_host_rate             0\n",
              "dst_host_count                 0\n",
              "dst_host_srv_count             0\n",
              "dst_host_same_srv_rate         0\n",
              "dst_host_diff_srv_rate         0\n",
              "dst_host_same_src_port_rate    0\n",
              "dst_host_srv_diff_host_rate    0\n",
              "dst_host_serror_rate           0\n",
              "dst_host_srv_serror_rate       0\n",
              "dst_host_rerror_rate           0\n",
              "dst_host_srv_rerror_rate       0\n",
              "labels                         0\n",
              "level                          0\n",
              "dtype: int64"
            ]
          },
          "metadata": {},
          "execution_count": 52
        }
      ]
    },
    {
      "cell_type": "markdown",
      "metadata": {
        "id": "wg8_2KzibTUE"
      },
      "source": [
        "###Types of Features and Scope"
      ]
    },
    {
      "cell_type": "code",
      "metadata": {
        "id": "3dZoNxbsa4TS",
        "colab": {
          "base_uri": "https://localhost:8080/"
        },
        "outputId": "95ad370e-a5c0-4f6b-c783-05f148509fee"
      },
      "source": [
        " init_train_df.info()"
      ],
      "execution_count": null,
      "outputs": [
        {
          "output_type": "stream",
          "name": "stdout",
          "text": [
            "<class 'pandas.core.frame.DataFrame'>\n",
            "RangeIndex: 125972 entries, 0 to 125971\n",
            "Data columns (total 43 columns):\n",
            " #   Column                       Non-Null Count   Dtype  \n",
            "---  ------                       --------------   -----  \n",
            " 0   duration                     125972 non-null  int64  \n",
            " 1   protocol_type                125972 non-null  object \n",
            " 2   service                      125972 non-null  object \n",
            " 3   flag                         125972 non-null  object \n",
            " 4   src_bytes                    125972 non-null  int64  \n",
            " 5   dst_bytes                    125972 non-null  int64  \n",
            " 6   land                         125972 non-null  int64  \n",
            " 7   wrong_fragment               125972 non-null  int64  \n",
            " 8   urgent                       125972 non-null  int64  \n",
            " 9   hot                          125972 non-null  int64  \n",
            " 10  num_failed_logins            125972 non-null  int64  \n",
            " 11  logged_in                    125972 non-null  int64  \n",
            " 12  num_compromised              125972 non-null  int64  \n",
            " 13  root_shell                   125972 non-null  int64  \n",
            " 14  su_attempted                 125972 non-null  int64  \n",
            " 15  num_root                     125972 non-null  int64  \n",
            " 16  num_file_creations           125972 non-null  int64  \n",
            " 17  num_shells                   125972 non-null  int64  \n",
            " 18  num_access_files             125972 non-null  int64  \n",
            " 19  num_outbound_cmds            125972 non-null  int64  \n",
            " 20  is_host_login                125972 non-null  int64  \n",
            " 21  is_guest_login               125972 non-null  int64  \n",
            " 22  count                        125972 non-null  int64  \n",
            " 23  srv_count                    125972 non-null  int64  \n",
            " 24  serror_rate                  125972 non-null  float64\n",
            " 25  srv_serror_rate              125972 non-null  float64\n",
            " 26  rerror_rate                  125972 non-null  float64\n",
            " 27  srv_rerror_rate              125972 non-null  float64\n",
            " 28  same_srv_rate                125972 non-null  float64\n",
            " 29  diff_srv_rate                125972 non-null  float64\n",
            " 30  srv_diff_host_rate           125972 non-null  float64\n",
            " 31  dst_host_count               125972 non-null  int64  \n",
            " 32  dst_host_srv_count           125972 non-null  int64  \n",
            " 33  dst_host_same_srv_rate       125972 non-null  float64\n",
            " 34  dst_host_diff_srv_rate       125972 non-null  float64\n",
            " 35  dst_host_same_src_port_rate  125972 non-null  float64\n",
            " 36  dst_host_srv_diff_host_rate  125972 non-null  float64\n",
            " 37  dst_host_serror_rate         125972 non-null  float64\n",
            " 38  dst_host_srv_serror_rate     125972 non-null  float64\n",
            " 39  dst_host_rerror_rate         125972 non-null  float64\n",
            " 40  dst_host_srv_rerror_rate     125972 non-null  float64\n",
            " 41  labels                       125972 non-null  object \n",
            " 42  level                        125972 non-null  int64  \n",
            "dtypes: float64(15), int64(24), object(4)\n",
            "memory usage: 41.3+ MB\n"
          ]
        }
      ]
    },
    {
      "cell_type": "code",
      "metadata": {
        "id": "SRoAKJWlbWHw",
        "colab": {
          "base_uri": "https://localhost:8080/"
        },
        "outputId": "1e075ce6-7298-421c-8d38-8cd40e7ab089"
      },
      "source": [
        " init_train_df.nunique()\n",
        "#dar har feature chand no adad ya class vojood darad"
      ],
      "execution_count": null,
      "outputs": [
        {
          "output_type": "execute_result",
          "data": {
            "text/plain": [
              "duration                       2981\n",
              "protocol_type                     3\n",
              "service                          70\n",
              "flag                             11\n",
              "src_bytes                      3341\n",
              "dst_bytes                      9326\n",
              "land                              2\n",
              "wrong_fragment                    3\n",
              "urgent                            4\n",
              "hot                              28\n",
              "num_failed_logins                 6\n",
              "logged_in                         2\n",
              "num_compromised                  88\n",
              "root_shell                        2\n",
              "su_attempted                      3\n",
              "num_root                         82\n",
              "num_file_creations               35\n",
              "num_shells                        3\n",
              "num_access_files                 10\n",
              "num_outbound_cmds                 1\n",
              "is_host_login                     2\n",
              "is_guest_login                    2\n",
              "count                           512\n",
              "srv_count                       509\n",
              "serror_rate                      89\n",
              "srv_serror_rate                  86\n",
              "rerror_rate                      82\n",
              "srv_rerror_rate                  62\n",
              "same_srv_rate                   101\n",
              "diff_srv_rate                    95\n",
              "srv_diff_host_rate               60\n",
              "dst_host_count                  256\n",
              "dst_host_srv_count              256\n",
              "dst_host_same_srv_rate          101\n",
              "dst_host_diff_srv_rate          101\n",
              "dst_host_same_src_port_rate     101\n",
              "dst_host_srv_diff_host_rate      75\n",
              "dst_host_serror_rate            101\n",
              "dst_host_srv_serror_rate        100\n",
              "dst_host_rerror_rate            101\n",
              "dst_host_srv_rerror_rate        101\n",
              "labels                           23\n",
              "level                            22\n",
              "dtype: int64"
            ]
          },
          "metadata": {},
          "execution_count": 54
        }
      ]
    },
    {
      "cell_type": "code",
      "metadata": {
        "id": "2gUx80oWbhsq"
      },
      "source": [
        "# init_test_df.info()\n",
        "# init_test_df.nunique()\n",
        "\n",
        "#hamoon jor ke moshahede mikonid toye train 23 no hamle to sotoon target darim vali too test 36 no\n",
        "##baraye sotoon service ham too train 76 no hast va tooye test 66\n"
      ],
      "execution_count": null,
      "outputs": []
    },
    {
      "cell_type": "markdown",
      "metadata": {
        "id": "8sepqSlYk02I"
      },
      "source": [
        "###Data Preprocessing\n"
      ]
    },
    {
      "cell_type": "markdown",
      "metadata": {
        "id": "fQaLGZRkxBYa"
      },
      "source": [
        "####split target to 5 class"
      ]
    },
    {
      "cell_type": "code",
      "metadata": {
        "id": "6UBQ-sWWXOp9"
      },
      "source": [
        "proc_train_df = init_train_df.copy()                                                                      # create a copy of our initial train set to use as our preproccessed train set.\n",
        "proc_test_df = init_test_df.copy() "
      ],
      "execution_count": null,
      "outputs": []
    },
    {
      "cell_type": "code",
      "metadata": {
        "id": "RuApgklKEoS7"
      },
      "source": [
        "###be tore koli hamle haro be 4 daste taghsim mikonim\n",
        "# lists to hold our attack classifications\n",
        "DOS= ['back','land','neptune','pod','smurf','teardrop']\n",
        "PROBE = ['ipsweep','nmap','portsweep','satan']\n",
        "U2R= ['buffer_overflow','perl','loadmodule','rootkit']\n",
        "R2L= ['ftp_write','guess_passwd','imap','multihop','phf','spy','warezclient','warezmaster']\n",
        "# we will use these for plotting below\n",
        "attack_labels = ['Normal','DoS','Probe','U2R','R2L']"
      ],
      "execution_count": null,
      "outputs": []
    },
    {
      "cell_type": "code",
      "metadata": {
        "id": "oJb3vp34FeZe"
      },
      "source": [
        "## yek func baraye daste bandi attack ha tarif mikonim\n",
        "# helper function to pass to data frame mapping\n",
        "def map_attack(attack):\n",
        "    if attack in DOS:\n",
        "        # dos_attacks map to 1\n",
        "        attack_type = 'DOS'\n",
        "    elif attack in PROBE:\n",
        "        # probe_attacks mapt to 2\n",
        "        attack_type = 'PROBE'\n",
        "    elif attack in U2R:\n",
        "        # privilege escalation attacks map to 3\n",
        "        attack_type = 'U2R'\n",
        "    elif attack in R2L:\n",
        "        # remote access attacks map to 4\n",
        "        attack_type = 'R2L'\n",
        "    else:\n",
        "        # normal maps to 0\n",
        "        attack_type = \"NORMAL\"\n",
        "        \n",
        "    return attack_type"
      ],
      "execution_count": null,
      "outputs": []
    },
    {
      "cell_type": "code",
      "metadata": {
        "colab": {
          "base_uri": "https://localhost:8080/"
        },
        "id": "Rw8FWbM2KSBt",
        "outputId": "b2ba551b-e158-41d1-cb43-d66bee55c52d"
      },
      "source": [
        "proc_train_df.shape"
      ],
      "execution_count": null,
      "outputs": [
        {
          "output_type": "execute_result",
          "data": {
            "text/plain": [
              "(125972, 43)"
            ]
          },
          "metadata": {},
          "execution_count": 59
        }
      ]
    },
    {
      "cell_type": "code",
      "metadata": {
        "id": "oCvT56pYJH1M"
      },
      "source": [
        "# map the data and join to the data set\n",
        "attack_map = proc_train_df.labels.apply(map_attack)\n",
        "proc_train_df['attack_map'] = attack_map\n",
        "\n",
        "test_attack_map = proc_test_df.labels.apply(map_attack)\n",
        "proc_test_df['attack_map'] = test_attack_map"
      ],
      "execution_count": null,
      "outputs": []
    },
    {
      "cell_type": "code",
      "metadata": {
        "colab": {
          "base_uri": "https://localhost:8080/"
        },
        "id": "YGKSp7d6pr2W",
        "outputId": "318e6206-18cb-4a91-c64f-8daae718d404"
      },
      "source": [
        "proc_test_df.attack_map"
      ],
      "execution_count": null,
      "outputs": [
        {
          "output_type": "execute_result",
          "data": {
            "text/plain": [
              "0           DOS\n",
              "1        NORMAL\n",
              "2        NORMAL\n",
              "3        NORMAL\n",
              "4        NORMAL\n",
              "          ...  \n",
              "22537    NORMAL\n",
              "22538    NORMAL\n",
              "22539       DOS\n",
              "22540    NORMAL\n",
              "22541    NORMAL\n",
              "Name: attack_map, Length: 22542, dtype: object"
            ]
          },
          "metadata": {},
          "execution_count": 61
        }
      ]
    },
    {
      "cell_type": "markdown",
      "metadata": {
        "id": "bGS9UmtR087T"
      },
      "source": [
        "#### Visual target classes distribiution"
      ]
    },
    {
      "cell_type": "code",
      "source": [
        "fig,(ax1,ax2)= plt.subplots(ncols=2, figsize=(25, 7.5), dpi=100)\n",
        "\n",
        "fig.suptitle(f'Counts of Observation Labels in NSL_KDD ', fontsize=25)\n",
        "\n",
        "sns.countplot(x='attack_map', \n",
        "            palette=\"OrRd_r\", \n",
        "            data=proc_train_df, \n",
        "            order=proc_train_df['attack_map'].value_counts().index,\n",
        "            ax=ax1)\n",
        "\n",
        "ax1.set_title('Train Set', fontsize=20)\n",
        "ax1.set_xlabel('label', fontsize=15)\n",
        "ax1.set_ylabel('count', fontsize=15)\n",
        "ax1.tick_params(labelrotation=90)\n",
        "\n",
        "sns.countplot(x='attack_map', \n",
        "            palette=\"GnBu_r\", \n",
        "            data=proc_test_df, \n",
        "            order=proc_test_df['attack_map'].value_counts().index,\n",
        "            ax=ax2)\n",
        "\n",
        "ax2.set_title('Test Set', fontsize=20)\n",
        "ax2.set_xlabel('label', fontsize=15)\n",
        "ax2.set_ylabel('count', fontsize=15)\n",
        "ax2.tick_params(labelrotation=90)\n",
        "\n",
        "plt.show()\n",
        "\n",
        "#nemoodar cout plot sotoon lable ro too train va test rasm kardim . do no hamle ham dar train va ham dar test nesbat\n",
        "# br sayer hamle ha kheyli bishtar etefagh oftadan ke mirine to model sazi.\n",
        "# to ghesmat preprocessing bayed in sotoon haro under sampling konim "
      ],
      "metadata": {
        "colab": {
          "base_uri": "https://localhost:8080/",
          "height": 434
        },
        "outputId": "5fc55e4d-54f1-4b63-d013-b04c0e2b7b5a",
        "id": "mkQZRhvK087U"
      },
      "execution_count": null,
      "outputs": [
        {
          "output_type": "display_data",
          "data": {
            "image/png": "[encoded data removed]",
            "text/plain": [
              "<Figure size 2500x750 with 2 Axes>"
            ]
          },
          "metadata": {
            "needs_background": "light"
          }
        }
      ]
    },
    {
      "cell_type": "markdown",
      "source": [
        "####Split data"
      ],
      "metadata": {
        "id": "R7tZ1PtY51zY"
      }
    },
    {
      "cell_type": "code",
      "source": [
        "y_train= proc_train_df['attack_map'].copy()\n",
        "X_train = proc_train_df.drop(['labels','attack_map','level'], axis=1)\n",
        "\n",
        "y_test = proc_test_df['attack_map'].copy()\n",
        "X_test = proc_test_df.drop(['labels','attack_map','level'], axis=1)"
      ],
      "metadata": {
        "id": "vpf58cE25w0O"
      },
      "execution_count": null,
      "outputs": []
    },
    {
      "cell_type": "code",
      "source": [
        "X_train"
      ],
      "metadata": {
        "id": "G47yD4VaAeeK",
        "outputId": "05bd4bd9-ac85-432f-a59a-e58a0d0e18e4",
        "colab": {
          "base_uri": "https://localhost:8080/",
          "height": 487
        }
      },
      "execution_count": null,
      "outputs": [
        {
          "output_type": "execute_result",
          "data": {
            "text/html": [
              "\n",
              "  <div id=\"df-e1884834-3ca8-4281-8711-ee480e1153cc\">\n",
              "    <div class=\"colab-df-container\">\n",
              "      <div>\n",
              "<style scoped>\n",
              "    .dataframe tbody tr th:only-of-type {\n",
              "        vertical-align: middle;\n",
              "    }\n",
              "\n",
              "    .dataframe tbody tr th {\n",
              "        vertical-align: top;\n",
              "    }\n",
              "\n",
              "    .dataframe thead th {\n",
              "        text-align: right;\n",
              "    }\n",
              "</style>\n",
              "<table border=\"1\" class=\"dataframe\">\n",
              "  <thead>\n",
              "    <tr style=\"text-align: right;\">\n",
              "      <th></th>\n",
              "      <th>duration</th>\n",
              "      <th>protocol_type</th>\n",
              "      <th>service</th>\n",
              "      <th>flag</th>\n",
              "      <th>src_bytes</th>\n",
              "      <th>dst_bytes</th>\n",
              "      <th>land</th>\n",
              "      <th>wrong_fragment</th>\n",
              "      <th>urgent</th>\n",
              "      <th>hot</th>\n",
              "      <th>num_failed_logins</th>\n",
              "      <th>logged_in</th>\n",
              "      <th>num_compromised</th>\n",
              "      <th>root_shell</th>\n",
              "      <th>su_attempted</th>\n",
              "      <th>num_root</th>\n",
              "      <th>num_file_creations</th>\n",
              "      <th>num_shells</th>\n",
              "      <th>num_access_files</th>\n",
              "      <th>num_outbound_cmds</th>\n",
              "      <th>is_host_login</th>\n",
              "      <th>is_guest_login</th>\n",
              "      <th>count</th>\n",
              "      <th>srv_count</th>\n",
              "      <th>serror_rate</th>\n",
              "      <th>srv_serror_rate</th>\n",
              "      <th>rerror_rate</th>\n",
              "      <th>srv_rerror_rate</th>\n",
              "      <th>same_srv_rate</th>\n",
              "      <th>diff_srv_rate</th>\n",
              "      <th>srv_diff_host_rate</th>\n",
              "      <th>dst_host_count</th>\n",
              "      <th>dst_host_srv_count</th>\n",
              "      <th>dst_host_same_srv_rate</th>\n",
              "      <th>dst_host_diff_srv_rate</th>\n",
              "      <th>dst_host_same_src_port_rate</th>\n",
              "      <th>dst_host_srv_diff_host_rate</th>\n",
              "      <th>dst_host_serror_rate</th>\n",
              "      <th>dst_host_srv_serror_rate</th>\n",
              "      <th>dst_host_rerror_rate</th>\n",
              "      <th>dst_host_srv_rerror_rate</th>\n",
              "    </tr>\n",
              "  </thead>\n",
              "  <tbody>\n",
              "    <tr>\n",
              "      <th>0</th>\n",
              "      <td>0</td>\n",
              "      <td>udp</td>\n",
              "      <td>other</td>\n",
              "      <td>SF</td>\n",
              "      <td>146</td>\n",
              "      <td>0</td>\n",
              "      <td>0</td>\n",
              "      <td>0</td>\n",
              "      <td>0</td>\n",
              "      <td>0</td>\n",
              "      <td>0</td>\n",
              "      <td>0</td>\n",
              "      <td>0</td>\n",
              "      <td>0</td>\n",
              "      <td>0</td>\n",
              "      <td>0</td>\n",
              "      <td>0</td>\n",
              "      <td>0</td>\n",
              "      <td>0</td>\n",
              "      <td>0</td>\n",
              "      <td>0</td>\n",
              "      <td>0</td>\n",
              "      <td>13</td>\n",
              "      <td>1</td>\n",
              "      <td>0.0</td>\n",
              "      <td>0.0</td>\n",
              "      <td>0.0</td>\n",
              "      <td>0.0</td>\n",
              "      <td>0.08</td>\n",
              "      <td>0.15</td>\n",
              "      <td>0.00</td>\n",
              "      <td>255</td>\n",
              "      <td>1</td>\n",
              "      <td>0.00</td>\n",
              "      <td>0.60</td>\n",
              "      <td>0.88</td>\n",
              "      <td>0.00</td>\n",
              "      <td>0.00</td>\n",
              "      <td>0.00</td>\n",
              "      <td>0.00</td>\n",
              "      <td>0.00</td>\n",
              "    </tr>\n",
              "    <tr>\n",
              "      <th>1</th>\n",
              "      <td>0</td>\n",
              "      <td>tcp</td>\n",
              "      <td>private</td>\n",
              "      <td>S0</td>\n",
              "      <td>0</td>\n",
              "      <td>0</td>\n",
              "      <td>0</td>\n",
              "      <td>0</td>\n",
              "      <td>0</td>\n",
              "      <td>0</td>\n",
              "      <td>0</td>\n",
              "      <td>0</td>\n",
              "      <td>0</td>\n",
              "      <td>0</td>\n",
              "      <td>0</td>\n",
              "      <td>0</td>\n",
              "      <td>0</td>\n",
              "      <td>0</td>\n",
              "      <td>0</td>\n",
              "      <td>0</td>\n",
              "      <td>0</td>\n",
              "      <td>0</td>\n",
              "      <td>123</td>\n",
              "      <td>6</td>\n",
              "      <td>1.0</td>\n",
              "      <td>1.0</td>\n",
              "      <td>0.0</td>\n",
              "      <td>0.0</td>\n",
              "      <td>0.05</td>\n",
              "      <td>0.07</td>\n",
              "      <td>0.00</td>\n",
              "      <td>255</td>\n",
              "      <td>26</td>\n",
              "      <td>0.10</td>\n",
              "      <td>0.05</td>\n",
              "      <td>0.00</td>\n",
              "      <td>0.00</td>\n",
              "      <td>1.00</td>\n",
              "      <td>1.00</td>\n",
              "      <td>0.00</td>\n",
              "      <td>0.00</td>\n",
              "    </tr>\n",
              "    <tr>\n",
              "      <th>2</th>\n",
              "      <td>0</td>\n",
              "      <td>tcp</td>\n",
              "      <td>http</td>\n",
              "      <td>SF</td>\n",
              "      <td>232</td>\n",
              "      <td>8153</td>\n",
              "      <td>0</td>\n",
              "      <td>0</td>\n",
              "      <td>0</td>\n",
              "      <td>0</td>\n",
              "      <td>0</td>\n",
              "      <td>1</td>\n",
              "      <td>0</td>\n",
              "      <td>0</td>\n",
              "      <td>0</td>\n",
              "      <td>0</td>\n",
              "      <td>0</td>\n",
              "      <td>0</td>\n",
              "      <td>0</td>\n",
              "      <td>0</td>\n",
              "      <td>0</td>\n",
              "      <td>0</td>\n",
              "      <td>5</td>\n",
              "      <td>5</td>\n",
              "      <td>0.2</td>\n",
              "      <td>0.2</td>\n",
              "      <td>0.0</td>\n",
              "      <td>0.0</td>\n",
              "      <td>1.00</td>\n",
              "      <td>0.00</td>\n",
              "      <td>0.00</td>\n",
              "      <td>30</td>\n",
              "      <td>255</td>\n",
              "      <td>1.00</td>\n",
              "      <td>0.00</td>\n",
              "      <td>0.03</td>\n",
              "      <td>0.04</td>\n",
              "      <td>0.03</td>\n",
              "      <td>0.01</td>\n",
              "      <td>0.00</td>\n",
              "      <td>0.01</td>\n",
              "    </tr>\n",
              "    <tr>\n",
              "      <th>3</th>\n",
              "      <td>0</td>\n",
              "      <td>tcp</td>\n",
              "      <td>http</td>\n",
              "      <td>SF</td>\n",
              "      <td>199</td>\n",
              "      <td>420</td>\n",
              "      <td>0</td>\n",
              "      <td>0</td>\n",
              "      <td>0</td>\n",
              "      <td>0</td>\n",
              "      <td>0</td>\n",
              "      <td>1</td>\n",
              "      <td>0</td>\n",
              "      <td>0</td>\n",
              "      <td>0</td>\n",
              "      <td>0</td>\n",
              "      <td>0</td>\n",
              "      <td>0</td>\n",
              "      <td>0</td>\n",
              "      <td>0</td>\n",
              "      <td>0</td>\n",
              "      <td>0</td>\n",
              "      <td>30</td>\n",
              "      <td>32</td>\n",
              "      <td>0.0</td>\n",
              "      <td>0.0</td>\n",
              "      <td>0.0</td>\n",
              "      <td>0.0</td>\n",
              "      <td>1.00</td>\n",
              "      <td>0.00</td>\n",
              "      <td>0.09</td>\n",
              "      <td>255</td>\n",
              "      <td>255</td>\n",
              "      <td>1.00</td>\n",
              "      <td>0.00</td>\n",
              "      <td>0.00</td>\n",
              "      <td>0.00</td>\n",
              "      <td>0.00</td>\n",
              "      <td>0.00</td>\n",
              "      <td>0.00</td>\n",
              "      <td>0.00</td>\n",
              "    </tr>\n",
              "    <tr>\n",
              "      <th>4</th>\n",
              "      <td>0</td>\n",
              "      <td>tcp</td>\n",
              "      <td>private</td>\n",
              "      <td>REJ</td>\n",
              "      <td>0</td>\n",
              "      <td>0</td>\n",
              "      <td>0</td>\n",
              "      <td>0</td>\n",
              "      <td>0</td>\n",
              "      <td>0</td>\n",
              "      <td>0</td>\n",
              "      <td>0</td>\n",
              "      <td>0</td>\n",
              "      <td>0</td>\n",
              "      <td>0</td>\n",
              "      <td>0</td>\n",
              "      <td>0</td>\n",
              "      <td>0</td>\n",
              "      <td>0</td>\n",
              "      <td>0</td>\n",
              "      <td>0</td>\n",
              "      <td>0</td>\n",
              "      <td>121</td>\n",
              "      <td>19</td>\n",
              "      <td>0.0</td>\n",
              "      <td>0.0</td>\n",
              "      <td>1.0</td>\n",
              "      <td>1.0</td>\n",
              "      <td>0.16</td>\n",
              "      <td>0.06</td>\n",
              "      <td>0.00</td>\n",
              "      <td>255</td>\n",
              "      <td>19</td>\n",
              "      <td>0.07</td>\n",
              "      <td>0.07</td>\n",
              "      <td>0.00</td>\n",
              "      <td>0.00</td>\n",
              "      <td>0.00</td>\n",
              "      <td>0.00</td>\n",
              "      <td>1.00</td>\n",
              "      <td>1.00</td>\n",
              "    </tr>\n",
              "    <tr>\n",
              "      <th>...</th>\n",
              "      <td>...</td>\n",
              "      <td>...</td>\n",
              "      <td>...</td>\n",
              "      <td>...</td>\n",
              "      <td>...</td>\n",
              "      <td>...</td>\n",
              "      <td>...</td>\n",
              "      <td>...</td>\n",
              "      <td>...</td>\n",
              "      <td>...</td>\n",
              "      <td>...</td>\n",
              "      <td>...</td>\n",
              "      <td>...</td>\n",
              "      <td>...</td>\n",
              "      <td>...</td>\n",
              "      <td>...</td>\n",
              "      <td>...</td>\n",
              "      <td>...</td>\n",
              "      <td>...</td>\n",
              "      <td>...</td>\n",
              "      <td>...</td>\n",
              "      <td>...</td>\n",
              "      <td>...</td>\n",
              "      <td>...</td>\n",
              "      <td>...</td>\n",
              "      <td>...</td>\n",
              "      <td>...</td>\n",
              "      <td>...</td>\n",
              "      <td>...</td>\n",
              "      <td>...</td>\n",
              "      <td>...</td>\n",
              "      <td>...</td>\n",
              "      <td>...</td>\n",
              "      <td>...</td>\n",
              "      <td>...</td>\n",
              "      <td>...</td>\n",
              "      <td>...</td>\n",
              "      <td>...</td>\n",
              "      <td>...</td>\n",
              "      <td>...</td>\n",
              "      <td>...</td>\n",
              "    </tr>\n",
              "    <tr>\n",
              "      <th>125967</th>\n",
              "      <td>0</td>\n",
              "      <td>tcp</td>\n",
              "      <td>private</td>\n",
              "      <td>S0</td>\n",
              "      <td>0</td>\n",
              "      <td>0</td>\n",
              "      <td>0</td>\n",
              "      <td>0</td>\n",
              "      <td>0</td>\n",
              "      <td>0</td>\n",
              "      <td>0</td>\n",
              "      <td>0</td>\n",
              "      <td>0</td>\n",
              "      <td>0</td>\n",
              "      <td>0</td>\n",
              "      <td>0</td>\n",
              "      <td>0</td>\n",
              "      <td>0</td>\n",
              "      <td>0</td>\n",
              "      <td>0</td>\n",
              "      <td>0</td>\n",
              "      <td>0</td>\n",
              "      <td>184</td>\n",
              "      <td>25</td>\n",
              "      <td>1.0</td>\n",
              "      <td>1.0</td>\n",
              "      <td>0.0</td>\n",
              "      <td>0.0</td>\n",
              "      <td>0.14</td>\n",
              "      <td>0.06</td>\n",
              "      <td>0.00</td>\n",
              "      <td>255</td>\n",
              "      <td>25</td>\n",
              "      <td>0.10</td>\n",
              "      <td>0.06</td>\n",
              "      <td>0.00</td>\n",
              "      <td>0.00</td>\n",
              "      <td>1.00</td>\n",
              "      <td>1.00</td>\n",
              "      <td>0.00</td>\n",
              "      <td>0.00</td>\n",
              "    </tr>\n",
              "    <tr>\n",
              "      <th>125968</th>\n",
              "      <td>8</td>\n",
              "      <td>udp</td>\n",
              "      <td>private</td>\n",
              "      <td>SF</td>\n",
              "      <td>105</td>\n",
              "      <td>145</td>\n",
              "      <td>0</td>\n",
              "      <td>0</td>\n",
              "      <td>0</td>\n",
              "      <td>0</td>\n",
              "      <td>0</td>\n",
              "      <td>0</td>\n",
              "      <td>0</td>\n",
              "      <td>0</td>\n",
              "      <td>0</td>\n",
              "      <td>0</td>\n",
              "      <td>0</td>\n",
              "      <td>0</td>\n",
              "      <td>0</td>\n",
              "      <td>0</td>\n",
              "      <td>0</td>\n",
              "      <td>0</td>\n",
              "      <td>2</td>\n",
              "      <td>2</td>\n",
              "      <td>0.0</td>\n",
              "      <td>0.0</td>\n",
              "      <td>0.0</td>\n",
              "      <td>0.0</td>\n",
              "      <td>1.00</td>\n",
              "      <td>0.00</td>\n",
              "      <td>0.00</td>\n",
              "      <td>255</td>\n",
              "      <td>244</td>\n",
              "      <td>0.96</td>\n",
              "      <td>0.01</td>\n",
              "      <td>0.01</td>\n",
              "      <td>0.00</td>\n",
              "      <td>0.00</td>\n",
              "      <td>0.00</td>\n",
              "      <td>0.00</td>\n",
              "      <td>0.00</td>\n",
              "    </tr>\n",
              "    <tr>\n",
              "      <th>125969</th>\n",
              "      <td>0</td>\n",
              "      <td>tcp</td>\n",
              "      <td>smtp</td>\n",
              "      <td>SF</td>\n",
              "      <td>2231</td>\n",
              "      <td>384</td>\n",
              "      <td>0</td>\n",
              "      <td>0</td>\n",
              "      <td>0</td>\n",
              "      <td>0</td>\n",
              "      <td>0</td>\n",
              "      <td>1</td>\n",
              "      <td>0</td>\n",
              "      <td>0</td>\n",
              "      <td>0</td>\n",
              "      <td>0</td>\n",
              "      <td>0</td>\n",
              "      <td>0</td>\n",
              "      <td>0</td>\n",
              "      <td>0</td>\n",
              "      <td>0</td>\n",
              "      <td>0</td>\n",
              "      <td>1</td>\n",
              "      <td>1</td>\n",
              "      <td>0.0</td>\n",
              "      <td>0.0</td>\n",
              "      <td>0.0</td>\n",
              "      <td>0.0</td>\n",
              "      <td>1.00</td>\n",
              "      <td>0.00</td>\n",
              "      <td>0.00</td>\n",
              "      <td>255</td>\n",
              "      <td>30</td>\n",
              "      <td>0.12</td>\n",
              "      <td>0.06</td>\n",
              "      <td>0.00</td>\n",
              "      <td>0.00</td>\n",
              "      <td>0.72</td>\n",
              "      <td>0.00</td>\n",
              "      <td>0.01</td>\n",
              "      <td>0.00</td>\n",
              "    </tr>\n",
              "    <tr>\n",
              "      <th>125970</th>\n",
              "      <td>0</td>\n",
              "      <td>tcp</td>\n",
              "      <td>klogin</td>\n",
              "      <td>S0</td>\n",
              "      <td>0</td>\n",
              "      <td>0</td>\n",
              "      <td>0</td>\n",
              "      <td>0</td>\n",
              "      <td>0</td>\n",
              "      <td>0</td>\n",
              "      <td>0</td>\n",
              "      <td>0</td>\n",
              "      <td>0</td>\n",
              "      <td>0</td>\n",
              "      <td>0</td>\n",
              "      <td>0</td>\n",
              "      <td>0</td>\n",
              "      <td>0</td>\n",
              "      <td>0</td>\n",
              "      <td>0</td>\n",
              "      <td>0</td>\n",
              "      <td>0</td>\n",
              "      <td>144</td>\n",
              "      <td>8</td>\n",
              "      <td>1.0</td>\n",
              "      <td>1.0</td>\n",
              "      <td>0.0</td>\n",
              "      <td>0.0</td>\n",
              "      <td>0.06</td>\n",
              "      <td>0.05</td>\n",
              "      <td>0.00</td>\n",
              "      <td>255</td>\n",
              "      <td>8</td>\n",
              "      <td>0.03</td>\n",
              "      <td>0.05</td>\n",
              "      <td>0.00</td>\n",
              "      <td>0.00</td>\n",
              "      <td>1.00</td>\n",
              "      <td>1.00</td>\n",
              "      <td>0.00</td>\n",
              "      <td>0.00</td>\n",
              "    </tr>\n",
              "    <tr>\n",
              "      <th>125971</th>\n",
              "      <td>0</td>\n",
              "      <td>tcp</td>\n",
              "      <td>ftp_data</td>\n",
              "      <td>SF</td>\n",
              "      <td>151</td>\n",
              "      <td>0</td>\n",
              "      <td>0</td>\n",
              "      <td>0</td>\n",
              "      <td>0</td>\n",
              "      <td>0</td>\n",
              "      <td>0</td>\n",
              "      <td>1</td>\n",
              "      <td>0</td>\n",
              "      <td>0</td>\n",
              "      <td>0</td>\n",
              "      <td>0</td>\n",
              "      <td>0</td>\n",
              "      <td>0</td>\n",
              "      <td>0</td>\n",
              "      <td>0</td>\n",
              "      <td>0</td>\n",
              "      <td>0</td>\n",
              "      <td>1</td>\n",
              "      <td>1</td>\n",
              "      <td>0.0</td>\n",
              "      <td>0.0</td>\n",
              "      <td>0.0</td>\n",
              "      <td>0.0</td>\n",
              "      <td>1.00</td>\n",
              "      <td>0.00</td>\n",
              "      <td>0.00</td>\n",
              "      <td>255</td>\n",
              "      <td>77</td>\n",
              "      <td>0.30</td>\n",
              "      <td>0.03</td>\n",
              "      <td>0.30</td>\n",
              "      <td>0.00</td>\n",
              "      <td>0.00</td>\n",
              "      <td>0.00</td>\n",
              "      <td>0.00</td>\n",
              "      <td>0.00</td>\n",
              "    </tr>\n",
              "  </tbody>\n",
              "</table>\n",
              "<p>125972 rows × 41 columns</p>\n",
              "</div>\n",
              "      <button class=\"colab-df-convert\" onclick=\"convertToInteractive('df-e1884834-3ca8-4281-8711-ee480e1153cc')\"\n",
              "              title=\"Convert this dataframe to an interactive table.\"\n",
              "              style=\"display:none;\">\n",
              "        \n",
              "  <svg xmlns=\"http://www.w3.org/2000/svg\" height=\"24px\"viewBox=\"0 0 24 24\"\n",
              "       width=\"24px\">\n",
              "    <path d=\"M0 0h24v24H0V0z\" fill=\"none\"/>\n",
              "    <path d=\"M18.56 5.44l.94 2.06.94-2.06 2.06-.94-2.06-.94-.94-2.06-.94 2.06-2.06.94zm-11 1L8.5 8.5l.94-2.06 2.06-.94-2.06-.94L8.5 2.5l-.94 2.06-2.06.94zm10 10l.94 2.06.94-2.06 2.06-.94-2.06-.94-.94-2.06-.94 2.06-2.06.94z\"/><path d=\"M17.41 7.96l-1.37-1.37c-.4-.4-.92-.59-1.43-.59-.52 0-1.04.2-1.43.59L10.3 9.45l-7.72 7.72c-.78.78-.78 2.05 0 2.83L4 21.41c.39.39.9.59 1.41.59.51 0 1.02-.2 1.41-.59l7.78-7.78 2.81-2.81c.8-.78.8-2.07 0-2.86zM5.41 20L4 18.59l7.72-7.72 1.47 1.35L5.41 20z\"/>\n",
              "  </svg>\n",
              "      </button>\n",
              "      \n",
              "  <style>\n",
              "    .colab-df-container {\n",
              "      display:flex;\n",
              "      flex-wrap:wrap;\n",
              "      gap: 12px;\n",
              "    }\n",
              "\n",
              "    .colab-df-convert {\n",
              "      background-color: #E8F0FE;\n",
              "      border: none;\n",
              "      border-radius: 50%;\n",
              "      cursor: pointer;\n",
              "      display: none;\n",
              "      fill: #1967D2;\n",
              "      height: 32px;\n",
              "      padding: 0 0 0 0;\n",
              "      width: 32px;\n",
              "    }\n",
              "\n",
              "    .colab-df-convert:hover {\n",
              "      background-color: #E2EBFA;\n",
              "      box-shadow: 0px 1px 2px rgba(60, 64, 67, 0.3), 0px 1px 3px 1px rgba(60, 64, 67, 0.15);\n",
              "      fill: #174EA6;\n",
              "    }\n",
              "\n",
              "    [theme=dark] .colab-df-convert {\n",
              "      background-color: #3B4455;\n",
              "      fill: #D2E3FC;\n",
              "    }\n",
              "\n",
              "    [theme=dark] .colab-df-convert:hover {\n",
              "      background-color: #434B5C;\n",
              "      box-shadow: 0px 1px 3px 1px rgba(0, 0, 0, 0.15);\n",
              "      filter: drop-shadow(0px 1px 2px rgba(0, 0, 0, 0.3));\n",
              "      fill: #FFFFFF;\n",
              "    }\n",
              "  </style>\n",
              "\n",
              "      <script>\n",
              "        const buttonEl =\n",
              "          document.querySelector('#df-e1884834-3ca8-4281-8711-ee480e1153cc button.colab-df-convert');\n",
              "        buttonEl.style.display =\n",
              "          google.colab.kernel.accessAllowed ? 'block' : 'none';\n",
              "\n",
              "        async function convertToInteractive(key) {\n",
              "          const element = document.querySelector('#df-e1884834-3ca8-4281-8711-ee480e1153cc');\n",
              "          const dataTable =\n",
              "            await google.colab.kernel.invokeFunction('convertToInteractive',\n",
              "                                                     [key], {});\n",
              "          if (!dataTable) return;\n",
              "\n",
              "          const docLinkHtml = 'Like what you see? Visit the ' +\n",
              "            '<a target=\"_blank\" href=https://colab.research.google.com/notebooks/data_table.ipynb>data table notebook</a>'\n",
              "            + ' to learn more about interactive tables.';\n",
              "          element.innerHTML = '';\n",
              "          dataTable['output_type'] = 'display_data';\n",
              "          await google.colab.output.renderOutput(dataTable, element);\n",
              "          const docLink = document.createElement('div');\n",
              "          docLink.innerHTML = docLinkHtml;\n",
              "          element.appendChild(docLink);\n",
              "        }\n",
              "      </script>\n",
              "    </div>\n",
              "  </div>\n",
              "  "
            ],
            "text/plain": [
              "        duration protocol_type  ... dst_host_rerror_rate dst_host_srv_rerror_rate\n",
              "0              0           udp  ...                 0.00                     0.00\n",
              "1              0           tcp  ...                 0.00                     0.00\n",
              "2              0           tcp  ...                 0.00                     0.01\n",
              "3              0           tcp  ...                 0.00                     0.00\n",
              "4              0           tcp  ...                 1.00                     1.00\n",
              "...          ...           ...  ...                  ...                      ...\n",
              "125967         0           tcp  ...                 0.00                     0.00\n",
              "125968         8           udp  ...                 0.00                     0.00\n",
              "125969         0           tcp  ...                 0.01                     0.00\n",
              "125970         0           tcp  ...                 0.00                     0.00\n",
              "125971         0           tcp  ...                 0.00                     0.00\n",
              "\n",
              "[125972 rows x 41 columns]"
            ]
          },
          "metadata": {},
          "execution_count": 64
        }
      ]
    },
    {
      "cell_type": "markdown",
      "source": [
        "####encode Data"
      ],
      "metadata": {
        "id": "2mM24OMz-iPT"
      }
    },
    {
      "cell_type": "code",
      "source": [
        "from sklearn.preprocessing import LabelEncoder\n",
        "from sklearn.preprocessing import OrdinalEncoder"
      ],
      "metadata": {
        "id": "zRXINtey7Gkl"
      },
      "execution_count": null,
      "outputs": []
    },
    {
      "cell_type": "code",
      "source": [
        "le=LabelEncoder()\n",
        "le.fit(y_train)\n",
        "y_train=le.transform(y_train)\n",
        "y_test=le.transform(y_test)"
      ],
      "metadata": {
        "id": "Homhu-5TFI9U"
      },
      "execution_count": null,
      "outputs": []
    },
    {
      "cell_type": "code",
      "source": [
        "# prepare input data\n",
        "def prepare_inputs(X_train, X_test):\n",
        "\toe = OrdinalEncoder()\n",
        "\toe.fit(X_train)\n",
        "\tX_train_enc = oe.transform(X_train)\n",
        "\tX_test_enc = oe.transform(X_test)\n",
        "\treturn X_train_enc, X_test_enc"
      ],
      "metadata": {
        "id": "fhXJZHwK8E4s"
      },
      "execution_count": null,
      "outputs": []
    },
    {
      "cell_type": "code",
      "source": [
        "X_train_cat=X_train[['protocol_type','service','flag']]\n",
        "X_test_cat=X_test[['protocol_type','service','flag']]"
      ],
      "metadata": {
        "id": "t4nLSUGT7OSL"
      },
      "execution_count": null,
      "outputs": []
    },
    {
      "cell_type": "code",
      "source": [
        "X_train_cat, X_test_cat = prepare_inputs(X_train_cat, X_test_cat)"
      ],
      "metadata": {
        "id": "y32Pj0oL8CKB"
      },
      "execution_count": null,
      "outputs": []
    },
    {
      "cell_type": "code",
      "source": [
        "X_train_cat"
      ],
      "metadata": {
        "colab": {
          "base_uri": "https://localhost:8080/"
        },
        "id": "hPiOSNjH8cf2",
        "outputId": "c212c231-e0b8-459f-a779-0d98a015bccd"
      },
      "execution_count": null,
      "outputs": [
        {
          "output_type": "execute_result",
          "data": {
            "text/plain": [
              "array([[ 2., 44.,  9.],\n",
              "       [ 1., 49.,  5.],\n",
              "       [ 1., 24.,  9.],\n",
              "       ...,\n",
              "       [ 1., 54.,  9.],\n",
              "       [ 1., 30.,  5.],\n",
              "       [ 1., 20.,  9.]])"
            ]
          },
          "metadata": {},
          "execution_count": 70
        }
      ]
    },
    {
      "cell_type": "code",
      "source": [
        "X_test_cat=pd.DataFrame(X_test_cat ,columns=['protocol_type_enc','service_enc','flag_enc'])\n",
        "X_train_cat=pd.DataFrame(X_train_cat ,columns=['protocol_type_enc','service_enc','flag_enc'])"
      ],
      "metadata": {
        "id": "pZJASYSz8mwF"
      },
      "execution_count": null,
      "outputs": []
    },
    {
      "cell_type": "code",
      "source": [
        "X_train=X_train.drop(['protocol_type','service','flag'],axis=1)\n",
        "X_test=X_test.drop(['protocol_type','service','flag'],axis=1)"
      ],
      "metadata": {
        "id": "CxQ89plt88Kc"
      },
      "execution_count": null,
      "outputs": []
    },
    {
      "cell_type": "code",
      "source": [
        "print(X_train.shape , X_test.shape)"
      ],
      "metadata": {
        "colab": {
          "base_uri": "https://localhost:8080/"
        },
        "id": "VA8uN9kd9oj9",
        "outputId": "8b72e9a9-2964-41d2-efe8-ff01212746af"
      },
      "execution_count": null,
      "outputs": [
        {
          "output_type": "stream",
          "name": "stdout",
          "text": [
            "(125972, 38) (22542, 38)\n"
          ]
        }
      ]
    },
    {
      "cell_type": "code",
      "source": [
        "X_train=pd.concat([X_train ,X_train_cat],axis=1)\n",
        "X_test=pd.concat([X_test ,X_test_cat],axis=1)"
      ],
      "metadata": {
        "id": "hg0AERe29wPD"
      },
      "execution_count": null,
      "outputs": []
    },
    {
      "cell_type": "code",
      "source": [
        "print(X_train.shape , X_test.shape)"
      ],
      "metadata": {
        "colab": {
          "base_uri": "https://localhost:8080/"
        },
        "id": "fTkNFUR0-QYZ",
        "outputId": "5a78d499-df50-4308-9e4c-ac1a2f7f4d7a"
      },
      "execution_count": null,
      "outputs": [
        {
          "output_type": "stream",
          "name": "stdout",
          "text": [
            "(125972, 41) (22542, 41)\n"
          ]
        }
      ]
    },
    {
      "cell_type": "markdown",
      "source": [
        "####Feature selection"
      ],
      "metadata": {
        "id": "rVD7J7HZ56yS"
      }
    },
    {
      "cell_type": "code",
      "source": [
        "# instantiate RandomForestClassifier\n",
        "rf_model = RandomForestClassifier()\n",
        "rf_model.fit(X_train,y_train)\n",
        "feat_importances = pd.Series(rf_model.feature_importances_, index=X_train.columns)\n",
        "# determine 20 most important features\n",
        "df_imp_feat= feat_importances.nlargest(20)\n",
        "print(rf_model.feature_importances_)\n",
        "\n",
        "\n",
        "# plot 20 most important features\n",
        "# feat_importances.nlargest(20).plot(kind='barh')\n",
        "df_imp_feat.plot(kind='barh')\n",
        "plt.show()\n",
        "print(df_imp_feat)"
      ],
      "metadata": {
        "colab": {
          "base_uri": "https://localhost:8080/",
          "height": 855
        },
        "id": "okCZUT7k55bt",
        "outputId": "57058dcb-93a7-4662-fce8-84bcbe14756b"
      },
      "execution_count": null,
      "outputs": [
        {
          "output_type": "stream",
          "name": "stdout",
          "text": [
            "[3.83041847e-03 1.62846470e-01 7.26415535e-02 2.51246196e-05\n",
            " 8.42113242e-03 2.60630315e-05 6.47378639e-03 2.83311032e-04\n",
            " 9.61934198e-03 5.00610382e-03 1.16839627e-04 1.38826490e-05\n",
            " 1.98832704e-04 1.47937760e-04 4.32771423e-05 4.66757688e-05\n",
            " 0.00000000e+00 0.00000000e+00 1.01557814e-03 4.47012364e-02\n",
            " 2.28791932e-02 2.05547999e-02 2.75203218e-02 6.87242008e-03\n",
            " 6.06025236e-03 1.07034905e-01 7.29552047e-02 2.99958715e-03\n",
            " 2.40072125e-02 2.68678386e-02 2.63401581e-02 4.74643875e-02\n",
            " 3.94414730e-02 2.35759161e-02 3.58256693e-02 2.53687680e-02\n",
            " 1.90734206e-02 1.17904941e-02 2.93766659e-02 2.36480888e-02\n",
            " 8.48856585e-02]\n"
          ]
        },
        {
          "output_type": "display_data",
          "data": {
            "image/png": "[encoded data removed]",
            "text/plain": [
              "<Figure size 432x288 with 1 Axes>"
            ]
          },
          "metadata": {
            "needs_background": "light"
          }
        },
        {
          "output_type": "stream",
          "name": "stdout",
          "text": [
            "src_bytes                      0.162846\n",
            "same_srv_rate                  0.107035\n",
            "flag_enc                       0.084886\n",
            "diff_srv_rate                  0.072955\n",
            "dst_bytes                      0.072642\n",
            "dst_host_diff_srv_rate         0.047464\n",
            "count                          0.044701\n",
            "dst_host_same_src_port_rate    0.039441\n",
            "dst_host_serror_rate           0.035826\n",
            "protocol_type_enc              0.029377\n",
            "srv_serror_rate                0.027520\n",
            "dst_host_srv_count             0.026868\n",
            "dst_host_same_srv_rate         0.026340\n",
            "dst_host_srv_serror_rate       0.025369\n",
            "dst_host_count                 0.024007\n",
            "service_enc                    0.023648\n",
            "dst_host_srv_diff_host_rate    0.023576\n",
            "srv_count                      0.022879\n",
            "serror_rate                    0.020555\n",
            "dst_host_rerror_rate           0.019073\n",
            "dtype: float64\n"
          ]
        }
      ]
    },
    {
      "cell_type": "code",
      "source": [
        "X_train=X_train[['src_bytes','same_srv_rate','dst_bytes','flag_enc','dst_host_diff_srv_rate','count','diff_srv_rate','serror_rate',\n",
        "'dst_host_serror_rate','dst_host_srv_serror_rate','dst_host_same_src_port_rate','protocol_type_enc','srv_count','srv_serror_rate','dst_host_srv_count','service_enc','dst_host_srv_diff_host_rate',\n",
        "'dst_host_rerror_rate','dst_host_same_srv_rate','dst_host_count'\n",
        "]]\n",
        "\n",
        "X_test=X_test[['src_bytes','same_srv_rate','dst_bytes','flag_enc','dst_host_diff_srv_rate','count','diff_srv_rate','serror_rate',\n",
        "'dst_host_serror_rate','dst_host_srv_serror_rate','dst_host_same_src_port_rate','protocol_type_enc','srv_count','srv_serror_rate','dst_host_srv_count','service_enc','dst_host_srv_diff_host_rate',\n",
        "'dst_host_rerror_rate','dst_host_same_srv_rate','dst_host_count'\n",
        "]]"
      ],
      "metadata": {
        "id": "WyPnztiG_HXp"
      },
      "execution_count": null,
      "outputs": []
    },
    {
      "cell_type": "code",
      "source": [
        "print(X_train.shape, X_test.shape)"
      ],
      "metadata": {
        "colab": {
          "base_uri": "https://localhost:8080/"
        },
        "id": "2J3sfRa9AokO",
        "outputId": "c60761be-c0f0-457c-e27d-97703e06ae6f"
      },
      "execution_count": null,
      "outputs": [
        {
          "output_type": "stream",
          "name": "stdout",
          "text": [
            "(125972, 20) (22542, 20)\n"
          ]
        }
      ]
    },
    {
      "cell_type": "markdown",
      "metadata": {
        "id": "Vu8dKUa8xI1w"
      },
      "source": [
        "####Normalizing Data"
      ]
    },
    {
      "cell_type": "code",
      "metadata": {
        "id": "BFdRUqyDv42D"
      },
      "source": [
        "##hala nobat be oon mirese sotoon haye integer ro normal konim .ba estefade az log transform in karo anjam midim"
      ],
      "execution_count": null,
      "outputs": []
    },
    {
      "cell_type": "code",
      "source": [
        "X_train.info()"
      ],
      "metadata": {
        "id": "KwSTNCNT7_lG",
        "colab": {
          "base_uri": "https://localhost:8080/"
        },
        "outputId": "c06b5f9a-3d4d-43ca-d804-cb0190be680f"
      },
      "execution_count": null,
      "outputs": [
        {
          "output_type": "stream",
          "name": "stdout",
          "text": [
            "<class 'pandas.core.frame.DataFrame'>\n",
            "RangeIndex: 125972 entries, 0 to 125971\n",
            "Data columns (total 20 columns):\n",
            " #   Column                       Non-Null Count   Dtype  \n",
            "---  ------                       --------------   -----  \n",
            " 0   src_bytes                    125972 non-null  int64  \n",
            " 1   same_srv_rate                125972 non-null  float64\n",
            " 2   dst_bytes                    125972 non-null  int64  \n",
            " 3   flag_enc                     125972 non-null  float64\n",
            " 4   dst_host_diff_srv_rate       125972 non-null  float64\n",
            " 5   count                        125972 non-null  int64  \n",
            " 6   diff_srv_rate                125972 non-null  float64\n",
            " 7   serror_rate                  125972 non-null  float64\n",
            " 8   dst_host_serror_rate         125972 non-null  float64\n",
            " 9   dst_host_srv_serror_rate     125972 non-null  float64\n",
            " 10  dst_host_same_src_port_rate  125972 non-null  float64\n",
            " 11  protocol_type_enc            125972 non-null  float64\n",
            " 12  srv_count                    125972 non-null  int64  \n",
            " 13  srv_serror_rate              125972 non-null  float64\n",
            " 14  dst_host_srv_count           125972 non-null  int64  \n",
            " 15  service_enc                  125972 non-null  float64\n",
            " 16  dst_host_srv_diff_host_rate  125972 non-null  float64\n",
            " 17  dst_host_rerror_rate         125972 non-null  float64\n",
            " 18  dst_host_same_srv_rate       125972 non-null  float64\n",
            " 19  dst_host_count               125972 non-null  int64  \n",
            "dtypes: float64(14), int64(6)\n",
            "memory usage: 19.2 MB\n"
          ]
        }
      ]
    },
    {
      "cell_type": "code",
      "source": [
        "from sklearn.preprocessing import StandardScaler"
      ],
      "metadata": {
        "id": "r9fbBwoEEq5T"
      },
      "execution_count": null,
      "outputs": []
    },
    {
      "cell_type": "code",
      "source": [
        "scaler = StandardScaler()\n",
        "scaler.fit(X_train)\n",
        "X_train=scaler.transform(X_train)\n",
        "X_test=scaler.transform(X_test)"
      ],
      "metadata": {
        "id": "cNeUitbvEwiW"
      },
      "execution_count": null,
      "outputs": []
    },
    {
      "cell_type": "code",
      "metadata": {
        "id": "RMwBdYh_1gsp"
      },
      "source": [
        "y_test,y_train=pd.DataFrame(y_test),pd.DataFrame(y_train)"
      ],
      "execution_count": null,
      "outputs": []
    },
    {
      "cell_type": "markdown",
      "source": [
        "####SMOTE Oversampling"
      ],
      "metadata": {
        "id": "qM5pScrUJ9ZM"
      }
    },
    {
      "cell_type": "code",
      "source": [
        "from imblearn.over_sampling import SMOTE\n",
        "oversample = SMOTE()"
      ],
      "metadata": {
        "id": "WFOk3Rx3J74Q"
      },
      "execution_count": null,
      "outputs": []
    },
    {
      "cell_type": "code",
      "source": [
        "oversample = SMOTE()\n",
        "X_train, y_train = oversample.fit_resample(X_train, y_train)"
      ],
      "metadata": {
        "id": "fFGYdMmHJ79h"
      },
      "execution_count": null,
      "outputs": []
    },
    {
      "cell_type": "code",
      "source": [
        "print(X_train.shape , y_train.shape\n",
        "      )"
      ],
      "metadata": {
        "colab": {
          "base_uri": "https://localhost:8080/"
        },
        "id": "5kG7Ome2NViO",
        "outputId": "dfdeb480-d1d4-4181-94e7-1b446a1981aa"
      },
      "execution_count": null,
      "outputs": [
        {
          "output_type": "stream",
          "name": "stdout",
          "text": [
            "(336710, 20) (336710, 1)\n"
          ]
        }
      ]
    },
    {
      "cell_type": "code",
      "source": [
        "from imblearn.under_sampling import RandomUnderSampler"
      ],
      "metadata": {
        "id": "yNsUgcaiJ8Ir"
      },
      "execution_count": null,
      "outputs": []
    },
    {
      "cell_type": "code",
      "source": [
        "rus = RandomUnderSampler(random_state=42)"
      ],
      "metadata": {
        "id": "3gs83c2JJ8NX"
      },
      "execution_count": null,
      "outputs": []
    },
    {
      "cell_type": "code",
      "source": [
        "X_train, y_train = rus.fit_resample(X_train, y_train)\n",
        "print(X_train.shape , y_train.shape)"
      ],
      "metadata": {
        "colab": {
          "base_uri": "https://localhost:8080/"
        },
        "id": "7dWWaYFbJ8Rn",
        "outputId": "b99896cc-d70a-44b2-973e-24787c22c7fb"
      },
      "execution_count": null,
      "outputs": [
        {
          "output_type": "stream",
          "name": "stdout",
          "text": [
            "(336710, 20) (336710, 1)\n"
          ]
        }
      ]
    },
    {
      "cell_type": "code",
      "source": [],
      "metadata": {
        "id": "JbV4z_aqJ8bq"
      },
      "execution_count": null,
      "outputs": []
    },
    {
      "cell_type": "markdown",
      "source": [
        "###Models"
      ],
      "metadata": {
        "id": "_zn5LhBAuRRw"
      }
    },
    {
      "cell_type": "code",
      "source": [
        "def fitandeval(model,x_train,yy_train,x_test,yy_test):\n",
        "  model.fit(x_train,yy_train)\n",
        "  y_pred=model.predict(x_test)\n",
        "  f1score=f1_score(yy_test, y_pred, average=\"macro\")\n",
        "  W_f1score=f1_score(yy_test, y_pred, average=\"weighted\")\n",
        "  \n",
        "  \n",
        " \n",
        "\n",
        "  return f1score,W_f1score"
      ],
      "metadata": {
        "id": "2bBmigF7SQ9v"
      },
      "execution_count": null,
      "outputs": []
    },
    {
      "cell_type": "markdown",
      "metadata": {
        "id": "4GDha2O2uRRx"
      },
      "source": [
        "#####Random Forest"
      ]
    },
    {
      "cell_type": "code",
      "metadata": {
        "id": "q4Eh7G00uRRx"
      },
      "source": [
        "RF_NSL=RandomForestClassifier(n_estimators=100, random_state=1)"
      ],
      "execution_count": null,
      "outputs": []
    },
    {
      "cell_type": "code",
      "source": [
        "f1score_RF_NSL , W_f1score_RF_NSL=fitandeval(RF_NSL,X_train,y_train,X_test,y_test)"
      ],
      "metadata": {
        "colab": {
          "base_uri": "https://localhost:8080/"
        },
        "outputId": "5673e5ce-b94f-422d-eb58-01fc4ecc13b0",
        "id": "U0NmZL-9uRRy"
      },
      "execution_count": null,
      "outputs": [
        {
          "output_type": "stream",
          "name": "stderr",
          "text": [
            "/usr/local/lib/python3.7/dist-packages/ipykernel_launcher.py:2: DataConversionWarning: A column-vector y was passed when a 1d array was expected. Please change the shape of y to (n_samples,), for example using ravel().\n",
            "  \n"
          ]
        }
      ]
    },
    {
      "cell_type": "code",
      "source": [
        "W_f1score_RF_NSL"
      ],
      "metadata": {
        "colab": {
          "base_uri": "https://localhost:8080/"
        },
        "outputId": "99c74441-534c-492e-bc9d-2e2f65685f9a",
        "id": "Qh5KLdr4uRRz"
      },
      "execution_count": null,
      "outputs": [
        {
          "output_type": "execute_result",
          "data": {
            "text/plain": [
              "0.8304133931377974"
            ]
          },
          "metadata": {},
          "execution_count": 93
        }
      ]
    },
    {
      "cell_type": "markdown",
      "metadata": {
        "id": "Qb0SJPy8uRRz"
      },
      "source": [
        "#####Decision Tree"
      ]
    },
    {
      "cell_type": "code",
      "metadata": {
        "id": "rxYeucwluRRz"
      },
      "source": [
        "DT_NSL = DecisionTreeClassifier(criterion='gini',max_depth=30) "
      ],
      "execution_count": null,
      "outputs": []
    },
    {
      "cell_type": "code",
      "metadata": {
        "id": "znOfriBLuRR0"
      },
      "source": [
        "f1score_DT_NSL , W_f1score_DT_NSL=fitandeval(DT_NSL,X_train,y_train,X_test,y_test)"
      ],
      "execution_count": null,
      "outputs": []
    },
    {
      "cell_type": "code",
      "metadata": {
        "colab": {
          "base_uri": "https://localhost:8080/"
        },
        "outputId": "af6d7f0c-5566-468d-f1b9-bbdcefe5cf4c",
        "id": "IprV2FbpuRR0"
      },
      "source": [
        "W_f1score_DT_NSL"
      ],
      "execution_count": null,
      "outputs": [
        {
          "output_type": "execute_result",
          "data": {
            "text/plain": [
              "0.7712872707190565"
            ]
          },
          "metadata": {},
          "execution_count": 96
        }
      ]
    },
    {
      "cell_type": "markdown",
      "metadata": {
        "id": "vxrpQ_79uRR1"
      },
      "source": [
        "#####Navie Bays"
      ]
    },
    {
      "cell_type": "code",
      "metadata": {
        "id": "oDRFZzc7uRR1"
      },
      "source": [
        "NB_NSL= GaussianNB()"
      ],
      "execution_count": null,
      "outputs": []
    },
    {
      "cell_type": "code",
      "metadata": {
        "colab": {
          "base_uri": "https://localhost:8080/"
        },
        "outputId": "bf20cd9d-ae5a-4f95-ea7b-0710dc82b1d3",
        "id": "qSwmVMMIuRR2"
      },
      "source": [
        "f1score_NB_NSL , W_f1score_NB_NSL=fitandeval(NB_NSL,X_train,y_train,X_test,y_test)"
      ],
      "execution_count": null,
      "outputs": [
        {
          "output_type": "stream",
          "name": "stderr",
          "text": [
            "/usr/local/lib/python3.7/dist-packages/sklearn/utils/validation.py:993: DataConversionWarning: A column-vector y was passed when a 1d array was expected. Please change the shape of y to (n_samples, ), for example using ravel().\n",
            "  y = column_or_1d(y, warn=True)\n"
          ]
        }
      ]
    },
    {
      "cell_type": "code",
      "metadata": {
        "colab": {
          "base_uri": "https://localhost:8080/"
        },
        "outputId": "08409ef6-20fd-431b-ee2c-27101c722d2a",
        "id": "kfeZnonEuRR2"
      },
      "source": [
        "W_f1score_NB_NSL"
      ],
      "execution_count": null,
      "outputs": [
        {
          "output_type": "execute_result",
          "data": {
            "text/plain": [
              "0.7109699191990727"
            ]
          },
          "metadata": {},
          "execution_count": 99
        }
      ]
    },
    {
      "cell_type": "markdown",
      "metadata": {
        "id": "Zenh0UJKuRR3"
      },
      "source": [
        "#####SVM"
      ]
    },
    {
      "cell_type": "code",
      "metadata": {
        "id": "JdjI3iLNuRR3"
      },
      "source": [
        "SVM_NSL= SVC(kernel='rbf')"
      ],
      "execution_count": null,
      "outputs": []
    },
    {
      "cell_type": "code",
      "metadata": {
        "colab": {
          "base_uri": "https://localhost:8080/"
        },
        "outputId": "4ceabfc1-341b-4276-af47-281b75544437",
        "id": "orGnFsQduRR4"
      },
      "source": [
        "f1score_SVM_NSL, W_f1score_SVM_NSL=fitandeval(SVM_NSL,X_train,y_train,X_test,y_test)"
      ],
      "execution_count": null,
      "outputs": [
        {
          "output_type": "stream",
          "name": "stderr",
          "text": [
            "/usr/local/lib/python3.7/dist-packages/sklearn/utils/validation.py:993: DataConversionWarning: A column-vector y was passed when a 1d array was expected. Please change the shape of y to (n_samples, ), for example using ravel().\n",
            "  y = column_or_1d(y, warn=True)\n"
          ]
        }
      ]
    },
    {
      "cell_type": "code",
      "metadata": {
        "colab": {
          "base_uri": "https://localhost:8080/"
        },
        "id": "BYDtVxrDuRR4",
        "outputId": "1c55e694-c136-4725-95f6-c9aa5dcdb65b"
      },
      "source": [
        "W_f1score_SVM_NSL"
      ],
      "execution_count": null,
      "outputs": [
        {
          "output_type": "execute_result",
          "data": {
            "text/plain": [
              "0.8120445350381381"
            ]
          },
          "metadata": {},
          "execution_count": 103
        }
      ]
    },
    {
      "cell_type": "markdown",
      "source": [
        "####W_f1score_SVM_NSL=0.8120445350381381"
      ],
      "metadata": {
        "id": "sj5YKMJLaDkd"
      }
    },
    {
      "cell_type": "code",
      "source": [],
      "metadata": {
        "id": "t-ostczmaCc-"
      },
      "execution_count": null,
      "outputs": []
    },
    {
      "cell_type": "markdown",
      "metadata": {
        "id": "lHMClxSOuRR4"
      },
      "source": [
        "#####MLP"
      ]
    },
    {
      "cell_type": "code",
      "metadata": {
        "id": "0HYhsTKzuRR5"
      },
      "source": [
        "MLP_NSL= Sequential()\n",
        "    \n",
        "    #here 30 is output dimension\n",
        "MLP_NSL.add(Dense(100,input_dim =X_train.shape[1],activation = 'relu',kernel_initializer='random_uniform'))\n",
        "    \n",
        "    #in next layer we do not specify the input_dim as the model is sequential so output of previous layer is input to next layer\n",
        "MLP_NSL.add(Dense(100,activation='relu',kernel_initializer='random_uniform'))\n",
        "MLP_NSL.add(Dense(100,activation='relu',kernel_initializer='random_uniform'))\n",
        "\n",
        "    \n",
        "    #5 classes-normal,dos,probe,r2l,u2r\n",
        "MLP_NSL.add(Dense(10,activation='softmax'))\n",
        "    \n",
        "    #loss is categorical_crossentropy which specifies that we have multiple classes\n",
        "    \n",
        "MLP_NSL.compile(loss ='sparse_categorical_crossentropy',optimizer = 'adam',metrics = ['accuracy'])\n",
        "    "
      ],
      "execution_count": null,
      "outputs": []
    },
    {
      "cell_type": "code",
      "metadata": {
        "id": "mmRO_0mOuRR5"
      },
      "source": [
        "\n",
        "\n",
        "MLP_NSL.fit(X_train,y_train,epochs=100,batch_size=32)\n"
      ],
      "execution_count": null,
      "outputs": []
    },
    {
      "cell_type": "code",
      "metadata": {
        "id": "7EYPB3vluRR6"
      },
      "source": [
        "\n",
        "y_pred_MLP_NSL = MLP_NSL.predict(X_test)\n"
      ],
      "execution_count": null,
      "outputs": []
    },
    {
      "cell_type": "code",
      "source": [
        "y_pred_MLP_NSL= np.argmax(y_pred_MLP_NSL,axis=1)\n"
      ],
      "metadata": {
        "id": "j9po1vpHuRR6"
      },
      "execution_count": null,
      "outputs": []
    },
    {
      "cell_type": "code",
      "source": [
        "print(y_test.shape , y_pred_MLP_NSL.shape)"
      ],
      "metadata": {
        "id": "YkdOunlWuRR7"
      },
      "execution_count": null,
      "outputs": []
    },
    {
      "cell_type": "code",
      "source": [
        "f1score_MLP_NSL=f1_score(y_test, y_pred_MLP_NSL , average=\"macro\")\n",
        "W_f1score_MLP_NSL=f1_score(y_test ,y_pred_MLP_NSL , average=\"weighted\")"
      ],
      "metadata": {
        "id": "qOCJNy_ruRR7"
      },
      "execution_count": null,
      "outputs": []
    },
    {
      "cell_type": "code",
      "source": [
        "print(f1score_MLP_NSL ,W_f1score_MLP_NSL)\n"
      ],
      "metadata": {
        "id": "W5nxst_zuRR8"
      },
      "execution_count": null,
      "outputs": []
    },
    {
      "cell_type": "code",
      "source": [
        "f1score_MLP_NSL ,W_f1score_MLP_NSL=0.5506752051194097 , 0.815032783557662"
      ],
      "metadata": {
        "id": "bhTMTdymbXqj"
      },
      "execution_count": null,
      "outputs": []
    },
    {
      "cell_type": "markdown",
      "metadata": {
        "id": "8T_I4Ci8uRSB"
      },
      "source": [
        "#####result"
      ]
    },
    {
      "cell_type": "code",
      "metadata": {
        "colab": {
          "base_uri": "https://localhost:8080/",
          "height": 206
        },
        "outputId": "6718f279-4969-4166-b70a-1a83a0689407",
        "id": "ndSpk6W3uRSC"
      },
      "source": [
        "dic4={\"F1 score\":[(\"{:.6f}\".format(f1score_RF_NSL)),(\"{:.6f}\".format(f1score_DT_NSL)),(\"{:.6f}\".format(f1score_NB_NSL))\n",
        "       ,(\"{:.6f}\".format(f1score_SVM_NSL)),(\"{:.6f}\".format(f1score_MLP_NSL))],\n",
        "      \n",
        "     \"Weighted F1 score\":[(\"{:.6f}\".format(W_f1score_RF_NSL)),(\"{:.6f}\".format(W_f1score_DT_NSL)),(\"{:.6f}\".format(W_f1score_NB_NSL))\n",
        "       ,(\"{:.6f}\".format(W_f1score_SVM_NSL)),(\"{:.6f}\".format(W_f1score_MLP_NSL))]}\n",
        "\n",
        "       \n",
        "main_data3 = pd.DataFrame.from_dict( dic4 , orient='index')\n",
        "main_data3.columns=['Random Forest', 'Decision Tree','Navie Bays','SVM','MLP']\n",
        "main_data3 = main_data3.T\n",
        "main_data3"
      ],
      "execution_count": null,
      "outputs": [
        {
          "output_type": "execute_result",
          "data": {
            "text/html": [
              "\n",
              "  <div id=\"df-e89cf24e-cb10-4133-88a5-ebbbbc8199d1\">\n",
              "    <div class=\"colab-df-container\">\n",
              "      <div>\n",
              "<style scoped>\n",
              "    .dataframe tbody tr th:only-of-type {\n",
              "        vertical-align: middle;\n",
              "    }\n",
              "\n",
              "    .dataframe tbody tr th {\n",
              "        vertical-align: top;\n",
              "    }\n",
              "\n",
              "    .dataframe thead th {\n",
              "        text-align: right;\n",
              "    }\n",
              "</style>\n",
              "<table border=\"1\" class=\"dataframe\">\n",
              "  <thead>\n",
              "    <tr style=\"text-align: right;\">\n",
              "      <th></th>\n",
              "      <th>F1 score</th>\n",
              "      <th>Weighted F1 score</th>\n",
              "    </tr>\n",
              "  </thead>\n",
              "  <tbody>\n",
              "    <tr>\n",
              "      <th>Random Forest</th>\n",
              "      <td>0.571730</td>\n",
              "      <td>0.830413</td>\n",
              "    </tr>\n",
              "    <tr>\n",
              "      <th>Decision Tree</th>\n",
              "      <td>0.481826</td>\n",
              "      <td>0.771287</td>\n",
              "    </tr>\n",
              "    <tr>\n",
              "      <th>Navie Bays</th>\n",
              "      <td>0.490695</td>\n",
              "      <td>0.710970</td>\n",
              "    </tr>\n",
              "    <tr>\n",
              "      <th>SVM</th>\n",
              "      <td>0.557043</td>\n",
              "      <td>0.812045</td>\n",
              "    </tr>\n",
              "    <tr>\n",
              "      <th>MLP</th>\n",
              "      <td>0.550675</td>\n",
              "      <td>0.815033</td>\n",
              "    </tr>\n",
              "  </tbody>\n",
              "</table>\n",
              "</div>\n",
              "      <button class=\"colab-df-convert\" onclick=\"convertToInteractive('df-e89cf24e-cb10-4133-88a5-ebbbbc8199d1')\"\n",
              "              title=\"Convert this dataframe to an interactive table.\"\n",
              "              style=\"display:none;\">\n",
              "        \n",
              "  <svg xmlns=\"http://www.w3.org/2000/svg\" height=\"24px\"viewBox=\"0 0 24 24\"\n",
              "       width=\"24px\">\n",
              "    <path d=\"M0 0h24v24H0V0z\" fill=\"none\"/>\n",
              "    <path d=\"M18.56 5.44l.94 2.06.94-2.06 2.06-.94-2.06-.94-.94-2.06-.94 2.06-2.06.94zm-11 1L8.5 8.5l.94-2.06 2.06-.94-2.06-.94L8.5 2.5l-.94 2.06-2.06.94zm10 10l.94 2.06.94-2.06 2.06-.94-2.06-.94-.94-2.06-.94 2.06-2.06.94z\"/><path d=\"M17.41 7.96l-1.37-1.37c-.4-.4-.92-.59-1.43-.59-.52 0-1.04.2-1.43.59L10.3 9.45l-7.72 7.72c-.78.78-.78 2.05 0 2.83L4 21.41c.39.39.9.59 1.41.59.51 0 1.02-.2 1.41-.59l7.78-7.78 2.81-2.81c.8-.78.8-2.07 0-2.86zM5.41 20L4 18.59l7.72-7.72 1.47 1.35L5.41 20z\"/>\n",
              "  </svg>\n",
              "      </button>\n",
              "      \n",
              "  <style>\n",
              "    .colab-df-container {\n",
              "      display:flex;\n",
              "      flex-wrap:wrap;\n",
              "      gap: 12px;\n",
              "    }\n",
              "\n",
              "    .colab-df-convert {\n",
              "      background-color: #E8F0FE;\n",
              "      border: none;\n",
              "      border-radius: 50%;\n",
              "      cursor: pointer;\n",
              "      display: none;\n",
              "      fill: #1967D2;\n",
              "      height: 32px;\n",
              "      padding: 0 0 0 0;\n",
              "      width: 32px;\n",
              "    }\n",
              "\n",
              "    .colab-df-convert:hover {\n",
              "      background-color: #E2EBFA;\n",
              "      box-shadow: 0px 1px 2px rgba(60, 64, 67, 0.3), 0px 1px 3px 1px rgba(60, 64, 67, 0.15);\n",
              "      fill: #174EA6;\n",
              "    }\n",
              "\n",
              "    [theme=dark] .colab-df-convert {\n",
              "      background-color: #3B4455;\n",
              "      fill: #D2E3FC;\n",
              "    }\n",
              "\n",
              "    [theme=dark] .colab-df-convert:hover {\n",
              "      background-color: #434B5C;\n",
              "      box-shadow: 0px 1px 3px 1px rgba(0, 0, 0, 0.15);\n",
              "      filter: drop-shadow(0px 1px 2px rgba(0, 0, 0, 0.3));\n",
              "      fill: #FFFFFF;\n",
              "    }\n",
              "  </style>\n",
              "\n",
              "      <script>\n",
              "        const buttonEl =\n",
              "          document.querySelector('#df-e89cf24e-cb10-4133-88a5-ebbbbc8199d1 button.colab-df-convert');\n",
              "        buttonEl.style.display =\n",
              "          google.colab.kernel.accessAllowed ? 'block' : 'none';\n",
              "\n",
              "        async function convertToInteractive(key) {\n",
              "          const element = document.querySelector('#df-e89cf24e-cb10-4133-88a5-ebbbbc8199d1');\n",
              "          const dataTable =\n",
              "            await google.colab.kernel.invokeFunction('convertToInteractive',\n",
              "                                                     [key], {});\n",
              "          if (!dataTable) return;\n",
              "\n",
              "          const docLinkHtml = 'Like what you see? Visit the ' +\n",
              "            '<a target=\"_blank\" href=https://colab.research.google.com/notebooks/data_table.ipynb>data table notebook</a>'\n",
              "            + ' to learn more about interactive tables.';\n",
              "          element.innerHTML = '';\n",
              "          dataTable['output_type'] = 'display_data';\n",
              "          await google.colab.output.renderOutput(dataTable, element);\n",
              "          const docLink = document.createElement('div');\n",
              "          docLink.innerHTML = docLinkHtml;\n",
              "          element.appendChild(docLink);\n",
              "        }\n",
              "      </script>\n",
              "    </div>\n",
              "  </div>\n",
              "  "
            ],
            "text/plain": [
              "               F1 score Weighted F1 score\n",
              "Random Forest  0.571730          0.830413\n",
              "Decision Tree  0.481826          0.771287\n",
              "Navie Bays     0.490695          0.710970\n",
              "SVM            0.557043          0.812045\n",
              "MLP            0.550675          0.815033"
            ]
          },
          "metadata": {},
          "execution_count": 171
        }
      ]
    },
    {
      "cell_type": "code",
      "metadata": {
        "colab": {
          "base_uri": "https://localhost:8080/",
          "height": 206
        },
        "outputId": "c75f6649-e34a-4f15-aa0a-0b5fd3ca4646",
        "id": "FuPrvNfluRSC"
      },
      "source": [
        "dic2={\n",
        "      \"Fandom Forest\"      :(\"{:.6f}\".format(W_f1score_RF_NSL)),\n",
        "      \"Decision Tree\"   :(\"{:.6f}\".format(W_f1score_DT_NSL)),\n",
        "      \"Navie Bays\" :(\"{:.6f}\".format(W_f1score_NB_NSL)),\n",
        "      \"SVM\" :(\"{:.6f}\".format(W_f1score_SVM_NSL)),\n",
        "      \"MLP\" :(\"{:.6f}\".format(W_f1score_MLP_NSL)),\n",
        "      \n",
        "      }\n",
        "\n",
        "evaluation_train_loss_ANOVA = pd.DataFrame.from_dict(dic2, orient='index', columns=[\"Weighted F1_Score\"] )\n",
        "evaluation_train_loss_ANOVA"
      ],
      "execution_count": null,
      "outputs": [
        {
          "output_type": "execute_result",
          "data": {
            "text/html": [
              "\n",
              "  <div id=\"df-8fc42190-1c01-40a0-b7d0-39c8e4582ff9\">\n",
              "    <div class=\"colab-df-container\">\n",
              "      <div>\n",
              "<style scoped>\n",
              "    .dataframe tbody tr th:only-of-type {\n",
              "        vertical-align: middle;\n",
              "    }\n",
              "\n",
              "    .dataframe tbody tr th {\n",
              "        vertical-align: top;\n",
              "    }\n",
              "\n",
              "    .dataframe thead th {\n",
              "        text-align: right;\n",
              "    }\n",
              "</style>\n",
              "<table border=\"1\" class=\"dataframe\">\n",
              "  <thead>\n",
              "    <tr style=\"text-align: right;\">\n",
              "      <th></th>\n",
              "      <th>Weighted F1_Score</th>\n",
              "    </tr>\n",
              "  </thead>\n",
              "  <tbody>\n",
              "    <tr>\n",
              "      <th>Fandom Forest</th>\n",
              "      <td>0.830413</td>\n",
              "    </tr>\n",
              "    <tr>\n",
              "      <th>Decision Tree</th>\n",
              "      <td>0.771287</td>\n",
              "    </tr>\n",
              "    <tr>\n",
              "      <th>Navie Bays</th>\n",
              "      <td>0.710970</td>\n",
              "    </tr>\n",
              "    <tr>\n",
              "      <th>SVM</th>\n",
              "      <td>0.812045</td>\n",
              "    </tr>\n",
              "    <tr>\n",
              "      <th>MLP</th>\n",
              "      <td>0.815033</td>\n",
              "    </tr>\n",
              "  </tbody>\n",
              "</table>\n",
              "</div>\n",
              "      <button class=\"colab-df-convert\" onclick=\"convertToInteractive('df-8fc42190-1c01-40a0-b7d0-39c8e4582ff9')\"\n",
              "              title=\"Convert this dataframe to an interactive table.\"\n",
              "              style=\"display:none;\">\n",
              "        \n",
              "  <svg xmlns=\"http://www.w3.org/2000/svg\" height=\"24px\"viewBox=\"0 0 24 24\"\n",
              "       width=\"24px\">\n",
              "    <path d=\"M0 0h24v24H0V0z\" fill=\"none\"/>\n",
              "    <path d=\"M18.56 5.44l.94 2.06.94-2.06 2.06-.94-2.06-.94-.94-2.06-.94 2.06-2.06.94zm-11 1L8.5 8.5l.94-2.06 2.06-.94-2.06-.94L8.5 2.5l-.94 2.06-2.06.94zm10 10l.94 2.06.94-2.06 2.06-.94-2.06-.94-.94-2.06-.94 2.06-2.06.94z\"/><path d=\"M17.41 7.96l-1.37-1.37c-.4-.4-.92-.59-1.43-.59-.52 0-1.04.2-1.43.59L10.3 9.45l-7.72 7.72c-.78.78-.78 2.05 0 2.83L4 21.41c.39.39.9.59 1.41.59.51 0 1.02-.2 1.41-.59l7.78-7.78 2.81-2.81c.8-.78.8-2.07 0-2.86zM5.41 20L4 18.59l7.72-7.72 1.47 1.35L5.41 20z\"/>\n",
              "  </svg>\n",
              "      </button>\n",
              "      \n",
              "  <style>\n",
              "    .colab-df-container {\n",
              "      display:flex;\n",
              "      flex-wrap:wrap;\n",
              "      gap: 12px;\n",
              "    }\n",
              "\n",
              "    .colab-df-convert {\n",
              "      background-color: #E8F0FE;\n",
              "      border: none;\n",
              "      border-radius: 50%;\n",
              "      cursor: pointer;\n",
              "      display: none;\n",
              "      fill: #1967D2;\n",
              "      height: 32px;\n",
              "      padding: 0 0 0 0;\n",
              "      width: 32px;\n",
              "    }\n",
              "\n",
              "    .colab-df-convert:hover {\n",
              "      background-color: #E2EBFA;\n",
              "      box-shadow: 0px 1px 2px rgba(60, 64, 67, 0.3), 0px 1px 3px 1px rgba(60, 64, 67, 0.15);\n",
              "      fill: #174EA6;\n",
              "    }\n",
              "\n",
              "    [theme=dark] .colab-df-convert {\n",
              "      background-color: #3B4455;\n",
              "      fill: #D2E3FC;\n",
              "    }\n",
              "\n",
              "    [theme=dark] .colab-df-convert:hover {\n",
              "      background-color: #434B5C;\n",
              "      box-shadow: 0px 1px 3px 1px rgba(0, 0, 0, 0.15);\n",
              "      filter: drop-shadow(0px 1px 2px rgba(0, 0, 0, 0.3));\n",
              "      fill: #FFFFFF;\n",
              "    }\n",
              "  </style>\n",
              "\n",
              "      <script>\n",
              "        const buttonEl =\n",
              "          document.querySelector('#df-8fc42190-1c01-40a0-b7d0-39c8e4582ff9 button.colab-df-convert');\n",
              "        buttonEl.style.display =\n",
              "          google.colab.kernel.accessAllowed ? 'block' : 'none';\n",
              "\n",
              "        async function convertToInteractive(key) {\n",
              "          const element = document.querySelector('#df-8fc42190-1c01-40a0-b7d0-39c8e4582ff9');\n",
              "          const dataTable =\n",
              "            await google.colab.kernel.invokeFunction('convertToInteractive',\n",
              "                                                     [key], {});\n",
              "          if (!dataTable) return;\n",
              "\n",
              "          const docLinkHtml = 'Like what you see? Visit the ' +\n",
              "            '<a target=\"_blank\" href=https://colab.research.google.com/notebooks/data_table.ipynb>data table notebook</a>'\n",
              "            + ' to learn more about interactive tables.';\n",
              "          element.innerHTML = '';\n",
              "          dataTable['output_type'] = 'display_data';\n",
              "          await google.colab.output.renderOutput(dataTable, element);\n",
              "          const docLink = document.createElement('div');\n",
              "          docLink.innerHTML = docLinkHtml;\n",
              "          element.appendChild(docLink);\n",
              "        }\n",
              "      </script>\n",
              "    </div>\n",
              "  </div>\n",
              "  "
            ],
            "text/plain": [
              "              Weighted F1_Score\n",
              "Fandom Forest          0.830413\n",
              "Decision Tree          0.771287\n",
              "Navie Bays             0.710970\n",
              "SVM                    0.812045\n",
              "MLP                    0.815033"
            ]
          },
          "metadata": {},
          "execution_count": 172
        }
      ]
    },
    {
      "cell_type": "code",
      "metadata": {
        "colab": {
          "base_uri": "https://localhost:8080/",
          "height": 332
        },
        "outputId": "acc3e1e6-3394-4f79-a973-9a65034ce400",
        "id": "XpOo9eGmuRSD"
      },
      "source": [
        "from matplotlib.pyplot import plot\n",
        "f, ax = plt.subplots(figsize=(25,5)) # set the size that you'd like (width, height)\n",
        "main_data3[\"Weighted F1 score\"] = main_data3['Weighted F1 score'].astype(float)\n",
        "main_data3[\"Weighted F1 score\"] .plot(kind=\"bar\", grid=True , width=0.4,)\n",
        "plt.title('Weighted F1 score')"
      ],
      "execution_count": null,
      "outputs": [
        {
          "output_type": "execute_result",
          "data": {
            "text/plain": [
              "Text(0.5, 1.0, 'Weighted F1 score')"
            ]
          },
          "metadata": {},
          "execution_count": 173
        },
        {
          "output_type": "display_data",
          "data": {
            "image/png": "[encoded data removed]",
            "text/plain": [
              "<Figure size 1800x360 with 1 Axes>"
            ]
          },
          "metadata": {
            "needs_background": "light"
          }
        }
      ]
    },
    {
      "cell_type": "code",
      "metadata": {
        "id": "3qMc1CL3uRSF"
      },
      "source": [],
      "execution_count": null,
      "outputs": []
    },
    {
      "cell_type": "code",
      "source": [],
      "metadata": {
        "id": "HmolIrNeJ8gG"
      },
      "execution_count": null,
      "outputs": []
    },
    {
      "cell_type": "code",
      "source": [],
      "metadata": {
        "id": "bmqcR8sYJ8oI"
      },
      "execution_count": null,
      "outputs": []
    },
    {
      "cell_type": "markdown",
      "source": [
        "##NB15"
      ],
      "metadata": {
        "id": "eY2Tvxru8xfM"
      }
    },
    {
      "cell_type": "code",
      "source": [
        "dataset2_test=pd.read_csv('/content/drive/MyDrive/پزوژه ها/UNSW_NB15_testing-set (1).csv')\n",
        "dataset2_train=pd.read_csv('/content/drive/MyDrive/پزوژه ها/UNSW_NB15_training-set.csv')"
      ],
      "metadata": {
        "id": "fBos1uVw9FLl"
      },
      "execution_count": null,
      "outputs": []
    },
    {
      "cell_type": "code",
      "source": [
        "print(dataset2_train.shape, dataset2_test.shape)"
      ],
      "metadata": {
        "colab": {
          "base_uri": "https://localhost:8080/"
        },
        "id": "KxxMuA4I9FRC",
        "outputId": "2206a295-ae78-428c-a0eb-8c4798e701f4"
      },
      "execution_count": null,
      "outputs": [
        {
          "output_type": "stream",
          "name": "stdout",
          "text": [
            "(82332, 45) (175341, 45)\n"
          ]
        }
      ]
    },
    {
      "cell_type": "code",
      "source": [
        "dataset2_train.info()"
      ],
      "metadata": {
        "colab": {
          "base_uri": "https://localhost:8080/"
        },
        "id": "Qz_UObbf9FWC",
        "outputId": "40b9173f-81f6-4d36-ff2b-ee77e0f58178"
      },
      "execution_count": null,
      "outputs": [
        {
          "output_type": "stream",
          "name": "stdout",
          "text": [
            "<class 'pandas.core.frame.DataFrame'>\n",
            "RangeIndex: 82332 entries, 0 to 82331\n",
            "Data columns (total 45 columns):\n",
            " #   Column             Non-Null Count  Dtype  \n",
            "---  ------             --------------  -----  \n",
            " 0   id                 82332 non-null  int64  \n",
            " 1   dur                82332 non-null  float64\n",
            " 2   proto              82332 non-null  object \n",
            " 3   service            82332 non-null  object \n",
            " 4   state              82332 non-null  object \n",
            " 5   spkts              82332 non-null  int64  \n",
            " 6   dpkts              82332 non-null  int64  \n",
            " 7   sbytes             82332 non-null  int64  \n",
            " 8   dbytes             82332 non-null  int64  \n",
            " 9   rate               82332 non-null  float64\n",
            " 10  sttl               82332 non-null  int64  \n",
            " 11  dttl               82332 non-null  int64  \n",
            " 12  sload              82332 non-null  float64\n",
            " 13  dload              82332 non-null  float64\n",
            " 14  sloss              82332 non-null  int64  \n",
            " 15  dloss              82332 non-null  int64  \n",
            " 16  sinpkt             82332 non-null  float64\n",
            " 17  dinpkt             82332 non-null  float64\n",
            " 18  sjit               82332 non-null  float64\n",
            " 19  djit               82332 non-null  float64\n",
            " 20  swin               82332 non-null  int64  \n",
            " 21  stcpb              82332 non-null  int64  \n",
            " 22  dtcpb              82332 non-null  int64  \n",
            " 23  dwin               82332 non-null  int64  \n",
            " 24  tcprtt             82332 non-null  float64\n",
            " 25  synack             82332 non-null  float64\n",
            " 26  ackdat             82332 non-null  float64\n",
            " 27  smean              82332 non-null  int64  \n",
            " 28  dmean              82332 non-null  int64  \n",
            " 29  trans_depth        82332 non-null  int64  \n",
            " 30  response_body_len  82332 non-null  int64  \n",
            " 31  ct_srv_src         82332 non-null  int64  \n",
            " 32  ct_state_ttl       82332 non-null  int64  \n",
            " 33  ct_dst_ltm         82332 non-null  int64  \n",
            " 34  ct_src_dport_ltm   82332 non-null  int64  \n",
            " 35  ct_dst_sport_ltm   82332 non-null  int64  \n",
            " 36  ct_dst_src_ltm     82332 non-null  int64  \n",
            " 37  is_ftp_login       82332 non-null  int64  \n",
            " 38  ct_ftp_cmd         82332 non-null  int64  \n",
            " 39  ct_flw_http_mthd   82332 non-null  int64  \n",
            " 40  ct_src_ltm         82332 non-null  int64  \n",
            " 41  ct_srv_dst         82332 non-null  int64  \n",
            " 42  is_sm_ips_ports    82332 non-null  int64  \n",
            " 43  attack_cat         82332 non-null  object \n",
            " 44  label              82332 non-null  int64  \n",
            "dtypes: float64(11), int64(30), object(4)\n",
            "memory usage: 28.3+ MB\n"
          ]
        }
      ]
    },
    {
      "cell_type": "code",
      "source": [
        "dataset2_test.info()"
      ],
      "metadata": {
        "colab": {
          "base_uri": "https://localhost:8080/"
        },
        "id": "rA6PmNL-9Xwr",
        "outputId": "efdaf152-24c6-4806-9f2f-728664116ef6"
      },
      "execution_count": null,
      "outputs": [
        {
          "output_type": "stream",
          "name": "stdout",
          "text": [
            "<class 'pandas.core.frame.DataFrame'>\n",
            "RangeIndex: 175341 entries, 0 to 175340\n",
            "Data columns (total 45 columns):\n",
            " #   Column             Non-Null Count   Dtype  \n",
            "---  ------             --------------   -----  \n",
            " 0   id                 175341 non-null  int64  \n",
            " 1   dur                175341 non-null  float64\n",
            " 2   proto              175341 non-null  object \n",
            " 3   service            175341 non-null  object \n",
            " 4   state              175341 non-null  object \n",
            " 5   spkts              175341 non-null  int64  \n",
            " 6   dpkts              175341 non-null  int64  \n",
            " 7   sbytes             175341 non-null  int64  \n",
            " 8   dbytes             175341 non-null  int64  \n",
            " 9   rate               175341 non-null  float64\n",
            " 10  sttl               175341 non-null  int64  \n",
            " 11  dttl               175341 non-null  int64  \n",
            " 12  sload              175341 non-null  float64\n",
            " 13  dload              175341 non-null  float64\n",
            " 14  sloss              175341 non-null  int64  \n",
            " 15  dloss              175341 non-null  int64  \n",
            " 16  sinpkt             175341 non-null  float64\n",
            " 17  dinpkt             175341 non-null  float64\n",
            " 18  sjit               175341 non-null  float64\n",
            " 19  djit               175341 non-null  float64\n",
            " 20  swin               175341 non-null  int64  \n",
            " 21  stcpb              175341 non-null  int64  \n",
            " 22  dtcpb              175341 non-null  int64  \n",
            " 23  dwin               175341 non-null  int64  \n",
            " 24  tcprtt             175341 non-null  float64\n",
            " 25  synack             175341 non-null  float64\n",
            " 26  ackdat             175341 non-null  float64\n",
            " 27  smean              175341 non-null  int64  \n",
            " 28  dmean              175341 non-null  int64  \n",
            " 29  trans_depth        175341 non-null  int64  \n",
            " 30  response_body_len  175341 non-null  int64  \n",
            " 31  ct_srv_src         175341 non-null  int64  \n",
            " 32  ct_state_ttl       175341 non-null  int64  \n",
            " 33  ct_dst_ltm         175341 non-null  int64  \n",
            " 34  ct_src_dport_ltm   175341 non-null  int64  \n",
            " 35  ct_dst_sport_ltm   175341 non-null  int64  \n",
            " 36  ct_dst_src_ltm     175341 non-null  int64  \n",
            " 37  is_ftp_login       175341 non-null  int64  \n",
            " 38  ct_ftp_cmd         175341 non-null  int64  \n",
            " 39  ct_flw_http_mthd   175341 non-null  int64  \n",
            " 40  ct_src_ltm         175341 non-null  int64  \n",
            " 41  ct_srv_dst         175341 non-null  int64  \n",
            " 42  is_sm_ips_ports    175341 non-null  int64  \n",
            " 43  attack_cat         175341 non-null  object \n",
            " 44  label              175341 non-null  int64  \n",
            "dtypes: float64(11), int64(30), object(4)\n",
            "memory usage: 60.2+ MB\n"
          ]
        }
      ]
    },
    {
      "cell_type": "code",
      "source": [
        "dataset2_train.nunique()"
      ],
      "metadata": {
        "colab": {
          "base_uri": "https://localhost:8080/"
        },
        "id": "XbpJ_Wpf9a6e",
        "outputId": "b9852ec7-9763-4bd3-c6b9-21b5c34aadc6"
      },
      "execution_count": null,
      "outputs": [
        {
          "output_type": "execute_result",
          "data": {
            "text/plain": [
              "id                   82332\n",
              "dur                  39888\n",
              "proto                  131\n",
              "service                 13\n",
              "state                    7\n",
              "spkts                  420\n",
              "dpkts                  436\n",
              "sbytes                4489\n",
              "dbytes                4034\n",
              "rate                 40616\n",
              "sttl                    11\n",
              "dttl                     8\n",
              "sload                42873\n",
              "dload                40614\n",
              "sloss                  253\n",
              "dloss                  311\n",
              "sinpkt               39970\n",
              "dinpkt               37617\n",
              "sjit                 39944\n",
              "djit                 38381\n",
              "swin                    11\n",
              "stcpb                39219\n",
              "dtcpb                39108\n",
              "dwin                    14\n",
              "tcprtt               26130\n",
              "synack               24934\n",
              "ackdat               24020\n",
              "smean                 1282\n",
              "dmean                 1222\n",
              "trans_depth              8\n",
              "response_body_len     1190\n",
              "ct_srv_src              57\n",
              "ct_state_ttl             7\n",
              "ct_dst_ltm              50\n",
              "ct_src_dport_ltm        50\n",
              "ct_dst_sport_ltm        33\n",
              "ct_dst_src_ltm          57\n",
              "is_ftp_login             3\n",
              "ct_ftp_cmd               3\n",
              "ct_flw_http_mthd         8\n",
              "ct_src_ltm              50\n",
              "ct_srv_dst              57\n",
              "is_sm_ips_ports          2\n",
              "attack_cat              10\n",
              "label                    2\n",
              "dtype: int64"
            ]
          },
          "metadata": {},
          "execution_count": 108
        }
      ]
    },
    {
      "cell_type": "code",
      "source": [
        "dataset2_test.nunique()"
      ],
      "metadata": {
        "colab": {
          "base_uri": "https://localhost:8080/"
        },
        "id": "V0Nobgec9ejb",
        "outputId": "f98c3cf5-cb30-4960-f400-47fd76ea80d8"
      },
      "execution_count": null,
      "outputs": [
        {
          "output_type": "execute_result",
          "data": {
            "text/plain": [
              "id                   175341\n",
              "dur                   74039\n",
              "proto                   133\n",
              "service                  13\n",
              "state                     9\n",
              "spkts                   480\n",
              "dpkts                   443\n",
              "sbytes                 7214\n",
              "dbytes                 6660\n",
              "rate                  76991\n",
              "sttl                     11\n",
              "dttl                      6\n",
              "sload                 80885\n",
              "dload                 77474\n",
              "sloss                   409\n",
              "dloss                   370\n",
              "sinpkt                76161\n",
              "dinpkt                74245\n",
              "sjit                  77532\n",
              "djit                  76831\n",
              "swin                     13\n",
              "stcpb                 75265\n",
              "dtcpb                 75089\n",
              "dwin                      7\n",
              "tcprtt                43319\n",
              "synack                40142\n",
              "ackdat                37708\n",
              "smean                  1357\n",
              "dmean                  1328\n",
              "trans_depth              11\n",
              "response_body_len      2386\n",
              "ct_srv_src               52\n",
              "ct_state_ttl              5\n",
              "ct_dst_ltm               50\n",
              "ct_src_dport_ltm         47\n",
              "ct_dst_sport_ltm         32\n",
              "ct_dst_src_ltm           54\n",
              "is_ftp_login              4\n",
              "ct_ftp_cmd                4\n",
              "ct_flw_http_mthd         11\n",
              "ct_src_ltm               50\n",
              "ct_srv_dst               52\n",
              "is_sm_ips_ports           2\n",
              "attack_cat               10\n",
              "label                     2\n",
              "dtype: int64"
            ]
          },
          "metadata": {},
          "execution_count": 109
        }
      ]
    },
    {
      "cell_type": "code",
      "source": [
        "dataset2_train.attack_cat.unique()"
      ],
      "metadata": {
        "colab": {
          "base_uri": "https://localhost:8080/"
        },
        "id": "BiN7Op-x9hWe",
        "outputId": "50ff22dc-ccb3-4ba0-f63b-0489d32341bd"
      },
      "execution_count": null,
      "outputs": [
        {
          "output_type": "execute_result",
          "data": {
            "text/plain": [
              "array(['Normal', 'Reconnaissance', 'Backdoor', 'DoS', 'Exploits',\n",
              "       'Analysis', 'Fuzzers', 'Worms', 'Shellcode', 'Generic'],\n",
              "      dtype=object)"
            ]
          },
          "metadata": {},
          "execution_count": 110
        }
      ]
    },
    {
      "cell_type": "markdown",
      "source": [
        "####check missvalue"
      ],
      "metadata": {
        "id": "8RjkE6sr9mLb"
      }
    },
    {
      "cell_type": "code",
      "source": [
        "dataset2_train.isna().sum()"
      ],
      "metadata": {
        "colab": {
          "base_uri": "https://localhost:8080/"
        },
        "id": "i8uNgl9u9pVr",
        "outputId": "5a143ee7-44da-4a6c-f514-4afd273f3ae5"
      },
      "execution_count": null,
      "outputs": [
        {
          "output_type": "execute_result",
          "data": {
            "text/plain": [
              "id                   0\n",
              "dur                  0\n",
              "proto                0\n",
              "service              0\n",
              "state                0\n",
              "spkts                0\n",
              "dpkts                0\n",
              "sbytes               0\n",
              "dbytes               0\n",
              "rate                 0\n",
              "sttl                 0\n",
              "dttl                 0\n",
              "sload                0\n",
              "dload                0\n",
              "sloss                0\n",
              "dloss                0\n",
              "sinpkt               0\n",
              "dinpkt               0\n",
              "sjit                 0\n",
              "djit                 0\n",
              "swin                 0\n",
              "stcpb                0\n",
              "dtcpb                0\n",
              "dwin                 0\n",
              "tcprtt               0\n",
              "synack               0\n",
              "ackdat               0\n",
              "smean                0\n",
              "dmean                0\n",
              "trans_depth          0\n",
              "response_body_len    0\n",
              "ct_srv_src           0\n",
              "ct_state_ttl         0\n",
              "ct_dst_ltm           0\n",
              "ct_src_dport_ltm     0\n",
              "ct_dst_sport_ltm     0\n",
              "ct_dst_src_ltm       0\n",
              "is_ftp_login         0\n",
              "ct_ftp_cmd           0\n",
              "ct_flw_http_mthd     0\n",
              "ct_src_ltm           0\n",
              "ct_srv_dst           0\n",
              "is_sm_ips_ports      0\n",
              "attack_cat           0\n",
              "label                0\n",
              "dtype: int64"
            ]
          },
          "metadata": {},
          "execution_count": 111
        }
      ]
    },
    {
      "cell_type": "code",
      "source": [
        "dataset2_test.isna().sum()"
      ],
      "metadata": {
        "colab": {
          "base_uri": "https://localhost:8080/"
        },
        "id": "Vhxh-LZc9pao",
        "outputId": "d32994de-1162-4405-fdf6-1f80d2238ff8"
      },
      "execution_count": null,
      "outputs": [
        {
          "output_type": "execute_result",
          "data": {
            "text/plain": [
              "id                   0\n",
              "dur                  0\n",
              "proto                0\n",
              "service              0\n",
              "state                0\n",
              "spkts                0\n",
              "dpkts                0\n",
              "sbytes               0\n",
              "dbytes               0\n",
              "rate                 0\n",
              "sttl                 0\n",
              "dttl                 0\n",
              "sload                0\n",
              "dload                0\n",
              "sloss                0\n",
              "dloss                0\n",
              "sinpkt               0\n",
              "dinpkt               0\n",
              "sjit                 0\n",
              "djit                 0\n",
              "swin                 0\n",
              "stcpb                0\n",
              "dtcpb                0\n",
              "dwin                 0\n",
              "tcprtt               0\n",
              "synack               0\n",
              "ackdat               0\n",
              "smean                0\n",
              "dmean                0\n",
              "trans_depth          0\n",
              "response_body_len    0\n",
              "ct_srv_src           0\n",
              "ct_state_ttl         0\n",
              "ct_dst_ltm           0\n",
              "ct_src_dport_ltm     0\n",
              "ct_dst_sport_ltm     0\n",
              "ct_dst_src_ltm       0\n",
              "is_ftp_login         0\n",
              "ct_ftp_cmd           0\n",
              "ct_flw_http_mthd     0\n",
              "ct_src_ltm           0\n",
              "ct_srv_dst           0\n",
              "is_sm_ips_ports      0\n",
              "attack_cat           0\n",
              "label                0\n",
              "dtype: int64"
            ]
          },
          "metadata": {},
          "execution_count": 112
        }
      ]
    },
    {
      "cell_type": "markdown",
      "source": [
        "####remove unusfull features"
      ],
      "metadata": {
        "id": "zzI_0dG2-Bh8"
      }
    },
    {
      "cell_type": "code",
      "source": [
        "dataset2_train_cat=dataset2_train.drop(['label','id'],axis=1)\n",
        "dataset2_test_cat=dataset2_test.drop(['label','id'],axis=1)"
      ],
      "metadata": {
        "id": "A_eLqEEE-Ahs"
      },
      "execution_count": null,
      "outputs": []
    },
    {
      "cell_type": "markdown",
      "source": [
        "####visual target class distribiution"
      ],
      "metadata": {
        "id": "MsRebbQA-SFa"
      }
    },
    {
      "cell_type": "code",
      "source": [
        "fig,(ax1,ax2)= plt.subplots(ncols=2, figsize=(25, 7.5), dpi=100)\n",
        "\n",
        "fig.suptitle(f'Counts of Observation Labels in UNSW_NB15', fontsize=25)\n",
        "\n",
        "sns.countplot(x=\"attack_cat\", \n",
        "            palette=\"OrRd_r\", \n",
        "            data=dataset2_train_cat, \n",
        "            order=dataset2_train_cat['attack_cat'].value_counts().index,\n",
        "            ax=ax1)\n",
        "\n",
        "ax1.set_title('Train Set', fontsize=20)\n",
        "ax1.set_xlabel('label', fontsize=15)\n",
        "ax1.set_ylabel('count', fontsize=15)\n",
        "ax1.tick_params(labelrotation=90)\n",
        "\n",
        "sns.countplot(x=\"attack_cat\", \n",
        "            palette=\"GnBu_r\", \n",
        "            data=dataset2_test_cat, \n",
        "            order=dataset2_test_cat['attack_cat'].value_counts().index,\n",
        "            ax=ax2)\n",
        "\n",
        "ax2.set_title('Test Set', fontsize=20)\n",
        "ax2.set_xlabel('label', fontsize=15)\n",
        "ax2.set_ylabel('count', fontsize=15)\n",
        "ax2.tick_params(labelrotation=90)\n",
        "\n",
        "plt.show()"
      ],
      "metadata": {
        "colab": {
          "base_uri": "https://localhost:8080/",
          "height": 463
        },
        "id": "L4ydNoTJ-brA",
        "outputId": "d4242875-a2fd-4df4-eb1e-213588bc78e4"
      },
      "execution_count": null,
      "outputs": [
        {
          "output_type": "display_data",
          "data": {
            "image/png": "[encoded data removed]",
            "text/plain": [
              "<Figure size 2500x750 with 2 Axes>"
            ]
          },
          "metadata": {
            "needs_background": "light"
          }
        }
      ]
    },
    {
      "cell_type": "markdown",
      "source": [
        "####Split X and y"
      ],
      "metadata": {
        "id": "3g9r9ZiN-3iF"
      }
    },
    {
      "cell_type": "code",
      "source": [
        "X2_train=dataset2_train_cat.iloc[:,:-1]\n",
        "X2_test=dataset2_test_cat.iloc[:,:-1]\n",
        "y2_test=dataset2_test_cat.iloc[:,-1]\n",
        "y2_train=dataset2_train_cat.iloc[:,-1]\n",
        "print(X2_train.shape ,X2_test.shape ,y2_train.shape , y2_test.shape)"
      ],
      "metadata": {
        "colab": {
          "base_uri": "https://localhost:8080/"
        },
        "id": "u2uHfgs7-68q",
        "outputId": "a3bcc110-a364-4211-d5ca-b290457c6a01"
      },
      "execution_count": null,
      "outputs": [
        {
          "output_type": "stream",
          "name": "stdout",
          "text": [
            "(82332, 42) (175341, 42) (82332,) (175341,)\n"
          ]
        }
      ]
    },
    {
      "cell_type": "code",
      "source": [],
      "metadata": {
        "id": "MbUssjqSNfoN"
      },
      "execution_count": null,
      "outputs": []
    },
    {
      "cell_type": "markdown",
      "source": [
        "####encode Data"
      ],
      "metadata": {
        "id": "KJg45h_6NgDI"
      }
    },
    {
      "cell_type": "code",
      "source": [
        "from sklearn.preprocessing import LabelEncoder\n",
        "from sklearn.preprocessing import OrdinalEncoder"
      ],
      "metadata": {
        "id": "JZSK-FOyNgDJ"
      },
      "execution_count": null,
      "outputs": []
    },
    {
      "cell_type": "code",
      "source": [
        "le=LabelEncoder()\n",
        "le.fit(y2_train)\n",
        "y2_train=le.transform(y2_train)\n",
        "y2_test=le.transform(y2_test)"
      ],
      "metadata": {
        "id": "6hI97DM-NgDK"
      },
      "execution_count": null,
      "outputs": []
    },
    {
      "cell_type": "code",
      "source": [
        "print( y2_train.shape , y2_test.shape)"
      ],
      "metadata": {
        "colab": {
          "base_uri": "https://localhost:8080/"
        },
        "id": "ebdq2C5Cvmb0",
        "outputId": "5f81f080-e2b8-4999-b8ea-d45516cedcd4"
      },
      "execution_count": null,
      "outputs": [
        {
          "output_type": "stream",
          "name": "stdout",
          "text": [
            "(82332,) (175341,)\n"
          ]
        }
      ]
    },
    {
      "cell_type": "code",
      "source": [
        "# prepare input data\n",
        "def prepare_inputs(X_train, X_test):\n",
        "\toe = OrdinalEncoder()\n",
        "\toe.fit(X_train)\n",
        "\tX_train_enc = oe.transform(X_train)\n",
        "\tX_test_enc = oe.fit_transform(X_test)\n",
        "\treturn X_train_enc, X_test_enc"
      ],
      "metadata": {
        "id": "HYrD1ARBNgDK"
      },
      "execution_count": null,
      "outputs": []
    },
    {
      "cell_type": "code",
      "source": [
        "X2_test"
      ],
      "metadata": {
        "colab": {
          "base_uri": "https://localhost:8080/",
          "height": 487
        },
        "id": "SluuK3CdOsgf",
        "outputId": "c3650fc8-df0a-454f-9963-a983ea3f9a26"
      },
      "execution_count": null,
      "outputs": [
        {
          "output_type": "execute_result",
          "data": {
            "text/html": [
              "\n",
              "  <div id=\"df-b4609649-f538-486d-a434-ada6fb3dc061\">\n",
              "    <div class=\"colab-df-container\">\n",
              "      <div>\n",
              "<style scoped>\n",
              "    .dataframe tbody tr th:only-of-type {\n",
              "        vertical-align: middle;\n",
              "    }\n",
              "\n",
              "    .dataframe tbody tr th {\n",
              "        vertical-align: top;\n",
              "    }\n",
              "\n",
              "    .dataframe thead th {\n",
              "        text-align: right;\n",
              "    }\n",
              "</style>\n",
              "<table border=\"1\" class=\"dataframe\">\n",
              "  <thead>\n",
              "    <tr style=\"text-align: right;\">\n",
              "      <th></th>\n",
              "      <th>dur</th>\n",
              "      <th>proto</th>\n",
              "      <th>service</th>\n",
              "      <th>state</th>\n",
              "      <th>spkts</th>\n",
              "      <th>dpkts</th>\n",
              "      <th>sbytes</th>\n",
              "      <th>dbytes</th>\n",
              "      <th>rate</th>\n",
              "      <th>sttl</th>\n",
              "      <th>dttl</th>\n",
              "      <th>sload</th>\n",
              "      <th>dload</th>\n",
              "      <th>sloss</th>\n",
              "      <th>dloss</th>\n",
              "      <th>sinpkt</th>\n",
              "      <th>dinpkt</th>\n",
              "      <th>sjit</th>\n",
              "      <th>djit</th>\n",
              "      <th>swin</th>\n",
              "      <th>stcpb</th>\n",
              "      <th>dtcpb</th>\n",
              "      <th>dwin</th>\n",
              "      <th>tcprtt</th>\n",
              "      <th>synack</th>\n",
              "      <th>ackdat</th>\n",
              "      <th>smean</th>\n",
              "      <th>dmean</th>\n",
              "      <th>trans_depth</th>\n",
              "      <th>response_body_len</th>\n",
              "      <th>ct_srv_src</th>\n",
              "      <th>ct_state_ttl</th>\n",
              "      <th>ct_dst_ltm</th>\n",
              "      <th>ct_src_dport_ltm</th>\n",
              "      <th>ct_dst_sport_ltm</th>\n",
              "      <th>ct_dst_src_ltm</th>\n",
              "      <th>is_ftp_login</th>\n",
              "      <th>ct_ftp_cmd</th>\n",
              "      <th>ct_flw_http_mthd</th>\n",
              "      <th>ct_src_ltm</th>\n",
              "      <th>ct_srv_dst</th>\n",
              "      <th>is_sm_ips_ports</th>\n",
              "    </tr>\n",
              "  </thead>\n",
              "  <tbody>\n",
              "    <tr>\n",
              "      <th>0</th>\n",
              "      <td>0.121478</td>\n",
              "      <td>tcp</td>\n",
              "      <td>-</td>\n",
              "      <td>FIN</td>\n",
              "      <td>6</td>\n",
              "      <td>4</td>\n",
              "      <td>258</td>\n",
              "      <td>172</td>\n",
              "      <td>74.087490</td>\n",
              "      <td>252</td>\n",
              "      <td>254</td>\n",
              "      <td>1.415894e+04</td>\n",
              "      <td>8495.365234</td>\n",
              "      <td>0</td>\n",
              "      <td>0</td>\n",
              "      <td>24.295600</td>\n",
              "      <td>8.375000</td>\n",
              "      <td>30.177547</td>\n",
              "      <td>11.830604</td>\n",
              "      <td>255</td>\n",
              "      <td>621772692</td>\n",
              "      <td>2202533631</td>\n",
              "      <td>255</td>\n",
              "      <td>0.000000</td>\n",
              "      <td>0.000000</td>\n",
              "      <td>0.000000</td>\n",
              "      <td>43</td>\n",
              "      <td>43</td>\n",
              "      <td>0</td>\n",
              "      <td>0</td>\n",
              "      <td>1</td>\n",
              "      <td>0</td>\n",
              "      <td>1</td>\n",
              "      <td>1</td>\n",
              "      <td>1</td>\n",
              "      <td>1</td>\n",
              "      <td>0</td>\n",
              "      <td>0</td>\n",
              "      <td>0</td>\n",
              "      <td>1</td>\n",
              "      <td>1</td>\n",
              "      <td>0</td>\n",
              "    </tr>\n",
              "    <tr>\n",
              "      <th>1</th>\n",
              "      <td>0.649902</td>\n",
              "      <td>tcp</td>\n",
              "      <td>-</td>\n",
              "      <td>FIN</td>\n",
              "      <td>14</td>\n",
              "      <td>38</td>\n",
              "      <td>734</td>\n",
              "      <td>42014</td>\n",
              "      <td>78.473372</td>\n",
              "      <td>62</td>\n",
              "      <td>252</td>\n",
              "      <td>8.395112e+03</td>\n",
              "      <td>503571.312500</td>\n",
              "      <td>2</td>\n",
              "      <td>17</td>\n",
              "      <td>49.915000</td>\n",
              "      <td>15.432865</td>\n",
              "      <td>61.426934</td>\n",
              "      <td>1387.778330</td>\n",
              "      <td>255</td>\n",
              "      <td>1417884146</td>\n",
              "      <td>3077387971</td>\n",
              "      <td>255</td>\n",
              "      <td>0.000000</td>\n",
              "      <td>0.000000</td>\n",
              "      <td>0.000000</td>\n",
              "      <td>52</td>\n",
              "      <td>1106</td>\n",
              "      <td>0</td>\n",
              "      <td>0</td>\n",
              "      <td>43</td>\n",
              "      <td>1</td>\n",
              "      <td>1</td>\n",
              "      <td>1</td>\n",
              "      <td>1</td>\n",
              "      <td>2</td>\n",
              "      <td>0</td>\n",
              "      <td>0</td>\n",
              "      <td>0</td>\n",
              "      <td>1</td>\n",
              "      <td>6</td>\n",
              "      <td>0</td>\n",
              "    </tr>\n",
              "    <tr>\n",
              "      <th>2</th>\n",
              "      <td>1.623129</td>\n",
              "      <td>tcp</td>\n",
              "      <td>-</td>\n",
              "      <td>FIN</td>\n",
              "      <td>8</td>\n",
              "      <td>16</td>\n",
              "      <td>364</td>\n",
              "      <td>13186</td>\n",
              "      <td>14.170161</td>\n",
              "      <td>62</td>\n",
              "      <td>252</td>\n",
              "      <td>1.572272e+03</td>\n",
              "      <td>60929.230470</td>\n",
              "      <td>1</td>\n",
              "      <td>6</td>\n",
              "      <td>231.875571</td>\n",
              "      <td>102.737203</td>\n",
              "      <td>17179.586860</td>\n",
              "      <td>11420.926230</td>\n",
              "      <td>255</td>\n",
              "      <td>2116150707</td>\n",
              "      <td>2963114973</td>\n",
              "      <td>255</td>\n",
              "      <td>0.111897</td>\n",
              "      <td>0.061458</td>\n",
              "      <td>0.050439</td>\n",
              "      <td>46</td>\n",
              "      <td>824</td>\n",
              "      <td>0</td>\n",
              "      <td>0</td>\n",
              "      <td>7</td>\n",
              "      <td>1</td>\n",
              "      <td>2</td>\n",
              "      <td>1</td>\n",
              "      <td>1</td>\n",
              "      <td>3</td>\n",
              "      <td>0</td>\n",
              "      <td>0</td>\n",
              "      <td>0</td>\n",
              "      <td>2</td>\n",
              "      <td>6</td>\n",
              "      <td>0</td>\n",
              "    </tr>\n",
              "    <tr>\n",
              "      <th>3</th>\n",
              "      <td>1.681642</td>\n",
              "      <td>tcp</td>\n",
              "      <td>ftp</td>\n",
              "      <td>FIN</td>\n",
              "      <td>12</td>\n",
              "      <td>12</td>\n",
              "      <td>628</td>\n",
              "      <td>770</td>\n",
              "      <td>13.677108</td>\n",
              "      <td>62</td>\n",
              "      <td>252</td>\n",
              "      <td>2.740179e+03</td>\n",
              "      <td>3358.622070</td>\n",
              "      <td>1</td>\n",
              "      <td>3</td>\n",
              "      <td>152.876547</td>\n",
              "      <td>90.235726</td>\n",
              "      <td>259.080172</td>\n",
              "      <td>4991.784669</td>\n",
              "      <td>255</td>\n",
              "      <td>1107119177</td>\n",
              "      <td>1047442890</td>\n",
              "      <td>255</td>\n",
              "      <td>0.000000</td>\n",
              "      <td>0.000000</td>\n",
              "      <td>0.000000</td>\n",
              "      <td>52</td>\n",
              "      <td>64</td>\n",
              "      <td>0</td>\n",
              "      <td>0</td>\n",
              "      <td>1</td>\n",
              "      <td>1</td>\n",
              "      <td>2</td>\n",
              "      <td>1</td>\n",
              "      <td>1</td>\n",
              "      <td>3</td>\n",
              "      <td>1</td>\n",
              "      <td>1</td>\n",
              "      <td>0</td>\n",
              "      <td>2</td>\n",
              "      <td>1</td>\n",
              "      <td>0</td>\n",
              "    </tr>\n",
              "    <tr>\n",
              "      <th>4</th>\n",
              "      <td>0.449454</td>\n",
              "      <td>tcp</td>\n",
              "      <td>-</td>\n",
              "      <td>FIN</td>\n",
              "      <td>10</td>\n",
              "      <td>6</td>\n",
              "      <td>534</td>\n",
              "      <td>268</td>\n",
              "      <td>33.373826</td>\n",
              "      <td>254</td>\n",
              "      <td>252</td>\n",
              "      <td>8.561499e+03</td>\n",
              "      <td>3987.059814</td>\n",
              "      <td>2</td>\n",
              "      <td>1</td>\n",
              "      <td>47.750333</td>\n",
              "      <td>75.659602</td>\n",
              "      <td>2415.837634</td>\n",
              "      <td>115.807000</td>\n",
              "      <td>255</td>\n",
              "      <td>2436137549</td>\n",
              "      <td>1977154190</td>\n",
              "      <td>255</td>\n",
              "      <td>0.128381</td>\n",
              "      <td>0.071147</td>\n",
              "      <td>0.057234</td>\n",
              "      <td>53</td>\n",
              "      <td>45</td>\n",
              "      <td>0</td>\n",
              "      <td>0</td>\n",
              "      <td>43</td>\n",
              "      <td>1</td>\n",
              "      <td>2</td>\n",
              "      <td>2</td>\n",
              "      <td>1</td>\n",
              "      <td>40</td>\n",
              "      <td>0</td>\n",
              "      <td>0</td>\n",
              "      <td>0</td>\n",
              "      <td>2</td>\n",
              "      <td>39</td>\n",
              "      <td>0</td>\n",
              "    </tr>\n",
              "    <tr>\n",
              "      <th>...</th>\n",
              "      <td>...</td>\n",
              "      <td>...</td>\n",
              "      <td>...</td>\n",
              "      <td>...</td>\n",
              "      <td>...</td>\n",
              "      <td>...</td>\n",
              "      <td>...</td>\n",
              "      <td>...</td>\n",
              "      <td>...</td>\n",
              "      <td>...</td>\n",
              "      <td>...</td>\n",
              "      <td>...</td>\n",
              "      <td>...</td>\n",
              "      <td>...</td>\n",
              "      <td>...</td>\n",
              "      <td>...</td>\n",
              "      <td>...</td>\n",
              "      <td>...</td>\n",
              "      <td>...</td>\n",
              "      <td>...</td>\n",
              "      <td>...</td>\n",
              "      <td>...</td>\n",
              "      <td>...</td>\n",
              "      <td>...</td>\n",
              "      <td>...</td>\n",
              "      <td>...</td>\n",
              "      <td>...</td>\n",
              "      <td>...</td>\n",
              "      <td>...</td>\n",
              "      <td>...</td>\n",
              "      <td>...</td>\n",
              "      <td>...</td>\n",
              "      <td>...</td>\n",
              "      <td>...</td>\n",
              "      <td>...</td>\n",
              "      <td>...</td>\n",
              "      <td>...</td>\n",
              "      <td>...</td>\n",
              "      <td>...</td>\n",
              "      <td>...</td>\n",
              "      <td>...</td>\n",
              "      <td>...</td>\n",
              "    </tr>\n",
              "    <tr>\n",
              "      <th>175336</th>\n",
              "      <td>0.000009</td>\n",
              "      <td>udp</td>\n",
              "      <td>dns</td>\n",
              "      <td>INT</td>\n",
              "      <td>2</td>\n",
              "      <td>0</td>\n",
              "      <td>114</td>\n",
              "      <td>0</td>\n",
              "      <td>111111.107200</td>\n",
              "      <td>254</td>\n",
              "      <td>0</td>\n",
              "      <td>5.066666e+07</td>\n",
              "      <td>0.000000</td>\n",
              "      <td>0</td>\n",
              "      <td>0</td>\n",
              "      <td>0.009000</td>\n",
              "      <td>0.000000</td>\n",
              "      <td>0.000000</td>\n",
              "      <td>0.000000</td>\n",
              "      <td>0</td>\n",
              "      <td>0</td>\n",
              "      <td>0</td>\n",
              "      <td>0</td>\n",
              "      <td>0.000000</td>\n",
              "      <td>0.000000</td>\n",
              "      <td>0.000000</td>\n",
              "      <td>57</td>\n",
              "      <td>0</td>\n",
              "      <td>0</td>\n",
              "      <td>0</td>\n",
              "      <td>24</td>\n",
              "      <td>2</td>\n",
              "      <td>24</td>\n",
              "      <td>24</td>\n",
              "      <td>13</td>\n",
              "      <td>24</td>\n",
              "      <td>0</td>\n",
              "      <td>0</td>\n",
              "      <td>0</td>\n",
              "      <td>24</td>\n",
              "      <td>24</td>\n",
              "      <td>0</td>\n",
              "    </tr>\n",
              "    <tr>\n",
              "      <th>175337</th>\n",
              "      <td>0.505762</td>\n",
              "      <td>tcp</td>\n",
              "      <td>-</td>\n",
              "      <td>FIN</td>\n",
              "      <td>10</td>\n",
              "      <td>8</td>\n",
              "      <td>620</td>\n",
              "      <td>354</td>\n",
              "      <td>33.612649</td>\n",
              "      <td>254</td>\n",
              "      <td>252</td>\n",
              "      <td>8.826286e+03</td>\n",
              "      <td>4903.492188</td>\n",
              "      <td>2</td>\n",
              "      <td>1</td>\n",
              "      <td>54.400111</td>\n",
              "      <td>66.980570</td>\n",
              "      <td>3721.068786</td>\n",
              "      <td>120.177727</td>\n",
              "      <td>255</td>\n",
              "      <td>3518776216</td>\n",
              "      <td>3453092386</td>\n",
              "      <td>255</td>\n",
              "      <td>0.099440</td>\n",
              "      <td>0.036895</td>\n",
              "      <td>0.062545</td>\n",
              "      <td>62</td>\n",
              "      <td>44</td>\n",
              "      <td>0</td>\n",
              "      <td>0</td>\n",
              "      <td>1</td>\n",
              "      <td>1</td>\n",
              "      <td>1</td>\n",
              "      <td>1</td>\n",
              "      <td>1</td>\n",
              "      <td>2</td>\n",
              "      <td>0</td>\n",
              "      <td>0</td>\n",
              "      <td>0</td>\n",
              "      <td>1</td>\n",
              "      <td>1</td>\n",
              "      <td>0</td>\n",
              "    </tr>\n",
              "    <tr>\n",
              "      <th>175338</th>\n",
              "      <td>0.000009</td>\n",
              "      <td>udp</td>\n",
              "      <td>dns</td>\n",
              "      <td>INT</td>\n",
              "      <td>2</td>\n",
              "      <td>0</td>\n",
              "      <td>114</td>\n",
              "      <td>0</td>\n",
              "      <td>111111.107200</td>\n",
              "      <td>254</td>\n",
              "      <td>0</td>\n",
              "      <td>5.066666e+07</td>\n",
              "      <td>0.000000</td>\n",
              "      <td>0</td>\n",
              "      <td>0</td>\n",
              "      <td>0.009000</td>\n",
              "      <td>0.000000</td>\n",
              "      <td>0.000000</td>\n",
              "      <td>0.000000</td>\n",
              "      <td>0</td>\n",
              "      <td>0</td>\n",
              "      <td>0</td>\n",
              "      <td>0</td>\n",
              "      <td>0.000000</td>\n",
              "      <td>0.000000</td>\n",
              "      <td>0.000000</td>\n",
              "      <td>57</td>\n",
              "      <td>0</td>\n",
              "      <td>0</td>\n",
              "      <td>0</td>\n",
              "      <td>12</td>\n",
              "      <td>2</td>\n",
              "      <td>3</td>\n",
              "      <td>3</td>\n",
              "      <td>3</td>\n",
              "      <td>13</td>\n",
              "      <td>0</td>\n",
              "      <td>0</td>\n",
              "      <td>0</td>\n",
              "      <td>3</td>\n",
              "      <td>12</td>\n",
              "      <td>0</td>\n",
              "    </tr>\n",
              "    <tr>\n",
              "      <th>175339</th>\n",
              "      <td>0.000009</td>\n",
              "      <td>udp</td>\n",
              "      <td>dns</td>\n",
              "      <td>INT</td>\n",
              "      <td>2</td>\n",
              "      <td>0</td>\n",
              "      <td>114</td>\n",
              "      <td>0</td>\n",
              "      <td>111111.107200</td>\n",
              "      <td>254</td>\n",
              "      <td>0</td>\n",
              "      <td>5.066666e+07</td>\n",
              "      <td>0.000000</td>\n",
              "      <td>0</td>\n",
              "      <td>0</td>\n",
              "      <td>0.009000</td>\n",
              "      <td>0.000000</td>\n",
              "      <td>0.000000</td>\n",
              "      <td>0.000000</td>\n",
              "      <td>0</td>\n",
              "      <td>0</td>\n",
              "      <td>0</td>\n",
              "      <td>0</td>\n",
              "      <td>0.000000</td>\n",
              "      <td>0.000000</td>\n",
              "      <td>0.000000</td>\n",
              "      <td>57</td>\n",
              "      <td>0</td>\n",
              "      <td>0</td>\n",
              "      <td>0</td>\n",
              "      <td>30</td>\n",
              "      <td>2</td>\n",
              "      <td>30</td>\n",
              "      <td>30</td>\n",
              "      <td>14</td>\n",
              "      <td>30</td>\n",
              "      <td>0</td>\n",
              "      <td>0</td>\n",
              "      <td>0</td>\n",
              "      <td>30</td>\n",
              "      <td>30</td>\n",
              "      <td>0</td>\n",
              "    </tr>\n",
              "    <tr>\n",
              "      <th>175340</th>\n",
              "      <td>0.000009</td>\n",
              "      <td>udp</td>\n",
              "      <td>dns</td>\n",
              "      <td>INT</td>\n",
              "      <td>2</td>\n",
              "      <td>0</td>\n",
              "      <td>114</td>\n",
              "      <td>0</td>\n",
              "      <td>111111.107200</td>\n",
              "      <td>254</td>\n",
              "      <td>0</td>\n",
              "      <td>5.066666e+07</td>\n",
              "      <td>0.000000</td>\n",
              "      <td>0</td>\n",
              "      <td>0</td>\n",
              "      <td>0.009000</td>\n",
              "      <td>0.000000</td>\n",
              "      <td>0.000000</td>\n",
              "      <td>0.000000</td>\n",
              "      <td>0</td>\n",
              "      <td>0</td>\n",
              "      <td>0</td>\n",
              "      <td>0</td>\n",
              "      <td>0.000000</td>\n",
              "      <td>0.000000</td>\n",
              "      <td>0.000000</td>\n",
              "      <td>57</td>\n",
              "      <td>0</td>\n",
              "      <td>0</td>\n",
              "      <td>0</td>\n",
              "      <td>30</td>\n",
              "      <td>2</td>\n",
              "      <td>30</td>\n",
              "      <td>30</td>\n",
              "      <td>16</td>\n",
              "      <td>30</td>\n",
              "      <td>0</td>\n",
              "      <td>0</td>\n",
              "      <td>0</td>\n",
              "      <td>30</td>\n",
              "      <td>30</td>\n",
              "      <td>0</td>\n",
              "    </tr>\n",
              "  </tbody>\n",
              "</table>\n",
              "<p>175341 rows × 42 columns</p>\n",
              "</div>\n",
              "      <button class=\"colab-df-convert\" onclick=\"convertToInteractive('df-b4609649-f538-486d-a434-ada6fb3dc061')\"\n",
              "              title=\"Convert this dataframe to an interactive table.\"\n",
              "              style=\"display:none;\">\n",
              "        \n",
              "  <svg xmlns=\"http://www.w3.org/2000/svg\" height=\"24px\"viewBox=\"0 0 24 24\"\n",
              "       width=\"24px\">\n",
              "    <path d=\"M0 0h24v24H0V0z\" fill=\"none\"/>\n",
              "    <path d=\"M18.56 5.44l.94 2.06.94-2.06 2.06-.94-2.06-.94-.94-2.06-.94 2.06-2.06.94zm-11 1L8.5 8.5l.94-2.06 2.06-.94-2.06-.94L8.5 2.5l-.94 2.06-2.06.94zm10 10l.94 2.06.94-2.06 2.06-.94-2.06-.94-.94-2.06-.94 2.06-2.06.94z\"/><path d=\"M17.41 7.96l-1.37-1.37c-.4-.4-.92-.59-1.43-.59-.52 0-1.04.2-1.43.59L10.3 9.45l-7.72 7.72c-.78.78-.78 2.05 0 2.83L4 21.41c.39.39.9.59 1.41.59.51 0 1.02-.2 1.41-.59l7.78-7.78 2.81-2.81c.8-.78.8-2.07 0-2.86zM5.41 20L4 18.59l7.72-7.72 1.47 1.35L5.41 20z\"/>\n",
              "  </svg>\n",
              "      </button>\n",
              "      \n",
              "  <style>\n",
              "    .colab-df-container {\n",
              "      display:flex;\n",
              "      flex-wrap:wrap;\n",
              "      gap: 12px;\n",
              "    }\n",
              "\n",
              "    .colab-df-convert {\n",
              "      background-color: #E8F0FE;\n",
              "      border: none;\n",
              "      border-radius: 50%;\n",
              "      cursor: pointer;\n",
              "      display: none;\n",
              "      fill: #1967D2;\n",
              "      height: 32px;\n",
              "      padding: 0 0 0 0;\n",
              "      width: 32px;\n",
              "    }\n",
              "\n",
              "    .colab-df-convert:hover {\n",
              "      background-color: #E2EBFA;\n",
              "      box-shadow: 0px 1px 2px rgba(60, 64, 67, 0.3), 0px 1px 3px 1px rgba(60, 64, 67, 0.15);\n",
              "      fill: #174EA6;\n",
              "    }\n",
              "\n",
              "    [theme=dark] .colab-df-convert {\n",
              "      background-color: #3B4455;\n",
              "      fill: #D2E3FC;\n",
              "    }\n",
              "\n",
              "    [theme=dark] .colab-df-convert:hover {\n",
              "      background-color: #434B5C;\n",
              "      box-shadow: 0px 1px 3px 1px rgba(0, 0, 0, 0.15);\n",
              "      filter: drop-shadow(0px 1px 2px rgba(0, 0, 0, 0.3));\n",
              "      fill: #FFFFFF;\n",
              "    }\n",
              "  </style>\n",
              "\n",
              "      <script>\n",
              "        const buttonEl =\n",
              "          document.querySelector('#df-b4609649-f538-486d-a434-ada6fb3dc061 button.colab-df-convert');\n",
              "        buttonEl.style.display =\n",
              "          google.colab.kernel.accessAllowed ? 'block' : 'none';\n",
              "\n",
              "        async function convertToInteractive(key) {\n",
              "          const element = document.querySelector('#df-b4609649-f538-486d-a434-ada6fb3dc061');\n",
              "          const dataTable =\n",
              "            await google.colab.kernel.invokeFunction('convertToInteractive',\n",
              "                                                     [key], {});\n",
              "          if (!dataTable) return;\n",
              "\n",
              "          const docLinkHtml = 'Like what you see? Visit the ' +\n",
              "            '<a target=\"_blank\" href=https://colab.research.google.com/notebooks/data_table.ipynb>data table notebook</a>'\n",
              "            + ' to learn more about interactive tables.';\n",
              "          element.innerHTML = '';\n",
              "          dataTable['output_type'] = 'display_data';\n",
              "          await google.colab.output.renderOutput(dataTable, element);\n",
              "          const docLink = document.createElement('div');\n",
              "          docLink.innerHTML = docLinkHtml;\n",
              "          element.appendChild(docLink);\n",
              "        }\n",
              "      </script>\n",
              "    </div>\n",
              "  </div>\n",
              "  "
            ],
            "text/plain": [
              "             dur proto service  ... ct_src_ltm  ct_srv_dst  is_sm_ips_ports\n",
              "0       0.121478   tcp       -  ...          1           1                0\n",
              "1       0.649902   tcp       -  ...          1           6                0\n",
              "2       1.623129   tcp       -  ...          2           6                0\n",
              "3       1.681642   tcp     ftp  ...          2           1                0\n",
              "4       0.449454   tcp       -  ...          2          39                0\n",
              "...          ...   ...     ...  ...        ...         ...              ...\n",
              "175336  0.000009   udp     dns  ...         24          24                0\n",
              "175337  0.505762   tcp       -  ...          1           1                0\n",
              "175338  0.000009   udp     dns  ...          3          12                0\n",
              "175339  0.000009   udp     dns  ...         30          30                0\n",
              "175340  0.000009   udp     dns  ...         30          30                0\n",
              "\n",
              "[175341 rows x 42 columns]"
            ]
          },
          "metadata": {},
          "execution_count": 120
        }
      ]
    },
    {
      "cell_type": "code",
      "source": [
        "X2_train_cat=X2_train[['proto', 'service', 'state']]\n",
        "X2_test_cat=X2_test[['proto', 'service', 'state']]"
      ],
      "metadata": {
        "id": "ivHdkZIpNgDL"
      },
      "execution_count": null,
      "outputs": []
    },
    {
      "cell_type": "code",
      "source": [
        "X2_train_cat, X2_test_cat = prepare_inputs(X2_train_cat, X2_test_cat)"
      ],
      "metadata": {
        "id": "ryo1ae9PNgDL"
      },
      "execution_count": null,
      "outputs": []
    },
    {
      "cell_type": "code",
      "source": [
        "X2_train_cat"
      ],
      "metadata": {
        "colab": {
          "base_uri": "https://localhost:8080/"
        },
        "outputId": "3382a0c8-f4df-4dc4-c167-492d10e396af",
        "id": "EpdIxfrlNgDM"
      },
      "execution_count": null,
      "outputs": [
        {
          "output_type": "execute_result",
          "data": {
            "text/plain": [
              "array([[117.,   0.,   4.],\n",
              "       [117.,   0.,   4.],\n",
              "       [117.,   0.,   4.],\n",
              "       ...,\n",
              "       [  6.,   0.,   4.],\n",
              "       [  6.,   0.,   4.],\n",
              "       [117.,   0.,   4.]])"
            ]
          },
          "metadata": {},
          "execution_count": 123
        }
      ]
    },
    {
      "cell_type": "code",
      "source": [
        "X2_test_cat=pd.DataFrame(X2_test_cat ,columns=['proto_encode', 'service_encode', 'state_encode'])\n",
        "X2_train_cat=pd.DataFrame(X2_train_cat ,columns=['proto_encode', 'service_encode', 'state_encode'])"
      ],
      "metadata": {
        "id": "3-JZHb7NNgDN"
      },
      "execution_count": null,
      "outputs": []
    },
    {
      "cell_type": "code",
      "source": [
        "X2_train=X2_train.drop(['proto', 'service', 'state'],axis=1)\n",
        "X2_test=X2_test.drop(['proto', 'service', 'state'],axis=1)"
      ],
      "metadata": {
        "id": "C5U7Tvi7NgDN"
      },
      "execution_count": null,
      "outputs": []
    },
    {
      "cell_type": "code",
      "source": [
        "print(X2_train.shape , X2_test.shape)"
      ],
      "metadata": {
        "colab": {
          "base_uri": "https://localhost:8080/"
        },
        "outputId": "15813cfa-2d6b-48a8-ee62-692e017f2d1f",
        "id": "jMMS-b2HNgDO"
      },
      "execution_count": null,
      "outputs": [
        {
          "output_type": "stream",
          "name": "stdout",
          "text": [
            "(82332, 39) (175341, 39)\n"
          ]
        }
      ]
    },
    {
      "cell_type": "code",
      "source": [
        "X2_train=pd.concat([X2_train ,X2_train_cat],axis=1)\n",
        "X2_test=pd.concat([X2_test ,X2_test_cat],axis=1)"
      ],
      "metadata": {
        "id": "Oyt6UGx7NgDO"
      },
      "execution_count": null,
      "outputs": []
    },
    {
      "cell_type": "code",
      "source": [
        "print(X2_train.shape , X2_test.shape)"
      ],
      "metadata": {
        "colab": {
          "base_uri": "https://localhost:8080/"
        },
        "outputId": "29a95951-ce24-46a2-c60b-27852f9a3703",
        "id": "DyoxhLzeNgDR"
      },
      "execution_count": null,
      "outputs": [
        {
          "output_type": "stream",
          "name": "stdout",
          "text": [
            "(82332, 42) (175341, 42)\n"
          ]
        }
      ]
    },
    {
      "cell_type": "code",
      "source": [
        "y2_test.shape"
      ],
      "metadata": {
        "id": "IMgh7kdXQ8wi",
        "colab": {
          "base_uri": "https://localhost:8080/"
        },
        "outputId": "12c7a147-4a73-4a23-ad3b-a8117cfd4ee8"
      },
      "execution_count": null,
      "outputs": [
        {
          "output_type": "execute_result",
          "data": {
            "text/plain": [
              "(175341,)"
            ]
          },
          "metadata": {},
          "execution_count": 129
        }
      ]
    },
    {
      "cell_type": "markdown",
      "source": [
        "####Feature selection"
      ],
      "metadata": {
        "id": "8X1_rTAyQ9HQ"
      }
    },
    {
      "cell_type": "code",
      "source": [
        "print(X2_train.shape , y2_train.shape)"
      ],
      "metadata": {
        "colab": {
          "base_uri": "https://localhost:8080/"
        },
        "id": "_E9YEL82R5r3",
        "outputId": "e35ce2d6-36be-47c4-85f0-4ba3fc90c6ae"
      },
      "execution_count": null,
      "outputs": [
        {
          "output_type": "stream",
          "name": "stdout",
          "text": [
            "(82332, 42) (82332,)\n"
          ]
        }
      ]
    },
    {
      "cell_type": "code",
      "source": [
        "# instantiate RandomForestClassifier\n",
        "rf_model = RandomForestClassifier()\n",
        "rf_model.fit(X2_train,y2_train)\n",
        "feat_importances = pd.Series(rf_model.feature_importances_, index=X2_train.columns)\n",
        "# determine 20 most important features\n",
        "df_imp_feat= feat_importances.nlargest(30)\n",
        "print(rf_model.feature_importances_)\n",
        "\n",
        "\n",
        "# plot 20 most important features\n",
        "# feat_importances.nlargest(20).plot(kind='barh')\n",
        "df_imp_feat.plot(kind='barh')\n",
        "plt.show()\n",
        "print(df_imp_feat)"
      ],
      "metadata": {
        "colab": {
          "base_uri": "https://localhost:8080/",
          "height": 1000
        },
        "outputId": "225314a2-fabf-4c44-fc83-16f2d4431cbb",
        "id": "R1Elu61NQ9HR"
      },
      "execution_count": null,
      "outputs": [
        {
          "output_type": "stream",
          "name": "stdout",
          "text": [
            "[3.62680030e-02 9.01948677e-03 1.93174500e-02 1.13608649e-01\n",
            " 3.60828091e-02 3.14534871e-02 3.79994559e-02 1.90573331e-02\n",
            " 5.25257031e-02 2.19681567e-02 8.52618653e-03 9.20823920e-03\n",
            " 1.76180585e-02 2.50129100e-02 1.24736356e-02 1.01926665e-02\n",
            " 5.15019212e-03 6.56669345e-03 6.62485635e-03 2.31497509e-04\n",
            " 1.48494037e-02 1.48988932e-02 1.54620021e-02 6.79465327e-02\n",
            " 2.71491518e-02 1.94695176e-03 3.70600292e-03 3.54769207e-02\n",
            " 1.37770119e-02 1.81035792e-02 2.57955228e-02 6.53821994e-02\n",
            " 6.05173663e-02 6.77919222e-05 1.12291785e-04 2.24561841e-03\n",
            " 1.18687942e-02 5.25561217e-02 3.18219166e-04 1.97448188e-02\n",
            " 6.04809753e-02 8.68836085e-03]\n"
          ]
        },
        {
          "output_type": "display_data",
          "data": {
            "image/png": "[encoded data removed]",
            "text/plain": [
              "<Figure size 432x288 with 1 Axes>"
            ]
          },
          "metadata": {
            "needs_background": "light"
          }
        },
        {
          "output_type": "stream",
          "name": "stdout",
          "text": [
            "sbytes              0.113609\n",
            "smean               0.067947\n",
            "ct_dst_sport_ltm    0.065382\n",
            "ct_dst_src_ltm      0.060517\n",
            "service_encode      0.060481\n",
            "ct_srv_dst          0.052556\n",
            "sload               0.052526\n",
            "sttl                0.037999\n",
            "dur                 0.036268\n",
            "dbytes              0.036083\n",
            "ct_srv_src          0.035477\n",
            "rate                0.031453\n",
            "dmean               0.027149\n",
            "ct_src_dport_ltm    0.025796\n",
            "dinpkt              0.025013\n",
            "dload               0.021968\n",
            "proto_encode        0.019745\n",
            "dpkts               0.019317\n",
            "dttl                0.019057\n",
            "ct_dst_ltm          0.018104\n",
            "sinpkt              0.017618\n",
            "ackdat              0.015462\n",
            "synack              0.014899\n",
            "tcprtt              0.014849\n",
            "ct_state_ttl        0.013777\n",
            "sjit                0.012474\n",
            "ct_src_ltm          0.011869\n",
            "djit                0.010193\n",
            "dloss               0.009208\n",
            "spkts               0.009019\n",
            "dtype: float64\n"
          ]
        }
      ]
    },
    {
      "cell_type": "code",
      "source": [
        "X2_train=X2_train[['ct_src_ltm','ackdat','dttl','djit','sjit','dloss','ct_dst_ltm','synack','sinpkt','state_encode','tcprtt','dinpkt',\n",
        "   'dload', 'proto_encode', 'dpkts','ct_src_dport_ltm', 'dmean' , 'ct_state_ttl','dbytes', 'dur','sttl','ct_srv_src', 'rate', 'ct_dst_sport_ltm'\n",
        "   ,'sload', 'service_encode', 'ct_srv_dst', 'ct_dst_src_ltm', 'smean', 'sbytes' \n",
        "]]\n",
        "\n",
        "X2_test=X2_test[['ct_src_ltm','ackdat','dttl','djit','sjit','dloss','ct_dst_ltm','synack','sinpkt','state_encode','tcprtt','dinpkt',\n",
        "   'dload', 'proto_encode', 'dpkts','ct_src_dport_ltm', 'dmean' , 'ct_state_ttl','dbytes', 'dur','sttl','ct_srv_src', 'rate', 'ct_dst_sport_ltm'\n",
        "   ,'sload', 'service_encode', 'ct_srv_dst', 'ct_dst_src_ltm', 'smean', 'sbytes'\n",
        "]]"
      ],
      "metadata": {
        "id": "Uoksc71LQ9HS"
      },
      "execution_count": null,
      "outputs": []
    },
    {
      "cell_type": "code",
      "source": [
        "print(X2_train.shape, X2_test.shape)"
      ],
      "metadata": {
        "colab": {
          "base_uri": "https://localhost:8080/"
        },
        "outputId": "63114edb-ca2d-472e-df5a-f38885eab6e8",
        "id": "nb3Dbu7iQ9HS"
      },
      "execution_count": null,
      "outputs": [
        {
          "output_type": "stream",
          "name": "stdout",
          "text": [
            "(82332, 30) (175341, 30)\n"
          ]
        }
      ]
    },
    {
      "cell_type": "markdown",
      "metadata": {
        "id": "NxfOrROT0jNC"
      },
      "source": [
        "####Normalizing Data"
      ]
    },
    {
      "cell_type": "code",
      "source": [
        "from sklearn.preprocessing import StandardScaler"
      ],
      "metadata": {
        "id": "k5aL9LwU0jNE"
      },
      "execution_count": null,
      "outputs": []
    },
    {
      "cell_type": "code",
      "source": [
        "scaler2 = StandardScaler()\n",
        "scaler2.fit(X2_train)\n",
        "X2_train=scaler2.transform(X2_train)\n",
        "X2_test=scaler2.transform(X2_test)"
      ],
      "metadata": {
        "id": "mcDw-YLA0jNF"
      },
      "execution_count": null,
      "outputs": []
    },
    {
      "cell_type": "code",
      "metadata": {
        "id": "AS0QdX840jNF"
      },
      "source": [
        "y2_test,y2_train=pd.DataFrame(y2_test),pd.DataFrame(y2_train)"
      ],
      "execution_count": null,
      "outputs": []
    },
    {
      "cell_type": "code",
      "source": [],
      "metadata": {
        "id": "OFulUveFB4-o"
      },
      "execution_count": null,
      "outputs": []
    },
    {
      "cell_type": "markdown",
      "source": [
        "####SMOTE Oversampling"
      ],
      "metadata": {
        "id": "jCIERC6V1Dqu"
      }
    },
    {
      "cell_type": "code",
      "source": [
        "from imblearn.over_sampling import SMOTE\n",
        "oversample = SMOTE()"
      ],
      "metadata": {
        "id": "hdbEUMzL1Dqv"
      },
      "execution_count": null,
      "outputs": []
    },
    {
      "cell_type": "code",
      "source": [
        "oversample = SMOTE()\n",
        "X2_train, y2_train = oversample.fit_resample(X2_train, y2_train)"
      ],
      "metadata": {
        "id": "qMC6DyvS1Dqv"
      },
      "execution_count": null,
      "outputs": []
    },
    {
      "cell_type": "code",
      "source": [
        "print(X2_train.shape , y2_train.shape\n",
        "      )"
      ],
      "metadata": {
        "colab": {
          "base_uri": "https://localhost:8080/"
        },
        "outputId": "3b4efb7e-cfd1-4231-ed1d-c2c6cd44ae56",
        "id": "uZIgi4Pm1Dqw"
      },
      "execution_count": null,
      "outputs": [
        {
          "output_type": "stream",
          "name": "stdout",
          "text": [
            "(370000, 30) (370000, 1)\n"
          ]
        }
      ]
    },
    {
      "cell_type": "code",
      "source": [
        "from imblearn.under_sampling import RandomUnderSampler"
      ],
      "metadata": {
        "id": "eJ8s2WDG1Dqw"
      },
      "execution_count": null,
      "outputs": []
    },
    {
      "cell_type": "code",
      "source": [
        "rus = RandomUnderSampler(random_state=42)"
      ],
      "metadata": {
        "id": "iRZ5jyH31Dqx"
      },
      "execution_count": null,
      "outputs": []
    },
    {
      "cell_type": "code",
      "source": [
        "X2_train, y2_train = rus.fit_resample(X2_train, y2_train)\n",
        "print(X2_train.shape , y2_train.shape)"
      ],
      "metadata": {
        "colab": {
          "base_uri": "https://localhost:8080/"
        },
        "outputId": "12f68424-6ec6-43c9-cf9a-4d448cfa27b1",
        "id": "UoPT-63Y1Dqx"
      },
      "execution_count": null,
      "outputs": [
        {
          "output_type": "stream",
          "name": "stdout",
          "text": [
            "(370000, 30) (370000, 1)\n"
          ]
        }
      ]
    },
    {
      "cell_type": "code",
      "source": [
        "from sklearn.metrics import multilabel_confusion_matrix"
      ],
      "metadata": {
        "id": "E-VrTXdx1Dqx"
      },
      "execution_count": null,
      "outputs": []
    },
    {
      "cell_type": "code",
      "source": [
        "def fitandeval(model,x_train,yy_train,x_test,yy_test):\n",
        "  model.fit(x_train,yy_train)\n",
        "  y_pred=model.predict(x_test)\n",
        "  f1score=f1_score(yy_test, y_pred, average=\"macro\")\n",
        "  W_f1score=f1_score(yy_test, y_pred, average=\"weighted\")\n",
        "  \n",
        "  \n",
        " \n",
        "\n",
        "  return f1score,W_f1score"
      ],
      "metadata": {
        "id": "YGAyCYdj1Dqy"
      },
      "execution_count": null,
      "outputs": []
    },
    {
      "cell_type": "code",
      "source": [],
      "metadata": {
        "id": "SPOGwqSk1Dqy"
      },
      "execution_count": null,
      "outputs": []
    },
    {
      "cell_type": "markdown",
      "source": [
        "###Models"
      ],
      "metadata": {
        "id": "eKinbMXKuFDd"
      }
    },
    {
      "cell_type": "markdown",
      "metadata": {
        "id": "wffF6fwBCb3R"
      },
      "source": [
        "#####Random Forest"
      ]
    },
    {
      "cell_type": "code",
      "metadata": {
        "id": "bH_-DoFtClrR"
      },
      "source": [
        "RF_NB=RandomForestClassifier(n_estimators=100, random_state=1)"
      ],
      "execution_count": null,
      "outputs": []
    },
    {
      "cell_type": "code",
      "source": [
        "f1score_RF_NB , W_f1score_RF_NB=fitandeval(RF_NB,X2_train,y2_train,X2_test,y2_test)"
      ],
      "metadata": {
        "colab": {
          "base_uri": "https://localhost:8080/"
        },
        "id": "2AJId8eeB8Uk",
        "outputId": "89350fa6-1386-4d36-9a87-7b8ed18744b0"
      },
      "execution_count": null,
      "outputs": [
        {
          "output_type": "stream",
          "name": "stderr",
          "text": [
            "/usr/local/lib/python3.7/dist-packages/ipykernel_launcher.py:2: DataConversionWarning: A column-vector y was passed when a 1d array was expected. Please change the shape of y to (n_samples,), for example using ravel().\n",
            "  \n"
          ]
        }
      ]
    },
    {
      "cell_type": "code",
      "source": [
        "W_f1score_RF_NB"
      ],
      "metadata": {
        "colab": {
          "base_uri": "https://localhost:8080/"
        },
        "id": "vFMy4_jNHdS5",
        "outputId": "7b9dc48b-b9c4-403f-f184-be30c44f4055"
      },
      "execution_count": null,
      "outputs": [
        {
          "output_type": "execute_result",
          "data": {
            "text/plain": [
              "0.7278668246634743"
            ]
          },
          "metadata": {},
          "execution_count": 147
        }
      ]
    },
    {
      "cell_type": "markdown",
      "metadata": {
        "id": "nolx2yzDDUX0"
      },
      "source": [
        "#####Decision Tree"
      ]
    },
    {
      "cell_type": "code",
      "metadata": {
        "id": "ABg5MyrPC7tR"
      },
      "source": [
        "DT_NB = DecisionTreeClassifier(criterion='gini',max_depth=30) "
      ],
      "execution_count": null,
      "outputs": []
    },
    {
      "cell_type": "code",
      "metadata": {
        "id": "OYK5jY5QDZYC"
      },
      "source": [
        "f1score_DT_NB , W_f1score_DT_NB=fitandeval(DT_NB,X2_train,y2_train,X2_test,y2_test)"
      ],
      "execution_count": null,
      "outputs": []
    },
    {
      "cell_type": "code",
      "metadata": {
        "id": "33FHXy9ODZce",
        "colab": {
          "base_uri": "https://localhost:8080/"
        },
        "outputId": "b7bd5e29-3bcd-4ce8-9490-959b6d8dd34b"
      },
      "source": [
        "W_f1score_DT_NB"
      ],
      "execution_count": null,
      "outputs": [
        {
          "output_type": "execute_result",
          "data": {
            "text/plain": [
              "0.7048137981850573"
            ]
          },
          "metadata": {},
          "execution_count": 150
        }
      ]
    },
    {
      "cell_type": "markdown",
      "metadata": {
        "id": "TI6pzljWEUgV"
      },
      "source": [
        "#####Navie Bays"
      ]
    },
    {
      "cell_type": "code",
      "metadata": {
        "id": "Cty1RLzsEkVR"
      },
      "source": [
        "NB_NB= GaussianNB()"
      ],
      "execution_count": null,
      "outputs": []
    },
    {
      "cell_type": "code",
      "metadata": {
        "colab": {
          "base_uri": "https://localhost:8080/"
        },
        "id": "6Wy5F7CwEZMB",
        "outputId": "22e5e4af-127f-4289-822b-377af5668502"
      },
      "source": [
        "f1score_NB_NB , W_f1score_NB_NB=fitandeval(NB_NB,X2_train,y2_train,X2_test,y2_test)"
      ],
      "execution_count": null,
      "outputs": [
        {
          "output_type": "stream",
          "name": "stderr",
          "text": [
            "/usr/local/lib/python3.7/dist-packages/sklearn/utils/validation.py:993: DataConversionWarning: A column-vector y was passed when a 1d array was expected. Please change the shape of y to (n_samples, ), for example using ravel().\n",
            "  y = column_or_1d(y, warn=True)\n"
          ]
        }
      ]
    },
    {
      "cell_type": "code",
      "metadata": {
        "id": "ctuHNRKwEZQn",
        "colab": {
          "base_uri": "https://localhost:8080/"
        },
        "outputId": "3bc4ed0a-9280-464f-d441-271b9fcb2a97"
      },
      "source": [
        "W_f1score_NB_NB"
      ],
      "execution_count": null,
      "outputs": [
        {
          "output_type": "execute_result",
          "data": {
            "text/plain": [
              "0.5701926563735004"
            ]
          },
          "metadata": {},
          "execution_count": 153
        }
      ]
    },
    {
      "cell_type": "markdown",
      "metadata": {
        "id": "rgtPgURiF51o"
      },
      "source": [
        "#####SVM"
      ]
    },
    {
      "cell_type": "code",
      "metadata": {
        "id": "W-16_3YRGJQj"
      },
      "source": [
        "SVM_NB = SVC(kernel='rbf')"
      ],
      "execution_count": null,
      "outputs": []
    },
    {
      "cell_type": "code",
      "source": [
        "f1score_SVM_NB , W_f1score_SVM_NB=fitandeval(SVM_NB,X2_train,y2_train,X2_test,y2_test)"
      ],
      "metadata": {
        "id": "dA6Np09IRNEX"
      },
      "execution_count": null,
      "outputs": []
    },
    {
      "cell_type": "code",
      "metadata": {
        "id": "-CjfCjQ-F9ha"
      },
      "source": [
        "f1score_SVM_NB"
      ],
      "execution_count": null,
      "outputs": []
    },
    {
      "cell_type": "code",
      "source": [
        "f1score_SVM_NB , W_f1score_SVM_NB=0.5333,0.713264"
      ],
      "metadata": {
        "id": "-USOBDClbukN"
      },
      "execution_count": null,
      "outputs": []
    },
    {
      "cell_type": "code",
      "source": [],
      "metadata": {
        "id": "jAqcUZLObuoa"
      },
      "execution_count": null,
      "outputs": []
    },
    {
      "cell_type": "markdown",
      "metadata": {
        "id": "WQ6kTO_QInMG"
      },
      "source": [
        "#####MLP"
      ]
    },
    {
      "cell_type": "code",
      "metadata": {
        "id": "q6dqxD6JIlWO"
      },
      "source": [
        "MLP_NB= Sequential()\n",
        "    \n",
        "    #here 30 is output dimension\n",
        "MLP_NB.add(Dense(100,input_dim =X2_train.shape[1],activation = 'relu',kernel_initializer='random_uniform'))\n",
        "    \n",
        "    #in next layer we do not specify the input_dim as the model is sequential so output of previous layer is input to next layer\n",
        "MLP_NB.add(Dense(100,activation='relu',kernel_initializer='random_uniform'))\n",
        "MLP_NB.add(Dense(100,activation='relu',kernel_initializer='random_uniform'))\n",
        "\n",
        "    \n",
        "    #5 classes-normal,dos,probe,r2l,u2r\n",
        "MLP_NB.add(Dense(10,activation='softmax'))\n",
        "    \n",
        "    #loss is categorical_crossentropy which specifies that we have multiple classes\n",
        "    \n",
        "MLP_NB.compile(loss ='sparse_categorical_crossentropy',optimizer = 'adam',metrics = ['accuracy'])\n",
        "    "
      ],
      "execution_count": null,
      "outputs": []
    },
    {
      "cell_type": "code",
      "metadata": {
        "colab": {
          "base_uri": "https://localhost:8080/"
        },
        "id": "aR6uqNWHIlor",
        "outputId": "87302538-8083-4234-b383-2d190f5f0aa3"
      },
      "source": [
        "\n",
        "\n",
        "MLP_NB.fit(X2_train,y2_train,epochs=100,batch_size=32)\n"
      ],
      "execution_count": null,
      "outputs": [
        {
          "output_type": "stream",
          "name": "stdout",
          "text": [
            "Epoch 1/100\n",
            "11563/11563 [==============================] - 31s 3ms/step - loss: 0.8097 - accuracy: 0.6911\n",
            "Epoch 2/100\n",
            "11563/11563 [==============================] - 29s 3ms/step - loss: 0.6648 - accuracy: 0.7389\n",
            "Epoch 3/100\n",
            "11563/11563 [==============================] - 30s 3ms/step - loss: 0.6278 - accuracy: 0.7498\n",
            "Epoch 4/100\n",
            "11563/11563 [==============================] - 29s 3ms/step - loss: 0.6044 - accuracy: 0.7575\n",
            "Epoch 5/100\n",
            "11563/11563 [==============================] - 29s 2ms/step - loss: 0.5882 - accuracy: 0.7635\n",
            "Epoch 6/100\n",
            "11563/11563 [==============================] - 29s 2ms/step - loss: 0.5752 - accuracy: 0.7674\n",
            "Epoch 7/100\n",
            "11563/11563 [==============================] - 29s 3ms/step - loss: 0.5650 - accuracy: 0.7715\n",
            "Epoch 8/100\n",
            "11563/11563 [==============================] - 29s 2ms/step - loss: 0.5553 - accuracy: 0.7749\n",
            "Epoch 9/100\n",
            "11563/11563 [==============================] - 28s 2ms/step - loss: 0.5478 - accuracy: 0.7778\n",
            "Epoch 10/100\n",
            "11563/11563 [==============================] - 28s 2ms/step - loss: 0.5408 - accuracy: 0.7805\n",
            "Epoch 11/100\n",
            "11563/11563 [==============================] - 28s 2ms/step - loss: 0.5353 - accuracy: 0.7831\n",
            "Epoch 12/100\n",
            "11563/11563 [==============================] - 28s 2ms/step - loss: 0.5301 - accuracy: 0.7847\n",
            "Epoch 13/100\n",
            "11563/11563 [==============================] - 29s 2ms/step - loss: 0.5254 - accuracy: 0.7871\n",
            "Epoch 14/100\n",
            "11563/11563 [==============================] - 30s 3ms/step - loss: 0.5212 - accuracy: 0.7892\n",
            "Epoch 15/100\n",
            "11563/11563 [==============================] - 28s 2ms/step - loss: 0.5155 - accuracy: 0.7910\n",
            "Epoch 16/100\n",
            "11563/11563 [==============================] - 28s 2ms/step - loss: 0.5135 - accuracy: 0.7916\n",
            "Epoch 17/100\n",
            "11563/11563 [==============================] - 29s 2ms/step - loss: 0.5086 - accuracy: 0.7941\n",
            "Epoch 18/100\n",
            "11563/11563 [==============================] - 28s 2ms/step - loss: 0.5061 - accuracy: 0.7950\n",
            "Epoch 19/100\n",
            "11563/11563 [==============================] - 27s 2ms/step - loss: 0.5034 - accuracy: 0.7957\n",
            "Epoch 20/100\n",
            "11563/11563 [==============================] - 29s 3ms/step - loss: 0.5000 - accuracy: 0.7974\n",
            "Epoch 21/100\n",
            "11563/11563 [==============================] - 30s 3ms/step - loss: 0.4973 - accuracy: 0.7982\n",
            "Epoch 22/100\n",
            "11563/11563 [==============================] - 31s 3ms/step - loss: 0.4944 - accuracy: 0.7998\n",
            "Epoch 23/100\n",
            "11563/11563 [==============================] - 30s 3ms/step - loss: 0.4925 - accuracy: 0.8002\n",
            "Epoch 24/100\n",
            "11563/11563 [==============================] - 30s 3ms/step - loss: 0.4893 - accuracy: 0.8017\n",
            "Epoch 25/100\n",
            "11563/11563 [==============================] - 29s 3ms/step - loss: 0.4882 - accuracy: 0.8021\n",
            "Epoch 26/100\n",
            "11563/11563 [==============================] - 31s 3ms/step - loss: 0.4862 - accuracy: 0.8029\n",
            "Epoch 27/100\n",
            "11563/11563 [==============================] - 29s 2ms/step - loss: 0.4837 - accuracy: 0.8040\n",
            "Epoch 28/100\n",
            "11563/11563 [==============================] - 30s 3ms/step - loss: 0.4823 - accuracy: 0.8043\n",
            "Epoch 29/100\n",
            "11563/11563 [==============================] - 28s 2ms/step - loss: 0.4802 - accuracy: 0.8053\n",
            "Epoch 30/100\n",
            "11563/11563 [==============================] - 28s 2ms/step - loss: 0.4786 - accuracy: 0.8055\n",
            "Epoch 31/100\n",
            "11563/11563 [==============================] - 29s 3ms/step - loss: 0.4770 - accuracy: 0.8059\n",
            "Epoch 32/100\n",
            "11563/11563 [==============================] - 30s 3ms/step - loss: 0.4756 - accuracy: 0.8066\n",
            "Epoch 33/100\n",
            "11563/11563 [==============================] - 29s 3ms/step - loss: 0.4749 - accuracy: 0.8070\n",
            "Epoch 34/100\n",
            "11563/11563 [==============================] - 29s 2ms/step - loss: 0.4727 - accuracy: 0.8077\n",
            "Epoch 35/100\n",
            "11563/11563 [==============================] - 28s 2ms/step - loss: 0.4716 - accuracy: 0.8079\n",
            "Epoch 36/100\n",
            "11563/11563 [==============================] - 28s 2ms/step - loss: 0.4710 - accuracy: 0.8090\n",
            "Epoch 37/100\n",
            "11563/11563 [==============================] - 28s 2ms/step - loss: 0.4691 - accuracy: 0.8090\n",
            "Epoch 38/100\n",
            "11563/11563 [==============================] - 28s 2ms/step - loss: 0.4674 - accuracy: 0.8100\n",
            "Epoch 39/100\n",
            "11563/11563 [==============================] - 28s 2ms/step - loss: 0.4667 - accuracy: 0.8102\n",
            "Epoch 40/100\n",
            "11563/11563 [==============================] - 28s 2ms/step - loss: 0.4645 - accuracy: 0.8112\n",
            "Epoch 41/100\n",
            "11563/11563 [==============================] - 28s 2ms/step - loss: 0.4647 - accuracy: 0.8110\n",
            "Epoch 42/100\n",
            "11563/11563 [==============================] - 29s 2ms/step - loss: 0.4631 - accuracy: 0.8112\n",
            "Epoch 43/100\n",
            "11563/11563 [==============================] - 29s 3ms/step - loss: 0.4617 - accuracy: 0.8119\n",
            "Epoch 44/100\n",
            "11563/11563 [==============================] - 28s 2ms/step - loss: 0.4610 - accuracy: 0.8119\n",
            "Epoch 45/100\n",
            "11563/11563 [==============================] - 29s 3ms/step - loss: 0.4601 - accuracy: 0.8125\n",
            "Epoch 46/100\n",
            "11563/11563 [==============================] - 29s 2ms/step - loss: 0.4585 - accuracy: 0.8131\n",
            "Epoch 47/100\n",
            "11563/11563 [==============================] - 28s 2ms/step - loss: 0.4579 - accuracy: 0.8134\n",
            "Epoch 48/100\n",
            "11563/11563 [==============================] - 28s 2ms/step - loss: 0.4568 - accuracy: 0.8140\n",
            "Epoch 49/100\n",
            "11563/11563 [==============================] - 29s 3ms/step - loss: 0.4563 - accuracy: 0.8141\n",
            "Epoch 50/100\n",
            "11563/11563 [==============================] - 29s 3ms/step - loss: 0.4557 - accuracy: 0.8141\n",
            "Epoch 51/100\n",
            "11563/11563 [==============================] - 31s 3ms/step - loss: 0.4551 - accuracy: 0.8149\n",
            "Epoch 52/100\n",
            "11563/11563 [==============================] - 32s 3ms/step - loss: 0.4535 - accuracy: 0.8149\n",
            "Epoch 53/100\n",
            "11563/11563 [==============================] - 30s 3ms/step - loss: 0.4531 - accuracy: 0.8152\n",
            "Epoch 54/100\n",
            "11563/11563 [==============================] - 30s 3ms/step - loss: 0.4515 - accuracy: 0.8161\n",
            "Epoch 55/100\n",
            "11563/11563 [==============================] - 31s 3ms/step - loss: 0.4529 - accuracy: 0.8156\n",
            "Epoch 56/100\n",
            "11563/11563 [==============================] - 30s 3ms/step - loss: 0.4508 - accuracy: 0.8162\n",
            "Epoch 57/100\n",
            "11563/11563 [==============================] - 30s 3ms/step - loss: 0.4500 - accuracy: 0.8171\n",
            "Epoch 58/100\n",
            "11563/11563 [==============================] - 29s 3ms/step - loss: 0.4488 - accuracy: 0.8173\n",
            "Epoch 59/100\n",
            "11563/11563 [==============================] - 30s 3ms/step - loss: 0.4481 - accuracy: 0.8170\n",
            "Epoch 60/100\n",
            "11563/11563 [==============================] - 29s 3ms/step - loss: 0.4480 - accuracy: 0.8178\n",
            "Epoch 61/100\n",
            "11563/11563 [==============================] - 30s 3ms/step - loss: 0.4477 - accuracy: 0.8177\n",
            "Epoch 62/100\n",
            "11563/11563 [==============================] - 29s 3ms/step - loss: 0.4469 - accuracy: 0.8181\n",
            "Epoch 63/100\n",
            "11563/11563 [==============================] - 30s 3ms/step - loss: 0.4463 - accuracy: 0.8178\n",
            "Epoch 64/100\n",
            "11563/11563 [==============================] - 29s 2ms/step - loss: 0.4457 - accuracy: 0.8179\n",
            "Epoch 65/100\n",
            "11563/11563 [==============================] - 29s 3ms/step - loss: 0.4443 - accuracy: 0.8183\n",
            "Epoch 66/100\n",
            "11563/11563 [==============================] - 30s 3ms/step - loss: 0.4450 - accuracy: 0.8186\n",
            "Epoch 67/100\n",
            "11563/11563 [==============================] - 29s 2ms/step - loss: 0.4440 - accuracy: 0.8188\n",
            "Epoch 68/100\n",
            "11563/11563 [==============================] - 29s 3ms/step - loss: 0.4429 - accuracy: 0.8192\n",
            "Epoch 69/100\n",
            "11563/11563 [==============================] - 30s 3ms/step - loss: 0.4429 - accuracy: 0.8193\n",
            "Epoch 70/100\n",
            "11563/11563 [==============================] - 29s 3ms/step - loss: 0.4426 - accuracy: 0.8192\n",
            "Epoch 71/100\n",
            "11563/11563 [==============================] - 28s 2ms/step - loss: 0.4414 - accuracy: 0.8196\n",
            "Epoch 72/100\n",
            "11563/11563 [==============================] - 31s 3ms/step - loss: 0.4414 - accuracy: 0.8198\n",
            "Epoch 73/100\n",
            "11563/11563 [==============================] - 30s 3ms/step - loss: 0.4406 - accuracy: 0.8202\n",
            "Epoch 74/100\n",
            "11563/11563 [==============================] - 30s 3ms/step - loss: 0.4413 - accuracy: 0.8201\n",
            "Epoch 75/100\n",
            "11563/11563 [==============================] - 30s 3ms/step - loss: 0.4394 - accuracy: 0.8208\n",
            "Epoch 76/100\n",
            "11563/11563 [==============================] - 30s 3ms/step - loss: 0.4394 - accuracy: 0.8209\n",
            "Epoch 77/100\n",
            "11563/11563 [==============================] - 30s 3ms/step - loss: 0.4393 - accuracy: 0.8208\n",
            "Epoch 78/100\n",
            "11563/11563 [==============================] - 31s 3ms/step - loss: 0.4383 - accuracy: 0.8211\n",
            "Epoch 79/100\n",
            "11563/11563 [==============================] - 30s 3ms/step - loss: 0.4386 - accuracy: 0.8212\n",
            "Epoch 80/100\n",
            "11563/11563 [==============================] - 30s 3ms/step - loss: 0.4383 - accuracy: 0.8212\n",
            "Epoch 81/100\n",
            "11563/11563 [==============================] - 29s 3ms/step - loss: 0.4368 - accuracy: 0.8212\n",
            "Epoch 82/100\n",
            "11563/11563 [==============================] - 31s 3ms/step - loss: 0.4373 - accuracy: 0.8217\n",
            "Epoch 83/100\n",
            "11563/11563 [==============================] - 31s 3ms/step - loss: 0.4363 - accuracy: 0.8218\n",
            "Epoch 84/100\n",
            "11563/11563 [==============================] - 31s 3ms/step - loss: 0.4358 - accuracy: 0.8219\n",
            "Epoch 85/100\n",
            "11563/11563 [==============================] - 30s 3ms/step - loss: 0.4374 - accuracy: 0.8215\n",
            "Epoch 86/100\n",
            "11563/11563 [==============================] - 31s 3ms/step - loss: 0.4351 - accuracy: 0.8222\n",
            "Epoch 87/100\n",
            "11563/11563 [==============================] - 29s 3ms/step - loss: 0.4359 - accuracy: 0.8222\n",
            "Epoch 88/100\n",
            "11563/11563 [==============================] - 28s 2ms/step - loss: 0.4352 - accuracy: 0.8226\n",
            "Epoch 89/100\n",
            "11563/11563 [==============================] - 29s 3ms/step - loss: 0.4348 - accuracy: 0.8231\n",
            "Epoch 90/100\n",
            "11563/11563 [==============================] - 29s 3ms/step - loss: 0.4343 - accuracy: 0.8227\n",
            "Epoch 91/100\n",
            "11563/11563 [==============================] - 29s 2ms/step - loss: 0.4341 - accuracy: 0.8236\n",
            "Epoch 92/100\n",
            "11563/11563 [==============================] - 31s 3ms/step - loss: 0.4336 - accuracy: 0.8229\n",
            "Epoch 93/100\n",
            "11563/11563 [==============================] - 31s 3ms/step - loss: 0.4341 - accuracy: 0.8228\n",
            "Epoch 94/100\n",
            "11563/11563 [==============================] - 31s 3ms/step - loss: 0.4330 - accuracy: 0.8228\n",
            "Epoch 95/100\n",
            "11563/11563 [==============================] - 30s 3ms/step - loss: 0.4318 - accuracy: 0.8237\n",
            "Epoch 96/100\n",
            "11563/11563 [==============================] - 30s 3ms/step - loss: 0.4316 - accuracy: 0.8236\n",
            "Epoch 97/100\n",
            "11563/11563 [==============================] - 29s 3ms/step - loss: 0.4321 - accuracy: 0.8239\n",
            "Epoch 98/100\n",
            "11563/11563 [==============================] - 30s 3ms/step - loss: 0.4309 - accuracy: 0.8236\n",
            "Epoch 99/100\n",
            "11563/11563 [==============================] - 31s 3ms/step - loss: 0.4315 - accuracy: 0.8241\n",
            "Epoch 100/100\n",
            "11563/11563 [==============================] - 29s 3ms/step - loss: 0.4306 - accuracy: 0.8243\n"
          ]
        },
        {
          "output_type": "execute_result",
          "data": {
            "text/plain": [
              "<keras.callbacks.History at 0x7fb16992f110>"
            ]
          },
          "metadata": {},
          "execution_count": 98
        }
      ]
    },
    {
      "cell_type": "code",
      "metadata": {
        "id": "GAT7_xUWJ_5s"
      },
      "source": [
        "\n",
        "y_pred_MLP_NB = MLP_NB.predict(X2_test)\n"
      ],
      "execution_count": null,
      "outputs": []
    },
    {
      "cell_type": "code",
      "source": [
        "y_pred_MLP_NB= np.argmax(y_pred_MLP_NB,axis=1)\n"
      ],
      "metadata": {
        "id": "ichgv3CFohOt"
      },
      "execution_count": null,
      "outputs": []
    },
    {
      "cell_type": "code",
      "source": [
        "print(y2_test.shape , y_pred_MLP_NB.shape)"
      ],
      "metadata": {
        "colab": {
          "base_uri": "https://localhost:8080/"
        },
        "id": "wxtqR_-ylnUm",
        "outputId": "c41925e2-ae77-4ddb-9bb9-518cf0e86132"
      },
      "execution_count": null,
      "outputs": [
        {
          "output_type": "stream",
          "name": "stdout",
          "text": [
            "(175341, 1) (175341,)\n"
          ]
        }
      ]
    },
    {
      "cell_type": "code",
      "source": [
        "f1score_MLP_NB=f1_score(y2_test, y_pred_MLP_NB , average=\"macro\")\n",
        "W_f1score_MLP_NB=f1_score(y2_test ,y_pred_MLP_NB , average=\"weighted\")"
      ],
      "metadata": {
        "id": "mncCO1-JlR-h"
      },
      "execution_count": null,
      "outputs": []
    },
    {
      "cell_type": "code",
      "source": [
        "print(f1score_MLP_NB ,W_f1score_MLP_NB)\n"
      ],
      "metadata": {
        "colab": {
          "base_uri": "https://localhost:8080/"
        },
        "id": "-81z-1BGooKP",
        "outputId": "e85faee7-2f37-4160-c513-2f5995d05047"
      },
      "execution_count": null,
      "outputs": [
        {
          "output_type": "stream",
          "name": "stdout",
          "text": [
            "0.3579437211341394 0.6667103368857892\n"
          ]
        }
      ]
    },
    {
      "cell_type": "code",
      "source": [
        "f1score_MLP_NB ,W_f1score_MLP_NB=0.3579437211341394 , 0.6667103368857892"
      ],
      "metadata": {
        "id": "MzcCARjFb4dM"
      },
      "execution_count": null,
      "outputs": []
    },
    {
      "cell_type": "markdown",
      "metadata": {
        "id": "gOgnQHoheuc-"
      },
      "source": [
        "#####result"
      ]
    },
    {
      "cell_type": "code",
      "metadata": {
        "colab": {
          "base_uri": "https://localhost:8080/",
          "height": 206
        },
        "outputId": "0bebd921-e9c8-4c16-c1dc-ca9077544db6",
        "id": "CiTAWWHeeuc-"
      },
      "source": [
        "dic4={\"F1 score\":[(\"{:.6f}\".format(f1score_RF_NB)),(\"{:.6f}\".format(f1score_DT_NB)),(\"{:.6f}\".format(f1score_NB_NB))\n",
        "       ,(\"{:.6f}\".format(f1score_SVM_NB)),(\"{:.6f}\".format(f1score_MLP_NB))],\n",
        "      \n",
        "     \"Weighted F1 score\":[(\"{:.6f}\".format(W_f1score_RF_NB)),(\"{:.6f}\".format(W_f1score_DT_NB)),(\"{:.6f}\".format(W_f1score_NB_NB))\n",
        "       ,(\"{:.6f}\".format(W_f1score_SVM_NB)),(\"{:.6f}\".format(W_f1score_MLP_NB))]}\n",
        "\n",
        "       \n",
        "main_data = pd.DataFrame.from_dict( dic4 , orient='index')\n",
        "main_data.columns=['Random Forest', 'Decision Tree','Navie Bays','SVM','MLP']\n",
        "main_data = main_data.T\n",
        "main_data"
      ],
      "execution_count": null,
      "outputs": [
        {
          "output_type": "execute_result",
          "data": {
            "text/html": [
              "\n",
              "  <div id=\"df-9eba4d8e-df61-4eab-9633-f4ced7952af7\">\n",
              "    <div class=\"colab-df-container\">\n",
              "      <div>\n",
              "<style scoped>\n",
              "    .dataframe tbody tr th:only-of-type {\n",
              "        vertical-align: middle;\n",
              "    }\n",
              "\n",
              "    .dataframe tbody tr th {\n",
              "        vertical-align: top;\n",
              "    }\n",
              "\n",
              "    .dataframe thead th {\n",
              "        text-align: right;\n",
              "    }\n",
              "</style>\n",
              "<table border=\"1\" class=\"dataframe\">\n",
              "  <thead>\n",
              "    <tr style=\"text-align: right;\">\n",
              "      <th></th>\n",
              "      <th>F1 score</th>\n",
              "      <th>Weighted F1 score</th>\n",
              "    </tr>\n",
              "  </thead>\n",
              "  <tbody>\n",
              "    <tr>\n",
              "      <th>Random Forest</th>\n",
              "      <td>0.508598</td>\n",
              "      <td>0.727867</td>\n",
              "    </tr>\n",
              "    <tr>\n",
              "      <th>Decision Tree</th>\n",
              "      <td>0.434769</td>\n",
              "      <td>0.704814</td>\n",
              "    </tr>\n",
              "    <tr>\n",
              "      <th>Navie Bays</th>\n",
              "      <td>0.272062</td>\n",
              "      <td>0.570193</td>\n",
              "    </tr>\n",
              "    <tr>\n",
              "      <th>SVM</th>\n",
              "      <td>0.533300</td>\n",
              "      <td>0.713264</td>\n",
              "    </tr>\n",
              "    <tr>\n",
              "      <th>MLP</th>\n",
              "      <td>0.357944</td>\n",
              "      <td>0.666710</td>\n",
              "    </tr>\n",
              "  </tbody>\n",
              "</table>\n",
              "</div>\n",
              "      <button class=\"colab-df-convert\" onclick=\"convertToInteractive('df-9eba4d8e-df61-4eab-9633-f4ced7952af7')\"\n",
              "              title=\"Convert this dataframe to an interactive table.\"\n",
              "              style=\"display:none;\">\n",
              "        \n",
              "  <svg xmlns=\"http://www.w3.org/2000/svg\" height=\"24px\"viewBox=\"0 0 24 24\"\n",
              "       width=\"24px\">\n",
              "    <path d=\"M0 0h24v24H0V0z\" fill=\"none\"/>\n",
              "    <path d=\"M18.56 5.44l.94 2.06.94-2.06 2.06-.94-2.06-.94-.94-2.06-.94 2.06-2.06.94zm-11 1L8.5 8.5l.94-2.06 2.06-.94-2.06-.94L8.5 2.5l-.94 2.06-2.06.94zm10 10l.94 2.06.94-2.06 2.06-.94-2.06-.94-.94-2.06-.94 2.06-2.06.94z\"/><path d=\"M17.41 7.96l-1.37-1.37c-.4-.4-.92-.59-1.43-.59-.52 0-1.04.2-1.43.59L10.3 9.45l-7.72 7.72c-.78.78-.78 2.05 0 2.83L4 21.41c.39.39.9.59 1.41.59.51 0 1.02-.2 1.41-.59l7.78-7.78 2.81-2.81c.8-.78.8-2.07 0-2.86zM5.41 20L4 18.59l7.72-7.72 1.47 1.35L5.41 20z\"/>\n",
              "  </svg>\n",
              "      </button>\n",
              "      \n",
              "  <style>\n",
              "    .colab-df-container {\n",
              "      display:flex;\n",
              "      flex-wrap:wrap;\n",
              "      gap: 12px;\n",
              "    }\n",
              "\n",
              "    .colab-df-convert {\n",
              "      background-color: #E8F0FE;\n",
              "      border: none;\n",
              "      border-radius: 50%;\n",
              "      cursor: pointer;\n",
              "      display: none;\n",
              "      fill: #1967D2;\n",
              "      height: 32px;\n",
              "      padding: 0 0 0 0;\n",
              "      width: 32px;\n",
              "    }\n",
              "\n",
              "    .colab-df-convert:hover {\n",
              "      background-color: #E2EBFA;\n",
              "      box-shadow: 0px 1px 2px rgba(60, 64, 67, 0.3), 0px 1px 3px 1px rgba(60, 64, 67, 0.15);\n",
              "      fill: #174EA6;\n",
              "    }\n",
              "\n",
              "    [theme=dark] .colab-df-convert {\n",
              "      background-color: #3B4455;\n",
              "      fill: #D2E3FC;\n",
              "    }\n",
              "\n",
              "    [theme=dark] .colab-df-convert:hover {\n",
              "      background-color: #434B5C;\n",
              "      box-shadow: 0px 1px 3px 1px rgba(0, 0, 0, 0.15);\n",
              "      filter: drop-shadow(0px 1px 2px rgba(0, 0, 0, 0.3));\n",
              "      fill: #FFFFFF;\n",
              "    }\n",
              "  </style>\n",
              "\n",
              "      <script>\n",
              "        const buttonEl =\n",
              "          document.querySelector('#df-9eba4d8e-df61-4eab-9633-f4ced7952af7 button.colab-df-convert');\n",
              "        buttonEl.style.display =\n",
              "          google.colab.kernel.accessAllowed ? 'block' : 'none';\n",
              "\n",
              "        async function convertToInteractive(key) {\n",
              "          const element = document.querySelector('#df-9eba4d8e-df61-4eab-9633-f4ced7952af7');\n",
              "          const dataTable =\n",
              "            await google.colab.kernel.invokeFunction('convertToInteractive',\n",
              "                                                     [key], {});\n",
              "          if (!dataTable) return;\n",
              "\n",
              "          const docLinkHtml = 'Like what you see? Visit the ' +\n",
              "            '<a target=\"_blank\" href=https://colab.research.google.com/notebooks/data_table.ipynb>data table notebook</a>'\n",
              "            + ' to learn more about interactive tables.';\n",
              "          element.innerHTML = '';\n",
              "          dataTable['output_type'] = 'display_data';\n",
              "          await google.colab.output.renderOutput(dataTable, element);\n",
              "          const docLink = document.createElement('div');\n",
              "          docLink.innerHTML = docLinkHtml;\n",
              "          element.appendChild(docLink);\n",
              "        }\n",
              "      </script>\n",
              "    </div>\n",
              "  </div>\n",
              "  "
            ],
            "text/plain": [
              "               F1 score Weighted F1 score\n",
              "Random Forest  0.508598          0.727867\n",
              "Decision Tree  0.434769          0.704814\n",
              "Navie Bays     0.272062          0.570193\n",
              "SVM            0.533300          0.713264\n",
              "MLP            0.357944          0.666710"
            ]
          },
          "metadata": {},
          "execution_count": 168
        }
      ]
    },
    {
      "cell_type": "code",
      "metadata": {
        "colab": {
          "base_uri": "https://localhost:8080/",
          "height": 206
        },
        "outputId": "48cef035-03a9-45e6-a1af-128e2eebd714",
        "id": "kbKNCXPoeuc_"
      },
      "source": [
        "dic3={\n",
        "      \"Fandom Forest\"      :(\"{:.6f}\".format(W_f1score_RF_NB)),\n",
        "      \"Decision Tree\"   :(\"{:.6f}\".format(W_f1score_DT_NB)),\n",
        "      \"Navie Bays\" :(\"{:.6f}\".format(W_f1score_NB_NB)),\n",
        "      \"SVM\" :(\"{:.6f}\".format(W_f1score_SVM_NB)),\n",
        "      \"MLP\" :(\"{:.6f}\".format(W_f1score_MLP_NB)),\n",
        "      \n",
        "      }\n",
        "\n",
        "evaluation_NB = pd.DataFrame.from_dict(dic3, orient='index', columns=[\"Weighted F1_Score\"] )\n",
        "evaluation_NB"
      ],
      "execution_count": null,
      "outputs": [
        {
          "output_type": "execute_result",
          "data": {
            "text/html": [
              "\n",
              "  <div id=\"df-dff025e3-f90b-4ccd-8bc4-a77d69455773\">\n",
              "    <div class=\"colab-df-container\">\n",
              "      <div>\n",
              "<style scoped>\n",
              "    .dataframe tbody tr th:only-of-type {\n",
              "        vertical-align: middle;\n",
              "    }\n",
              "\n",
              "    .dataframe tbody tr th {\n",
              "        vertical-align: top;\n",
              "    }\n",
              "\n",
              "    .dataframe thead th {\n",
              "        text-align: right;\n",
              "    }\n",
              "</style>\n",
              "<table border=\"1\" class=\"dataframe\">\n",
              "  <thead>\n",
              "    <tr style=\"text-align: right;\">\n",
              "      <th></th>\n",
              "      <th>Weighted F1_Score</th>\n",
              "    </tr>\n",
              "  </thead>\n",
              "  <tbody>\n",
              "    <tr>\n",
              "      <th>Fandom Forest</th>\n",
              "      <td>0.727867</td>\n",
              "    </tr>\n",
              "    <tr>\n",
              "      <th>Decision Tree</th>\n",
              "      <td>0.704814</td>\n",
              "    </tr>\n",
              "    <tr>\n",
              "      <th>Navie Bays</th>\n",
              "      <td>0.570193</td>\n",
              "    </tr>\n",
              "    <tr>\n",
              "      <th>SVM</th>\n",
              "      <td>0.713264</td>\n",
              "    </tr>\n",
              "    <tr>\n",
              "      <th>MLP</th>\n",
              "      <td>0.666710</td>\n",
              "    </tr>\n",
              "  </tbody>\n",
              "</table>\n",
              "</div>\n",
              "      <button class=\"colab-df-convert\" onclick=\"convertToInteractive('df-dff025e3-f90b-4ccd-8bc4-a77d69455773')\"\n",
              "              title=\"Convert this dataframe to an interactive table.\"\n",
              "              style=\"display:none;\">\n",
              "        \n",
              "  <svg xmlns=\"http://www.w3.org/2000/svg\" height=\"24px\"viewBox=\"0 0 24 24\"\n",
              "       width=\"24px\">\n",
              "    <path d=\"M0 0h24v24H0V0z\" fill=\"none\"/>\n",
              "    <path d=\"M18.56 5.44l.94 2.06.94-2.06 2.06-.94-2.06-.94-.94-2.06-.94 2.06-2.06.94zm-11 1L8.5 8.5l.94-2.06 2.06-.94-2.06-.94L8.5 2.5l-.94 2.06-2.06.94zm10 10l.94 2.06.94-2.06 2.06-.94-2.06-.94-.94-2.06-.94 2.06-2.06.94z\"/><path d=\"M17.41 7.96l-1.37-1.37c-.4-.4-.92-.59-1.43-.59-.52 0-1.04.2-1.43.59L10.3 9.45l-7.72 7.72c-.78.78-.78 2.05 0 2.83L4 21.41c.39.39.9.59 1.41.59.51 0 1.02-.2 1.41-.59l7.78-7.78 2.81-2.81c.8-.78.8-2.07 0-2.86zM5.41 20L4 18.59l7.72-7.72 1.47 1.35L5.41 20z\"/>\n",
              "  </svg>\n",
              "      </button>\n",
              "      \n",
              "  <style>\n",
              "    .colab-df-container {\n",
              "      display:flex;\n",
              "      flex-wrap:wrap;\n",
              "      gap: 12px;\n",
              "    }\n",
              "\n",
              "    .colab-df-convert {\n",
              "      background-color: #E8F0FE;\n",
              "      border: none;\n",
              "      border-radius: 50%;\n",
              "      cursor: pointer;\n",
              "      display: none;\n",
              "      fill: #1967D2;\n",
              "      height: 32px;\n",
              "      padding: 0 0 0 0;\n",
              "      width: 32px;\n",
              "    }\n",
              "\n",
              "    .colab-df-convert:hover {\n",
              "      background-color: #E2EBFA;\n",
              "      box-shadow: 0px 1px 2px rgba(60, 64, 67, 0.3), 0px 1px 3px 1px rgba(60, 64, 67, 0.15);\n",
              "      fill: #174EA6;\n",
              "    }\n",
              "\n",
              "    [theme=dark] .colab-df-convert {\n",
              "      background-color: #3B4455;\n",
              "      fill: #D2E3FC;\n",
              "    }\n",
              "\n",
              "    [theme=dark] .colab-df-convert:hover {\n",
              "      background-color: #434B5C;\n",
              "      box-shadow: 0px 1px 3px 1px rgba(0, 0, 0, 0.15);\n",
              "      filter: drop-shadow(0px 1px 2px rgba(0, 0, 0, 0.3));\n",
              "      fill: #FFFFFF;\n",
              "    }\n",
              "  </style>\n",
              "\n",
              "      <script>\n",
              "        const buttonEl =\n",
              "          document.querySelector('#df-dff025e3-f90b-4ccd-8bc4-a77d69455773 button.colab-df-convert');\n",
              "        buttonEl.style.display =\n",
              "          google.colab.kernel.accessAllowed ? 'block' : 'none';\n",
              "\n",
              "        async function convertToInteractive(key) {\n",
              "          const element = document.querySelector('#df-dff025e3-f90b-4ccd-8bc4-a77d69455773');\n",
              "          const dataTable =\n",
              "            await google.colab.kernel.invokeFunction('convertToInteractive',\n",
              "                                                     [key], {});\n",
              "          if (!dataTable) return;\n",
              "\n",
              "          const docLinkHtml = 'Like what you see? Visit the ' +\n",
              "            '<a target=\"_blank\" href=https://colab.research.google.com/notebooks/data_table.ipynb>data table notebook</a>'\n",
              "            + ' to learn more about interactive tables.';\n",
              "          element.innerHTML = '';\n",
              "          dataTable['output_type'] = 'display_data';\n",
              "          await google.colab.output.renderOutput(dataTable, element);\n",
              "          const docLink = document.createElement('div');\n",
              "          docLink.innerHTML = docLinkHtml;\n",
              "          element.appendChild(docLink);\n",
              "        }\n",
              "      </script>\n",
              "    </div>\n",
              "  </div>\n",
              "  "
            ],
            "text/plain": [
              "              Weighted F1_Score\n",
              "Fandom Forest          0.727867\n",
              "Decision Tree          0.704814\n",
              "Navie Bays             0.570193\n",
              "SVM                    0.713264\n",
              "MLP                    0.666710"
            ]
          },
          "metadata": {},
          "execution_count": 169
        }
      ]
    },
    {
      "cell_type": "code",
      "metadata": {
        "colab": {
          "base_uri": "https://localhost:8080/",
          "height": 332
        },
        "outputId": "9ffe5320-bb65-40ad-fe15-337e6ae0c972",
        "id": "YQBtWyo8eudA"
      },
      "source": [
        "from matplotlib.pyplot import plot\n",
        "f, ax = plt.subplots(figsize=(25,5)) # set the size that you'd like (width, height)\n",
        "main_data[\"Weighted F1 score\"] = main_data['Weighted F1 score'].astype(float)\n",
        "main_data[\"Weighted F1 score\"] .plot(kind=\"bar\", grid=True , width=0.4,)\n",
        "plt.title('Weighted F1 score')"
      ],
      "execution_count": null,
      "outputs": [
        {
          "output_type": "execute_result",
          "data": {
            "text/plain": [
              "Text(0.5, 1.0, 'Weighted F1 score')"
            ]
          },
          "metadata": {},
          "execution_count": 170
        },
        {
          "output_type": "display_data",
          "data": {
            "image/png": "[encoded data removed]",
            "text/plain": [
              "<Figure size 1800x360 with 1 Axes>"
            ]
          },
          "metadata": {
            "needs_background": "light"
          }
        }
      ]
    },
    {
      "cell_type": "code",
      "metadata": {
        "id": "nwcsaBIQeudA"
      },
      "source": [],
      "execution_count": null,
      "outputs": []
    },
    {
      "cell_type": "code",
      "source": [],
      "metadata": {
        "id": "2P6Y4A0CeudA"
      },
      "execution_count": null,
      "outputs": []
    },
    {
      "cell_type": "code",
      "source": [],
      "metadata": {
        "id": "W3jFeseAeudB"
      },
      "execution_count": null,
      "outputs": []
    }
  ]
}